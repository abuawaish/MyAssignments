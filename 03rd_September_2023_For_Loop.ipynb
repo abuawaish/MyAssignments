{
 "cells": [
  {
   "cell_type": "markdown",
   "id": "161f36bd-de85-483f-a869-72ab55eb2638",
   "metadata": {},
   "source": [
    "# Basic Level:\n"
   ]
  },
  {
   "cell_type": "markdown",
   "id": "2e29b7f4-3605-4808-a8bd-e2d438242f10",
   "metadata": {},
   "source": [
    "### Q1.Write a Python program to print the numbers from 1 to 10 using a `for` loop."
   ]
  },
  {
   "cell_type": "code",
   "execution_count": 1,
   "id": "4f2c500b-3483-4740-9cb5-85c4dae7a84a",
   "metadata": {},
   "outputs": [],
   "source": [
    "def print_numbers_from_1_to_10(num: int) -> None:\n",
    "    for i in range(1,num+1):\n",
    "        print(i)"
   ]
  },
  {
   "cell_type": "code",
   "execution_count": 2,
   "id": "01a6d84a-b27c-40a3-8b3d-33583c28f135",
   "metadata": {},
   "outputs": [
    {
     "name": "stdout",
     "output_type": "stream",
     "text": [
      "1\n",
      "2\n",
      "3\n",
      "4\n",
      "5\n",
      "6\n",
      "7\n",
      "8\n",
      "9\n",
      "10\n"
     ]
    }
   ],
   "source": [
    "print_numbers_from_1_to_10(10)"
   ]
  },
  {
   "cell_type": "markdown",
   "id": "fbccca2a-2d75-4b41-989d-6850975c12fd",
   "metadata": {},
   "source": [
    "---\n",
    "- So, here we created a funnction called as `print_numbers_from_1_to_10` which are responsible for printing the number from 1 to 10\n",
    "- Now execution of function is begin from the cell number 2 (which is simply a functon call)\n",
    "- After that control goes inside the function and execute the task\n",
    "- Using for loop we simply iterate the number from 1 t0 10 using range function\n",
    "- Finally we print that number one by one on the terminal and control goes terminated\n",
    "---"
   ]
  },
  {
   "cell_type": "markdown",
   "id": "995f38cf-111b-4ccb-9c86-5a4d348c9a2a",
   "metadata": {},
   "source": [
    "### Q2 Create a program that calculates the sum of all numbers in a list using a `for` loop."
   ]
  },
  {
   "cell_type": "code",
   "execution_count": 3,
   "id": "10df3e06-33c9-4352-acf4-31744508cbe9",
   "metadata": {},
   "outputs": [],
   "source": [
    "def sum_of_numbers(nums: list[int],sum: int = 0) -> int:\n",
    "    for i in nums:\n",
    "        sum = sum+i\n",
    "    return sum"
   ]
  },
  {
   "cell_type": "code",
   "execution_count": 4,
   "id": "83fb3205-11ef-478b-949e-89040499983f",
   "metadata": {},
   "outputs": [
    {
     "name": "stdout",
     "output_type": "stream",
     "text": [
      "15\n"
     ]
    }
   ],
   "source": [
    "print(sum_of_numbers([1,2,3,4,5]))"
   ]
  },
  {
   "cell_type": "markdown",
   "id": "c30da950-5201-42ba-9259-d5725aaeafd0",
   "metadata": {},
   "source": [
    "---\n",
    "- As you can clearly see that this function(`sum_of_numbers`) takes two parameters first one is `nums` which holds the values of type list of integer\n",
    "- and second one is `sum` which is also type of integer but this argument is known as default parameter whose value is set to zero\n",
    "- Now jump into the function call because the function will run only until it is called\n",
    "- Control goes inside the the function and execute the task\n",
    "- Here for loop iterate the list of element one by one\n",
    "- Each individual element of the list is added with the `sum` variable and assign it to in `sum` varible\n",
    "- And finally we return the sum of all numbers, back to the caller and print the result.\n",
    "---"
   ]
  },
  {
   "cell_type": "markdown",
   "id": "1750edb1-67b4-44c9-980d-2ccab7e269e6",
   "metadata": {},
   "source": [
    "### Q3 Write a program to print the characters of a string in reverse order using a `for` loop"
   ]
  },
  {
   "cell_type": "code",
   "execution_count": 5,
   "id": "cedab32f-b96f-44f5-8663-adbbaa777b8c",
   "metadata": {},
   "outputs": [],
   "source": [
    "def reverse(name: str) -> None:\n",
    "    for i in name[::-1]:\n",
    "        print(i)"
   ]
  },
  {
   "cell_type": "code",
   "execution_count": 6,
   "id": "fde14298-cf00-4772-84eb-66d91a454c4a",
   "metadata": {},
   "outputs": [
    {
     "name": "stdout",
     "output_type": "stream",
     "text": [
      "h\n",
      "s\n",
      "i\n",
      "a\n",
      "w\n",
      "a\n",
      "u\n",
      "b\n",
      "a\n"
     ]
    }
   ],
   "source": [
    "reverse('abuawaish')"
   ]
  },
  {
   "cell_type": "markdown",
   "id": "2999bd91-58b9-4cf9-8f92-8fddf8b4ad10",
   "metadata": {},
   "source": [
    "---\n",
    "- We created a function called as `reverse` with one parameter `name` which is type of string and it return nothing that's why this\n",
    "function has return type is `None`\n",
    "- Now in function call we simply pass a string as a actual argument\n",
    "- After calling a function control goes inside the function body and execute the given statements\n",
    "- In for loop we iterate the `name` variable which is type of string \n",
    "- Using slicing we iterates the string in reverse order \n",
    "- And at the end we simply print the string of character one by one.\n",
    "---"
   ]
  },
  {
   "cell_type": "markdown",
   "id": "9e7360eb-1426-4cec-ad28-edf922148a1a",
   "metadata": {},
   "source": [
    "### Q4 Develop a program that finds the factorial of a given number using a `for` loop"
   ]
  },
  {
   "cell_type": "code",
   "execution_count": 7,
   "id": "657c66f9-7ef0-45dd-af8f-0affb117d06f",
   "metadata": {},
   "outputs": [],
   "source": [
    "def factorial(number: int , fact: int = 1) -> int:\n",
    "    for i in range(1,number+1):\n",
    "        fact = fact*i\n",
    "    return fact"
   ]
  },
  {
   "cell_type": "code",
   "execution_count": 8,
   "id": "55db45eb-7d37-41c8-a6cc-30fa12a5e705",
   "metadata": {},
   "outputs": [
    {
     "name": "stdout",
     "output_type": "stream",
     "text": [
      "120\n"
     ]
    }
   ],
   "source": [
    "print(factorial(5))"
   ]
  },
  {
   "cell_type": "markdown",
   "id": "a26cf8a4-e245-4625-8491-757730e000e3",
   "metadata": {},
   "source": [
    "---\n",
    "- we define a function name as factorial and passes two parameter, first one is number which is type of interger and second one is fact\n",
    "which is type of integer has a default value is set to 1.\n",
    "- After function call control goes inside the body of the function and execute the statements\n",
    "- In for loop, iterate the number from 1(included) to n+1(excluded)\n",
    "- Inside the for loop we simply multiply the fact with each individual number and assign it to in `fact` variable\n",
    "- Finally we return the result and print it...\n",
    "---"
   ]
  },
  {
   "cell_type": "markdown",
   "id": "e8dd3d28-c827-4021-8137-8e2afb97d5e3",
   "metadata": {},
   "source": [
    "### Q5 Create a program to print the multiplication table of a given number using a `for` loop.\n"
   ]
  },
  {
   "cell_type": "code",
   "execution_count": 9,
   "id": "0b440b56-25f4-4ac2-981c-f7572f18a6d1",
   "metadata": {},
   "outputs": [],
   "source": [
    "def table(n: int) -> None:\n",
    "    for i in range(1,11):\n",
    "        print(f'{n} * {i} : {n*i}')"
   ]
  },
  {
   "cell_type": "code",
   "execution_count": 10,
   "id": "feefe404-2cde-4f92-ac64-fd6190a001f5",
   "metadata": {},
   "outputs": [
    {
     "name": "stdout",
     "output_type": "stream",
     "text": [
      "2 * 1 : 2\n",
      "2 * 2 : 4\n",
      "2 * 3 : 6\n",
      "2 * 4 : 8\n",
      "2 * 5 : 10\n",
      "2 * 6 : 12\n",
      "2 * 7 : 14\n",
      "2 * 8 : 16\n",
      "2 * 9 : 18\n",
      "2 * 10 : 20\n"
     ]
    }
   ],
   "source": [
    "table(2)"
   ]
  },
  {
   "cell_type": "markdown",
   "id": "6e51505d-6a24-45ba-bc71-db1a271c8df4",
   "metadata": {},
   "source": [
    "---\n",
    "- Here we create a function called as table which basically print the multiplication table of given number `n`\n",
    "- At function call we pass a actual argument after that at fuction defination `n` is a formal argument which holds the some value\n",
    "- In for loop , we select a range from 1(included) to 11(excluded)\n",
    "- Inside the for loop we simply print the value of `n` , `i` and multiplication of `n*i`\n",
    "- Finally control goes terminated after completion of task\n",
    "---"
   ]
  },
  {
   "cell_type": "markdown",
   "id": "04841f01-15b5-490f-a542-b29f80690140",
   "metadata": {},
   "source": [
    "### Q6 Write a program that counts the number of even and odd numbers in a list using a `for` loop."
   ]
  },
  {
   "cell_type": "code",
   "execution_count": 11,
   "id": "e7d4822d-40c8-48be-bd1c-ef78035eb4b2",
   "metadata": {},
   "outputs": [],
   "source": [
    "def count_number(number: list[int]) -> None:\n",
    "    count_even = 0\n",
    "    count_odd = 0\n",
    "    for i in number:\n",
    "        if i%2 == 0:\n",
    "            count_even+=1\n",
    "        else:\n",
    "            count_odd+=1\n",
    "   \n",
    "    print(f'There are total {count_even} even number are found')\n",
    "    print(f'There are total {count_odd} odd number are found')"
   ]
  },
  {
   "cell_type": "code",
   "execution_count": 12,
   "id": "ef1415db-c890-45eb-a5fd-da91ea19276b",
   "metadata": {},
   "outputs": [
    {
     "name": "stdout",
     "output_type": "stream",
     "text": [
      "There are total 4 even number are found\n",
      "There are total 5 odd number are found\n"
     ]
    }
   ],
   "source": [
    "numbers = [1,2,3,4,5,6,7,8,9]\n",
    "count_number(numbers)"
   ]
  },
  {
   "cell_type": "markdown",
   "id": "ff03fa04-e61c-4dff-8f01-1363c73909b8",
   "metadata": {},
   "source": [
    "---\n",
    "- We have a function name as count_number which takes `number` as a parameter which is type of list of interger\n",
    "- After function call control goes inside the function body and executes the statement\n",
    "- In for loop, we iterate the list of interger and check if number has remainder 0 then we simply increment the counter by 1 i.e. `count_even = count_even + 1`\n",
    "- Else if number has remainder not to 0 i.e. 1 then we increment the counter by 1 i.e. `count_odd = count_odd + 1`\n",
    "- And finally we print the result.\n",
    "---"
   ]
  },
  {
   "cell_type": "markdown",
   "id": "66cc6495-a10b-479e-adbc-bc56b931e367",
   "metadata": {},
   "source": [
    "### Q7 Develop a program that prints the squares of numbers from 1 to 5 using a `for` loop."
   ]
  },
  {
   "cell_type": "code",
   "execution_count": 13,
   "id": "1b9bea5f-db59-46d1-a74a-a6c7a85c1ac1",
   "metadata": {},
   "outputs": [],
   "source": [
    "def square(n: int) -> None:\n",
    "    for i in range(1,n+1):\n",
    "        print(f'square of {i} is : {i**2}')"
   ]
  },
  {
   "cell_type": "code",
   "execution_count": 14,
   "id": "2c7b46da-1028-426d-ba1a-5ca8e3e6a848",
   "metadata": {},
   "outputs": [
    {
     "name": "stdout",
     "output_type": "stream",
     "text": [
      "square of 1 is : 1\n",
      "square of 2 is : 4\n",
      "square of 3 is : 9\n",
      "square of 4 is : 16\n",
      "square of 5 is : 25\n"
     ]
    }
   ],
   "source": [
    "n = 5\n",
    "square(n)"
   ]
  },
  {
   "cell_type": "markdown",
   "id": "1e0b8a53-2d2b-4aa4-8586-1b0f2187b354",
   "metadata": {},
   "source": [
    "---\n",
    "- We have created a function name as square which takes single argument\n",
    "- Now at function call we pass `n` as actual argument\n",
    "- Then control goes inside the function body and execute the statements\n",
    "- In for loop, we iterate `n` from 1 to 5\n",
    "- After that every iteration we simply print the square of each number which is ranging from 1 to 5 with the help of `double asterisk operator`.\n",
    "- After the completion of task the control goes terminated.\n",
    "---"
   ]
  },
  {
   "cell_type": "markdown",
   "id": "07734817-66e5-4036-bd80-05662df48fc6",
   "metadata": {},
   "source": [
    "### Q8 Create a program to find the length of a string without using the `len()` function"
   ]
  },
  {
   "cell_type": "code",
   "execution_count": 15,
   "id": "524e2309-b4a3-40a5-afce-dd4a164262df",
   "metadata": {},
   "outputs": [],
   "source": [
    "def find_length(name: str) -> int:\n",
    "    count = 0\n",
    "    for i in name:\n",
    "        count+=1\n",
    "    return count"
   ]
  },
  {
   "cell_type": "code",
   "execution_count": 16,
   "id": "0c17d200-5fd7-44ec-8023-bbc01795a7b5",
   "metadata": {},
   "outputs": [
    {
     "data": {
      "text/plain": [
       "10"
      ]
     },
     "execution_count": 16,
     "metadata": {},
     "output_type": "execute_result"
    }
   ],
   "source": [
    "find_length('abuawaish7')"
   ]
  },
  {
   "cell_type": "markdown",
   "id": "18f04ac6-fccd-414b-ad5d-0f6a4a6476b9",
   "metadata": {},
   "source": [
    "---\n",
    "- We have a function called as find_length which is user define and it takes only one parameter\n",
    "- After function call the variable `name` holds the string `abuawaish7`\n",
    "- Set count is equal to zero\n",
    "- In for loop, iterate the name variable character by character\n",
    "- Inside for loop we simply increment the counter by 1 till last character\n",
    "- Finally we return the count and print it.\n",
    "---"
   ]
  },
  {
   "cell_type": "markdown",
   "id": "14c885ef-65e7-457f-ab42-7ac8dd534462",
   "metadata": {},
   "source": [
    "### Q9 Write a program that calculates the average of a list of numbers using a `for` loop."
   ]
  },
  {
   "cell_type": "code",
   "execution_count": 17,
   "id": "2bee0168-ccc8-43ea-ac81-6e14352b060f",
   "metadata": {},
   "outputs": [],
   "source": [
    "def average(number: list[int]) -> int:\n",
    "    sum = 0\n",
    "    for i in number:\n",
    "        sum = sum+i\n",
    "    avg = sum/len(number)\n",
    "    return avg"
   ]
  },
  {
   "cell_type": "code",
   "execution_count": 18,
   "id": "fa31164d-659f-4377-8617-8c4d7404a0d7",
   "metadata": {},
   "outputs": [
    {
     "name": "stdout",
     "output_type": "stream",
     "text": [
      "3.5\n"
     ]
    }
   ],
   "source": [
    "print(average([2,3,4,5]))"
   ]
  },
  {
   "cell_type": "markdown",
   "id": "ddd3d5bc-fc18-407a-9a0c-32886375ea83",
   "metadata": {},
   "source": [
    "---\n",
    "- We define a function called as average and it takes one parameter i.e. `number` which is type of list of integer\n",
    "- After function call, control goes inside the function body and executes the statements\n",
    "- The sum variable initialize with zero\n",
    "- In for loop, we iterate the list\n",
    "- Inside the for loop, Each number of list is added with `sum` variable and assign to the `sum` variable\n",
    "- After adding all numbers of list we simply divide it by 2 in order to get the average of the list of numbers and assign it to in `avg` variable\n",
    "- Finally we return average of a list of numbers\n",
    "---"
   ]
  },
  {
   "cell_type": "markdown",
   "id": "8da54e67-05b4-4033-b8bd-798d086bc2b5",
   "metadata": {},
   "source": [
    "### Q10 Develop a program that prints the first `n` Fibonacci numbers using a `for` loop."
   ]
  },
  {
   "cell_type": "code",
   "execution_count": 19,
   "id": "23abfdc8-45df-41fb-bd74-ab0a30c740c9",
   "metadata": {},
   "outputs": [],
   "source": [
    "def  fibonacci_series(n: int) -> None:\n",
    "    f1 = 0\n",
    "    f2 = 1\n",
    "    print(f1,end=\" \")\n",
    "    for i in range(1,n+1):\n",
    "        print(f2,end=\" \")\n",
    "        next = f1+f2\n",
    "        f1 = f2\n",
    "        f2 = next"
   ]
  },
  {
   "cell_type": "code",
   "execution_count": 20,
   "id": "0f5dc1f1-3626-40ef-8981-18b6f8f410fc",
   "metadata": {},
   "outputs": [
    {
     "name": "stdout",
     "output_type": "stream",
     "text": [
      "0 1 1 2 3 5 8 13 21 34 55 "
     ]
    }
   ],
   "source": [
    "n = 10\n",
    "fibonacci_series(n)"
   ]
  },
  {
   "cell_type": "markdown",
   "id": "c9392333-5dc4-483f-9d57-b908522fdde4",
   "metadata": {},
   "source": [
    "---\n",
    "- `def fibonacci_series(n: int) -> None`: - This line defines a function named fibonacci_series that takes an integer n as an argument and doesn't return any value (`hence -> None`).\n",
    "- `f1 = 0 and f2 = 1` - These variables initialize the first two numbers of the Fibonacci sequence. f1 holds the value 0, and f2 holds the value 1.\n",
    "- `print(f1,end=\" \")` - This prints the first number of the Fibonacci series (f1) with a space at the end.\n",
    "- `for i in range(1, n+1):` - This for loop is used to generate the remaining numbers in the Fibonacci series from the third number up to the nth number.\n",
    "- Inside the loop:\n",
    "- `print(f2, end=\" \")` - This prints the current Fibonacci number (f2) with a space at the end.\n",
    "- `next = f1 + f2` - This calculates the next Fibonacci number by adding the previous two numbers (f1 and f2).\n",
    "- `f1 = f2 and f2 = next` - These lines update f1 to the value of f2 and f2 to the calculated next value, preparing for the next iteration.\n",
    "- `n = 10` - This line assigns the value 10 to the variable n.\n",
    "- `fibonacci_series(n)` - This line calls the fibonacci_series function with the argument n, which will print the Fibonacci series up to the nth term.\n",
    "---"
   ]
  },
  {
   "cell_type": "markdown",
   "id": "007fcbb5-9c7f-49ef-ba30-7cce3fa5320a",
   "metadata": {},
   "source": [
    "# Intermediate Level:"
   ]
  },
  {
   "cell_type": "markdown",
   "id": "ae75e5f0-a68e-4634-bae8-ed2ffd519210",
   "metadata": {},
   "source": [
    "### Q11 Write a program to check if a given list contains any duplicates using a `for` loop."
   ]
  },
  {
   "cell_type": "code",
   "execution_count": 21,
   "id": "bab154fa-14d9-405a-8f94-7f5a51133977",
   "metadata": {},
   "outputs": [],
   "source": [
    "def check_duplicate(number: list[any]) -> str:\n",
    "    unique = []\n",
    "    for i in number:\n",
    "        if i not in unique:\n",
    "            unique.append(i)\n",
    "    if len(number) == len(unique):\n",
    "        return 'duplicate element are not found'\n",
    "    else:\n",
    "        return 'duplicate element are found'"
   ]
  },
  {
   "cell_type": "code",
   "execution_count": 22,
   "id": "2ffe459b-8e5f-4f2d-bb26-2326df232c49",
   "metadata": {},
   "outputs": [
    {
     "name": "stdout",
     "output_type": "stream",
     "text": [
      "duplicate element are found\n",
      "duplicate element are not found\n"
     ]
    }
   ],
   "source": [
    "list1 = [1,2,3,'a',2.5,'a']\n",
    "list2 = [6,4,1,'a',4.5,3]\n",
    "print(check_duplicate(list1))\n",
    "print(check_duplicate(list2))"
   ]
  },
  {
   "cell_type": "markdown",
   "id": "7f099bc5-1ed4-4880-b7ec-6f6d9176745b",
   "metadata": {},
   "source": [
    "---\n",
    "- we have created a called as `check_duplicate` which takes one argument\n",
    "- Input: `number` (a list containing elements of any type) and return Type: str\n",
    "- initializes an empty list called unique.\n",
    "- Iterates through each element i in the input list number.\n",
    "- Checks if the element i is already present in the unique list.\n",
    "- If i is not in unique, it appends i to the unique list.\n",
    "- After the iteration, it compares the length of the original list number with the length of the unique list.\n",
    "- If the lengths are the same, it means there are no duplicate elements in the original list, and it returns `duplicate elements are not found`. Otherwise, it returns `duplicate elements are found`.\n",
    "- Finally contol goes terminated\n",
    "---"
   ]
  },
  {
   "cell_type": "markdown",
   "id": "2cc890cf-74f0-46b9-98a4-feb3aa7f9cc4",
   "metadata": {},
   "source": [
    "###  Q12 Create a program that prints the prime numbers in a given range using a `for` loop.\n"
   ]
  },
  {
   "cell_type": "code",
   "execution_count": 23,
   "id": "d2084cca-7dd5-447c-80dd-19bf8eb8e04d",
   "metadata": {},
   "outputs": [],
   "source": [
    "def print_prime_numbers_within_a_range(start: int,end: int) -> None:\n",
    "     print(f\"Prime numbers between {start} and {end}:\")\n",
    "     for num in range(start, end+1):\n",
    "        if num > 1:\n",
    "            is_prime = True\n",
    "            for i in range(2, num):\n",
    "                if num % i == 0:\n",
    "                    is_prime = False\n",
    "                    break\n",
    "            if is_prime:\n",
    "                print(num)"
   ]
  },
  {
   "cell_type": "code",
   "execution_count": 24,
   "id": "9ff6a1ce-6206-46ad-baa6-e174132d2dc2",
   "metadata": {},
   "outputs": [
    {
     "name": "stdin",
     "output_type": "stream",
     "text": [
      "enter starting number :  10\n",
      "enter ending number :  20\n"
     ]
    },
    {
     "name": "stdout",
     "output_type": "stream",
     "text": [
      "Prime numbers between 10 and 20:\n",
      "11\n",
      "13\n",
      "17\n",
      "19\n"
     ]
    }
   ],
   "source": [
    "start = int(input(f'enter starting number : '))\n",
    "end = int(input(f'enter ending number : '))\n",
    "print_prime_numbers_within_a_range(start,end)"
   ]
  },
  {
   "cell_type": "markdown",
   "id": "0b605362-1ede-49d0-b702-6f827d715d93",
   "metadata": {},
   "source": [
    "---\n",
    "- The function print_prime_numbers_within_a_range is defined with two parameters `start` and `end`.\n",
    "- It prints a message indicating the range of numbers it will search for prime numbers\n",
    "- It uses a for loop to iterate through each number in the range from start to end (inclusive).\n",
    "- For each number in the range, it checks if the number is greater than 1 (since 1 and numbers less than 1 are not prime).\n",
    "- If the number is greater than 1, it sets a boolean variable is_prime to `True`.\n",
    "- It then uses another for loop to check if the number is divisible by any integer between 2 and the number itself (excluding the number). If it is divisible by any number in this range, it sets is_prime to `False` and breaks out of the loop.\n",
    "- If is_prime remains True after the inner loop completes, it means the number is prime, and it is printed.\n",
    "- Outside the function definition, the code prompts the user to input the starting and ending numbers for the range of prime numbers they want to find.\n",
    "- It then calls the `print_prime_numbers_within_a_range` function with the provided starting and ending numbers to find and print the prime numbers within that range.\n",
    "---"
   ]
  },
  {
   "cell_type": "markdown",
   "id": "e56b39da-af19-43f3-8eb6-0619bf7c2806",
   "metadata": {},
   "source": [
    "### Q13 Develop a program that counts the number of vowels in a string using a `for` loop."
   ]
  },
  {
   "cell_type": "code",
   "execution_count": 25,
   "id": "0c9fe339-8d79-43a3-be85-aef7056e9a45",
   "metadata": {},
   "outputs": [],
   "source": [
    "def count_vowel(string: str) -> int:\n",
    "    count = 0\n",
    "    vowels = list('aeiou')\n",
    "    for char in string:\n",
    "        if char in vowels:\n",
    "            count+=1\n",
    "    return count"
   ]
  },
  {
   "cell_type": "code",
   "execution_count": 26,
   "id": "cafaa47e-e457-42dd-a515-ea907b472b66",
   "metadata": {},
   "outputs": [
    {
     "name": "stdin",
     "output_type": "stream",
     "text": [
      "enter the string :  abu awaish\n"
     ]
    },
    {
     "name": "stdout",
     "output_type": "stream",
     "text": [
      "5\n"
     ]
    }
   ],
   "source": [
    "string: str = input('enter the string : ')\n",
    "print(count_vowel(string))"
   ]
  },
  {
   "cell_type": "markdown",
   "id": "33c882ea-b666-48b1-9da4-ef3f040f342d",
   "metadata": {},
   "source": [
    "---\n",
    "- Defines a function named count_vowel that takes a string (string) as input and returns an integer (int) representing the count of vowels in the input string.\n",
    "- `count` is initialized to 0. This variable will be used to keep track of the count of vowels in the string.\n",
    "- `vowels` is a list containing the characters 'a', 'e', 'i', 'o', and 'u', which are considered vowels.\n",
    "- In for loop, it iterates through each character (char) in the input string.\n",
    "- For each character, it checks if the character is present in the vowels list.\n",
    "- If the character is a vowel (i.e., it exists in the vowels list), the count variable is incremented by 1.\n",
    "- After counting all the vowels in the input string, the function returns the final count of vowels.\n",
    "- The input string provided by the user is passed as an argument to the `count_vowel` function.\n",
    "- Finally, it prints the count of vowels in the entered string.\n",
    "---\n"
   ]
  },
  {
   "cell_type": "markdown",
   "id": "5ba1008c-1a37-4466-b762-909f4349f171",
   "metadata": {},
   "source": [
    "### Q14 Write a program to find the maximum element in a 2D list using a nested `for` loop."
   ]
  },
  {
   "cell_type": "code",
   "execution_count": 27,
   "id": "b6cf9d65-fe82-42b8-94ef-ad451a121145",
   "metadata": {},
   "outputs": [],
   "source": [
    "def find_max_2d(input_list: list[int]) -> int:\n",
    "    if not input_list:\n",
    "        return None \n",
    "    \n",
    "    max_element = input_list[0][0] \n",
    "    \n",
    "    for row in input_list:\n",
    "        for elem in row:\n",
    "            if elem > max_element:\n",
    "                max_element = elem  \n",
    "    \n",
    "    return max_element"
   ]
  },
  {
   "cell_type": "code",
   "execution_count": 28,
   "id": "73590cbc-4556-4c8c-a8b8-05db025ec6b7",
   "metadata": {},
   "outputs": [
    {
     "name": "stdout",
     "output_type": "stream",
     "text": [
      "The maximum element in the 2D list is: 9\n"
     ]
    }
   ],
   "source": [
    "my_2d_list = [\n",
    "    [3, 7, 1],\n",
    "    [8, 4, 5],\n",
    "    [2, 9, 6]\n",
    "]\n",
    "\n",
    "max_value = find_max_2d(my_2d_list)\n",
    "print(\"The maximum element in the 2D list is:\", max_value)"
   ]
  },
  {
   "cell_type": "markdown",
   "id": "fba6ca3d-3531-42d3-9704-51a268878545",
   "metadata": {},
   "source": [
    "---\n",
    "- The function `find_max_2d` takes in a 2D list of integers `(input_list)` as its parameter and specifies that it will return an integer.\n",
    "- The function begins with a check to see if the `input_list` is empty. If it is empty `(not input_list)`, the function returns `None`.\n",
    "- If the input list is not empty, it initializes `max_element` as the first element of the 2D list `(input_list[0][0])`. This assumes that the list is not empty, as otherwise, an index error would occur.\n",
    "- The function then iterates through each row in the 2D list using a nested loop. For each element `(elem)` in the row, it compares it with the current `max_element`.\n",
    "- If the current element `(elem)` is greater than the current `max_element`, max_element is updated to be equal to that element.\n",
    "- After traversing through all elements in the 2D list, the function returns the `max_element`, which holds the maximum value found in the entire 2D list.\n",
    "- Lastly, outside the function definition, there is a sample 2D list `my_2d_list` provided, which contains integer values. The function `find_max_2d` is called with this list, and the maximum value returned by the function is stored in `max_value`. Finally, the code prints the message along with the maximum value found in the 2D list.\n",
    "---"
   ]
  },
  {
   "cell_type": "markdown",
   "id": "d31d32eb-7aae-48d5-ae10-81625f99cc77",
   "metadata": {},
   "source": [
    "### Q15 Create a program that removes all occurrences of a specific element from a list using a `for` loop."
   ]
  },
  {
   "cell_type": "code",
   "execution_count": 29,
   "id": "612b2493-57c0-4769-87a7-211d44bc4d5f",
   "metadata": {},
   "outputs": [],
   "source": [
    "def removes_all_occurrences(number: list[int] , element_to_remove: int) -> list[int]:\n",
    "    new_list = []\n",
    "    for i in number:\n",
    "        if element_to_remove != i:\n",
    "            new_list.append(i)\n",
    "    return new_list"
   ]
  },
  {
   "cell_type": "code",
   "execution_count": 30,
   "id": "44db2ff5-9c03-4100-9c77-f6f9df69bbbb",
   "metadata": {},
   "outputs": [
    {
     "name": "stdin",
     "output_type": "stream",
     "text": [
      "enter the element is to be remove from the given list :  5\n"
     ]
    },
    {
     "name": "stdout",
     "output_type": "stream",
     "text": [
      "Before removes all occurrences of a specific element from a list\n",
      "[2, 3, 4, 5, 5, 6, 7]\n",
      "After removes all occurrences of a specific element from a list\n",
      "[2, 3, 4, 6, 7]\n"
     ]
    }
   ],
   "source": [
    "number = [2,3,4,5,5,6,7]\n",
    "element_to_remove = int(input('enter the element is to be remove from the given list : '))\n",
    "print(f'Before removes all occurrences of a specific element from a list')\n",
    "print(number)\n",
    "print(f'After removes all occurrences of a specific element from a list')\n",
    "print(removes_all_occurrences(number,element_to_remove))"
   ]
  },
  {
   "cell_type": "markdown",
   "id": "7d6a502a-78b5-4b9e-aad9-1c4b936d0257",
   "metadata": {},
   "source": [
    "---\n",
    "- `removes_all_occurrences` this function takes in two parameters `number` A list of integers, `element_to_remove` An integer that represents the element to be removed from the list\n",
    "- Inside the function:\n",
    "It initializes an empty list `new_list`.\n",
    "Iterates through each element i in the number list.\n",
    "Checks if the `element_to_remove` is not equal to the current element `i`. If they are not equal, it appends the element `i` to the `new_list`.\n",
    "Returns the `new_list` containing elements from number except those that match the `element_to_remove`\n",
    "- Main Execution:\n",
    "The code then initializes a list number with some integers `[2, 3, 4, 5, 5, 6, 7]`.\n",
    "It prompts the user to input an integer value `element_to_remove`, which specifies the element to be removed from the list.\n",
    "It prints the original list `(number)` before the removal of the specified element.\n",
    "It calls the `removes_all_occurrences` function, passing the `number` list and the `element_to_remove` as arguments.\n",
    "Finally, it prints the modified list returned by the `removes_all_occurrences` function, which does not contain occurrences of the specified element.\n",
    "---"
   ]
  },
  {
   "cell_type": "markdown",
   "id": "9357bd4c-431b-47d4-aa01-80553ed49772",
   "metadata": {},
   "source": [
    "### Q16 Develop a program that generates a multiplication table for numbers from 1 to 5 using a nested `for` loop."
   ]
  },
  {
   "cell_type": "code",
   "execution_count": 31,
   "id": "194fa31b-4444-4059-a280-e4814195dd83",
   "metadata": {},
   "outputs": [],
   "source": [
    "def  multiplication_table(start: int = 1 , end: int = 5) -> None:\n",
    "    for i in range(start,end+1):\n",
    "        print(f'multiplication_table for {i} ↓')\n",
    "        print()\n",
    "        for j in range(1,11):\n",
    "            print(f'{i}*{j} : {i*j}')\n",
    "        print()"
   ]
  },
  {
   "cell_type": "code",
   "execution_count": 32,
   "id": "d356aced-ff40-446b-9995-e2d67ea75cd8",
   "metadata": {},
   "outputs": [
    {
     "name": "stdout",
     "output_type": "stream",
     "text": [
      "multiplication_table for 1 ↓\n",
      "\n",
      "1*1 : 1\n",
      "1*2 : 2\n",
      "1*3 : 3\n",
      "1*4 : 4\n",
      "1*5 : 5\n",
      "1*6 : 6\n",
      "1*7 : 7\n",
      "1*8 : 8\n",
      "1*9 : 9\n",
      "1*10 : 10\n",
      "\n",
      "multiplication_table for 2 ↓\n",
      "\n",
      "2*1 : 2\n",
      "2*2 : 4\n",
      "2*3 : 6\n",
      "2*4 : 8\n",
      "2*5 : 10\n",
      "2*6 : 12\n",
      "2*7 : 14\n",
      "2*8 : 16\n",
      "2*9 : 18\n",
      "2*10 : 20\n",
      "\n",
      "multiplication_table for 3 ↓\n",
      "\n",
      "3*1 : 3\n",
      "3*2 : 6\n",
      "3*3 : 9\n",
      "3*4 : 12\n",
      "3*5 : 15\n",
      "3*6 : 18\n",
      "3*7 : 21\n",
      "3*8 : 24\n",
      "3*9 : 27\n",
      "3*10 : 30\n",
      "\n",
      "multiplication_table for 4 ↓\n",
      "\n",
      "4*1 : 4\n",
      "4*2 : 8\n",
      "4*3 : 12\n",
      "4*4 : 16\n",
      "4*5 : 20\n",
      "4*6 : 24\n",
      "4*7 : 28\n",
      "4*8 : 32\n",
      "4*9 : 36\n",
      "4*10 : 40\n",
      "\n",
      "multiplication_table for 5 ↓\n",
      "\n",
      "5*1 : 5\n",
      "5*2 : 10\n",
      "5*3 : 15\n",
      "5*4 : 20\n",
      "5*5 : 25\n",
      "5*6 : 30\n",
      "5*7 : 35\n",
      "5*8 : 40\n",
      "5*9 : 45\n",
      "5*10 : 50\n",
      "\n"
     ]
    }
   ],
   "source": [
    "multiplication_table()"
   ]
  },
  {
   "cell_type": "markdown",
   "id": "08f3b05b-4451-47c0-9eda-ff5c224a3be2",
   "metadata": {},
   "source": [
    "---\n",
    "- We have created the function named as `multiplication_table` that takes two parameters `(start and end)` with default values start = 1 and end = 5.\n",
    "This function doesn't return any value `(None is specified in the function annotation -> None)`.\n",
    "- Inside the function:\n",
    "- The function starts by looping through each number from start to end (inclusive) using `for i in range(start, end + 1)`.\n",
    "- For each number i within this range, it prints a header indicating the multiplication table for that specific number using `print(f'multiplication_table for {i} ↓')`.\n",
    "- After printing the header, it starts a nested loop from 1 to 10 `(for j in range(1, 11))` to generate the multiplication table for the current number i.\n",
    "- Within the inner loop, it prints each multiplication operation along with its result using the format `print(f'{i}*{j} : {i*j}')`.\n",
    "- An empty line `(print())` is added after printing the entire multiplication table for a particular number i to enhance readability.\n",
    "- Function call:\n",
    "- The function `multiplication_table()` is called without any arguments. Since the parameters start and end have default values (start = 1 and end = 5), it generates multiplication tables for numbers 1 to 5.\n",
    "---"
   ]
  },
  {
   "cell_type": "markdown",
   "id": "ec97c5cf-13dd-40a8-8b6c-21f55be6dbc5",
   "metadata": {},
   "source": [
    "### Q17 Write a program that converts a list of Fahrenheit temperatures to Celsius using a `for` loop."
   ]
  },
  {
   "cell_type": "code",
   "execution_count": 33,
   "id": "a72188df-4678-44a5-8787-6413974e975f",
   "metadata": {},
   "outputs": [],
   "source": [
    "def fahrenheit_to_celsius(fahrenheit_temperatures: list[int]) -> list[float]:\n",
    "    celsius_temperatures = []\n",
    "    for fahrenheit in fahrenheit_temperatures:\n",
    "        celsius = (fahrenheit - 32) * 5 / 9\n",
    "        celsius_temperatures.append(celsius)\n",
    "    return celsius_temperatures"
   ]
  },
  {
   "cell_type": "code",
   "execution_count": 34,
   "id": "1fd648d9-c013-405e-9c82-9404f431d488",
   "metadata": {},
   "outputs": [
    {
     "name": "stdout",
     "output_type": "stream",
     "text": [
      "[0.0, 20.0, 30.0, 40.0, 50.0]\n"
     ]
    }
   ],
   "source": [
    "fahrenheit_list = [32, 68, 86, 104, 122]\n",
    "print(fahrenheit_to_celsius(fahrenheit_list))"
   ]
  },
  {
   "cell_type": "markdown",
   "id": "4485d371-1ced-4ab0-a570-f53d12eb5e4c",
   "metadata": {},
   "source": [
    "---\n",
    "- The function defined as `fahrenheit_to_celsius` takes one argument which is type of list of interger and return type is a list of float\n",
    "- After that in function body , we created a variable known as `celsius_temperatures` which is type list and it set to empty\n",
    "- In for loop, we simply iterate the list using a variable define as `fahrenheit`\n",
    "- Inside the for loop, we simply convert Fahrenheit to Celsius using this formule `(fahrenheit - 32) * 5 / 9` and assign to it in `celsius` variable\n",
    "- After that we append the `celsius` in `celsius_temperatures`\n",
    "- This process is repeat till the last element of the list.\n",
    "- After successfully conversion, we going to return the new list i.e. `celsius_temperatures` which hold only floating point number and it\n",
    "indicates the Tempeartures in Celcius\n",
    "- In function call, We have a list of type integer which indicates Temperatures in Fahrenheit\n",
    "- Then , it will be pass to the function as Actual Argument.\n",
    "---"
   ]
  },
  {
   "cell_type": "markdown",
   "id": "db1b989c-2847-4d81-81b8-82d41dd9b6bf",
   "metadata": {},
   "source": [
    "### Q18 Create a program to print the common elements from two lists using a `for` loop."
   ]
  },
  {
   "cell_type": "code",
   "execution_count": 35,
   "id": "72d5a410-655f-42f1-9173-7ffb22f042e2",
   "metadata": {},
   "outputs": [],
   "source": [
    "def print_common_elements(num1: list[int], num2: list[int]) -> list[int]:\n",
    "    common_elements_list = []\n",
    "    for i in num1:\n",
    "        if i in num2:\n",
    "            common_elements_list.append(i)\n",
    "    return common_elements_list"
   ]
  },
  {
   "cell_type": "code",
   "execution_count": 36,
   "id": "2155479f-14f1-41b1-a12a-68d6925d14ff",
   "metadata": {},
   "outputs": [
    {
     "name": "stdout",
     "output_type": "stream",
     "text": [
      "[5, 3]\n"
     ]
    }
   ],
   "source": [
    "num1 = [5,6,7,2,3]\n",
    "num2 = [1,9,3,5,4]\n",
    "print(print_common_elements(num1,num2))"
   ]
  },
  {
   "cell_type": "markdown",
   "id": "5cd47a08-b810-4233-b39a-e05a67e0abac",
   "metadata": {},
   "source": [
    "---\n",
    "- The function `print_common_elements` takes two lists, `num1` and `num2`, as input arguments and initializes an empty list called `common_elements_list` to store the common elements found between the lists.\n",
    "- It iterates through each element (i) in the `num1` list using a for loop.\n",
    "- Inside the loop, it checks if the current element (i) from `num1` exists in the `num2` list using the if i in num2 condition.\n",
    "- If the element i is present in both `num1` and `num2`, it adds that element to the `common_elements_list` using the `common_elements_list.append(i)` statement.\n",
    "- Finally, the function returns the `common_elements_list` containing the integers that are common in both num1 and num2.\n",
    "- The code then defines `num1` and `num2` lists and calls the `print_common_elements` function with these lists as arguments. The result of this function call is printed using print()\n",
    "---"
   ]
  },
  {
   "cell_type": "markdown",
   "id": "204fc34a-9866-4129-a3a3-d6204377dcdc",
   "metadata": {},
   "source": [
    "### Q19 Develop a program that prints the pattern of right-angled triangles using a `for` loop. Use ‘*’ to draw the"
   ]
  },
  {
   "cell_type": "code",
   "execution_count": 37,
   "id": "aec6b76c-f298-4206-b8ed-107e19c3fda3",
   "metadata": {},
   "outputs": [],
   "source": [
    "def print_right_angle_triangle(rows: int) -> None:\n",
    "    for i in range(1, rows + 1):\n",
    "        for j in range(1, i + 1):\n",
    "            print('*', end=' ')\n",
    "        print()"
   ]
  },
  {
   "cell_type": "code",
   "execution_count": 38,
   "id": "b8927729-a0d6-481c-be32-3fb016b4863b",
   "metadata": {},
   "outputs": [
    {
     "name": "stdout",
     "output_type": "stream",
     "text": [
      "* \n",
      "* * \n",
      "* * * \n",
      "* * * * \n",
      "* * * * * \n"
     ]
    }
   ],
   "source": [
    "print_right_angle_triangle(5)"
   ]
  },
  {
   "cell_type": "markdown",
   "id": "7dcc540e-2922-47b4-9f94-bce0cfd4420d",
   "metadata": {},
   "source": [
    "---\n",
    "- The function `print_right_angle_triangle` takes the parameter `rows`, which determines the number of rows in the `right-angled` triangle.\n",
    "- The outer for loop `(for i in range(1, rows + 1))` controls the number of rows in the triangle. It starts from 1 and goes up to rows.\n",
    "- The inner for loop `(for j in range(1, i + 1))` controls the number of `asterisks(*)` printed in each row. It starts from 1 and goes up to the current row number i.\n",
    "- `print('*', end=' ')` is used to print an `asterisk(*)` without moving to the next line. `end=' '` ensures that the next print statement will continue on the same line.\n",
    "- After printing the asterisks for a particular row, `print()` is used to move to the next line for the next row.\n",
    "- And These all process will continue till the our goal.\n",
    "---"
   ]
  },
  {
   "cell_type": "markdown",
   "id": "3406540b-1960-4e0d-8194-d4d9e2b7ed04",
   "metadata": {},
   "source": [
    "### Q20 Write a program to find the greatest common divisor (GCD) of two numbers using a `for` loop."
   ]
  },
  {
   "cell_type": "code",
   "execution_count": 39,
   "id": "3e51c833-3a0f-4e19-b677-26174fa125f5",
   "metadata": {},
   "outputs": [],
   "source": [
    "def find_gcd(a: int, b: int) -> int:\n",
    "    gcd = 1\n",
    "    minimum = min(a, b)\n",
    "    for i in range(1, minimum + 1):\n",
    "        if a % i == 0 and b % i == 0:\n",
    "            gcd = i  \n",
    "    return gcd"
   ]
  },
  {
   "cell_type": "code",
   "execution_count": 40,
   "id": "487d3f79-f893-4a9c-b30e-08a347aa1961",
   "metadata": {},
   "outputs": [
    {
     "name": "stdout",
     "output_type": "stream",
     "text": [
      "The GCD of 36 and 48 is: 12\n"
     ]
    }
   ],
   "source": [
    "num1 = 36\n",
    "num2 = 48\n",
    "result = find_gcd(num1, num2)\n",
    "print(f\"The GCD of {num1} and {num2} is: {result}\")"
   ]
  },
  {
   "cell_type": "markdown",
   "id": "8f3632fb-0aa8-4a1e-81cf-565681687f5b",
   "metadata": {},
   "source": [
    "---\n",
    "- The function `find_gcd` takes two numbers `a` and `b` as input arguments.\n",
    "- It initializes the `gcd` variable to 1, which is the minimum possible GCD.\n",
    "- The minimum of the two numbers `a`and `b`is calculated and stored in the `minimum` variable\n",
    "- The `for` loop iterates through numbers from 1 up to the minimum value.\n",
    "- Inside the loop, it checks if both `a` and `b` are divisible by the current number (i). If they are both divisible, it updates the `gcd` variable with the current number (i) since it's a common divisor.\n",
    "- Finally, the function returns the calculated GCD.\n",
    "---"
   ]
  },
  {
   "cell_type": "markdown",
   "id": "ea2999c0-1d14-4ba7-a8a2-24dae4de73bf",
   "metadata": {},
   "source": [
    "# Advanced Level:"
   ]
  },
  {
   "cell_type": "markdown",
   "id": "d377e90e-60f9-4bdd-a0a4-fc508334931a",
   "metadata": {},
   "source": [
    "### Q21 Create a program that calculates the sum of the digits of numbers in a list using a list comprehension."
   ]
  },
  {
   "cell_type": "code",
   "execution_count": 41,
   "id": "f3d16cd2-d4b4-4afb-a853-00631c98597d",
   "metadata": {},
   "outputs": [],
   "source": [
    "def digit_sum(number: int) -> int:\n",
    "    return sum(int(digit) for digit in str(number) if digit.isdigit())"
   ]
  },
  {
   "cell_type": "code",
   "execution_count": 42,
   "id": "6d0248c3-057d-4145-ba9d-593422e86277",
   "metadata": {},
   "outputs": [
    {
     "name": "stdout",
     "output_type": "stream",
     "text": [
      "Number: 123, Sum of digits: 6\n",
      "Number: 456, Sum of digits: 15\n",
      "Number: 789, Sum of digits: 24\n"
     ]
    }
   ],
   "source": [
    "numbers = [123, 456, 789]\n",
    "sum_of_digits = [digit_sum(num) for num in numbers]\n",
    "for i in range(len(numbers)):\n",
    "    print(f\"Number: {numbers[i]}, Sum of digits: {sum_of_digits[i]}\")"
   ]
  },
  {
   "cell_type": "markdown",
   "id": "f97a5f7b-0c64-4a87-a622-2ebec8e295f1",
   "metadata": {},
   "source": [
    "---\n",
    "- `digit_sum` This function takes a parameter `number`.\n",
    "- It converts the number into a string using `str(number)`\n",
    "- It iterates through each character (`digit`) in the string using a generator expression.\n",
    "- For each character, it checks if it's a digit using `isdigit()` method.\n",
    "- If it's a digit, it converts it back to an integer using `int(digit)`.\n",
    "- Finally, it returns the sum of all these individual digits.\n",
    "- List `numbers`,It's a list containing three integer values: 123, 456, and 789.\n",
    "- List comprehension `sum_of_digits`, It creates a new list called `sum_of_digits`\n",
    "- For each number in the numbers list, it calculates the sum of its digits using the `digit_sum` function defined earlier.\n",
    "- The resulting list `sum_of_digits` will contain the sum of digits for each number in the numbers list.\n",
    "- In for loop, It iterates through the indices of the numbers list using `range(len(numbers))`.\n",
    "- For each index `i`, It prints the original number from the numbers list at index `i`.\n",
    "- It prints the sum of digits for that number from the `sum_of_digits` list at the same index `i`.\n",
    "---"
   ]
  },
  {
   "cell_type": "markdown",
   "id": "962c285c-0e62-4621-9b59-bc096467fd56",
   "metadata": {},
   "source": [
    "### Q22 Write a program to find the prime factors of a given number using a `for` loop and list comprehension."
   ]
  },
  {
   "cell_type": "code",
   "execution_count": 43,
   "id": "225ac3de-501d-4385-80c9-c9b29ed8db07",
   "metadata": {},
   "outputs": [],
   "source": [
    "def prime_factors(n: int) -> list[int]:\n",
    "    factors = [div for div in range(2, n+1) if n % div == 0]\n",
    "\n",
    "    prime_factors = []\n",
    "    for factor in factors:\n",
    "        is_prime = True\n",
    "        for divisor in range(2, factor):\n",
    "            if factor % divisor == 0:\n",
    "                is_prime = False\n",
    "                break\n",
    "        if is_prime:\n",
    "            prime_factors.append(factor)\n",
    "\n",
    "    return prime_factors"
   ]
  },
  {
   "cell_type": "code",
   "execution_count": 44,
   "id": "fbd1d2c4-296c-4262-aea0-68dbdbdcb429",
   "metadata": {},
   "outputs": [
    {
     "name": "stdin",
     "output_type": "stream",
     "text": [
      "Enter a number:  12\n"
     ]
    },
    {
     "name": "stdout",
     "output_type": "stream",
     "text": [
      "Prime factors of 12 are: [2, 3]\n"
     ]
    }
   ],
   "source": [
    "number = int(input(\"Enter a number: \"))\n",
    "result = prime_factors(number)\n",
    "print(f\"Prime factors of {number} are: {result}\")"
   ]
  },
  {
   "cell_type": "markdown",
   "id": "c3e9085c-2bb2-4d24-a2bc-c23a3bcc5df2",
   "metadata": {},
   "source": [
    "---\n",
    "- There is a function name as `prime_factors` which takes one argument 'n' and it return list of integer value which\n",
    "indicates the prime factors of given number.\n",
    "- Inside the function there is a `factors` variable (type list) and it is responsible for storing all possible values which is divisible `n` by the\n",
    "value ranging from 2 to n+1 with help of `list comprehension`\n",
    "- After that we create an empty list which is capable for storing the `prime factors` for given number\n",
    "- In outer `for` loop, we simply iterate over the `factors` list \n",
    "- inside the outer `for` loop, there is an `is_prime` varible which is set to `True` first\n",
    "- Now inner `for` loop it start from 2 and end with factor-1\n",
    "- inside the inner `for` loop, if statement checks the condition `factor % divisor == 0:` if it is True then the `is_prime` variable is set to be `False`\n",
    "- After that we jump out of the inner loop using break statement\n",
    "- The if statement which is inside the outer `for` loop is reponsible for checking the `is_prime` is True. Then it append the `factor` in ` prime_factors` list\n",
    "- Finally we return the prime factors of given number which is type list of interger\n",
    "---"
   ]
  },
  {
   "cell_type": "markdown",
   "id": "25a04f9e-2c39-4ae6-8c1a-ac5581b18455",
   "metadata": {},
   "source": [
    "### Q23 Develop a program that extracts unique elements from a list and stores them in a new list using a list comprehension."
   ]
  },
  {
   "cell_type": "code",
   "execution_count": 45,
   "id": "d7356149-eae6-45ec-ad86-c8dfd64fe76c",
   "metadata": {},
   "outputs": [],
   "source": [
    "def store_unique(number: list[int]) -> list[int]:\n",
    "    unique = []\n",
    "    [unique.append(el) for el in number if el not in unique]\n",
    "    return unique"
   ]
  },
  {
   "cell_type": "code",
   "execution_count": 46,
   "id": "37ffbd0a-8bcd-48e6-b810-86e0a11ad75c",
   "metadata": {},
   "outputs": [
    {
     "name": "stdout",
     "output_type": "stream",
     "text": [
      "[12, 34, 56, 45, 1, 2, 6]\n"
     ]
    }
   ],
   "source": [
    "num = [12,34,56,12,45,1,2,1,2,6]\n",
    "print(store_unique(num))"
   ]
  },
  {
   "cell_type": "markdown",
   "id": "724f0070-6edb-4846-b870-6f69a63fae05",
   "metadata": {},
   "source": [
    "---\n",
    "- We have a function a name as `store_unique` which take one argument `number` as list of integer and it return list of integer back. \n",
    "- Inside the function defination we initialize the variable `unique` as list which holds only distinct elements.\n",
    "- using list comprehension the unique elements are extracted and store in the list called as `unique`\n",
    "- Inside the list comprehension, If statement check the element from list `number` are not present in list `unique` (`if el not in unique`)\n",
    "- With this `unique.append(el)` statement we are appending those element which are unique only.\n",
    "- Finally the function `store_unique` returns the list `unique`\n",
    "- We create an variable called as `num` which are type of list of integer and it containing the duplicates values as well\n",
    "- At function call, we simply the print the result on the terminal.\n",
    "---"
   ]
  },
  {
   "cell_type": "markdown",
   "id": "f19615db-fe4d-4b46-9a07-e5770e02b403",
   "metadata": {},
   "source": [
    "### Q24 Create a program that generates a list of all palindromic numbers up to a specified limit using a list comprehension."
   ]
  },
  {
   "cell_type": "code",
   "execution_count": 47,
   "id": "9ce01e31-e087-4844-b8d0-c9fcee72dcda",
   "metadata": {},
   "outputs": [],
   "source": [
    "def is_palindrome(num: str) -> bool:\n",
    "    return str(num) == str(num)[::-1]\n",
    "\n",
    "def generate_palindromes(limit: int) -> list[int]:\n",
    "    return [num for num in range(limit + 1) if is_palindrome(num)]\n"
   ]
  },
  {
   "cell_type": "code",
   "execution_count": 48,
   "id": "4beaba96-95b6-44bd-b780-ffc2f039e5fa",
   "metadata": {},
   "outputs": [
    {
     "name": "stdin",
     "output_type": "stream",
     "text": [
      "Enter the limit for palindromic numbers:  121\n"
     ]
    },
    {
     "name": "stdout",
     "output_type": "stream",
     "text": [
      "Palindromic numbers up to 121:\n",
      "[0, 1, 2, 3, 4, 5, 6, 7, 8, 9, 11, 22, 33, 44, 55, 66, 77, 88, 99, 101, 111, 121]\n"
     ]
    }
   ],
   "source": [
    "limit = int(input(\"Enter the limit for palindromic numbers: \"))\n",
    "palindromes = generate_palindromes(limit)\n",
    "print(f\"Palindromic numbers up to {limit}:\")\n",
    "print(palindromes)"
   ]
  },
  {
   "cell_type": "markdown",
   "id": "fe8a7ab0-6e15-4d5b-a92a-c0c6bab39a71",
   "metadata": {},
   "source": [
    "---\n",
    "- `is_palindrome()` ,This function takes a number (`num`) as input and checks if it's a palindrome and it return the boolean value.\n",
    "- `str(num)` converts the number to a string.\n",
    "- `str(num)[::-1]` reverses the string representation of the number using Python's slicing (`[::-1]`).\n",
    "- It returns `True` if the original number is equal to its reversed version (`i.e., if it's a palindrome`), otherwise, it returns `False`.\n",
    "- `generate_palindromes()`, This function generates a list of palindromic numbers up to a specified limit.\n",
    "- It takes a parameter `limit`, which represents the upper limit until which palindromic numbers need to be generated and it return the\n",
    "list of integer values which contains only palindromic numbers upto specified limit.\n",
    "- Inside this function, a list comprehension is used:\n",
    "- `range(limit + 1)` generates numbers from 0 up to limit\n",
    "- For each number in this range, it checks if it's a palindrome using the `is_palindrome()` function.\n",
    "- Numbers that satisfy the palindrome condition are included in the resulting list.\n",
    "- Taking user input:\n",
    "`limit = int(input(\"Enter the limit for palindromic numbers: \"))`: This line prompts the user to input the limit for generating palindromic numbers and converts the input to an integer (int() function).\n",
    "- Generating and displaying palindromic numbers:\n",
    "`palindromes = generate_palindromes(limit)`: Calls the `generate_palindromes()` function with the user-inputted limit and stores the list of palindromic numbers in the variable palindromes.\n",
    "- `print(f\"Palindromic numbers up to {limit}:\")`: Prints a message indicating the limit provided by the user.\n",
    "- `print(palindromes)`: Prints the list of palindromic numbers generated within the specified limit.\n",
    "---"
   ]
  },
  {
   "cell_type": "markdown",
   "id": "627616af-714b-4205-a14c-ae673be28558",
   "metadata": {},
   "source": [
    "### Q25 Write a program to flatten a nested list using list comprehension"
   ]
  },
  {
   "cell_type": "code",
   "execution_count": 49,
   "id": "cad9ecde-e9f3-42b5-848d-5e3ed338769e",
   "metadata": {},
   "outputs": [],
   "source": [
    "def flatten_list(my_list: list[int]) -> list[int]:\n",
    "    flat_list = [num for sublist in my_list for num in sublist]\n",
    "    return flat_list"
   ]
  },
  {
   "cell_type": "code",
   "execution_count": 50,
   "id": "03b36b73-8569-4dec-add5-4b80e462e5c5",
   "metadata": {},
   "outputs": [
    {
     "name": "stdout",
     "output_type": "stream",
     "text": [
      "[1, 2, 3, 4, 5, 6, 7]\n"
     ]
    }
   ],
   "source": [
    "nested_list = [[1], [2, 3], [4, 5, 6, 7]]\n",
    "result = flatten_list(nested_list)\n",
    "print(result)"
   ]
  },
  {
   "cell_type": "markdown",
   "id": "bb1e1214-9961-4b5d-ab8e-f8a215230bfe",
   "metadata": {},
   "source": [
    "---\n",
    "-  We have created a function name as `flatten_list` which takes only single parameter `my_list` which is type list of integer\n",
    "and it returns a list of integer values of single dimensional list.\n",
    "- `flat_list = [num for sublist in my_list for num in sublist]`:\n",
    "This line uses a list comprehension to iterate through each sublist (`sublist`) in the input `my_list`.\n",
    "- For each `sublist`, it iterates through each num in that sublist and appends it to the `flat_list`\n",
    "- After that it returns the `flat_list` that contains all the integers from the nested list after flattening.\n",
    "- `nested_list = [[1], [2, 3], [4, 5, 6, 7]]`:\n",
    "This is a sample nested list containing three `sublists`, each with different numbers of integers.\n",
    "- `result = flatten_list(nested_list)`:\n",
    "Calls the flatten_list function with nested_list as an argument to flatten it.\n",
    "- `print(result)`:\n",
    "Prints the result obtained after flattening the `nested_list`.\n",
    "----"
   ]
  },
  {
   "cell_type": "markdown",
   "id": "b6f79bb4-9146-4351-b69c-e4179de182bd",
   "metadata": {},
   "source": [
    "### Q26 Develop a program that computes the sum of even and odd numbers in a list separately using list"
   ]
  },
  {
   "cell_type": "code",
   "execution_count": 51,
   "id": "ccac75d6-ff28-48ea-85ab-8f016ed713a0",
   "metadata": {},
   "outputs": [],
   "source": [
    "def sum_of_even_n_odd(num: list[int]) -> int:\n",
    "    sum_even = 0\n",
    "    sum_odd = 0\n",
    "    for i in num:\n",
    "        if i % 2 == 0:\n",
    "            sum_even+=i\n",
    "        else:\n",
    "            sum_odd+=i\n",
    "    return sum_even , sum_odd"
   ]
  },
  {
   "cell_type": "code",
   "execution_count": 52,
   "id": "e83a87d4-c2e7-4c80-a1ce-01760941a160",
   "metadata": {},
   "outputs": [],
   "source": [
    "def user_input() -> None:\n",
    "    size = int(input('enter the size of the list : '))\n",
    "    my_list = []\n",
    "    for i in range(size):\n",
    "        el = int(input('enter the element at {} index : '.format(i)))\n",
    "        my_list.append(el)\n",
    "    even , odd = sum_of_even_n_odd(my_list)\n",
    "    print(f'Original list are : {my_list}')\n",
    "    print(f'Sum of even numbers are : {even}')\n",
    "    print(f'Sum of odd numbers are : {odd}')"
   ]
  },
  {
   "cell_type": "code",
   "execution_count": 53,
   "id": "efd87247-5e8d-4a22-b48e-10ad2ca0f58a",
   "metadata": {},
   "outputs": [
    {
     "name": "stdin",
     "output_type": "stream",
     "text": [
      "enter the size of the list :  5\n",
      "enter the element at 0 index :  1\n",
      "enter the element at 1 index :  2\n",
      "enter the element at 2 index :  3\n",
      "enter the element at 3 index :  4\n",
      "enter the element at 4 index :  5\n"
     ]
    },
    {
     "name": "stdout",
     "output_type": "stream",
     "text": [
      "Original list are : [1, 2, 3, 4, 5]\n",
      "Sum of even numbers are : 6\n",
      "Sum of odd numbers are : 9\n"
     ]
    }
   ],
   "source": [
    "user_input()"
   ]
  },
  {
   "cell_type": "markdown",
   "id": "cde74d70-85d0-47b6-a4ee-9e850145450b",
   "metadata": {},
   "source": [
    "---\n",
    "- 1. `sum_of_even_n_odd(num: list[int]) -> int`:\n",
    "- This function takes a list of integers `num` as input and calculates the sum of `even` and `odd` numbers separately within that list.\n",
    "- It initializes two variables, `sum_even` and `sum_odd`, to keep track of the sums of even and odd numbers, respectively.\n",
    "- It iterates through each element `i` in the input list `num`.\n",
    "- If the element `i` is even (`i.e., i % 2 == 0`), it adds `i` to `sum_even`. Otherwise, it adds `i` to `sum_odd`.\n",
    "- Finally, it returns the sums of even and odd numbers as a tuple: (`sum_even`, `sum_odd`)\n",
    "- 2. `user_input() -> None`:\n",
    "- This function prompts the user to input the size of the list and then asks the user to input elements for that list.\n",
    "- It initializes an empty list called `my_list`.\n",
    "- It asks the user for the size of the list and then iterates `size` times to get elements for the list by asking the user to input each element.\n",
    "- After obtaining the list of elements, it calls the `sum_of_even_n_odd()` function with `my_list` as an argument to calculate the sum of even and odd numbers.\n",
    "- It then prints the original list, the sum of even numbers, and the sum of odd numbers.\n",
    "---"
   ]
  },
  {
   "cell_type": "markdown",
   "id": "cbdb17db-9cdb-49e8-be01-9e8de73a7099",
   "metadata": {},
   "source": [
    "### Q27 Create a program that generates a list of squares of odd numbers between 1 and 10 using list comprehension."
   ]
  },
  {
   "cell_type": "code",
   "execution_count": 54,
   "id": "0e951aea-6ff8-428c-85a0-24472e3dea1a",
   "metadata": {},
   "outputs": [],
   "source": [
    "def list_of_squares_of_odd_numbers() -> list[int]:\n",
    "    odd_squares = [num**2 for num in range(1,11) if num%2 != 0]\n",
    "    return odd_squares"
   ]
  },
  {
   "cell_type": "code",
   "execution_count": 55,
   "id": "93e3ecd8-06fe-43a7-8f2f-0173d759235b",
   "metadata": {},
   "outputs": [
    {
     "data": {
      "text/plain": [
       "[1, 9, 25, 49, 81]"
      ]
     },
     "execution_count": 55,
     "metadata": {},
     "output_type": "execute_result"
    }
   ],
   "source": [
    "list_of_squares_of_odd_numbers()"
   ]
  },
  {
   "cell_type": "markdown",
   "id": "4afa02d5-79cf-47f4-989d-2123a0f9aaf9",
   "metadata": {},
   "source": [
    "--- \n",
    "- We defined a function as `list_of_squares_of_odd_numbers` which is responsible for generating a list of squares of odd numbers between 1 and 10\n",
    "which has no argument but it return list of integer values (`i.e.,list of squares of odd numbers between 1 and 10`)\n",
    "- `range(1, 11)` generates numbers from 1 to 10 (inclusive).\n",
    "- `x % 2 != 0` filters only the odd numbers from the generated range.\n",
    "- `x ** 2` calculates the square of each odd number.\n",
    "- The resulting list `odd_squares` contains squares of odd numbers between 1 and 10.\n",
    "---"
   ]
  },
  {
   "cell_type": "markdown",
   "id": "ee288ed3-c774-4394-87c6-63bd35d34de3",
   "metadata": {},
   "source": [
    "### Q28 Write a program that combines two lists into a dictionary using list comprehension."
   ]
  },
  {
   "cell_type": "code",
   "execution_count": 56,
   "id": "b01201cc-f4e4-453e-bc86-766e66be064a",
   "metadata": {},
   "outputs": [],
   "source": [
    "def combines_list(keys: list[str] , values: list[int]) -> dict:\n",
    "    my_dict = {}\n",
    "    [my_dict.update([(key,value)]) for key,value in zip(keys,values)]\n",
    "    return my_dict"
   ]
  },
  {
   "cell_type": "code",
   "execution_count": 57,
   "id": "7c8f4f20-3aa4-445f-a65d-03ef8509bb20",
   "metadata": {},
   "outputs": [
    {
     "name": "stdout",
     "output_type": "stream",
     "text": [
      "{'awaish': 1, 'ayan': 2, 'amaan': 3}\n"
     ]
    }
   ],
   "source": [
    "keys = ['awaish', 'ayan', 'amaan']\n",
    "values = [1, 2, 3,]\n",
    "result = combines_list(keys,values)\n",
    "print(result)"
   ]
  },
  {
   "cell_type": "markdown",
   "id": "b95b0657-ca27-4957-9f5f-996e0efbf1e9",
   "metadata": {},
   "source": [
    "---\n",
    "- The `combines_list` function is defined with two parameters: `keys` (a list of strings) and `values` (a list of integers). It is annotated to specify that it takes lists of strings and integers and returns a dictionary.\n",
    "- Inside the function:\n",
    "- 1. It uses a list comprehension `[my_dict.update([(key,value)]) for key,value in zip(keys,values)]` to create a dictionary.\n",
    "- 2. It uses a zip() function to iterate through both keys and values simultaneously.\n",
    "- 3. For each pair of corresponding elements (a key-value pair) obtained from `zip(keys, values)`, it uses the `update()` method to add the key-value pair to the `my_dict`.\n",
    "- 4. The `update()` method takes a list of tuples (in this case, a single tuple) and adds or updates the key-value pair(s) in the dictionary.\n",
    "- Finally, the function returns the `my_dict`, which contains the combined key-value pairs from the keys and values.\n",
    "- We defined two variables 1.`keys` the type is list of string and 2.`value` the type is list of integer\n",
    "- We call the function `combines_list` with two parameters `keys` and `value`\n",
    "- And the function returns is stored in `result` variable\n",
    "- At the end we print the output using `print()` function\n",
    "---"
   ]
  },
  {
   "cell_type": "markdown",
   "id": "8f1a39d2-1edd-4328-a2ac-d1f0d7f5df76",
   "metadata": {},
   "source": [
    "### Q29 Develop a program that extracts the vowels from a string and stores them in a list using list comprehension."
   ]
  },
  {
   "cell_type": "code",
   "execution_count": 58,
   "id": "511bb8d4-5c9d-4d5c-a519-58ee912c5454",
   "metadata": {},
   "outputs": [],
   "source": [
    "def extracts_vowels(string: str) -> list[str]:\n",
    "    list_of_vowels = list('aeiou')\n",
    "    vowels = [v for v in string if v in list_of_vowels]\n",
    "    return vowels"
   ]
  },
  {
   "cell_type": "code",
   "execution_count": 59,
   "id": "7b2ada93-e715-40a6-b76b-dac8e3e1dadd",
   "metadata": {},
   "outputs": [
    {
     "data": {
      "text/plain": [
       "['i', 'i', 'e', 'a', 'u', 'a', 'a', 'i']"
      ]
     },
     "execution_count": 59,
     "metadata": {},
     "output_type": "execute_result"
    }
   ],
   "source": [
    "string = 'This is me abu awaish'\n",
    "extracts_vowels(string)"
   ]
  },
  {
   "cell_type": "markdown",
   "id": "030731b3-5c6a-414d-8b27-0ccf72ea6380",
   "metadata": {},
   "source": [
    "---\n",
    "- We defines a function named `extracts_vowels` that takes in a single argument `string`, which is expected to be a string. It also specifies that the function will return a list of strings.\n",
    "- After that we creates a list named `list_of_vowels` containing individual characters 'a', 'e', 'i', 'o', and 'u'. These characters represent the vowels in the English alphabet.\n",
    "- It uses a list comprehension to iterate through each character (`v`) in the input string (`string`). It checks whether each character is present in the `list_of_vowels` created earlier.\n",
    "- For every character in the input string that matches any vowel in `list_of_vowels`, it creates a list called vowels containing those vowels.\n",
    "- And at the end it returns the list of vowels found in the input string based on the conditions specified in the list comprehension.\n",
    "- `string = 'This is me abu awaish'`:\n",
    "This line defines a string variable named `string` containing the text `\"This is me abu awaish\"`.\n",
    "- `extracts_vowels(string)`:\n",
    "This line calls the `extracts_vowels` function with the string variable as an argument, which executes the function and returns a list of vowels found in the provided string.\n",
    "---"
   ]
  },
  {
   "cell_type": "markdown",
   "id": "dcaac32a-61ec-48e1-97af-18254fa05a01",
   "metadata": {},
   "source": [
    "### Q30 Create a program that removes all non-numeric characters from a list of strings using list comprehension."
   ]
  },
  {
   "cell_type": "code",
   "execution_count": 60,
   "id": "0af57827-98bc-4c2b-bdd7-a03e494a52e1",
   "metadata": {},
   "outputs": [],
   "source": [
    "def remove_non_numeric(strings: list[str]) -> list[str]:\n",
    "    # List comprehension to filter out non-numeric characters from each string\n",
    "    modify_string = [\"\".join(char for char in string if char.isdigit()) for string in strings]\n",
    "    return modify_string"
   ]
  },
  {
   "cell_type": "code",
   "execution_count": 61,
   "id": "23e1eac1-ee03-4c4c-9158-8a6ff7e1db46",
   "metadata": {},
   "outputs": [
    {
     "name": "stdout",
     "output_type": "stream",
     "text": [
      "Original List of Strings: ['abc123', '45def', '6ghi78', '9jkl']\n",
      "List after removing non-numeric characters: ['123', '45', '678', '9']\n"
     ]
    }
   ],
   "source": [
    "list_of_strings = ['abc123', '45def', '6ghi78', '9jkl']\n",
    "# Remove non-numeric characters from the list of strings\n",
    "result = remove_non_numeric(list_of_strings)\n",
    "# Print the original list and the cleaned list\n",
    "print(\"Original List of Strings:\", list_of_strings)\n",
    "print(\"List after removing non-numeric characters:\", result)"
   ]
  },
  {
   "cell_type": "markdown",
   "id": "5b2b3c5e-16c2-45e5-896e-608badacd903",
   "metadata": {},
   "source": [
    "---\n",
    "- We created a function named as `remove_non_numeric` which takes only single parameter `strings` which is type of list of string and it returns\n",
    "list of string which contains only numeric values\n",
    "- After that we use list comprehension `[\"\".join(char for char in string if char.isdigit()) for string in strings]`\n",
    "- For loop iterates over the list echa element one by one `for string in strings`\n",
    "- Using join() function we join those characters together which is type of numeric using for loop  `for char in string if char.isdigit())`\n",
    "- After getting all numeric characters we return the list of string `modify_string`\n",
    "- We declare the variable named as `list_of_string` which contains alpha_numeric values\n",
    "- And return result is store in `result` variable\n",
    "- Finally we print original list and List after removing non-numeric characters\n",
    "---"
   ]
  },
  {
   "cell_type": "markdown",
   "id": "3f2234cc-5135-47ff-ac1f-358f12820ce3",
   "metadata": {},
   "source": [
    "# Challenge Level:"
   ]
  },
  {
   "cell_type": "markdown",
   "id": "0270f947-5539-46da-9be2-4f0996689804",
   "metadata": {},
   "source": [
    "### Q31 Write a program to generate a list of prime numbers using the Sieve of Eratosthenes algorithm and list comprehension."
   ]
  },
  {
   "cell_type": "code",
   "execution_count": 62,
   "id": "a4285bfc-ea9b-4375-9ed8-8790100063a1",
   "metadata": {},
   "outputs": [],
   "source": [
    "def sieve_of_eratosthenes(n: int) -> list[int]:\n",
    "    sieve = [True] * (n + 1)\n",
    "    sieve[0:2] = [False, False]\n",
    "    for i in range(2, int(n**0.5) + 1):\n",
    "        if sieve[i]:\n",
    "            sieve[i*i:n+1:i] = [False] * len(sieve[i*i:n+1:i])\n",
    "    return [i for i in range(n + 1) if sieve[i]]"
   ]
  },
  {
   "cell_type": "code",
   "execution_count": 63,
   "id": "73b7d345-5f36-45ee-b4b7-c862e70a6467",
   "metadata": {},
   "outputs": [
    {
     "name": "stdout",
     "output_type": "stream",
     "text": [
      "[2, 3, 5, 7, 11, 13, 17, 19, 23, 29, 31, 37, 41, 43, 47, 53, 59, 61, 67, 71, 73, 79, 83, 89, 97]\n"
     ]
    }
   ],
   "source": [
    "# Example usage\n",
    "n = 100  # Generate primes up to n\n",
    "prime_numbers = sieve_of_eratosthenes(n)\n",
    "print(prime_numbers)"
   ]
  },
  {
   "cell_type": "markdown",
   "id": "2239a121-9dd9-4410-992e-06e8e0ecf509",
   "metadata": {},
   "source": [
    "---\n",
    "- We define a function `sieve_of_eratosthenes` that takes an integer `n` as input.\n",
    "- We initialize a boolean list `sieve` of length `n + 1`, where `sieve[i]` indicates if `i` is a prime number.\n",
    "- We iterate through the numbers up to the square root of `n` and update the sieve list based on the Sieve of Eratosthenes algorithm.\n",
    "- Finally, we use list comprehension to generate a list of prime numbers by filtering out non-prime numbers from the sieve list.\n",
    "- We then use the `sieve_of_eratosthenes` function to generate prime numbers up to the specified limit `n` and print the result.\n",
    "---"
   ]
  },
  {
   "cell_type": "markdown",
   "id": "8866adab-3555-4e0c-a3fd-27fcae1c58a8",
   "metadata": {},
   "source": [
    "### Q32 Create a program that generates a list of all Pythagorean triplets up to a specified limit using list comprehension"
   ]
  },
  {
   "cell_type": "code",
   "execution_count": 64,
   "id": "1f3c3022-2d84-4198-91dd-9fe0e45f5e5d",
   "metadata": {},
   "outputs": [],
   "source": [
    "def generate_pythagorean_triplets(limit: int) -> list[tuple]:\n",
    "    triplets = [(a, b, c) for a in range(1, limit)\n",
    "                          for b in range(a, limit)\n",
    "                          for c in range(b, limit)\n",
    "                          if a * a + b * b == c * c]\n",
    "    return triplets"
   ]
  },
  {
   "cell_type": "code",
   "execution_count": 65,
   "id": "43ffbf13-8daa-4adc-b192-ae1414698c73",
   "metadata": {},
   "outputs": [
    {
     "name": "stdout",
     "output_type": "stream",
     "text": [
      "[(3, 4, 5), (5, 12, 13), (6, 8, 10), (8, 15, 17), (9, 12, 15)]\n"
     ]
    }
   ],
   "source": [
    "limit = 20\n",
    "pythagorean_triplets = generate_pythagorean_triplets(limit)\n",
    "print(pythagorean_triplets)"
   ]
  },
  {
   "cell_type": "markdown",
   "id": "348001a6-be96-4c92-9f97-097629a713a8",
   "metadata": {},
   "source": [
    "---\n",
    "- `generate_pythagorean_triplets` function: It takes one parameter `limit` which represents the maximum value for the Pythagorean triplets to be generated.\n",
    "- Three nested for loops are used to iterate through all combinations of `'a'`, `'b'`, and `'c'` values within the given limit.\n",
    "- `a` starts from 1 and goes up to limit - 1.\n",
    "- `b` starts from the current `a` value and goes up to limit - 1.\n",
    "- `c` starts from the current `b` value and goes up to limit - 1.\n",
    "- Inside the loops, there's an if condition that checks whether the current combination of `'a'`, `'b'`, and `'c'` values satisfies the Pythagorean theorem: `a^2 + b^2 = c^2`.\n",
    "- If the condition is met, a tuple `(a, b, c)` representing the Pythagorean triplet is appended to the `triplets` list\n",
    "- The function returns the list of Pythagorean triplets generated within the specified limit.\n",
    "- The main code then sets the `limit` to 20 and calls the function `generate_pythagorean_triplets` with this limit.\n",
    "- Finally, it prints out the generated Pythagorean triplets.\n",
    "---"
   ]
  },
  {
   "cell_type": "markdown",
   "id": "b6b4ca39-0e29-4768-9eec-9bd9f7da2bcf",
   "metadata": {},
   "source": [
    "### Q33 Develop a program that generates a list of all possible combinations of two lists using list comprehension."
   ]
  },
  {
   "cell_type": "code",
   "execution_count": 66,
   "id": "e8cf05ae-c7a2-451e-8038-6d7255ab9fea",
   "metadata": {},
   "outputs": [],
   "source": [
    "def combinations_of_two_list(list1: list[int] , list2: list[str]) -> list[tuple]:\n",
    "    conbinations = [(x, y) for x in list1 for y in list2]\n",
    "    return conbinations"
   ]
  },
  {
   "cell_type": "code",
   "execution_count": 67,
   "id": "0ac2f881-0257-466b-8c07-b57744412e55",
   "metadata": {},
   "outputs": [
    {
     "name": "stdout",
     "output_type": "stream",
     "text": [
      "[(1, 'a'), (1, 'b'), (1, 'c'), (1, 'd'), (1, 'e'), (2, 'a'), (2, 'b'), (2, 'c'), (2, 'd'), (2, 'e'), (3, 'a'), (3, 'b'), (3, 'c'), (3, 'd'), (3, 'e'), (4, 'a'), (4, 'b'), (4, 'c'), (4, 'd'), (4, 'e'), (5, 'a'), (5, 'b'), (5, 'c'), (5, 'd'), (5, 'e')]\n"
     ]
    }
   ],
   "source": [
    "list1 = [1,2,3,4,5]\n",
    "list2 = ['a','b','c','d','e']\n",
    "result = combinations_of_two_list(list1,list2)\n",
    "print(result)"
   ]
  },
  {
   "cell_type": "markdown",
   "id": "098c4489-c862-449b-849b-8c5054390385",
   "metadata": {},
   "source": [
    "---\n",
    "- We define the function named as `combinations_of_two_list` which takes two parameters `list1` which is expected to be a list containing integers, and `list2` which is expected to be a list containing strings.\n",
    "- It specifies that the function will return a list containing tuples.\n",
    "- `combinations = [(x, y) for x in list1 for y in list2]` this line uses a list comprehension to generate combinations\n",
    "- For each element `x` in `list1` and for each element `y` in `list2`, it creates a `tuple (x, y)` and adds it to the `combinations` list.\n",
    "- This process results in combinations of elements from `list1` paired with elements from `list2`.\n",
    "- The function returns the list `combinations`, which contains tuples representing the combinations of elements from `list1` and `list2`.\n",
    "- outside the function : \n",
    "- Here, list1 is assigned `[1, 2, 3, 4, 5]`, and list2 is assigned `['a', 'b', 'c', 'd', 'e']`.\n",
    "- The function `combinations_of_two_list` is called with `list1` and `list2` as arguments, and the result is stored in the variable `result`.\n",
    "- Finally, the `result`, which contains all the combinations of elements from `list1` and `list2` as tuples, is printed to the console.\n",
    "---"
   ]
  },
  {
   "cell_type": "markdown",
   "id": "06d2507c-ef4c-4db2-a820-acb09ef7953c",
   "metadata": {},
   "source": [
    "### Q34 Write a program that calculates the mean, median, and mode of a list of numbers using list comprehension. "
   ]
  },
  {
   "cell_type": "code",
   "execution_count": 68,
   "id": "0db1b50e-2117-4126-b462-fadd79dcd680",
   "metadata": {},
   "outputs": [],
   "source": [
    "class measures_of_central_tendency :\n",
    "    def __init__(self,num: list[int]) -> None:\n",
    "        self.number = num \n",
    "        \n",
    "    def mean_calculate(self) -> float:\n",
    "        mean = sum([x for x in self.number]) / len(self.number)\n",
    "        return mean\n",
    "        \n",
    "    def median_calculate(self) -> float:\n",
    "        sorted_list = sorted(self.number)\n",
    "        length = len(sorted_list)\n",
    "\n",
    "        median = (sorted_list[length // 2] if length % 2 != 0 else\n",
    "              (sorted_list[length // 2 - 1] + sorted_list[length // 2]) / 2)\n",
    "        return median\n",
    "\n",
    "    def mode_calculate(self) -> int:\n",
    "        mode = max(set([x for x in self.number if self.number.count(x) == max([self.number.count(i) for i in self.number])]), key=self.number.count)\n",
    "        return mode"
   ]
  },
  {
   "cell_type": "code",
   "execution_count": 69,
   "id": "00bd323b-a472-4ff1-b4de-6c38fb9b31eb",
   "metadata": {},
   "outputs": [],
   "source": [
    "obj = measures_of_central_tendency([1,2,3,4,5,5])"
   ]
  },
  {
   "cell_type": "code",
   "execution_count": 70,
   "id": "545d1664-2d9b-4707-951c-733af90612eb",
   "metadata": {},
   "outputs": [
    {
     "data": {
      "text/plain": [
       "3.3333333333333335"
      ]
     },
     "execution_count": 70,
     "metadata": {},
     "output_type": "execute_result"
    }
   ],
   "source": [
    "obj.mean_calculate()"
   ]
  },
  {
   "cell_type": "code",
   "execution_count": 71,
   "id": "3b91132a-974c-4a42-a2fb-382ff7fd4fdf",
   "metadata": {},
   "outputs": [
    {
     "data": {
      "text/plain": [
       "3.5"
      ]
     },
     "execution_count": 71,
     "metadata": {},
     "output_type": "execute_result"
    }
   ],
   "source": [
    "obj.median_calculate()"
   ]
  },
  {
   "cell_type": "code",
   "execution_count": 72,
   "id": "2aa8d1b4-22c9-45fb-b72f-7584f95a9427",
   "metadata": {},
   "outputs": [
    {
     "data": {
      "text/plain": [
       "5"
      ]
     },
     "execution_count": 72,
     "metadata": {},
     "output_type": "execute_result"
    }
   ],
   "source": [
    "obj.mode_calculate()"
   ]
  },
  {
   "cell_type": "markdown",
   "id": "a31b1a31-b58c-47bd-85c7-45b82782004e",
   "metadata": {},
   "source": [
    "---\n",
    "- `class measures_of_central_tendency` : This line declares a class named `measures_of_central_tendency`.\n",
    "- `def __init__(self, num: list[int]) -> None` : This method is the class constructor, initializing an instance of the class. It takes a parameter `num`, which is expected to be a list of integers `(list[int])`. This list is stored as an attribute named number within the class instance.\n",
    "Note : A constructor does not return any value.\n",
    "- `def mean_calculate(self) -> float` : The 1mean_calculate `method calculates` the mean of the list by summing all the numbers in the list and then dividing by the total count of numbers. It returns the calculated mean as a floating-point number.\n",
    "- `def median_calculate(self) -> float` : The 1median_calculate1 method first sorts the list of numbers in ascending order. It then calculates the median based on whether the total count of numbers is `odd` or `even`. The median value is returned as a floating-point number.\n",
    "- `def mode_calculate(self) -> int` : The `mode_calculate` method uses a list comprehension and the `max` function to find the mode of the list. It constructs a set of elements with maximum occurrences and then finds the element with the highest count. The mode is returned as an integer.\n",
    "---"
   ]
  },
  {
   "cell_type": "markdown",
   "id": "887ad8ca-a742-419f-b455-5d4ac9233f23",
   "metadata": {},
   "source": [
    "### Q35 Create a program that generates Pascal's triangle up to a specified number of rows using list comprehension."
   ]
  },
  {
   "cell_type": "code",
   "execution_count": 73,
   "id": "1b104e6b-8a8d-4a3e-9d46-2a4823899d00",
   "metadata": {},
   "outputs": [],
   "source": [
    "def generate_pascals_triangle(rows: int) -> list[list[int]]:\n",
    "    triangle = [[1] * (row + 1) for row in range(rows)]\n",
    "    \n",
    "    for row in range(2, rows):\n",
    "        for col in range(1, row):\n",
    "            triangle[row][col] = triangle[row - 1][col - 1] + triangle[row - 1][col]\n",
    "    \n",
    "    return triangle\n",
    "\n",
    "def print_pascals_triangle(triangle: list[list[int]]):\n",
    "    for row in triangle:\n",
    "        print(\" \".join(map(str, row)))"
   ]
  },
  {
   "cell_type": "code",
   "execution_count": 74,
   "id": "8eb1cf8f-935e-4241-a1b5-afe999695acf",
   "metadata": {},
   "outputs": [
    {
     "name": "stdout",
     "output_type": "stream",
     "text": [
      "1\n",
      "1 1\n",
      "1 2 1\n",
      "1 3 3 1\n",
      "1 4 6 4 1\n"
     ]
    }
   ],
   "source": [
    "num_of_rows = 5\n",
    "pascals_triangle = generate_pascals_triangle(num_of_rows)\n",
    "print_pascals_triangle(pascals_triangle)"
   ]
  },
  {
   "cell_type": "markdown",
   "id": "d9273c5f-310d-40b7-836c-9f2602b13370",
   "metadata": {},
   "source": [
    "---\n",
    "- `generate_pascals_triangle` : This function takes an integer `rows` as input and generates Pascal's Triangle up to the specified number of rows. It uses a nested list comprehension to initialize a 2D list (`triangle`) with each element initialized to 1. The size of each row is determined by the row index (`row + 1`).\n",
    "- Then, a nested loop is used to calculate the values inside the triangle. The outer loop iterates over each row starting from the third row (index 2), and the inner loop iterates over the columns within each row (excluding the first and last elements). The values are calculated using the combination formula: `C(n, k) = C(n-1, k-1) + C(n-1, k)`. The calculated values are updated in the `triangle` list.\n",
    "- Finally, the generated Pascal's Triangle is returned.\n",
    "- `print_pascals_triangle` : This function takes the generated Pascal's Triangle (`triangle`) as input and prints it row by row. The for loop iterates over each row, and `map(str, row)` is used to convert each integer in the row to a string. `join` is then used to concatenate these strings with spaces between them, creating a formatted row. The `print` statement prints each row on a new line.\n",
    "- To use these functions, you can call `generate_pascals_triangle` to generate the triangle and then pass the result to `print_pascals_triangle` to print it.\n",
    "---"
   ]
  },
  {
   "cell_type": "markdown",
   "id": "892f394a-d3ce-4f1f-a443-0646499d0cae",
   "metadata": {},
   "source": [
    "### Q36 Develop a program that calculates the sum of the digits of a factorial of numbers from 1 to 5 using list comprehension."
   ]
  },
  {
   "cell_type": "code",
   "execution_count": 75,
   "id": "62b7a473-9ebf-4465-ba5a-cb121a429109",
   "metadata": {},
   "outputs": [],
   "source": [
    "def fact(i: int) -> int:\n",
    "    if i==1:\n",
    "        return 1\n",
    "    else:\n",
    "        return i*fact(i-1)\n",
    "\n",
    "def sum_of_digits(n: int) -> int:\n",
    "    return sum(int(i) for i in str(n))"
   ]
  },
  {
   "cell_type": "code",
   "execution_count": 76,
   "id": "d07046ee-02ad-430d-a0b3-ada1635e1cdf",
   "metadata": {},
   "outputs": [
    {
     "name": "stdout",
     "output_type": "stream",
     "text": [
      "[1, 2, 6, 24, 120]\n",
      "[1, 2, 6, 6, 3]\n"
     ]
    }
   ],
   "source": [
    "factorial = [fact(i) for i in range(1,6)]\n",
    "print(factorial)\n",
    "result = [sum_of_digits(fact(i)) for i in range(1,6)]\n",
    "print(result)"
   ]
  },
  {
   "cell_type": "markdown",
   "id": "818c93fc-f791-4928-a6ee-b1e4c7785d8a",
   "metadata": {},
   "source": [
    "---\n",
    "- The `fact` function is a recursive function that calculates the factorial of a given number `i`. It checks if the input `i` is equal to 1, in which case it returns 1. If `i` is not 1, it calculates `i` multiplied by the factorial of `i-1`.\n",
    "- The `sum_of_digits` function takes a number `n` as input and returns the sum of its digits. It achieves this by converting the number to a string, iterating through the digits, converting them back to integers, and finally summing them up using a list comprehension.\n",
    "- The script then creates a list called `factorial` by applying the `fact` function to the numbers 1 through 5 using a list comprehension.\n",
    "- Similarly, it creates another list called `result` by applying the `sum_of_digits` function to the factorials calculated in the previous step, again using a list comprehension.\n",
    "- Finally, the script prints both the `factorial` and `result` lists to the console.\n",
    "---"
   ]
  },
  {
   "cell_type": "markdown",
   "id": "4beb1ca2-bb25-4c47-b323-e6b558791033",
   "metadata": {},
   "source": [
    "### Q37 Write a program that finds the longest word in a sentence using list comprehension."
   ]
  },
  {
   "cell_type": "code",
   "execution_count": 77,
   "id": "92f51255-7977-44f6-830e-fc8eae50b55a",
   "metadata": {},
   "outputs": [],
   "source": [
    "def finds_the_longest_word(sentence: str) -> str:\n",
    "    longest_word = [word for word in sentence.split() if len(word) == len(max(sentence.split(),key=len))][0]\n",
    "    return longest_word"
   ]
  },
  {
   "cell_type": "code",
   "execution_count": 78,
   "id": "80424f8f-c31c-49a3-892b-09dc9bd9bdf5",
   "metadata": {},
   "outputs": [
    {
     "name": "stdin",
     "output_type": "stream",
     "text": [
      "Enter the sentence you want :  earth revolves around the sun\n"
     ]
    },
    {
     "name": "stdout",
     "output_type": "stream",
     "text": [
      "The longest word in the given sentence is : revolves\n"
     ]
    }
   ],
   "source": [
    "sen = input('Enter the sentence you want : ')\n",
    "result = finds_the_longest_word(sen)\n",
    "print(f'The longest word in the given sentence is : {result}')"
   ]
  },
  {
   "cell_type": "markdown",
   "id": "310e0fa1-8674-4667-8319-681d78e8ba47",
   "metadata": {},
   "source": [
    "---\n",
    "- The function `finds_the_longest_word` takes a single parameter sentence, which is expected to be a string.\n",
    "- Inside the function:\n",
    "  1. `sentence.split()` splits the input sentence into a list of words based on whitespace.\n",
    "  2. `max(sentence.split(), key=len)` finds the word with the maximum length in the list of words obtained from the split sentence. The `key=len` argument specifies that the length of each word should be considered for finding the maximum.\n",
    "  3. `[word for word in sentence.split() if len(word) == len(max(sentence.split(),key=len))]` is a list comprehension that filters the words from the split sentence, keeping only those words whose length is equal to the length of the longest word in the sentence.\n",
    "  4. `[0]` at the end of the list comprehension selects the first word from the filtered list of words, which is the longest word.\n",
    "  5. `longest_word` variable stores the longest word found.\n",
    "- The function returns the `longest_word`.\n",
    "- Outside the function:\n",
    "  1. `input('Enter the sentence you want : ')` prompts the user to input a sentence.\n",
    "  2. The input sentence is passed to the `finds_the_longest_word` function.\n",
    "  3. The result returned by the function is stored in the variable `result`.\n",
    "  4. Finally, a formatted string is printed to display the longest word found in the input sentence.\n",
    "---"
   ]
  },
  {
   "cell_type": "markdown",
   "id": "fa1a5b2c-6b14-4842-8c98-b2a67d24b62e",
   "metadata": {},
   "source": [
    "### Q38 Create a program that filters a list of strings to include only those with more than three vowels using list comprehension."
   ]
  },
  {
   "cell_type": "code",
   "execution_count": 3,
   "id": "564f1208-6fff-48fc-a8ba-abb504dd4cdd",
   "metadata": {},
   "outputs": [],
   "source": [
    "def count_vowels(word: str) -> int:\n",
    "    vowels = list(\"aeiouAEIOU\")\n",
    "    return sum(1 for char in word if char in vowels)\n",
    "\n",
    "def filter_strings_with_more_than_three_vowels(string_list: list[str]) -> str:\n",
    "    return [word for word in string_list if count_vowels(word) > 3][0]\n"
   ]
  },
  {
   "cell_type": "code",
   "execution_count": 4,
   "id": "3a692e5c-6bf2-482f-b5b7-3b0e8af42596",
   "metadata": {},
   "outputs": [
    {
     "name": "stdout",
     "output_type": "stream",
     "text": [
      "ShayanAli\n"
     ]
    }
   ],
   "source": [
    "input_list = [\"Awaish\", \"Ayan\", \"Serazi\", \"Salik\", \"ShayanAli\"]\n",
    "filtered_list = filter_strings_with_more_than_three_vowels(input_list)\n",
    "print(filtered_list)"
   ]
  },
  {
   "cell_type": "markdown",
   "id": "b3c6c80e-7393-43d9-a100-5583c762eab0",
   "metadata": {},
   "source": [
    "---\n",
    "- This function,`count_vowels`, takes a string `word` as input and returns the count of vowels in that word. It initializes a list of vowels containing both lowercase and uppercase vowels. Then, it uses a generator expression within the sum function to count the occurrences of vowels in the word.\n",
    "- This function,`filter_strings_with_more_than_three_vowels`,takes a list of strings `string_list` as input and returns the first string from the list that has more than three vowels. It uses a list comprehension to iterate through each word in the input list and filters out the words for which the count of vowels is greater than 3. Then, it returns the first word from the filtered list using indexing `[0]`.\n",
    "- Before function call : creates an input list of strings `input_list`\n",
    "- At function call : the `filter_strings_with_more_than_three_vowels` function with `input_list` as input to get the filtered list.\n",
    "- After function call : Finally, it prints the first string from the filtered list.\n",
    "---"
   ]
  },
  {
   "cell_type": "markdown",
   "id": "aeed406f-938b-4307-96f4-93587378c362",
   "metadata": {},
   "source": [
    "### Q39 Develop a program that calculates the sum of the digits of numbers from 1 to 1000 using list comprehension."
   ]
  },
  {
   "cell_type": "code",
   "execution_count": 19,
   "id": "b25c9fdf-0a53-4618-88d3-2e87d0db0f8c",
   "metadata": {},
   "outputs": [],
   "source": [
    "def  sum_of_the_digits(start : int = 1 , end : int = 1000) -> list[int]:\n",
    "    SumOfDigits = [sum(int(c) for c in str(i)) for i in range(start,end+1)]\n",
    "    return SumOfDigits"
   ]
  },
  {
   "cell_type": "code",
   "execution_count": 21,
   "id": "7aaf1a08-2b55-447a-84af-d2e4da814e65",
   "metadata": {},
   "outputs": [
    {
     "name": "stdout",
     "output_type": "stream",
     "text": [
      "[1, 2, 3, 4, 5, 6, 7, 8, 9, 1, 2, 3, 4, 5, 6, 7, 8, 9, 10, 2, 3, 4, 5, 6, 7, 8, 9, 10, 11, 3, 4, 5, 6, 7, 8, 9, 10, 11, 12, 4, 5, 6, 7, 8, 9, 10, 11, 12, 13, 5, 6, 7, 8, 9, 10, 11, 12, 13, 14, 6, 7, 8, 9, 10, 11, 12, 13, 14, 15, 7, 8, 9, 10, 11, 12, 13, 14, 15, 16, 8, 9, 10, 11, 12, 13, 14, 15, 16, 17, 9, 10, 11, 12, 13, 14, 15, 16, 17, 18, 1, 2, 3, 4, 5, 6, 7, 8, 9, 10, 2, 3, 4, 5, 6, 7, 8, 9, 10, 11, 3, 4, 5, 6, 7, 8, 9, 10, 11, 12, 4, 5, 6, 7, 8, 9, 10, 11, 12, 13, 5, 6, 7, 8, 9, 10, 11, 12, 13, 14, 6, 7, 8, 9, 10, 11, 12, 13, 14, 15, 7, 8, 9, 10, 11, 12, 13, 14, 15, 16, 8, 9, 10, 11, 12, 13, 14, 15, 16, 17, 9, 10, 11, 12, 13, 14, 15, 16, 17, 18, 10, 11, 12, 13, 14, 15, 16, 17, 18, 19, 2, 3, 4, 5, 6, 7, 8, 9, 10, 11, 3, 4, 5, 6, 7, 8, 9, 10, 11, 12, 4, 5, 6, 7, 8, 9, 10, 11, 12, 13, 5, 6, 7, 8, 9, 10, 11, 12, 13, 14, 6, 7, 8, 9, 10, 11, 12, 13, 14, 15, 7, 8, 9, 10, 11, 12, 13, 14, 15, 16, 8, 9, 10, 11, 12, 13, 14, 15, 16, 17, 9, 10, 11, 12, 13, 14, 15, 16, 17, 18, 10, 11, 12, 13, 14, 15, 16, 17, 18, 19, 11, 12, 13, 14, 15, 16, 17, 18, 19, 20, 3, 4, 5, 6, 7, 8, 9, 10, 11, 12, 4, 5, 6, 7, 8, 9, 10, 11, 12, 13, 5, 6, 7, 8, 9, 10, 11, 12, 13, 14, 6, 7, 8, 9, 10, 11, 12, 13, 14, 15, 7, 8, 9, 10, 11, 12, 13, 14, 15, 16, 8, 9, 10, 11, 12, 13, 14, 15, 16, 17, 9, 10, 11, 12, 13, 14, 15, 16, 17, 18, 10, 11, 12, 13, 14, 15, 16, 17, 18, 19, 11, 12, 13, 14, 15, 16, 17, 18, 19, 20, 12, 13, 14, 15, 16, 17, 18, 19, 20, 21, 4, 5, 6, 7, 8, 9, 10, 11, 12, 13, 5, 6, 7, 8, 9, 10, 11, 12, 13, 14, 6, 7, 8, 9, 10, 11, 12, 13, 14, 15, 7, 8, 9, 10, 11, 12, 13, 14, 15, 16, 8, 9, 10, 11, 12, 13, 14, 15, 16, 17, 9, 10, 11, 12, 13, 14, 15, 16, 17, 18, 10, 11, 12, 13, 14, 15, 16, 17, 18, 19, 11, 12, 13, 14, 15, 16, 17, 18, 19, 20, 12, 13, 14, 15, 16, 17, 18, 19, 20, 21, 13, 14, 15, 16, 17, 18, 19, 20, 21, 22, 5, 6, 7, 8, 9, 10, 11, 12, 13, 14, 6, 7, 8, 9, 10, 11, 12, 13, 14, 15, 7, 8, 9, 10, 11, 12, 13, 14, 15, 16, 8, 9, 10, 11, 12, 13, 14, 15, 16, 17, 9, 10, 11, 12, 13, 14, 15, 16, 17, 18, 10, 11, 12, 13, 14, 15, 16, 17, 18, 19, 11, 12, 13, 14, 15, 16, 17, 18, 19, 20, 12, 13, 14, 15, 16, 17, 18, 19, 20, 21, 13, 14, 15, 16, 17, 18, 19, 20, 21, 22, 14, 15, 16, 17, 18, 19, 20, 21, 22, 23, 6, 7, 8, 9, 10, 11, 12, 13, 14, 15, 7, 8, 9, 10, 11, 12, 13, 14, 15, 16, 8, 9, 10, 11, 12, 13, 14, 15, 16, 17, 9, 10, 11, 12, 13, 14, 15, 16, 17, 18, 10, 11, 12, 13, 14, 15, 16, 17, 18, 19, 11, 12, 13, 14, 15, 16, 17, 18, 19, 20, 12, 13, 14, 15, 16, 17, 18, 19, 20, 21, 13, 14, 15, 16, 17, 18, 19, 20, 21, 22, 14, 15, 16, 17, 18, 19, 20, 21, 22, 23, 15, 16, 17, 18, 19, 20, 21, 22, 23, 24, 7, 8, 9, 10, 11, 12, 13, 14, 15, 16, 8, 9, 10, 11, 12, 13, 14, 15, 16, 17, 9, 10, 11, 12, 13, 14, 15, 16, 17, 18, 10, 11, 12, 13, 14, 15, 16, 17, 18, 19, 11, 12, 13, 14, 15, 16, 17, 18, 19, 20, 12, 13, 14, 15, 16, 17, 18, 19, 20, 21, 13, 14, 15, 16, 17, 18, 19, 20, 21, 22, 14, 15, 16, 17, 18, 19, 20, 21, 22, 23, 15, 16, 17, 18, 19, 20, 21, 22, 23, 24, 16, 17, 18, 19, 20, 21, 22, 23, 24, 25, 8, 9, 10, 11, 12, 13, 14, 15, 16, 17, 9, 10, 11, 12, 13, 14, 15, 16, 17, 18, 10, 11, 12, 13, 14, 15, 16, 17, 18, 19, 11, 12, 13, 14, 15, 16, 17, 18, 19, 20, 12, 13, 14, 15, 16, 17, 18, 19, 20, 21, 13, 14, 15, 16, 17, 18, 19, 20, 21, 22, 14, 15, 16, 17, 18, 19, 20, 21, 22, 23, 15, 16, 17, 18, 19, 20, 21, 22, 23, 24, 16, 17, 18, 19, 20, 21, 22, 23, 24, 25, 17, 18, 19, 20, 21, 22, 23, 24, 25, 26, 9, 10, 11, 12, 13, 14, 15, 16, 17, 18, 10, 11, 12, 13, 14, 15, 16, 17, 18, 19, 11, 12, 13, 14, 15, 16, 17, 18, 19, 20, 12, 13, 14, 15, 16, 17, 18, 19, 20, 21, 13, 14, 15, 16, 17, 18, 19, 20, 21, 22, 14, 15, 16, 17, 18, 19, 20, 21, 22, 23, 15, 16, 17, 18, 19, 20, 21, 22, 23, 24, 16, 17, 18, 19, 20, 21, 22, 23, 24, 25, 17, 18, 19, 20, 21, 22, 23, 24, 25, 26, 18, 19, 20, 21, 22, 23, 24, 25, 26, 27, 1]\n"
     ]
    }
   ],
   "source": [
    "result = sum_of_the_digits()\n",
    "print(result)"
   ]
  },
  {
   "cell_type": "markdown",
   "id": "4c2fc278-fbba-4718-b59a-560ca83f2a74",
   "metadata": {},
   "source": [
    "---\n",
    "- We defines a function named `sum_of_the_digits` that takes two parameters `start` and `end`, both of which have default values of `1` and `1000` respectively. The function returns a list of integers.\n",
    "- After that we creates a list comprehension. It iterates through each number in the range from `start` to `end`, inclusive. For each number `i`, it converts the number to a string `str(i)`, iterates through each character `c` in that string, converts it back to an integer `int(c)`, and then calculates the sum of these integers using the `sum` function. So, essentially, it calculates the sum of the digits of each number in the range.\n",
    "- And it returns the list `SumOfDigits` containing the sums of digits for each number in the range specified.\n",
    "- the 1sum_of_the_digits1 function without providing any arguments, so it will use the default values for `start` and `end`. It assigns the returned list to the variable `result`\n",
    "- Finally we prints the `result`, which is the list of sums of digits for each number in the range from 1 to 1000.\n",
    "---"
   ]
  },
  {
   "cell_type": "markdown",
   "id": "78e28b6e-e43e-4341-a3c4-c4c510014f9d",
   "metadata": {},
   "source": [
    "### Q40 Write a program that generates a list of prime palindromic numbers using list comprehension."
   ]
  },
  {
   "cell_type": "code",
   "execution_count": 3,
   "id": "6ade6953-76a5-4ee3-90ea-c692353568b5",
   "metadata": {},
   "outputs": [],
   "source": [
    "def is_prime(n):\n",
    "    if n < 2:\n",
    "        return False\n",
    "    else:\n",
    "        for i in range(2, n):\n",
    "            if n % i == 0:\n",
    "                return False\n",
    "        else:\n",
    "            return True\n",
    "\n",
    "def is_palindrome(n):\n",
    "    return str(n) == str(n)[::-1]"
   ]
  },
  {
   "cell_type": "code",
   "execution_count": 4,
   "id": "c8800a74-aa5f-4d2d-bb96-c6398055b208",
   "metadata": {},
   "outputs": [
    {
     "name": "stdout",
     "output_type": "stream",
     "text": [
      "[2, 3, 5, 7, 11, 101, 131, 151, 181, 191, 313, 353, 373, 383, 727, 757, 787, 797, 919, 929]\n"
     ]
    }
   ],
   "source": [
    "prime_palindromes = [num for num in range(2, 1000) if is_prime(num) and is_palindrome(num)]\n",
    "\n",
    "print(prime_palindromes)"
   ]
  },
  {
   "cell_type": "markdown",
   "id": "13d8d981-4dec-49d8-ba3d-30f3b1d0510d",
   "metadata": {},
   "source": [
    "---\n",
    "- `is_prime Function`:\n",
    "   1. This function takes a number `n` and checks if it is a prime number.\n",
    "   2. It first checks if the number is less than 2, in which case it returns `False` because prime numbers are defined as natural numbers greater than 1\n",
    "  3. In for loop, it iterates through a range from 2 to n-1 and checks if the number is divisible by any of these values `(i.e. i)`. If it is, it returns `False`, as it means the number is not prime.\n",
    "  4. If the loop completes without finding a divisor, the function returns `True`, indicating that the number is prime\n",
    "- `is_palindrome Function`:\n",
    "  1. This function takes a number `n` and checks if it is a palindrome.\n",
    "  2. It converts the number to a string and then compares the string to its reverse. If they are the same, the number is a palindrome and the function returns `True`otherwise, it returns `False`.\n",
    "- `prime_palindromes List Comprehension`:\n",
    "  1. This line uses list comprehension to populate a list called `prime_palindromes` with numbers that satisfy two conditions: being prime and being a palindrome.\n",
    "  2. It iterates through numbers from 2 to 999 and includes them in the list if both `is_prime(num)` and `is_palindrome(num)` return `True`.\n",
    "- Finally, the code prints the list `prime_palindromes`, which contains all the prime palindrome numbers between 2 and 999.\n",
    "---"
   ]
  },
  {
   "cell_type": "code",
   "execution_count": null,
   "id": "1e1bb9b8-6867-4f0e-a4b1-ef3263b7d557",
   "metadata": {},
   "outputs": [],
   "source": []
  }
 ],
 "metadata": {
  "kernelspec": {
   "display_name": "Python 3 (ipykernel)",
   "language": "python",
   "name": "python3"
  },
  "language_info": {
   "codemirror_mode": {
    "name": "ipython",
    "version": 3
   },
   "file_extension": ".py",
   "mimetype": "text/x-python",
   "name": "python",
   "nbconvert_exporter": "python",
   "pygments_lexer": "ipython3",
   "version": "3.11.7"
  }
 },
 "nbformat": 4,
 "nbformat_minor": 5
}
