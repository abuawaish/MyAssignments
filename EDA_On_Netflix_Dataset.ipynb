{
 "cells": [
  {
   "cell_type": "markdown",
   "id": "1a0df264-1e45-46bc-944d-dc84ce29f600",
   "metadata": {},
   "source": [
    "# <b><font color = 'orange'>Dataset link : <a href = 'https://www.kaggle.com/datasets/muhammadkashif724/netflix-tv-shows-2021'>Click here </a>"
   ]
  },
  {
   "cell_type": "code",
   "execution_count": 1,
   "id": "f0427033-405d-4b4c-a7b4-164b4d3de642",
   "metadata": {},
   "outputs": [],
   "source": [
    "import numpy as np\n",
    "import pandas as pd\n",
    "from matplotlib import pyplot as plt\n",
    "import seaborn as sns\n",
    "import warnings\n",
    "warnings.filterwarnings('ignore')"
   ]
  },
  {
   "cell_type": "code",
   "execution_count": 2,
   "id": "cf8911ca-3c1e-4bb2-97e1-3efa2c720f25",
   "metadata": {},
   "outputs": [],
   "source": [
    "df = pd.read_csv(r'C:\\Users\\HP\\Dropbox\\PC\\Downloads\\netflix_shows.csv')"
   ]
  },
  {
   "cell_type": "code",
   "execution_count": 3,
   "id": "d2b82fdb-aa05-46f4-aed3-02e6621446e9",
   "metadata": {},
   "outputs": [
    {
     "data": {
      "text/html": [
       "<div>\n",
       "<style scoped>\n",
       "    .dataframe tbody tr th:only-of-type {\n",
       "        vertical-align: middle;\n",
       "    }\n",
       "\n",
       "    .dataframe tbody tr th {\n",
       "        vertical-align: top;\n",
       "    }\n",
       "\n",
       "    .dataframe thead th {\n",
       "        text-align: right;\n",
       "    }\n",
       "</style>\n",
       "<table border=\"1\" class=\"dataframe\">\n",
       "  <thead>\n",
       "    <tr style=\"text-align: right;\">\n",
       "      <th></th>\n",
       "      <th>title</th>\n",
       "      <th>cast</th>\n",
       "      <th>country</th>\n",
       "      <th>date_added</th>\n",
       "      <th>release_year</th>\n",
       "      <th>rating</th>\n",
       "      <th>duration</th>\n",
       "      <th>listed_in</th>\n",
       "      <th>description</th>\n",
       "    </tr>\n",
       "  </thead>\n",
       "  <tbody>\n",
       "    <tr>\n",
       "      <th>0</th>\n",
       "      <td>Blood &amp; Water</td>\n",
       "      <td>Ama Qamata, Khosi Ngema, Gail Mabalane, Thaban...</td>\n",
       "      <td>South Africa</td>\n",
       "      <td>24-Sep-21</td>\n",
       "      <td>2021</td>\n",
       "      <td>TV-MA</td>\n",
       "      <td>2 Seasons</td>\n",
       "      <td>International TV Shows, TV Dramas, TV Mysteries</td>\n",
       "      <td>After crossing paths at a party, a Cape Town t...</td>\n",
       "    </tr>\n",
       "    <tr>\n",
       "      <th>1</th>\n",
       "      <td>Ganglands</td>\n",
       "      <td>Sami Bouajila, Tracy Gotoas, Samuel Jouy, Nabi...</td>\n",
       "      <td>France</td>\n",
       "      <td>24-Sep-21</td>\n",
       "      <td>2021</td>\n",
       "      <td>TV-MA</td>\n",
       "      <td>1 Season</td>\n",
       "      <td>Crime TV Shows, International TV Shows, TV Act...</td>\n",
       "      <td>To protect his family from a powerful drug lor...</td>\n",
       "    </tr>\n",
       "    <tr>\n",
       "      <th>2</th>\n",
       "      <td>Jailbirds New Orleans</td>\n",
       "      <td>NaN</td>\n",
       "      <td>United States</td>\n",
       "      <td>24-Sep-21</td>\n",
       "      <td>2021</td>\n",
       "      <td>TV-MA</td>\n",
       "      <td>1 Season</td>\n",
       "      <td>Docuseries, Reality TV</td>\n",
       "      <td>Feuds, flirtations and toilet talk go down amo...</td>\n",
       "    </tr>\n",
       "    <tr>\n",
       "      <th>3</th>\n",
       "      <td>Kota Factory</td>\n",
       "      <td>Mayur More, Jitendra Kumar, Ranjan Raj, Alam K...</td>\n",
       "      <td>India</td>\n",
       "      <td>24-Sep-21</td>\n",
       "      <td>2021</td>\n",
       "      <td>TV-MA</td>\n",
       "      <td>2 Seasons</td>\n",
       "      <td>International TV Shows, Romantic TV Shows, TV ...</td>\n",
       "      <td>In a city of coaching centers known to train I...</td>\n",
       "    </tr>\n",
       "    <tr>\n",
       "      <th>4</th>\n",
       "      <td>Midnight Mass</td>\n",
       "      <td>Kate Siegel, Zach Gilford, Hamish Linklater, H...</td>\n",
       "      <td>United States</td>\n",
       "      <td>24-Sep-21</td>\n",
       "      <td>2021</td>\n",
       "      <td>TV-MA</td>\n",
       "      <td>1 Season</td>\n",
       "      <td>TV Dramas, TV Horror, TV Mysteries</td>\n",
       "      <td>The arrival of a charismatic young priest brin...</td>\n",
       "    </tr>\n",
       "    <tr>\n",
       "      <th>...</th>\n",
       "      <td>...</td>\n",
       "      <td>...</td>\n",
       "      <td>...</td>\n",
       "      <td>...</td>\n",
       "      <td>...</td>\n",
       "      <td>...</td>\n",
       "      <td>...</td>\n",
       "      <td>...</td>\n",
       "      <td>...</td>\n",
       "    </tr>\n",
       "    <tr>\n",
       "      <th>2657</th>\n",
       "      <td>Yu-Gi-Oh! Arc-V</td>\n",
       "      <td>Mike Liscio, Emily Bauer, Billy Bob Thompson, ...</td>\n",
       "      <td>Japan, Canada</td>\n",
       "      <td>1-May-18</td>\n",
       "      <td>2015</td>\n",
       "      <td>TV-Y7</td>\n",
       "      <td>2 Seasons</td>\n",
       "      <td>Anime Series, Kids' TV</td>\n",
       "      <td>Now that he's discovered the Pendulum Summonin...</td>\n",
       "    </tr>\n",
       "    <tr>\n",
       "      <th>2658</th>\n",
       "      <td>Yunus Emre</td>\n",
       "      <td>Gökhan Atalay, Payidar Tüfekçioglu, Baran Akbu...</td>\n",
       "      <td>Turkey</td>\n",
       "      <td>17-Jan-17</td>\n",
       "      <td>2016</td>\n",
       "      <td>TV-PG</td>\n",
       "      <td>2 Seasons</td>\n",
       "      <td>International TV Shows, TV Dramas</td>\n",
       "      <td>During the Mongol invasions, Yunus Emre leaves...</td>\n",
       "    </tr>\n",
       "    <tr>\n",
       "      <th>2659</th>\n",
       "      <td>Zak Storm</td>\n",
       "      <td>Michael Johnston, Jessica Gee-George, Christin...</td>\n",
       "      <td>United States, France, South Korea, Indonesia</td>\n",
       "      <td>13-Sep-18</td>\n",
       "      <td>2016</td>\n",
       "      <td>TV-Y7</td>\n",
       "      <td>3 Seasons</td>\n",
       "      <td>Kids' TV</td>\n",
       "      <td>Teen surfer Zak Storm is mysteriously transpor...</td>\n",
       "    </tr>\n",
       "    <tr>\n",
       "      <th>2660</th>\n",
       "      <td>Zindagi Gulzar Hai</td>\n",
       "      <td>Sanam Saeed, Fawad Khan, Ayesha Omer, Mehreen ...</td>\n",
       "      <td>Pakistan</td>\n",
       "      <td>15-Dec-16</td>\n",
       "      <td>2012</td>\n",
       "      <td>TV-PG</td>\n",
       "      <td>1 Season</td>\n",
       "      <td>International TV Shows, Romantic TV Shows, TV ...</td>\n",
       "      <td>Strong-willed, middle-class Kashaf and carefre...</td>\n",
       "    </tr>\n",
       "    <tr>\n",
       "      <th>2661</th>\n",
       "      <td>Zombie Dumb</td>\n",
       "      <td>NaN</td>\n",
       "      <td>South Korea</td>\n",
       "      <td>1-Jul-19</td>\n",
       "      <td>2018</td>\n",
       "      <td>TV-Y7</td>\n",
       "      <td>2 Seasons</td>\n",
       "      <td>Kids' TV, Korean TV Shows, TV Comedies</td>\n",
       "      <td>While living alone in a spooky town, a young g...</td>\n",
       "    </tr>\n",
       "  </tbody>\n",
       "</table>\n",
       "<p>2662 rows × 9 columns</p>\n",
       "</div>"
      ],
      "text/plain": [
       "                      title  \\\n",
       "0             Blood & Water   \n",
       "1                 Ganglands   \n",
       "2     Jailbirds New Orleans   \n",
       "3              Kota Factory   \n",
       "4             Midnight Mass   \n",
       "...                     ...   \n",
       "2657        Yu-Gi-Oh! Arc-V   \n",
       "2658             Yunus Emre   \n",
       "2659              Zak Storm   \n",
       "2660     Zindagi Gulzar Hai   \n",
       "2661            Zombie Dumb   \n",
       "\n",
       "                                                   cast  \\\n",
       "0     Ama Qamata, Khosi Ngema, Gail Mabalane, Thaban...   \n",
       "1     Sami Bouajila, Tracy Gotoas, Samuel Jouy, Nabi...   \n",
       "2                                                   NaN   \n",
       "3     Mayur More, Jitendra Kumar, Ranjan Raj, Alam K...   \n",
       "4     Kate Siegel, Zach Gilford, Hamish Linklater, H...   \n",
       "...                                                 ...   \n",
       "2657  Mike Liscio, Emily Bauer, Billy Bob Thompson, ...   \n",
       "2658  Gökhan Atalay, Payidar Tüfekçioglu, Baran Akbu...   \n",
       "2659  Michael Johnston, Jessica Gee-George, Christin...   \n",
       "2660  Sanam Saeed, Fawad Khan, Ayesha Omer, Mehreen ...   \n",
       "2661                                                NaN   \n",
       "\n",
       "                                            country date_added  release_year  \\\n",
       "0                                      South Africa  24-Sep-21          2021   \n",
       "1                                            France  24-Sep-21          2021   \n",
       "2                                     United States  24-Sep-21          2021   \n",
       "3                                             India  24-Sep-21          2021   \n",
       "4                                     United States  24-Sep-21          2021   \n",
       "...                                             ...        ...           ...   \n",
       "2657                                  Japan, Canada   1-May-18          2015   \n",
       "2658                                         Turkey  17-Jan-17          2016   \n",
       "2659  United States, France, South Korea, Indonesia  13-Sep-18          2016   \n",
       "2660                                       Pakistan  15-Dec-16          2012   \n",
       "2661                                    South Korea   1-Jul-19          2018   \n",
       "\n",
       "     rating   duration                                          listed_in  \\\n",
       "0     TV-MA  2 Seasons    International TV Shows, TV Dramas, TV Mysteries   \n",
       "1     TV-MA   1 Season  Crime TV Shows, International TV Shows, TV Act...   \n",
       "2     TV-MA   1 Season                             Docuseries, Reality TV   \n",
       "3     TV-MA  2 Seasons  International TV Shows, Romantic TV Shows, TV ...   \n",
       "4     TV-MA   1 Season                 TV Dramas, TV Horror, TV Mysteries   \n",
       "...     ...        ...                                                ...   \n",
       "2657  TV-Y7  2 Seasons                             Anime Series, Kids' TV   \n",
       "2658  TV-PG  2 Seasons                  International TV Shows, TV Dramas   \n",
       "2659  TV-Y7  3 Seasons                                           Kids' TV   \n",
       "2660  TV-PG   1 Season  International TV Shows, Romantic TV Shows, TV ...   \n",
       "2661  TV-Y7  2 Seasons             Kids' TV, Korean TV Shows, TV Comedies   \n",
       "\n",
       "                                            description  \n",
       "0     After crossing paths at a party, a Cape Town t...  \n",
       "1     To protect his family from a powerful drug lor...  \n",
       "2     Feuds, flirtations and toilet talk go down amo...  \n",
       "3     In a city of coaching centers known to train I...  \n",
       "4     The arrival of a charismatic young priest brin...  \n",
       "...                                                 ...  \n",
       "2657  Now that he's discovered the Pendulum Summonin...  \n",
       "2658  During the Mongol invasions, Yunus Emre leaves...  \n",
       "2659  Teen surfer Zak Storm is mysteriously transpor...  \n",
       "2660  Strong-willed, middle-class Kashaf and carefre...  \n",
       "2661  While living alone in a spooky town, a young g...  \n",
       "\n",
       "[2662 rows x 9 columns]"
      ]
     },
     "execution_count": 3,
     "metadata": {},
     "output_type": "execute_result"
    }
   ],
   "source": [
    "df"
   ]
  },
  {
   "cell_type": "code",
   "execution_count": 4,
   "id": "f18052d4-7efc-4508-b361-69a6cd1648f3",
   "metadata": {},
   "outputs": [
    {
     "data": {
      "text/html": [
       "<div>\n",
       "<style scoped>\n",
       "    .dataframe tbody tr th:only-of-type {\n",
       "        vertical-align: middle;\n",
       "    }\n",
       "\n",
       "    .dataframe tbody tr th {\n",
       "        vertical-align: top;\n",
       "    }\n",
       "\n",
       "    .dataframe thead th {\n",
       "        text-align: right;\n",
       "    }\n",
       "</style>\n",
       "<table border=\"1\" class=\"dataframe\">\n",
       "  <thead>\n",
       "    <tr style=\"text-align: right;\">\n",
       "      <th></th>\n",
       "      <th>title</th>\n",
       "      <th>cast</th>\n",
       "      <th>country</th>\n",
       "      <th>date_added</th>\n",
       "      <th>release_year</th>\n",
       "      <th>rating</th>\n",
       "      <th>duration</th>\n",
       "      <th>listed_in</th>\n",
       "      <th>description</th>\n",
       "    </tr>\n",
       "  </thead>\n",
       "  <tbody>\n",
       "    <tr>\n",
       "      <th>0</th>\n",
       "      <td>Blood &amp; Water</td>\n",
       "      <td>Ama Qamata, Khosi Ngema, Gail Mabalane, Thaban...</td>\n",
       "      <td>South Africa</td>\n",
       "      <td>24-Sep-21</td>\n",
       "      <td>2021</td>\n",
       "      <td>TV-MA</td>\n",
       "      <td>2 Seasons</td>\n",
       "      <td>International TV Shows, TV Dramas, TV Mysteries</td>\n",
       "      <td>After crossing paths at a party, a Cape Town t...</td>\n",
       "    </tr>\n",
       "    <tr>\n",
       "      <th>1</th>\n",
       "      <td>Ganglands</td>\n",
       "      <td>Sami Bouajila, Tracy Gotoas, Samuel Jouy, Nabi...</td>\n",
       "      <td>France</td>\n",
       "      <td>24-Sep-21</td>\n",
       "      <td>2021</td>\n",
       "      <td>TV-MA</td>\n",
       "      <td>1 Season</td>\n",
       "      <td>Crime TV Shows, International TV Shows, TV Act...</td>\n",
       "      <td>To protect his family from a powerful drug lor...</td>\n",
       "    </tr>\n",
       "    <tr>\n",
       "      <th>2</th>\n",
       "      <td>Jailbirds New Orleans</td>\n",
       "      <td>NaN</td>\n",
       "      <td>United States</td>\n",
       "      <td>24-Sep-21</td>\n",
       "      <td>2021</td>\n",
       "      <td>TV-MA</td>\n",
       "      <td>1 Season</td>\n",
       "      <td>Docuseries, Reality TV</td>\n",
       "      <td>Feuds, flirtations and toilet talk go down amo...</td>\n",
       "    </tr>\n",
       "    <tr>\n",
       "      <th>3</th>\n",
       "      <td>Kota Factory</td>\n",
       "      <td>Mayur More, Jitendra Kumar, Ranjan Raj, Alam K...</td>\n",
       "      <td>India</td>\n",
       "      <td>24-Sep-21</td>\n",
       "      <td>2021</td>\n",
       "      <td>TV-MA</td>\n",
       "      <td>2 Seasons</td>\n",
       "      <td>International TV Shows, Romantic TV Shows, TV ...</td>\n",
       "      <td>In a city of coaching centers known to train I...</td>\n",
       "    </tr>\n",
       "    <tr>\n",
       "      <th>4</th>\n",
       "      <td>Midnight Mass</td>\n",
       "      <td>Kate Siegel, Zach Gilford, Hamish Linklater, H...</td>\n",
       "      <td>United States</td>\n",
       "      <td>24-Sep-21</td>\n",
       "      <td>2021</td>\n",
       "      <td>TV-MA</td>\n",
       "      <td>1 Season</td>\n",
       "      <td>TV Dramas, TV Horror, TV Mysteries</td>\n",
       "      <td>The arrival of a charismatic young priest brin...</td>\n",
       "    </tr>\n",
       "  </tbody>\n",
       "</table>\n",
       "</div>"
      ],
      "text/plain": [
       "                   title                                               cast  \\\n",
       "0          Blood & Water  Ama Qamata, Khosi Ngema, Gail Mabalane, Thaban...   \n",
       "1              Ganglands  Sami Bouajila, Tracy Gotoas, Samuel Jouy, Nabi...   \n",
       "2  Jailbirds New Orleans                                                NaN   \n",
       "3           Kota Factory  Mayur More, Jitendra Kumar, Ranjan Raj, Alam K...   \n",
       "4          Midnight Mass  Kate Siegel, Zach Gilford, Hamish Linklater, H...   \n",
       "\n",
       "         country date_added  release_year rating   duration  \\\n",
       "0   South Africa  24-Sep-21          2021  TV-MA  2 Seasons   \n",
       "1         France  24-Sep-21          2021  TV-MA   1 Season   \n",
       "2  United States  24-Sep-21          2021  TV-MA   1 Season   \n",
       "3          India  24-Sep-21          2021  TV-MA  2 Seasons   \n",
       "4  United States  24-Sep-21          2021  TV-MA   1 Season   \n",
       "\n",
       "                                           listed_in  \\\n",
       "0    International TV Shows, TV Dramas, TV Mysteries   \n",
       "1  Crime TV Shows, International TV Shows, TV Act...   \n",
       "2                             Docuseries, Reality TV   \n",
       "3  International TV Shows, Romantic TV Shows, TV ...   \n",
       "4                 TV Dramas, TV Horror, TV Mysteries   \n",
       "\n",
       "                                         description  \n",
       "0  After crossing paths at a party, a Cape Town t...  \n",
       "1  To protect his family from a powerful drug lor...  \n",
       "2  Feuds, flirtations and toilet talk go down amo...  \n",
       "3  In a city of coaching centers known to train I...  \n",
       "4  The arrival of a charismatic young priest brin...  "
      ]
     },
     "execution_count": 4,
     "metadata": {},
     "output_type": "execute_result"
    }
   ],
   "source": [
    "df.head()"
   ]
  },
  {
   "cell_type": "code",
   "execution_count": 5,
   "id": "04c3c4bb-538b-492e-8883-57e1faf31161",
   "metadata": {},
   "outputs": [
    {
     "data": {
      "text/plain": [
       "(2662, 9)"
      ]
     },
     "execution_count": 5,
     "metadata": {},
     "output_type": "execute_result"
    }
   ],
   "source": [
    "df.shape"
   ]
  },
  {
   "cell_type": "code",
   "execution_count": 6,
   "id": "fdd0a69d-7a78-4618-a6b4-b4e571be221a",
   "metadata": {},
   "outputs": [
    {
     "name": "stdout",
     "output_type": "stream",
     "text": [
      "<class 'pandas.core.frame.DataFrame'>\n",
      "RangeIndex: 2662 entries, 0 to 2661\n",
      "Data columns (total 9 columns):\n",
      " #   Column        Non-Null Count  Dtype \n",
      "---  ------        --------------  ----- \n",
      " 0   title         2662 non-null   object\n",
      " 1   cast          2312 non-null   object\n",
      " 2   country       2662 non-null   object\n",
      " 3   date_added    2662 non-null   object\n",
      " 4   release_year  2662 non-null   int64 \n",
      " 5   rating        2662 non-null   object\n",
      " 6   duration      2662 non-null   object\n",
      " 7   listed_in     2662 non-null   object\n",
      " 8   description   2662 non-null   object\n",
      "dtypes: int64(1), object(8)\n",
      "memory usage: 187.3+ KB\n"
     ]
    }
   ],
   "source": [
    "df.info()"
   ]
  },
  {
   "cell_type": "code",
   "execution_count": 7,
   "id": "80ea1965-deff-4b72-abfa-26900a9fcaf6",
   "metadata": {},
   "outputs": [
    {
     "data": {
      "text/html": [
       "<div>\n",
       "<style scoped>\n",
       "    .dataframe tbody tr th:only-of-type {\n",
       "        vertical-align: middle;\n",
       "    }\n",
       "\n",
       "    .dataframe tbody tr th {\n",
       "        vertical-align: top;\n",
       "    }\n",
       "\n",
       "    .dataframe thead th {\n",
       "        text-align: right;\n",
       "    }\n",
       "</style>\n",
       "<table border=\"1\" class=\"dataframe\">\n",
       "  <thead>\n",
       "    <tr style=\"text-align: right;\">\n",
       "      <th></th>\n",
       "      <th>release_year</th>\n",
       "    </tr>\n",
       "  </thead>\n",
       "  <tbody>\n",
       "    <tr>\n",
       "      <th>count</th>\n",
       "      <td>2662.000000</td>\n",
       "    </tr>\n",
       "    <tr>\n",
       "      <th>mean</th>\n",
       "      <td>2016.624718</td>\n",
       "    </tr>\n",
       "    <tr>\n",
       "      <th>std</th>\n",
       "      <td>5.736350</td>\n",
       "    </tr>\n",
       "    <tr>\n",
       "      <th>min</th>\n",
       "      <td>1925.000000</td>\n",
       "    </tr>\n",
       "    <tr>\n",
       "      <th>25%</th>\n",
       "      <td>2016.000000</td>\n",
       "    </tr>\n",
       "    <tr>\n",
       "      <th>50%</th>\n",
       "      <td>2018.000000</td>\n",
       "    </tr>\n",
       "    <tr>\n",
       "      <th>75%</th>\n",
       "      <td>2020.000000</td>\n",
       "    </tr>\n",
       "    <tr>\n",
       "      <th>max</th>\n",
       "      <td>2021.000000</td>\n",
       "    </tr>\n",
       "  </tbody>\n",
       "</table>\n",
       "</div>"
      ],
      "text/plain": [
       "       release_year\n",
       "count   2662.000000\n",
       "mean    2016.624718\n",
       "std        5.736350\n",
       "min     1925.000000\n",
       "25%     2016.000000\n",
       "50%     2018.000000\n",
       "75%     2020.000000\n",
       "max     2021.000000"
      ]
     },
     "execution_count": 7,
     "metadata": {},
     "output_type": "execute_result"
    }
   ],
   "source": [
    "df.describe()"
   ]
  },
  {
   "cell_type": "code",
   "execution_count": 8,
   "id": "2f9ac7a5-e3db-4033-87c2-0aec9bba3943",
   "metadata": {},
   "outputs": [
    {
     "data": {
      "text/html": [
       "<div>\n",
       "<style scoped>\n",
       "    .dataframe tbody tr th:only-of-type {\n",
       "        vertical-align: middle;\n",
       "    }\n",
       "\n",
       "    .dataframe tbody tr th {\n",
       "        vertical-align: top;\n",
       "    }\n",
       "\n",
       "    .dataframe thead th {\n",
       "        text-align: right;\n",
       "    }\n",
       "</style>\n",
       "<table border=\"1\" class=\"dataframe\">\n",
       "  <thead>\n",
       "    <tr style=\"text-align: right;\">\n",
       "      <th></th>\n",
       "      <th>title</th>\n",
       "      <th>cast</th>\n",
       "      <th>country</th>\n",
       "      <th>date_added</th>\n",
       "      <th>release_year</th>\n",
       "      <th>rating</th>\n",
       "      <th>duration</th>\n",
       "      <th>listed_in</th>\n",
       "      <th>description</th>\n",
       "    </tr>\n",
       "  </thead>\n",
       "  <tbody>\n",
       "    <tr>\n",
       "      <th>count</th>\n",
       "      <td>2662</td>\n",
       "      <td>2312</td>\n",
       "      <td>2662</td>\n",
       "      <td>2662</td>\n",
       "      <td>2662</td>\n",
       "      <td>2662</td>\n",
       "      <td>2662</td>\n",
       "      <td>2662</td>\n",
       "      <td>2662</td>\n",
       "    </tr>\n",
       "    <tr>\n",
       "      <th>unique</th>\n",
       "      <td>2661</td>\n",
       "      <td>2269</td>\n",
       "      <td>196</td>\n",
       "      <td>1050</td>\n",
       "      <td>46</td>\n",
       "      <td>9</td>\n",
       "      <td>15</td>\n",
       "      <td>235</td>\n",
       "      <td>2658</td>\n",
       "    </tr>\n",
       "    <tr>\n",
       "      <th>top</th>\n",
       "      <td>9-Feb</td>\n",
       "      <td>David Attenborough</td>\n",
       "      <td>United States</td>\n",
       "      <td>6-Jul-21</td>\n",
       "      <td>2020</td>\n",
       "      <td>TV-MA</td>\n",
       "      <td>1 Season</td>\n",
       "      <td>Kids' TV</td>\n",
       "      <td>Two quirky cats, Ollie and Moon, and their fri...</td>\n",
       "    </tr>\n",
       "    <tr>\n",
       "      <th>freq</th>\n",
       "      <td>2</td>\n",
       "      <td>14</td>\n",
       "      <td>865</td>\n",
       "      <td>31</td>\n",
       "      <td>435</td>\n",
       "      <td>1143</td>\n",
       "      <td>1789</td>\n",
       "      <td>219</td>\n",
       "      <td>2</td>\n",
       "    </tr>\n",
       "  </tbody>\n",
       "</table>\n",
       "</div>"
      ],
      "text/plain": [
       "        title                cast        country date_added  release_year  \\\n",
       "count    2662                2312           2662       2662          2662   \n",
       "unique   2661                2269            196       1050            46   \n",
       "top     9-Feb  David Attenborough  United States   6-Jul-21          2020   \n",
       "freq        2                  14            865         31           435   \n",
       "\n",
       "       rating  duration listed_in  \\\n",
       "count    2662      2662      2662   \n",
       "unique      9        15       235   \n",
       "top     TV-MA  1 Season  Kids' TV   \n",
       "freq     1143      1789       219   \n",
       "\n",
       "                                              description  \n",
       "count                                                2662  \n",
       "unique                                               2658  \n",
       "top     Two quirky cats, Ollie and Moon, and their fri...  \n",
       "freq                                                    2  "
      ]
     },
     "execution_count": 8,
     "metadata": {},
     "output_type": "execute_result"
    }
   ],
   "source": [
    "df.astype('O').describe()"
   ]
  },
  {
   "cell_type": "code",
   "execution_count": 9,
   "id": "08ca0c66-a16a-4edc-828d-ffd28ad80ba7",
   "metadata": {
    "scrolled": true
   },
   "outputs": [
    {
     "data": {
      "text/plain": [
       "title           object\n",
       "cast            object\n",
       "country         object\n",
       "date_added      object\n",
       "release_year     int64\n",
       "rating          object\n",
       "duration        object\n",
       "listed_in       object\n",
       "description     object\n",
       "dtype: object"
      ]
     },
     "execution_count": 9,
     "metadata": {},
     "output_type": "execute_result"
    }
   ],
   "source": [
    "df.dtypes"
   ]
  },
  {
   "cell_type": "code",
   "execution_count": 10,
   "id": "af2fda73-8279-458c-af2e-fe36128c7f0e",
   "metadata": {},
   "outputs": [
    {
     "data": {
      "text/plain": [
       "title             0\n",
       "cast            350\n",
       "country           0\n",
       "date_added        0\n",
       "release_year      0\n",
       "rating            0\n",
       "duration          0\n",
       "listed_in         0\n",
       "description       0\n",
       "dtype: int64"
      ]
     },
     "execution_count": 10,
     "metadata": {},
     "output_type": "execute_result"
    }
   ],
   "source": [
    "df.isnull().sum()"
   ]
  },
  {
   "cell_type": "code",
   "execution_count": 11,
   "id": "b81dae90-71e0-4dd4-bbbe-914628525400",
   "metadata": {},
   "outputs": [],
   "source": [
    "df.dropna(inplace=True)"
   ]
  },
  {
   "cell_type": "code",
   "execution_count": 12,
   "id": "87bd0c41-d590-4b60-8b62-3032fcb984d0",
   "metadata": {},
   "outputs": [
    {
     "data": {
      "text/plain": [
       "title           0\n",
       "cast            0\n",
       "country         0\n",
       "date_added      0\n",
       "release_year    0\n",
       "rating          0\n",
       "duration        0\n",
       "listed_in       0\n",
       "description     0\n",
       "dtype: int64"
      ]
     },
     "execution_count": 12,
     "metadata": {},
     "output_type": "execute_result"
    }
   ],
   "source": [
    "df.isnull().sum()"
   ]
  },
  {
   "cell_type": "code",
   "execution_count": 13,
   "id": "ab3c3a72-17de-4da9-9d3d-d91f8d1579ff",
   "metadata": {},
   "outputs": [
    {
     "data": {
      "text/plain": [
       "0"
      ]
     },
     "execution_count": 13,
     "metadata": {},
     "output_type": "execute_result"
    }
   ],
   "source": [
    "df.duplicated().sum()"
   ]
  },
  {
   "cell_type": "code",
   "execution_count": 14,
   "id": "858d502d-68c8-4d09-b8c6-52cebdc394dc",
   "metadata": {},
   "outputs": [
    {
     "data": {
      "text/plain": [
       "title\n",
       "9-Feb                               2\n",
       "Blood & Water                       1\n",
       "Everything Sucks!                   1\n",
       "Best Lover                          1\n",
       "Marseille                           1\n",
       "                                   ..\n",
       "Community                           1\n",
       "Pokémon the Series                  1\n",
       "Saint Seiya                         1\n",
       "The Iliza Shlesinger Sketch Show    1\n",
       "Zindagi Gulzar Hai                  1\n",
       "Name: count, Length: 2311, dtype: int64"
      ]
     },
     "execution_count": 14,
     "metadata": {},
     "output_type": "execute_result"
    }
   ],
   "source": [
    "df['title'].value_counts()"
   ]
  },
  {
   "cell_type": "code",
   "execution_count": 15,
   "id": "4f84f272-1493-4347-9c07-ccd0df00bcc5",
   "metadata": {},
   "outputs": [],
   "source": [
    "df.set_index('title',inplace=True)"
   ]
  },
  {
   "cell_type": "code",
   "execution_count": 16,
   "id": "b84c2b79-da11-4391-95e4-573f28e2299e",
   "metadata": {},
   "outputs": [
    {
     "data": {
      "text/html": [
       "<div>\n",
       "<style scoped>\n",
       "    .dataframe tbody tr th:only-of-type {\n",
       "        vertical-align: middle;\n",
       "    }\n",
       "\n",
       "    .dataframe tbody tr th {\n",
       "        vertical-align: top;\n",
       "    }\n",
       "\n",
       "    .dataframe thead th {\n",
       "        text-align: right;\n",
       "    }\n",
       "</style>\n",
       "<table border=\"1\" class=\"dataframe\">\n",
       "  <thead>\n",
       "    <tr style=\"text-align: right;\">\n",
       "      <th></th>\n",
       "      <th>cast</th>\n",
       "      <th>country</th>\n",
       "      <th>date_added</th>\n",
       "      <th>release_year</th>\n",
       "      <th>rating</th>\n",
       "      <th>duration</th>\n",
       "      <th>listed_in</th>\n",
       "      <th>description</th>\n",
       "    </tr>\n",
       "    <tr>\n",
       "      <th>title</th>\n",
       "      <th></th>\n",
       "      <th></th>\n",
       "      <th></th>\n",
       "      <th></th>\n",
       "      <th></th>\n",
       "      <th></th>\n",
       "      <th></th>\n",
       "      <th></th>\n",
       "    </tr>\n",
       "  </thead>\n",
       "  <tbody>\n",
       "    <tr>\n",
       "      <th>Blood &amp; Water</th>\n",
       "      <td>Ama Qamata, Khosi Ngema, Gail Mabalane, Thaban...</td>\n",
       "      <td>South Africa</td>\n",
       "      <td>24-Sep-21</td>\n",
       "      <td>2021</td>\n",
       "      <td>TV-MA</td>\n",
       "      <td>2 Seasons</td>\n",
       "      <td>International TV Shows, TV Dramas, TV Mysteries</td>\n",
       "      <td>After crossing paths at a party, a Cape Town t...</td>\n",
       "    </tr>\n",
       "    <tr>\n",
       "      <th>Ganglands</th>\n",
       "      <td>Sami Bouajila, Tracy Gotoas, Samuel Jouy, Nabi...</td>\n",
       "      <td>France</td>\n",
       "      <td>24-Sep-21</td>\n",
       "      <td>2021</td>\n",
       "      <td>TV-MA</td>\n",
       "      <td>1 Season</td>\n",
       "      <td>Crime TV Shows, International TV Shows, TV Act...</td>\n",
       "      <td>To protect his family from a powerful drug lor...</td>\n",
       "    </tr>\n",
       "    <tr>\n",
       "      <th>Kota Factory</th>\n",
       "      <td>Mayur More, Jitendra Kumar, Ranjan Raj, Alam K...</td>\n",
       "      <td>India</td>\n",
       "      <td>24-Sep-21</td>\n",
       "      <td>2021</td>\n",
       "      <td>TV-MA</td>\n",
       "      <td>2 Seasons</td>\n",
       "      <td>International TV Shows, Romantic TV Shows, TV ...</td>\n",
       "      <td>In a city of coaching centers known to train I...</td>\n",
       "    </tr>\n",
       "    <tr>\n",
       "      <th>Midnight Mass</th>\n",
       "      <td>Kate Siegel, Zach Gilford, Hamish Linklater, H...</td>\n",
       "      <td>United States</td>\n",
       "      <td>24-Sep-21</td>\n",
       "      <td>2021</td>\n",
       "      <td>TV-MA</td>\n",
       "      <td>1 Season</td>\n",
       "      <td>TV Dramas, TV Horror, TV Mysteries</td>\n",
       "      <td>The arrival of a charismatic young priest brin...</td>\n",
       "    </tr>\n",
       "    <tr>\n",
       "      <th>The Great British Baking Show</th>\n",
       "      <td>Mel Giedroyc, Sue Perkins, Mary Berry, Paul Ho...</td>\n",
       "      <td>United Kingdom</td>\n",
       "      <td>24-Sep-21</td>\n",
       "      <td>2021</td>\n",
       "      <td>TV-14</td>\n",
       "      <td>9 Seasons</td>\n",
       "      <td>British TV Shows, Reality TV</td>\n",
       "      <td>A talented batch of amateur bakers face off in...</td>\n",
       "    </tr>\n",
       "    <tr>\n",
       "      <th>...</th>\n",
       "      <td>...</td>\n",
       "      <td>...</td>\n",
       "      <td>...</td>\n",
       "      <td>...</td>\n",
       "      <td>...</td>\n",
       "      <td>...</td>\n",
       "      <td>...</td>\n",
       "      <td>...</td>\n",
       "    </tr>\n",
       "    <tr>\n",
       "      <th>YOM</th>\n",
       "      <td>Sairaj, Devyani Dagaonkar, Ketan Singh, Mayur ...</td>\n",
       "      <td>Thailand</td>\n",
       "      <td>7-Jun-18</td>\n",
       "      <td>2016</td>\n",
       "      <td>TV-Y7</td>\n",
       "      <td>1 Season</td>\n",
       "      <td>Kids' TV</td>\n",
       "      <td>With the mind of a human being, and the body o...</td>\n",
       "    </tr>\n",
       "    <tr>\n",
       "      <th>Yu-Gi-Oh! Arc-V</th>\n",
       "      <td>Mike Liscio, Emily Bauer, Billy Bob Thompson, ...</td>\n",
       "      <td>Japan, Canada</td>\n",
       "      <td>1-May-18</td>\n",
       "      <td>2015</td>\n",
       "      <td>TV-Y7</td>\n",
       "      <td>2 Seasons</td>\n",
       "      <td>Anime Series, Kids' TV</td>\n",
       "      <td>Now that he's discovered the Pendulum Summonin...</td>\n",
       "    </tr>\n",
       "    <tr>\n",
       "      <th>Yunus Emre</th>\n",
       "      <td>Gökhan Atalay, Payidar Tüfekçioglu, Baran Akbu...</td>\n",
       "      <td>Turkey</td>\n",
       "      <td>17-Jan-17</td>\n",
       "      <td>2016</td>\n",
       "      <td>TV-PG</td>\n",
       "      <td>2 Seasons</td>\n",
       "      <td>International TV Shows, TV Dramas</td>\n",
       "      <td>During the Mongol invasions, Yunus Emre leaves...</td>\n",
       "    </tr>\n",
       "    <tr>\n",
       "      <th>Zak Storm</th>\n",
       "      <td>Michael Johnston, Jessica Gee-George, Christin...</td>\n",
       "      <td>United States, France, South Korea, Indonesia</td>\n",
       "      <td>13-Sep-18</td>\n",
       "      <td>2016</td>\n",
       "      <td>TV-Y7</td>\n",
       "      <td>3 Seasons</td>\n",
       "      <td>Kids' TV</td>\n",
       "      <td>Teen surfer Zak Storm is mysteriously transpor...</td>\n",
       "    </tr>\n",
       "    <tr>\n",
       "      <th>Zindagi Gulzar Hai</th>\n",
       "      <td>Sanam Saeed, Fawad Khan, Ayesha Omer, Mehreen ...</td>\n",
       "      <td>Pakistan</td>\n",
       "      <td>15-Dec-16</td>\n",
       "      <td>2012</td>\n",
       "      <td>TV-PG</td>\n",
       "      <td>1 Season</td>\n",
       "      <td>International TV Shows, Romantic TV Shows, TV ...</td>\n",
       "      <td>Strong-willed, middle-class Kashaf and carefre...</td>\n",
       "    </tr>\n",
       "  </tbody>\n",
       "</table>\n",
       "<p>2312 rows × 8 columns</p>\n",
       "</div>"
      ],
      "text/plain": [
       "                                                                            cast  \\\n",
       "title                                                                              \n",
       "Blood & Water                  Ama Qamata, Khosi Ngema, Gail Mabalane, Thaban...   \n",
       "Ganglands                      Sami Bouajila, Tracy Gotoas, Samuel Jouy, Nabi...   \n",
       "Kota Factory                   Mayur More, Jitendra Kumar, Ranjan Raj, Alam K...   \n",
       "Midnight Mass                  Kate Siegel, Zach Gilford, Hamish Linklater, H...   \n",
       "The Great British Baking Show  Mel Giedroyc, Sue Perkins, Mary Berry, Paul Ho...   \n",
       "...                                                                          ...   \n",
       "YOM                            Sairaj, Devyani Dagaonkar, Ketan Singh, Mayur ...   \n",
       "Yu-Gi-Oh! Arc-V                Mike Liscio, Emily Bauer, Billy Bob Thompson, ...   \n",
       "Yunus Emre                     Gökhan Atalay, Payidar Tüfekçioglu, Baran Akbu...   \n",
       "Zak Storm                      Michael Johnston, Jessica Gee-George, Christin...   \n",
       "Zindagi Gulzar Hai             Sanam Saeed, Fawad Khan, Ayesha Omer, Mehreen ...   \n",
       "\n",
       "                                                                     country  \\\n",
       "title                                                                          \n",
       "Blood & Water                                                   South Africa   \n",
       "Ganglands                                                             France   \n",
       "Kota Factory                                                           India   \n",
       "Midnight Mass                                                  United States   \n",
       "The Great British Baking Show                                 United Kingdom   \n",
       "...                                                                      ...   \n",
       "YOM                                                                 Thailand   \n",
       "Yu-Gi-Oh! Arc-V                                                Japan, Canada   \n",
       "Yunus Emre                                                            Turkey   \n",
       "Zak Storm                      United States, France, South Korea, Indonesia   \n",
       "Zindagi Gulzar Hai                                                  Pakistan   \n",
       "\n",
       "                              date_added  release_year rating   duration  \\\n",
       "title                                                                      \n",
       "Blood & Water                  24-Sep-21          2021  TV-MA  2 Seasons   \n",
       "Ganglands                      24-Sep-21          2021  TV-MA   1 Season   \n",
       "Kota Factory                   24-Sep-21          2021  TV-MA  2 Seasons   \n",
       "Midnight Mass                  24-Sep-21          2021  TV-MA   1 Season   \n",
       "The Great British Baking Show  24-Sep-21          2021  TV-14  9 Seasons   \n",
       "...                                  ...           ...    ...        ...   \n",
       "YOM                             7-Jun-18          2016  TV-Y7   1 Season   \n",
       "Yu-Gi-Oh! Arc-V                 1-May-18          2015  TV-Y7  2 Seasons   \n",
       "Yunus Emre                     17-Jan-17          2016  TV-PG  2 Seasons   \n",
       "Zak Storm                      13-Sep-18          2016  TV-Y7  3 Seasons   \n",
       "Zindagi Gulzar Hai             15-Dec-16          2012  TV-PG   1 Season   \n",
       "\n",
       "                                                                       listed_in  \\\n",
       "title                                                                              \n",
       "Blood & Water                    International TV Shows, TV Dramas, TV Mysteries   \n",
       "Ganglands                      Crime TV Shows, International TV Shows, TV Act...   \n",
       "Kota Factory                   International TV Shows, Romantic TV Shows, TV ...   \n",
       "Midnight Mass                                 TV Dramas, TV Horror, TV Mysteries   \n",
       "The Great British Baking Show                       British TV Shows, Reality TV   \n",
       "...                                                                          ...   \n",
       "YOM                                                                     Kids' TV   \n",
       "Yu-Gi-Oh! Arc-V                                           Anime Series, Kids' TV   \n",
       "Yunus Emre                                     International TV Shows, TV Dramas   \n",
       "Zak Storm                                                               Kids' TV   \n",
       "Zindagi Gulzar Hai             International TV Shows, Romantic TV Shows, TV ...   \n",
       "\n",
       "                                                                     description  \n",
       "title                                                                             \n",
       "Blood & Water                  After crossing paths at a party, a Cape Town t...  \n",
       "Ganglands                      To protect his family from a powerful drug lor...  \n",
       "Kota Factory                   In a city of coaching centers known to train I...  \n",
       "Midnight Mass                  The arrival of a charismatic young priest brin...  \n",
       "The Great British Baking Show  A talented batch of amateur bakers face off in...  \n",
       "...                                                                          ...  \n",
       "YOM                            With the mind of a human being, and the body o...  \n",
       "Yu-Gi-Oh! Arc-V                Now that he's discovered the Pendulum Summonin...  \n",
       "Yunus Emre                     During the Mongol invasions, Yunus Emre leaves...  \n",
       "Zak Storm                      Teen surfer Zak Storm is mysteriously transpor...  \n",
       "Zindagi Gulzar Hai             Strong-willed, middle-class Kashaf and carefre...  \n",
       "\n",
       "[2312 rows x 8 columns]"
      ]
     },
     "execution_count": 16,
     "metadata": {},
     "output_type": "execute_result"
    }
   ],
   "source": [
    "df"
   ]
  },
  {
   "cell_type": "code",
   "execution_count": 17,
   "id": "177af29b-26ac-4a0f-bcaa-d4f14655192f",
   "metadata": {},
   "outputs": [],
   "source": [
    "df['date_added'] = pd.to_datetime(df['date_added'])"
   ]
  },
  {
   "cell_type": "code",
   "execution_count": 18,
   "id": "b59b6fa4-75e6-48f6-b796-0d19b5141f07",
   "metadata": {},
   "outputs": [
    {
     "data": {
      "text/plain": [
       "cast                    object\n",
       "country                 object\n",
       "date_added      datetime64[ns]\n",
       "release_year             int64\n",
       "rating                  object\n",
       "duration                object\n",
       "listed_in               object\n",
       "description             object\n",
       "dtype: object"
      ]
     },
     "execution_count": 18,
     "metadata": {},
     "output_type": "execute_result"
    }
   ],
   "source": [
    "df.dtypes"
   ]
  },
  {
   "cell_type": "code",
   "execution_count": 19,
   "id": "2dbd984c-8065-4cd5-a609-97826e33b0f7",
   "metadata": {},
   "outputs": [],
   "source": [
    "df['day'] = df['date_added'].dt.day"
   ]
  },
  {
   "cell_type": "code",
   "execution_count": 20,
   "id": "97543ea4-6cc6-4d5d-82c7-89649a8c2ee0",
   "metadata": {},
   "outputs": [],
   "source": [
    "df['month'] = df['date_added'].dt.month"
   ]
  },
  {
   "cell_type": "code",
   "execution_count": 21,
   "id": "ed548552-ee84-47bd-9250-d96c67d36bab",
   "metadata": {},
   "outputs": [],
   "source": [
    "df['year'] = df['date_added'].dt.year"
   ]
  },
  {
   "cell_type": "code",
   "execution_count": 22,
   "id": "54f9349a-fcc1-4fea-b087-847b2a858dbb",
   "metadata": {},
   "outputs": [
    {
     "data": {
      "text/html": [
       "<div>\n",
       "<style scoped>\n",
       "    .dataframe tbody tr th:only-of-type {\n",
       "        vertical-align: middle;\n",
       "    }\n",
       "\n",
       "    .dataframe tbody tr th {\n",
       "        vertical-align: top;\n",
       "    }\n",
       "\n",
       "    .dataframe thead th {\n",
       "        text-align: right;\n",
       "    }\n",
       "</style>\n",
       "<table border=\"1\" class=\"dataframe\">\n",
       "  <thead>\n",
       "    <tr style=\"text-align: right;\">\n",
       "      <th></th>\n",
       "      <th>cast</th>\n",
       "      <th>country</th>\n",
       "      <th>date_added</th>\n",
       "      <th>release_year</th>\n",
       "      <th>rating</th>\n",
       "      <th>duration</th>\n",
       "      <th>listed_in</th>\n",
       "      <th>description</th>\n",
       "      <th>day</th>\n",
       "      <th>month</th>\n",
       "      <th>year</th>\n",
       "    </tr>\n",
       "    <tr>\n",
       "      <th>title</th>\n",
       "      <th></th>\n",
       "      <th></th>\n",
       "      <th></th>\n",
       "      <th></th>\n",
       "      <th></th>\n",
       "      <th></th>\n",
       "      <th></th>\n",
       "      <th></th>\n",
       "      <th></th>\n",
       "      <th></th>\n",
       "      <th></th>\n",
       "    </tr>\n",
       "  </thead>\n",
       "  <tbody>\n",
       "    <tr>\n",
       "      <th>Blood &amp; Water</th>\n",
       "      <td>Ama Qamata, Khosi Ngema, Gail Mabalane, Thaban...</td>\n",
       "      <td>South Africa</td>\n",
       "      <td>2021-09-24</td>\n",
       "      <td>2021</td>\n",
       "      <td>TV-MA</td>\n",
       "      <td>2 Seasons</td>\n",
       "      <td>International TV Shows, TV Dramas, TV Mysteries</td>\n",
       "      <td>After crossing paths at a party, a Cape Town t...</td>\n",
       "      <td>24</td>\n",
       "      <td>9</td>\n",
       "      <td>2021</td>\n",
       "    </tr>\n",
       "    <tr>\n",
       "      <th>Ganglands</th>\n",
       "      <td>Sami Bouajila, Tracy Gotoas, Samuel Jouy, Nabi...</td>\n",
       "      <td>France</td>\n",
       "      <td>2021-09-24</td>\n",
       "      <td>2021</td>\n",
       "      <td>TV-MA</td>\n",
       "      <td>1 Season</td>\n",
       "      <td>Crime TV Shows, International TV Shows, TV Act...</td>\n",
       "      <td>To protect his family from a powerful drug lor...</td>\n",
       "      <td>24</td>\n",
       "      <td>9</td>\n",
       "      <td>2021</td>\n",
       "    </tr>\n",
       "    <tr>\n",
       "      <th>Kota Factory</th>\n",
       "      <td>Mayur More, Jitendra Kumar, Ranjan Raj, Alam K...</td>\n",
       "      <td>India</td>\n",
       "      <td>2021-09-24</td>\n",
       "      <td>2021</td>\n",
       "      <td>TV-MA</td>\n",
       "      <td>2 Seasons</td>\n",
       "      <td>International TV Shows, Romantic TV Shows, TV ...</td>\n",
       "      <td>In a city of coaching centers known to train I...</td>\n",
       "      <td>24</td>\n",
       "      <td>9</td>\n",
       "      <td>2021</td>\n",
       "    </tr>\n",
       "    <tr>\n",
       "      <th>Midnight Mass</th>\n",
       "      <td>Kate Siegel, Zach Gilford, Hamish Linklater, H...</td>\n",
       "      <td>United States</td>\n",
       "      <td>2021-09-24</td>\n",
       "      <td>2021</td>\n",
       "      <td>TV-MA</td>\n",
       "      <td>1 Season</td>\n",
       "      <td>TV Dramas, TV Horror, TV Mysteries</td>\n",
       "      <td>The arrival of a charismatic young priest brin...</td>\n",
       "      <td>24</td>\n",
       "      <td>9</td>\n",
       "      <td>2021</td>\n",
       "    </tr>\n",
       "    <tr>\n",
       "      <th>The Great British Baking Show</th>\n",
       "      <td>Mel Giedroyc, Sue Perkins, Mary Berry, Paul Ho...</td>\n",
       "      <td>United Kingdom</td>\n",
       "      <td>2021-09-24</td>\n",
       "      <td>2021</td>\n",
       "      <td>TV-14</td>\n",
       "      <td>9 Seasons</td>\n",
       "      <td>British TV Shows, Reality TV</td>\n",
       "      <td>A talented batch of amateur bakers face off in...</td>\n",
       "      <td>24</td>\n",
       "      <td>9</td>\n",
       "      <td>2021</td>\n",
       "    </tr>\n",
       "  </tbody>\n",
       "</table>\n",
       "</div>"
      ],
      "text/plain": [
       "                                                                            cast  \\\n",
       "title                                                                              \n",
       "Blood & Water                  Ama Qamata, Khosi Ngema, Gail Mabalane, Thaban...   \n",
       "Ganglands                      Sami Bouajila, Tracy Gotoas, Samuel Jouy, Nabi...   \n",
       "Kota Factory                   Mayur More, Jitendra Kumar, Ranjan Raj, Alam K...   \n",
       "Midnight Mass                  Kate Siegel, Zach Gilford, Hamish Linklater, H...   \n",
       "The Great British Baking Show  Mel Giedroyc, Sue Perkins, Mary Berry, Paul Ho...   \n",
       "\n",
       "                                      country date_added  release_year rating  \\\n",
       "title                                                                           \n",
       "Blood & Water                    South Africa 2021-09-24          2021  TV-MA   \n",
       "Ganglands                              France 2021-09-24          2021  TV-MA   \n",
       "Kota Factory                            India 2021-09-24          2021  TV-MA   \n",
       "Midnight Mass                   United States 2021-09-24          2021  TV-MA   \n",
       "The Great British Baking Show  United Kingdom 2021-09-24          2021  TV-14   \n",
       "\n",
       "                                duration  \\\n",
       "title                                      \n",
       "Blood & Water                  2 Seasons   \n",
       "Ganglands                       1 Season   \n",
       "Kota Factory                   2 Seasons   \n",
       "Midnight Mass                   1 Season   \n",
       "The Great British Baking Show  9 Seasons   \n",
       "\n",
       "                                                                       listed_in  \\\n",
       "title                                                                              \n",
       "Blood & Water                    International TV Shows, TV Dramas, TV Mysteries   \n",
       "Ganglands                      Crime TV Shows, International TV Shows, TV Act...   \n",
       "Kota Factory                   International TV Shows, Romantic TV Shows, TV ...   \n",
       "Midnight Mass                                 TV Dramas, TV Horror, TV Mysteries   \n",
       "The Great British Baking Show                       British TV Shows, Reality TV   \n",
       "\n",
       "                                                                     description  \\\n",
       "title                                                                              \n",
       "Blood & Water                  After crossing paths at a party, a Cape Town t...   \n",
       "Ganglands                      To protect his family from a powerful drug lor...   \n",
       "Kota Factory                   In a city of coaching centers known to train I...   \n",
       "Midnight Mass                  The arrival of a charismatic young priest brin...   \n",
       "The Great British Baking Show  A talented batch of amateur bakers face off in...   \n",
       "\n",
       "                               day  month  year  \n",
       "title                                            \n",
       "Blood & Water                   24      9  2021  \n",
       "Ganglands                       24      9  2021  \n",
       "Kota Factory                    24      9  2021  \n",
       "Midnight Mass                   24      9  2021  \n",
       "The Great British Baking Show   24      9  2021  "
      ]
     },
     "execution_count": 22,
     "metadata": {},
     "output_type": "execute_result"
    }
   ],
   "source": [
    "df.head()"
   ]
  },
  {
   "cell_type": "code",
   "execution_count": 23,
   "id": "9ea06fdf-b806-489a-a6e9-04a9bb727d96",
   "metadata": {},
   "outputs": [],
   "source": [
    "Indian_Movies_With_RY = df.loc[df['country'] == 'India' , 'release_year']"
   ]
  },
  {
   "cell_type": "code",
   "execution_count": 24,
   "id": "54141987-dcf5-4974-98af-07b9c2a924e0",
   "metadata": {},
   "outputs": [
    {
     "data": {
      "text/plain": [
       "title\n",
       "Kota Factory     2021\n",
       "Chhota Bheem     2021\n",
       "Dharmakshetra    2014\n",
       "Mighty Raju      2017\n",
       "Navarasa         2021\n",
       "Name: release_year, dtype: int64"
      ]
     },
     "execution_count": 24,
     "metadata": {},
     "output_type": "execute_result"
    }
   ],
   "source": [
    "Indian_Movies_With_RY.head()"
   ]
  },
  {
   "cell_type": "code",
   "execution_count": 25,
   "id": "b96e1d3d-109d-48ec-b1bc-6ec9ed2c4ed3",
   "metadata": {},
   "outputs": [
    {
     "data": {
      "text/plain": [
       "Index(['Kota Factory', 'Chhota Bheem', 'Dharmakshetra', 'Mighty Raju',\n",
       "       'Navarasa'],\n",
       "      dtype='object', name='title')"
      ]
     },
     "execution_count": 25,
     "metadata": {},
     "output_type": "execute_result"
    }
   ],
   "source": [
    "Indian_Movies_With_RY.head().index"
   ]
  },
  {
   "cell_type": "code",
   "execution_count": 26,
   "id": "493f29e4-99eb-45b2-aa51-cb00a327f902",
   "metadata": {},
   "outputs": [
    {
     "data": {
      "image/png": "[encoded data removed]",
      "text/plain": [
       "<Figure size 640x480 with 1 Axes>"
      ]
     },
     "metadata": {},
     "output_type": "display_data"
    }
   ],
   "source": [
    "sns.set_theme()\n",
    "sns.barplot(Indian_Movies_With_RY.value_counts() , palette = 'icefire')\n",
    "plt.title('count movie release by year' , fontdict={'color':'blue','size':15})\n",
    "plt.show()"
   ]
  },
  {
   "cell_type": "code",
   "execution_count": 27,
   "id": "a05441a7-c5bd-4a15-91b6-fab15ef7d177",
   "metadata": {},
   "outputs": [
    {
     "data": {
      "text/plain": [
       "title\n",
       "Kota Factory                             In a city of coaching centers known to train I...\n",
       "Chhota Bheem                             A brave, energetic little boy with superhuman ...\n",
       "Dharmakshetra                            After the ancient Great War, the god Chitragup...\n",
       "Mighty Raju                              Born with superhuman abilities, young Raju wan...\n",
       "Navarasa                                 From amusement to awe, the nine human emotions...\n",
       "                                                               ...                        \n",
       "Swami Baba Ramdev: The Untold Story      Born into poverty and denied an education, a v...\n",
       "Th Eena Meena Deeka Chase Comedy Show    A hungry fox and three resourceful, surprising...\n",
       "The House That Made Me                   With host Vinay Pathak, Indian celebrities ret...\n",
       "ViR: The Robot Boy                       Humanoid robot boy ViR lives with his inventor...\n",
       "Yeh Meri Family                          In the summer of 1998, middle child Harshu bal...\n",
       "Name: description, Length: 86, dtype: object"
      ]
     },
     "execution_count": 27,
     "metadata": {},
     "output_type": "execute_result"
    }
   ],
   "source": [
    "df.loc[df['country'] == 'India' , 'description']"
   ]
  },
  {
   "cell_type": "code",
   "execution_count": 28,
   "id": "9383e2d3-a4a7-442a-8a20-16c243b60207",
   "metadata": {},
   "outputs": [
    {
     "data": {
      "text/plain": [
       "'A brave, energetic little boy with superhuman powers leads his friends on exciting adventures to guard their fellow Dholakpur villagers from evil.'"
      ]
     },
     "execution_count": 28,
     "metadata": {},
     "output_type": "execute_result"
    }
   ],
   "source": [
    "df.loc[df['country'] == 'India' , 'description']['Chhota Bheem']"
   ]
  },
  {
   "cell_type": "code",
   "execution_count": 29,
   "id": "0ce6b850-eddf-455a-a462-f5f7fa535427",
   "metadata": {},
   "outputs": [
    {
     "data": {
      "image/png": "[encoded data removed]",
      "text/plain": [
       "<Figure size 640x480 with 1 Axes>"
      ]
     },
     "metadata": {},
     "output_type": "display_data"
    }
   ],
   "source": [
    "sns.barplot(df.loc[df['country'] == 'India' , 'rating'].value_counts() , palette = 'rainbow_r')\n",
    "plt.title('Count of Rating Category By Indain Movies',fontdict={'color':'blue','size':15})\n",
    "plt.show()"
   ]
  },
  {
   "cell_type": "code",
   "execution_count": 30,
   "id": "8ef534fd-5b6c-47d5-b2a5-54c8b424c908",
   "metadata": {},
   "outputs": [
    {
     "data": {
      "text/plain": [
       "-0.01990113691692424"
      ]
     },
     "execution_count": 30,
     "metadata": {},
     "output_type": "execute_result"
    }
   ],
   "source": [
    "df['day'].corr(df['month']) # The day and month column are negetively correlated"
   ]
  },
  {
   "cell_type": "code",
   "execution_count": 31,
   "id": "dd099fab-2333-4cb2-b737-2ec3c3c40ba0",
   "metadata": {},
   "outputs": [
    {
     "data": {
      "text/plain": [
       "<Axes: >"
      ]
     },
     "execution_count": 31,
     "metadata": {},
     "output_type": "execute_result"
    },
    {
     "data": {
      "image/png": "[encoded data removed]",
      "text/plain": [
       "<Figure size 640x480 with 2 Axes>"
      ]
     },
     "metadata": {},
     "output_type": "display_data"
    }
   ],
   "source": [
    "sns.heatmap(df.corr(numeric_only=True),annot = True , linewidths=.5 , linecolor='blue')"
   ]
  },
  {
   "cell_type": "code",
   "execution_count": 32,
   "id": "b8c5f69c-b740-4993-887c-7ed0d43e439f",
   "metadata": {},
   "outputs": [
    {
     "data": {
      "text/plain": [
       "title\n",
       "Kota Factory                             2 Seasons\n",
       "Chhota Bheem                             3 Seasons\n",
       "Dharmakshetra                             1 Season\n",
       "Mighty Raju                              4 Seasons\n",
       "Navarasa                                  1 Season\n",
       "                                           ...    \n",
       "Swami Baba Ramdev: The Untold Story       1 Season\n",
       "Th Eena Meena Deeka Chase Comedy Show     1 Season\n",
       "The House That Made Me                   3 Seasons\n",
       "ViR: The Robot Boy                       2 Seasons\n",
       "Yeh Meri Family                           1 Season\n",
       "Name: duration, Length: 86, dtype: object"
      ]
     },
     "execution_count": 32,
     "metadata": {},
     "output_type": "execute_result"
    }
   ],
   "source": [
    "df.loc[df['country'] == 'India' , 'duration']"
   ]
  },
  {
   "cell_type": "code",
   "execution_count": 33,
   "id": "aaab0506-8438-47c5-845f-7659d4472e8a",
   "metadata": {},
   "outputs": [
    {
     "data": {
      "text/plain": [
       "duration\n",
       "1 Season     77\n",
       "2 Seasons     4\n",
       "3 Seasons     4\n",
       "4 Seasons     1\n",
       "Name: count, dtype: int64"
      ]
     },
     "execution_count": 33,
     "metadata": {},
     "output_type": "execute_result"
    }
   ],
   "source": [
    "d = df.loc[df['country'] == 'India' , 'duration'].value_counts()\n",
    "d"
   ]
  },
  {
   "cell_type": "code",
   "execution_count": 34,
   "id": "f3d167e2-99f5-482d-b46f-dec7d19521e9",
   "metadata": {},
   "outputs": [
    {
     "data": {
      "image/png": "[encoded data removed]",
      "text/plain": [
       "<Figure size 640x480 with 1 Axes>"
      ]
     },
     "metadata": {},
     "output_type": "display_data"
    }
   ],
   "source": [
    "obj = sns.lineplot(data = d , marker = 'o' , color = 'g' , lw = 2 , ms = 8 , mec = 'k' , mfc = 'orange' , ls = '--')\n",
    "plt.xlabel(obj.get_xlabel(),fontdict={'color':'blue'})\n",
    "plt.ylabel(obj.get_ylabel(),fontdict={'color':'blue'})\n",
    "plt.show()"
   ]
  },
  {
   "cell_type": "code",
   "execution_count": 35,
   "id": "de02041d-16c6-44d7-a924-a4127088073c",
   "metadata": {},
   "outputs": [
    {
     "data": {
      "text/plain": [
       "Index(['cast', 'country', 'date_added', 'release_year', 'rating', 'duration',\n",
       "       'listed_in', 'description', 'day', 'month', 'year'],\n",
       "      dtype='object')"
      ]
     },
     "execution_count": 35,
     "metadata": {},
     "output_type": "execute_result"
    }
   ],
   "source": [
    "df.columns"
   ]
  },
  {
   "cell_type": "code",
   "execution_count": 36,
   "id": "f58d99a5-f78b-4172-bc22-7296b6d49377",
   "metadata": {},
   "outputs": [],
   "source": [
    "Indian_movie_data = df.where(df['country'] == 'India').dropna()"
   ]
  },
  {
   "cell_type": "code",
   "execution_count": 37,
   "id": "57005682-cdf0-40b4-80fe-662d44d82099",
   "metadata": {},
   "outputs": [
    {
     "data": {
      "text/plain": [
       "cast                    object\n",
       "country                 object\n",
       "date_added      datetime64[ns]\n",
       "release_year           float64\n",
       "rating                  object\n",
       "duration                object\n",
       "listed_in               object\n",
       "description             object\n",
       "day                    float64\n",
       "month                  float64\n",
       "year                   float64\n",
       "dtype: object"
      ]
     },
     "execution_count": 37,
     "metadata": {},
     "output_type": "execute_result"
    }
   ],
   "source": [
    "Indian_movie_data.dtypes"
   ]
  },
  {
   "cell_type": "code",
   "execution_count": 38,
   "id": "c9c611f9-5ea0-415c-a396-4c9faf5df06e",
   "metadata": {},
   "outputs": [
    {
     "data": {
      "text/html": [
       "<div>\n",
       "<style scoped>\n",
       "    .dataframe tbody tr th:only-of-type {\n",
       "        vertical-align: middle;\n",
       "    }\n",
       "\n",
       "    .dataframe tbody tr th {\n",
       "        vertical-align: top;\n",
       "    }\n",
       "\n",
       "    .dataframe thead th {\n",
       "        text-align: right;\n",
       "    }\n",
       "</style>\n",
       "<table border=\"1\" class=\"dataframe\">\n",
       "  <thead>\n",
       "    <tr style=\"text-align: right;\">\n",
       "      <th></th>\n",
       "      <th>cast</th>\n",
       "      <th>country</th>\n",
       "      <th>date_added</th>\n",
       "      <th>release_year</th>\n",
       "      <th>rating</th>\n",
       "      <th>duration</th>\n",
       "      <th>listed_in</th>\n",
       "      <th>description</th>\n",
       "      <th>day</th>\n",
       "      <th>month</th>\n",
       "      <th>year</th>\n",
       "    </tr>\n",
       "    <tr>\n",
       "      <th>title</th>\n",
       "      <th></th>\n",
       "      <th></th>\n",
       "      <th></th>\n",
       "      <th></th>\n",
       "      <th></th>\n",
       "      <th></th>\n",
       "      <th></th>\n",
       "      <th></th>\n",
       "      <th></th>\n",
       "      <th></th>\n",
       "      <th></th>\n",
       "    </tr>\n",
       "  </thead>\n",
       "  <tbody>\n",
       "    <tr>\n",
       "      <th>Kota Factory</th>\n",
       "      <td>Mayur More, Jitendra Kumar, Ranjan Raj, Alam K...</td>\n",
       "      <td>India</td>\n",
       "      <td>2021-09-24</td>\n",
       "      <td>2021.0</td>\n",
       "      <td>TV-MA</td>\n",
       "      <td>2 Seasons</td>\n",
       "      <td>International TV Shows, Romantic TV Shows, TV ...</td>\n",
       "      <td>In a city of coaching centers known to train I...</td>\n",
       "      <td>24.0</td>\n",
       "      <td>9.0</td>\n",
       "      <td>2021.0</td>\n",
       "    </tr>\n",
       "    <tr>\n",
       "      <th>Chhota Bheem</th>\n",
       "      <td>Vatsal Dubey, Julie Tejwani, Rupa Bhimani, Jig...</td>\n",
       "      <td>India</td>\n",
       "      <td>2021-09-16</td>\n",
       "      <td>2021.0</td>\n",
       "      <td>TV-Y7</td>\n",
       "      <td>3 Seasons</td>\n",
       "      <td>Kids' TV</td>\n",
       "      <td>A brave, energetic little boy with superhuman ...</td>\n",
       "      <td>16.0</td>\n",
       "      <td>9.0</td>\n",
       "      <td>2021.0</td>\n",
       "    </tr>\n",
       "    <tr>\n",
       "      <th>Dharmakshetra</th>\n",
       "      <td>Kashmira Irani, Chandan Anand, Dinesh Mehta, A...</td>\n",
       "      <td>India</td>\n",
       "      <td>2021-09-15</td>\n",
       "      <td>2014.0</td>\n",
       "      <td>TV-PG</td>\n",
       "      <td>1 Season</td>\n",
       "      <td>International TV Shows, TV Dramas, TV Sci-Fi &amp;...</td>\n",
       "      <td>After the ancient Great War, the god Chitragup...</td>\n",
       "      <td>15.0</td>\n",
       "      <td>9.0</td>\n",
       "      <td>2021.0</td>\n",
       "    </tr>\n",
       "    <tr>\n",
       "      <th>Mighty Raju</th>\n",
       "      <td>Julie Tejwani, Sabina Malik, Jigna Bhardwaj, R...</td>\n",
       "      <td>India</td>\n",
       "      <td>2021-09-09</td>\n",
       "      <td>2017.0</td>\n",
       "      <td>TV-Y7</td>\n",
       "      <td>4 Seasons</td>\n",
       "      <td>Kids' TV</td>\n",
       "      <td>Born with superhuman abilities, young Raju wan...</td>\n",
       "      <td>9.0</td>\n",
       "      <td>9.0</td>\n",
       "      <td>2021.0</td>\n",
       "    </tr>\n",
       "    <tr>\n",
       "      <th>Navarasa</th>\n",
       "      <td>Suriya, Vijay Sethupathi, Revathy, Prakash Raj...</td>\n",
       "      <td>India</td>\n",
       "      <td>2021-08-06</td>\n",
       "      <td>2021.0</td>\n",
       "      <td>TV-MA</td>\n",
       "      <td>1 Season</td>\n",
       "      <td>TV Shows</td>\n",
       "      <td>From amusement to awe, the nine human emotions...</td>\n",
       "      <td>6.0</td>\n",
       "      <td>8.0</td>\n",
       "      <td>2021.0</td>\n",
       "    </tr>\n",
       "  </tbody>\n",
       "</table>\n",
       "</div>"
      ],
      "text/plain": [
       "                                                            cast country  \\\n",
       "title                                                                      \n",
       "Kota Factory   Mayur More, Jitendra Kumar, Ranjan Raj, Alam K...   India   \n",
       "Chhota Bheem   Vatsal Dubey, Julie Tejwani, Rupa Bhimani, Jig...   India   \n",
       "Dharmakshetra  Kashmira Irani, Chandan Anand, Dinesh Mehta, A...   India   \n",
       "Mighty Raju    Julie Tejwani, Sabina Malik, Jigna Bhardwaj, R...   India   \n",
       "Navarasa       Suriya, Vijay Sethupathi, Revathy, Prakash Raj...   India   \n",
       "\n",
       "              date_added  release_year rating   duration  \\\n",
       "title                                                      \n",
       "Kota Factory  2021-09-24        2021.0  TV-MA  2 Seasons   \n",
       "Chhota Bheem  2021-09-16        2021.0  TV-Y7  3 Seasons   \n",
       "Dharmakshetra 2021-09-15        2014.0  TV-PG   1 Season   \n",
       "Mighty Raju   2021-09-09        2017.0  TV-Y7  4 Seasons   \n",
       "Navarasa      2021-08-06        2021.0  TV-MA   1 Season   \n",
       "\n",
       "                                                       listed_in  \\\n",
       "title                                                              \n",
       "Kota Factory   International TV Shows, Romantic TV Shows, TV ...   \n",
       "Chhota Bheem                                            Kids' TV   \n",
       "Dharmakshetra  International TV Shows, TV Dramas, TV Sci-Fi &...   \n",
       "Mighty Raju                                             Kids' TV   \n",
       "Navarasa                                                TV Shows   \n",
       "\n",
       "                                                     description   day  month  \\\n",
       "title                                                                           \n",
       "Kota Factory   In a city of coaching centers known to train I...  24.0    9.0   \n",
       "Chhota Bheem   A brave, energetic little boy with superhuman ...  16.0    9.0   \n",
       "Dharmakshetra  After the ancient Great War, the god Chitragup...  15.0    9.0   \n",
       "Mighty Raju    Born with superhuman abilities, young Raju wan...   9.0    9.0   \n",
       "Navarasa       From amusement to awe, the nine human emotions...   6.0    8.0   \n",
       "\n",
       "                 year  \n",
       "title                  \n",
       "Kota Factory   2021.0  \n",
       "Chhota Bheem   2021.0  \n",
       "Dharmakshetra  2021.0  \n",
       "Mighty Raju    2021.0  \n",
       "Navarasa       2021.0  "
      ]
     },
     "execution_count": 38,
     "metadata": {},
     "output_type": "execute_result"
    }
   ],
   "source": [
    "Indian_movie_data.head()"
   ]
  },
  {
   "cell_type": "code",
   "execution_count": 39,
   "id": "b9772399-c14c-4b5e-a55b-c07d52a516ba",
   "metadata": {},
   "outputs": [],
   "source": [
    "Indian_movie_data['release_year'] = Indian_movie_data['release_year'].astype('int64')"
   ]
  },
  {
   "cell_type": "code",
   "execution_count": 40,
   "id": "16c8e2d0-2805-45fd-a29c-24ed4014b261",
   "metadata": {},
   "outputs": [],
   "source": [
    "Indian_movie_data['year'] = Indian_movie_data['year'].astype('int64')"
   ]
  },
  {
   "cell_type": "code",
   "execution_count": 41,
   "id": "b904cd9d-d1c8-4169-bed5-dee0e12aa549",
   "metadata": {},
   "outputs": [
    {
     "data": {
      "text/html": [
       "<div>\n",
       "<style scoped>\n",
       "    .dataframe tbody tr th:only-of-type {\n",
       "        vertical-align: middle;\n",
       "    }\n",
       "\n",
       "    .dataframe tbody tr th {\n",
       "        vertical-align: top;\n",
       "    }\n",
       "\n",
       "    .dataframe thead th {\n",
       "        text-align: right;\n",
       "    }\n",
       "</style>\n",
       "<table border=\"1\" class=\"dataframe\">\n",
       "  <thead>\n",
       "    <tr style=\"text-align: right;\">\n",
       "      <th></th>\n",
       "      <th>cast</th>\n",
       "      <th>country</th>\n",
       "      <th>date_added</th>\n",
       "      <th>release_year</th>\n",
       "      <th>rating</th>\n",
       "      <th>duration</th>\n",
       "      <th>listed_in</th>\n",
       "      <th>description</th>\n",
       "      <th>day</th>\n",
       "      <th>month</th>\n",
       "      <th>year</th>\n",
       "    </tr>\n",
       "    <tr>\n",
       "      <th>title</th>\n",
       "      <th></th>\n",
       "      <th></th>\n",
       "      <th></th>\n",
       "      <th></th>\n",
       "      <th></th>\n",
       "      <th></th>\n",
       "      <th></th>\n",
       "      <th></th>\n",
       "      <th></th>\n",
       "      <th></th>\n",
       "      <th></th>\n",
       "    </tr>\n",
       "  </thead>\n",
       "  <tbody>\n",
       "    <tr>\n",
       "      <th>Kota Factory</th>\n",
       "      <td>Mayur More, Jitendra Kumar, Ranjan Raj, Alam K...</td>\n",
       "      <td>India</td>\n",
       "      <td>2021-09-24</td>\n",
       "      <td>2021</td>\n",
       "      <td>TV-MA</td>\n",
       "      <td>2 Seasons</td>\n",
       "      <td>International TV Shows, Romantic TV Shows, TV ...</td>\n",
       "      <td>In a city of coaching centers known to train I...</td>\n",
       "      <td>24.0</td>\n",
       "      <td>9.0</td>\n",
       "      <td>2021</td>\n",
       "    </tr>\n",
       "    <tr>\n",
       "      <th>Chhota Bheem</th>\n",
       "      <td>Vatsal Dubey, Julie Tejwani, Rupa Bhimani, Jig...</td>\n",
       "      <td>India</td>\n",
       "      <td>2021-09-16</td>\n",
       "      <td>2021</td>\n",
       "      <td>TV-Y7</td>\n",
       "      <td>3 Seasons</td>\n",
       "      <td>Kids' TV</td>\n",
       "      <td>A brave, energetic little boy with superhuman ...</td>\n",
       "      <td>16.0</td>\n",
       "      <td>9.0</td>\n",
       "      <td>2021</td>\n",
       "    </tr>\n",
       "    <tr>\n",
       "      <th>Dharmakshetra</th>\n",
       "      <td>Kashmira Irani, Chandan Anand, Dinesh Mehta, A...</td>\n",
       "      <td>India</td>\n",
       "      <td>2021-09-15</td>\n",
       "      <td>2014</td>\n",
       "      <td>TV-PG</td>\n",
       "      <td>1 Season</td>\n",
       "      <td>International TV Shows, TV Dramas, TV Sci-Fi &amp;...</td>\n",
       "      <td>After the ancient Great War, the god Chitragup...</td>\n",
       "      <td>15.0</td>\n",
       "      <td>9.0</td>\n",
       "      <td>2021</td>\n",
       "    </tr>\n",
       "    <tr>\n",
       "      <th>Mighty Raju</th>\n",
       "      <td>Julie Tejwani, Sabina Malik, Jigna Bhardwaj, R...</td>\n",
       "      <td>India</td>\n",
       "      <td>2021-09-09</td>\n",
       "      <td>2017</td>\n",
       "      <td>TV-Y7</td>\n",
       "      <td>4 Seasons</td>\n",
       "      <td>Kids' TV</td>\n",
       "      <td>Born with superhuman abilities, young Raju wan...</td>\n",
       "      <td>9.0</td>\n",
       "      <td>9.0</td>\n",
       "      <td>2021</td>\n",
       "    </tr>\n",
       "    <tr>\n",
       "      <th>Navarasa</th>\n",
       "      <td>Suriya, Vijay Sethupathi, Revathy, Prakash Raj...</td>\n",
       "      <td>India</td>\n",
       "      <td>2021-08-06</td>\n",
       "      <td>2021</td>\n",
       "      <td>TV-MA</td>\n",
       "      <td>1 Season</td>\n",
       "      <td>TV Shows</td>\n",
       "      <td>From amusement to awe, the nine human emotions...</td>\n",
       "      <td>6.0</td>\n",
       "      <td>8.0</td>\n",
       "      <td>2021</td>\n",
       "    </tr>\n",
       "  </tbody>\n",
       "</table>\n",
       "</div>"
      ],
      "text/plain": [
       "                                                            cast country  \\\n",
       "title                                                                      \n",
       "Kota Factory   Mayur More, Jitendra Kumar, Ranjan Raj, Alam K...   India   \n",
       "Chhota Bheem   Vatsal Dubey, Julie Tejwani, Rupa Bhimani, Jig...   India   \n",
       "Dharmakshetra  Kashmira Irani, Chandan Anand, Dinesh Mehta, A...   India   \n",
       "Mighty Raju    Julie Tejwani, Sabina Malik, Jigna Bhardwaj, R...   India   \n",
       "Navarasa       Suriya, Vijay Sethupathi, Revathy, Prakash Raj...   India   \n",
       "\n",
       "              date_added  release_year rating   duration  \\\n",
       "title                                                      \n",
       "Kota Factory  2021-09-24          2021  TV-MA  2 Seasons   \n",
       "Chhota Bheem  2021-09-16          2021  TV-Y7  3 Seasons   \n",
       "Dharmakshetra 2021-09-15          2014  TV-PG   1 Season   \n",
       "Mighty Raju   2021-09-09          2017  TV-Y7  4 Seasons   \n",
       "Navarasa      2021-08-06          2021  TV-MA   1 Season   \n",
       "\n",
       "                                                       listed_in  \\\n",
       "title                                                              \n",
       "Kota Factory   International TV Shows, Romantic TV Shows, TV ...   \n",
       "Chhota Bheem                                            Kids' TV   \n",
       "Dharmakshetra  International TV Shows, TV Dramas, TV Sci-Fi &...   \n",
       "Mighty Raju                                             Kids' TV   \n",
       "Navarasa                                                TV Shows   \n",
       "\n",
       "                                                     description   day  month  \\\n",
       "title                                                                           \n",
       "Kota Factory   In a city of coaching centers known to train I...  24.0    9.0   \n",
       "Chhota Bheem   A brave, energetic little boy with superhuman ...  16.0    9.0   \n",
       "Dharmakshetra  After the ancient Great War, the god Chitragup...  15.0    9.0   \n",
       "Mighty Raju    Born with superhuman abilities, young Raju wan...   9.0    9.0   \n",
       "Navarasa       From amusement to awe, the nine human emotions...   6.0    8.0   \n",
       "\n",
       "               year  \n",
       "title                \n",
       "Kota Factory   2021  \n",
       "Chhota Bheem   2021  \n",
       "Dharmakshetra  2021  \n",
       "Mighty Raju    2021  \n",
       "Navarasa       2021  "
      ]
     },
     "execution_count": 41,
     "metadata": {},
     "output_type": "execute_result"
    }
   ],
   "source": [
    "Indian_movie_data.head()"
   ]
  },
  {
   "cell_type": "code",
   "execution_count": 42,
   "id": "e37b5d92-03e2-412d-9cfe-1aada74f657f",
   "metadata": {},
   "outputs": [
    {
     "data": {
      "text/plain": [
       "array(['TV-MA', 'TV-Y7', 'TV-PG', 'TV-Y', 'TV-G', 'TV-14'], dtype=object)"
      ]
     },
     "execution_count": 42,
     "metadata": {},
     "output_type": "execute_result"
    }
   ],
   "source": [
    "Indian_movie_data.rating.unique()"
   ]
  },
  {
   "cell_type": "markdown",
   "id": "4bddafaf-8f3c-4417-8dc9-f82c60d0cf3a",
   "metadata": {},
   "source": [
    "- TV-MA: This program is specifically designed to be viewed by adults and therefore may be unsuitable for children under 17.\n",
    "- TV-Y7: This program is designed for children age 7 and above.\n",
    "- TV-PG: Parental guidance is suggested, as some material may not be suitable for children.\n",
    "- TV-Y: This program is designed to be appropriate for all children.\n",
    "- TV-G: General audience. The content should be suitable for all ages.\n",
    "- TV-14: Parents are strongly cautioned, as this program contains material that may be unsuitable for children under 14 years of age."
   ]
  },
  {
   "cell_type": "code",
   "execution_count": 43,
   "id": "e57cb188-619b-482c-ab1d-5109e94fd3f1",
   "metadata": {},
   "outputs": [
    {
     "data": {
      "text/html": [
       "<div>\n",
       "<style scoped>\n",
       "    .dataframe tbody tr th:only-of-type {\n",
       "        vertical-align: middle;\n",
       "    }\n",
       "\n",
       "    .dataframe tbody tr th {\n",
       "        vertical-align: top;\n",
       "    }\n",
       "\n",
       "    .dataframe thead th {\n",
       "        text-align: right;\n",
       "    }\n",
       "</style>\n",
       "<table border=\"1\" class=\"dataframe\">\n",
       "  <thead>\n",
       "    <tr style=\"text-align: right;\">\n",
       "      <th></th>\n",
       "      <th>cast</th>\n",
       "      <th>country</th>\n",
       "      <th>date_added</th>\n",
       "      <th>release_year</th>\n",
       "      <th>rating</th>\n",
       "      <th>duration</th>\n",
       "      <th>listed_in</th>\n",
       "      <th>description</th>\n",
       "      <th>day</th>\n",
       "      <th>month</th>\n",
       "      <th>year</th>\n",
       "    </tr>\n",
       "    <tr>\n",
       "      <th>title</th>\n",
       "      <th></th>\n",
       "      <th></th>\n",
       "      <th></th>\n",
       "      <th></th>\n",
       "      <th></th>\n",
       "      <th></th>\n",
       "      <th></th>\n",
       "      <th></th>\n",
       "      <th></th>\n",
       "      <th></th>\n",
       "      <th></th>\n",
       "    </tr>\n",
       "  </thead>\n",
       "  <tbody>\n",
       "    <tr>\n",
       "      <th>Akbar Birbal</th>\n",
       "      <td>Kiku Sharda, Vishal Kotian, Delnaaz Irani</td>\n",
       "      <td>India</td>\n",
       "      <td>2020-03-31</td>\n",
       "      <td>2019</td>\n",
       "      <td>TV-G</td>\n",
       "      <td>1 Season</td>\n",
       "      <td>Kids' TV, TV Comedies, TV Dramas</td>\n",
       "      <td>From battles of wit to fights for justice, Emp...</td>\n",
       "      <td>31.0</td>\n",
       "      <td>3.0</td>\n",
       "      <td>2020</td>\n",
       "    </tr>\n",
       "  </tbody>\n",
       "</table>\n",
       "</div>"
      ],
      "text/plain": [
       "                                                   cast country date_added  \\\n",
       "title                                                                        \n",
       "Akbar Birbal  Kiku Sharda, Vishal Kotian, Delnaaz Irani   India 2020-03-31   \n",
       "\n",
       "              release_year rating  duration                         listed_in  \\\n",
       "title                                                                           \n",
       "Akbar Birbal          2019   TV-G  1 Season  Kids' TV, TV Comedies, TV Dramas   \n",
       "\n",
       "                                                    description   day  month  \\\n",
       "title                                                                          \n",
       "Akbar Birbal  From battles of wit to fights for justice, Emp...  31.0    3.0   \n",
       "\n",
       "              year  \n",
       "title               \n",
       "Akbar Birbal  2020  "
      ]
     },
     "execution_count": 43,
     "metadata": {},
     "output_type": "execute_result"
    }
   ],
   "source": [
    "Indian_movie_data.loc[Indian_movie_data['rating'] == 'TV-G']"
   ]
  },
  {
   "cell_type": "code",
   "execution_count": 44,
   "id": "68bdb232-4210-4aa5-adc7-af2411e8aa91",
   "metadata": {},
   "outputs": [
    {
     "data": {
      "image/png": "[encoded data removed]",
      "text/plain": [
       "<Figure size 1000x800 with 1 Axes>"
      ]
     },
     "metadata": {},
     "output_type": "display_data"
    }
   ],
   "source": [
    "explodes = [0.1,0,0,0,0,0,0,0,0,0]\n",
    "df.loc[df.country == 'India' , 'listed_in'].value_counts()[:10].plot.pie(autopct = '%1.1f%%' , figsize = (10,8) , shadow = True , explode = explodes)\n",
    "plt.title('Top 10 popular category By Indian Series',fontdict={'color':'blue','size':20})\n",
    "plt.show()"
   ]
  },
  {
   "cell_type": "code",
   "execution_count": null,
   "id": "b26e9c25-3597-4ea3-b9b4-d8328af087a6",
   "metadata": {},
   "outputs": [],
   "source": []
  },
  {
   "cell_type": "code",
   "execution_count": null,
   "id": "b13da5f1-f428-4cd9-aa7e-605b975a4ab0",
   "metadata": {},
   "outputs": [],
   "source": []
  }
 ],
 "metadata": {
  "kernelspec": {
   "display_name": "Python 3 (ipykernel)",
   "language": "python",
   "name": "python3"
  },
  "language_info": {
   "codemirror_mode": {
    "name": "ipython",
    "version": 3
   },
   "file_extension": ".py",
   "mimetype": "text/x-python",
   "name": "python",
   "nbconvert_exporter": "python",
   "pygments_lexer": "ipython3",
   "version": "3.11.8"
  }
 },
 "nbformat": 4,
 "nbformat_minor": 5
}
