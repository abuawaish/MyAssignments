{
 "cells": [
  {
   "cell_type": "markdown",
   "id": "e482cb68-a4f6-4a77-abaa-8ba9bce67e24",
   "metadata": {},
   "source": [
    "# `Q1 What is a Python library? Why do we use Python libraries?`"
   ]
  },
  {
   "cell_type": "markdown",
   "id": "9fd48247-bc56-4828-832e-52328579fdce",
   "metadata": {},
   "source": [
    "### <font color='white'><b>In simple word, Python libraries are collections of functions and methods for use in various applications. They are used to simplify the coding process and enable reuse of code.</b></font>\n",
    "### <b><span style = \"color: orange\">There are hundreds of thousands of Python libraries available, covering a wide range of domains, including : </span>\n",
    "- <b> Data science (NumPy, Pandas, Matplotlib)\n",
    "- <b> Machine learning (TensorFlow, PyTorch, scikit-learn)\n",
    "- <b> Web development (Django, Flask, Scrapy)\n",
    "- <b> And many more\n",
    "### <b><span style = \"color: orange\">We use Python Libraries for following reasons : </span>\n",
    "- <b> Save Time and Effort\n",
    "- <b> mproved Code Quality\n",
    "- <b> Enhanced Functionality\n",
    "- <b> Standardization and Consistency\n",
    "- <b> Collaboration\n"
   ]
  },
  {
   "cell_type": "markdown",
   "id": "557da0ec-327a-4168-b7fb-09961e8ff15d",
   "metadata": {},
   "source": [
    "# `Q2 What is the difference between Numpy array and List?`"
   ]
  },
  {
   "cell_type": "markdown",
   "id": "ad3f2f17-eb0a-46a1-85be-681e478aaea4",
   "metadata": {},
   "source": [
    "### <font color='white'><b><span style = \"color: red;\">Type</span> : Numpy array is homogeneous, meaning all elements are of the same data type, while a List is heterogeneous and can contain elements of different data types.</font></b>\n",
    "---\n",
    "### <font color='white'><b><span style = \"color: red;\">Mathematical Operations </span> : Numpy array supports mathematical operations like addition, multiplication, etc., whereas List does not directly support these operations and would require more manual processing. These differences are crucial, as they impact the performance and applicability of each data structure in different scenarios.</font></b>\n",
    "---\n",
    "### <font color='white'><b><span style = \"color: red;\">Memory Allocation </span> : NumPy arrays store data in a compact, contiguous block of memory, which results in less memory overhead compared to Python lists. Whereas Lists in Python are implemented as an array of pointers to objects, rather than a contiguous block of memory for the objects themselves. This results in memory fragmentation and less efficient memory usage.</font></b>"
   ]
  },
  {
   "cell_type": "markdown",
   "id": "baae4dc2-9fa9-4af7-8663-3cffbb41cb16",
   "metadata": {},
   "source": [
    "# `Q3 Find the shape, size and dimension of the following array?`\n",
    "- <b>[[1, 2, 3, 4]\n",
    "- <b> [5, 6, 7, 8],\n",
    "- <b> [9, 10, 11, 12]]"
   ]
  },
  {
   "cell_type": "code",
   "execution_count": 1,
   "id": "a5cb42aa-3eb6-48de-bd0e-7e94803e76ca",
   "metadata": {},
   "outputs": [],
   "source": [
    "import numpy as np"
   ]
  },
  {
   "cell_type": "code",
   "execution_count": 2,
   "id": "976d2bb9-1773-43c9-acf1-1c32efb6ac90",
   "metadata": {},
   "outputs": [],
   "source": [
    "ar = np.array([[1,2,3,4],[5,6,7,8],[9,10,11,12]])"
   ]
  },
  {
   "cell_type": "code",
   "execution_count": 3,
   "id": "86c0bb54-3de1-45c0-896c-b6a338f1f2e7",
   "metadata": {},
   "outputs": [
    {
     "data": {
      "text/plain": [
       "array([[ 1,  2,  3,  4],\n",
       "       [ 5,  6,  7,  8],\n",
       "       [ 9, 10, 11, 12]])"
      ]
     },
     "execution_count": 3,
     "metadata": {},
     "output_type": "execute_result"
    }
   ],
   "source": [
    "ar"
   ]
  },
  {
   "cell_type": "markdown",
   "id": "253879bc-c1b8-4d0f-9c96-54042e6aab69",
   "metadata": {},
   "source": [
    "## <b><span style = \"color: red;\">SIZE</span></b>"
   ]
  },
  {
   "cell_type": "code",
   "execution_count": 4,
   "id": "7e017064-21c8-4338-9a58-6b769191cfe3",
   "metadata": {},
   "outputs": [
    {
     "data": {
      "text/plain": [
       "12"
      ]
     },
     "execution_count": 4,
     "metadata": {},
     "output_type": "execute_result"
    }
   ],
   "source": [
    "ar.size"
   ]
  },
  {
   "cell_type": "markdown",
   "id": "ccc45a7a-d394-461c-97e1-94e32532011f",
   "metadata": {},
   "source": [
    "## <b><span style = \"color: red;\">SHAPE</span></b>"
   ]
  },
  {
   "cell_type": "code",
   "execution_count": 5,
   "id": "8d7fadfe-125d-43ef-8cd7-7f8edc97258f",
   "metadata": {},
   "outputs": [
    {
     "data": {
      "text/plain": [
       "(3, 4)"
      ]
     },
     "execution_count": 5,
     "metadata": {},
     "output_type": "execute_result"
    }
   ],
   "source": [
    "ar.shape"
   ]
  },
  {
   "cell_type": "markdown",
   "id": "90aa90c2-a7ce-4235-aab4-dd35a8f441ce",
   "metadata": {},
   "source": [
    "## <b><span style = \"color: red;\">DIMENSION</span></b>"
   ]
  },
  {
   "cell_type": "code",
   "execution_count": 6,
   "id": "723cb738-127e-4c8e-ae74-5d901c236f2b",
   "metadata": {},
   "outputs": [
    {
     "data": {
      "text/plain": [
       "2"
      ]
     },
     "execution_count": 6,
     "metadata": {},
     "output_type": "execute_result"
    }
   ],
   "source": [
    "ar.ndim"
   ]
  },
  {
   "cell_type": "markdown",
   "id": "fdc28281-852c-42f3-847b-688a685bf13e",
   "metadata": {},
   "source": [
    "# `Q4 Write python code to access the first row of the following array?`\n",
    "- <b>[[1, 2, 3, 4]\n",
    "- <b> [5, 6, 7, 8],\n",
    "- <b> [9, 10, 11, 12]]"
   ]
  },
  {
   "cell_type": "code",
   "execution_count": 7,
   "id": "8870ecfc-c098-4abf-b72f-87bca035e1e7",
   "metadata": {},
   "outputs": [
    {
     "data": {
      "text/plain": [
       "array([[ 1,  2,  3,  4],\n",
       "       [ 5,  6,  7,  8],\n",
       "       [ 9, 10, 11, 12]])"
      ]
     },
     "execution_count": 7,
     "metadata": {},
     "output_type": "execute_result"
    }
   ],
   "source": [
    "ar"
   ]
  },
  {
   "cell_type": "code",
   "execution_count": 8,
   "id": "d6451e4e-cead-4afc-a8aa-751e95c731c2",
   "metadata": {},
   "outputs": [
    {
     "data": {
      "text/plain": [
       "array([1, 2, 3, 4])"
      ]
     },
     "execution_count": 8,
     "metadata": {},
     "output_type": "execute_result"
    }
   ],
   "source": [
    "ar[0]"
   ]
  },
  {
   "cell_type": "markdown",
   "id": "bab1259f-a069-4c04-89d8-a0d2f550b8ce",
   "metadata": {},
   "source": [
    "# `Q5 How do you access the element at the third row and fourth column from the given numpy array?`\n",
    "- <b>[[1, 2, 3, 4]\n",
    "- <b> [5, 6, 7, 8],\n",
    "- <b> [9, 10, 11, 12]]"
   ]
  },
  {
   "cell_type": "code",
   "execution_count": 9,
   "id": "7049101b-c0bb-467c-a480-006ae15e1874",
   "metadata": {},
   "outputs": [
    {
     "data": {
      "text/plain": [
       "array([[ 1,  2,  3,  4],\n",
       "       [ 5,  6,  7,  8],\n",
       "       [ 9, 10, 11, 12]])"
      ]
     },
     "execution_count": 9,
     "metadata": {},
     "output_type": "execute_result"
    }
   ],
   "source": [
    "ar"
   ]
  },
  {
   "cell_type": "code",
   "execution_count": 10,
   "id": "a8ac6c8e-3727-403c-8970-913a15719232",
   "metadata": {},
   "outputs": [
    {
     "data": {
      "text/plain": [
       "12"
      ]
     },
     "execution_count": 10,
     "metadata": {},
     "output_type": "execute_result"
    }
   ],
   "source": [
    "ar[2,3]"
   ]
  },
  {
   "cell_type": "markdown",
   "id": "3f798c2c-20a2-426c-b6fe-2cf384e908a0",
   "metadata": {},
   "source": [
    "# `Q6 Write code to extract all odd indexed elements from the given numpy array?`\n",
    "- <b>[[1, 2, 3, 4]\n",
    "- <b> [5, 6, 7, 8],\n",
    "- <b> [9, 10, 11, 12]]"
   ]
  },
  {
   "cell_type": "code",
   "execution_count": 11,
   "id": "826dcfa5-bc48-4ef4-8735-790935ff7cb3",
   "metadata": {},
   "outputs": [
    {
     "data": {
      "text/plain": [
       "array([[ 1,  2,  3,  4],\n",
       "       [ 5,  6,  7,  8],\n",
       "       [ 9, 10, 11, 12]])"
      ]
     },
     "execution_count": 11,
     "metadata": {},
     "output_type": "execute_result"
    }
   ],
   "source": [
    "ar"
   ]
  },
  {
   "cell_type": "code",
   "execution_count": 12,
   "id": "afbd867b-ae06-440a-b5f9-0f076b27bd4d",
   "metadata": {},
   "outputs": [
    {
     "data": {
      "text/plain": [
       "array([ 2,  4,  6,  8, 10, 12])"
      ]
     },
     "execution_count": 12,
     "metadata": {},
     "output_type": "execute_result"
    }
   ],
   "source": [
    "np.extract(ar % 2 == 0 , ar)"
   ]
  },
  {
   "cell_type": "markdown",
   "id": "cac8aa63-408e-4c63-84f2-4745fe46ab62",
   "metadata": {},
   "source": [
    "# `Q7 How can you generate a random 3x3 matrix with values between 0 and 1?`"
   ]
  },
  {
   "cell_type": "code",
   "execution_count": 13,
   "id": "89c41cb4-dabe-4686-adf3-f45e63acaa9b",
   "metadata": {},
   "outputs": [
    {
     "data": {
      "text/plain": [
       "array([[0.39794517, 0.89595461, 0.44920287],\n",
       "       [0.46438087, 0.2335205 , 0.18391815],\n",
       "       [0.9895417 , 0.25959709, 0.77919604]])"
      ]
     },
     "execution_count": 13,
     "metadata": {},
     "output_type": "execute_result"
    }
   ],
   "source": [
    "np.random.rand(3, 3)"
   ]
  },
  {
   "cell_type": "markdown",
   "id": "328a3ad3-d552-47c7-81d4-416fde5404b1",
   "metadata": {},
   "source": [
    "# `Q8 Describe the difference between np.random.rand and np.random.randn`"
   ]
  },
  {
   "cell_type": "markdown",
   "id": "71fc7f35-99e3-4487-8282-046a25fc415d",
   "metadata": {},
   "source": [
    "### <font color='white'><b><span style = \"color: green\">np.random.rand</span> : This function generates samples from a uniform distribution. This means the values will be spread out evenly between 0 (inclusive) and 1 (exclusive). Think of it as picking a number from a ruler that starts at 0 and ends at 1, but you can't pick exactly 1.</font></b>\n",
    "---\n",
    "### <font color='white'><b><span style = \"color: green\">np.random.randn</span> : This function generates samples from a standard normal distribution (also called the Gaussian distribution). This distribution is bell-shaped, with most values concentrated around the mean (which is 0 in this case) and fewer values farther out in the tails. There's a chance of getting negative or positive numbers, and they become less frequent the farther they are from 0.</font></b>\n",
    "---\n",
    "- <b> Function\t      | Distribution\t  |  Range\n",
    "- <b> np.random.rand  | Uniform\t          |  [0, 1)\n",
    "- <b> np.random.randn | Standard normal\t  |  (-∞, ∞)"
   ]
  },
  {
   "cell_type": "markdown",
   "id": "23ce39cc-cf47-4678-89c8-dde54ef800ed",
   "metadata": {},
   "source": [
    "# `Q9  Write code to increase the dimension of the following array?`\n",
    "- <b> [[1, 2, 3, 4]\n",
    "- <b>  [5, 6, 7, 8],\n",
    "- <b>  [9, 10, 11, 12]]"
   ]
  },
  {
   "cell_type": "code",
   "execution_count": 14,
   "id": "b04ced85-74b9-4b34-8498-633b4e8a197d",
   "metadata": {},
   "outputs": [
    {
     "data": {
      "text/plain": [
       "array([[ 1,  2,  3,  4],\n",
       "       [ 5,  6,  7,  8],\n",
       "       [ 9, 10, 11, 12]])"
      ]
     },
     "execution_count": 14,
     "metadata": {},
     "output_type": "execute_result"
    }
   ],
   "source": [
    "ar"
   ]
  },
  {
   "cell_type": "code",
   "execution_count": 15,
   "id": "e80c2d43-40eb-4956-a770-74c6ebc89673",
   "metadata": {},
   "outputs": [
    {
     "data": {
      "text/plain": [
       "2"
      ]
     },
     "execution_count": 15,
     "metadata": {},
     "output_type": "execute_result"
    }
   ],
   "source": [
    "ar.ndim"
   ]
  },
  {
   "cell_type": "code",
   "execution_count": 16,
   "id": "bcd5e9a1-c9fd-44d6-8294-2feba40f4f32",
   "metadata": {},
   "outputs": [],
   "source": [
    "ar = np.expand_dims(ar,axis = 0)"
   ]
  },
  {
   "cell_type": "code",
   "execution_count": 17,
   "id": "86c69d1c-68f6-4b80-a804-da092699e54f",
   "metadata": {},
   "outputs": [
    {
     "data": {
      "text/plain": [
       "array([[[ 1,  2,  3,  4],\n",
       "        [ 5,  6,  7,  8],\n",
       "        [ 9, 10, 11, 12]]])"
      ]
     },
     "execution_count": 17,
     "metadata": {},
     "output_type": "execute_result"
    }
   ],
   "source": [
    "ar"
   ]
  },
  {
   "cell_type": "code",
   "execution_count": 18,
   "id": "aa43aabe-23dd-4d0e-b24b-0f784480250d",
   "metadata": {},
   "outputs": [
    {
     "data": {
      "text/plain": [
       "3"
      ]
     },
     "execution_count": 18,
     "metadata": {},
     "output_type": "execute_result"
    }
   ],
   "source": [
    "ar.ndim"
   ]
  },
  {
   "cell_type": "markdown",
   "id": "b22a4809-e205-4919-acc9-cbbddd3437e0",
   "metadata": {},
   "source": [
    "# `Q10 how to transpose the following array in numpy?`\n",
    "- <b> [[1, 2, 3, 4]\n",
    "- <b>  [5, 6, 7, 8],\n",
    "- <b>  [9, 10, 11, 12]]"
   ]
  },
  {
   "cell_type": "code",
   "execution_count": 19,
   "id": "fb7f1f60-a37a-4eeb-afeb-d488ab48b34f",
   "metadata": {},
   "outputs": [],
   "source": [
    "ar = np.squeeze(ar)"
   ]
  },
  {
   "cell_type": "code",
   "execution_count": 20,
   "id": "eee579f4-4caf-42ca-912d-03473767699b",
   "metadata": {},
   "outputs": [
    {
     "data": {
      "text/plain": [
       "array([[ 1,  2,  3,  4],\n",
       "       [ 5,  6,  7,  8],\n",
       "       [ 9, 10, 11, 12]])"
      ]
     },
     "execution_count": 20,
     "metadata": {},
     "output_type": "execute_result"
    }
   ],
   "source": [
    "ar"
   ]
  },
  {
   "cell_type": "code",
   "execution_count": 21,
   "id": "c7ec6521-6ee9-4c33-9bfa-eee2efc360be",
   "metadata": {},
   "outputs": [
    {
     "data": {
      "text/plain": [
       "array([[ 1,  5,  9],\n",
       "       [ 2,  6, 10],\n",
       "       [ 3,  7, 11],\n",
       "       [ 4,  8, 12]])"
      ]
     },
     "execution_count": 21,
     "metadata": {},
     "output_type": "execute_result"
    }
   ],
   "source": [
    "ar.T"
   ]
  },
  {
   "cell_type": "code",
   "execution_count": 22,
   "id": "679f67cf-ab67-4a02-bb2f-8d1990414665",
   "metadata": {},
   "outputs": [
    {
     "data": {
      "text/plain": [
       "array([[ 1,  5,  9],\n",
       "       [ 2,  6, 10],\n",
       "       [ 3,  7, 11],\n",
       "       [ 4,  8, 12]])"
      ]
     },
     "execution_count": 22,
     "metadata": {},
     "output_type": "execute_result"
    }
   ],
   "source": [
    "ar.transpose()"
   ]
  },
  {
   "cell_type": "markdown",
   "id": "e2f3fb8c-c3ba-4e1d-8401-ed581c5044d3",
   "metadata": {},
   "source": [
    "# `Q11 Consider the following matrix:`\n",
    "   - <b>Matrix A: [[1, 2, 3, 4] [5, 6, 7, 8],[9, 10, 11, 12]]\n",
    "   - <b>Matrix B: [[1, 2, 3, 4] [5, 6, 7, 8],[9, 10, 11, 12]]\n",
    "## <span style = \"color: green\"><b>Perform the following operation using Python : </span>\n",
    "   - <b>1 Index-wise multiplication\n",
    "   - <b>2 Matrix multiplication\n",
    "   - <b>3 Add both the matrices\n",
    "   - <b>4 Subtract matrix B from A\n",
    "   - <b>5 Divide Matrix B by A"
   ]
  },
  {
   "cell_type": "code",
   "execution_count": 23,
   "id": "fe0d2019-f8af-4ca1-8abc-530ea76048fa",
   "metadata": {},
   "outputs": [],
   "source": [
    "A = np.array([[1, 2, 3, 4],[5, 6, 7, 8],[9, 10, 11, 12]])"
   ]
  },
  {
   "cell_type": "code",
   "execution_count": 24,
   "id": "cfb7a417-ae92-4a63-8d42-bf86fd819174",
   "metadata": {},
   "outputs": [
    {
     "data": {
      "text/plain": [
       "array([[ 1,  2,  3,  4],\n",
       "       [ 5,  6,  7,  8],\n",
       "       [ 9, 10, 11, 12]])"
      ]
     },
     "execution_count": 24,
     "metadata": {},
     "output_type": "execute_result"
    }
   ],
   "source": [
    "A"
   ]
  },
  {
   "cell_type": "code",
   "execution_count": 25,
   "id": "ca646806-b8dc-4810-b67f-5e4a88868d89",
   "metadata": {},
   "outputs": [],
   "source": [
    "B = np.array([[1, 2, 3, 4],[5, 6, 7, 8],[9, 10, 11, 12]])"
   ]
  },
  {
   "cell_type": "code",
   "execution_count": 26,
   "id": "66647a4f-1334-4d03-86f8-2ec8af88baae",
   "metadata": {},
   "outputs": [
    {
     "data": {
      "text/plain": [
       "array([[ 1,  2,  3,  4],\n",
       "       [ 5,  6,  7,  8],\n",
       "       [ 9, 10, 11, 12]])"
      ]
     },
     "execution_count": 26,
     "metadata": {},
     "output_type": "execute_result"
    }
   ],
   "source": [
    "B"
   ]
  },
  {
   "cell_type": "markdown",
   "id": "bbb57a50-642b-4114-8376-9b3892246d5a",
   "metadata": {},
   "source": [
    "## <span style = \"color: red\"><b>1 Index-wise multiplication</span>"
   ]
  },
  {
   "cell_type": "code",
   "execution_count": 27,
   "id": "24889191-4c5e-439d-ac55-cd0424caa26e",
   "metadata": {},
   "outputs": [
    {
     "data": {
      "text/plain": [
       "array([[  1,   4,   9,  16],\n",
       "       [ 25,  36,  49,  64],\n",
       "       [ 81, 100, 121, 144]])"
      ]
     },
     "execution_count": 27,
     "metadata": {},
     "output_type": "execute_result"
    }
   ],
   "source": [
    "A*B"
   ]
  },
  {
   "cell_type": "markdown",
   "id": "bc5e075e-7622-4bb4-b131-22d4bc817ea2",
   "metadata": {},
   "source": [
    "## <span style = \"color: red\"><b>2 Matrix multiplication</span>"
   ]
  },
  {
   "cell_type": "code",
   "execution_count": 28,
   "id": "df3b9117-f0f1-4000-9c1e-f3ed97cdf73c",
   "metadata": {},
   "outputs": [
    {
     "data": {
      "text/plain": [
       "array([[ 1,  2,  3,  4],\n",
       "       [ 5,  6,  7,  8],\n",
       "       [ 9, 10, 11, 12]])"
      ]
     },
     "execution_count": 28,
     "metadata": {},
     "output_type": "execute_result"
    }
   ],
   "source": [
    "A"
   ]
  },
  {
   "cell_type": "code",
   "execution_count": 29,
   "id": "38062755-fc82-4044-a4a4-c9bc8069fe05",
   "metadata": {},
   "outputs": [
    {
     "data": {
      "text/plain": [
       "array([[ 1,  2,  3,  4],\n",
       "       [ 5,  6,  7,  8],\n",
       "       [ 9, 10, 11, 12]])"
      ]
     },
     "execution_count": 29,
     "metadata": {},
     "output_type": "execute_result"
    }
   ],
   "source": [
    "B"
   ]
  },
  {
   "cell_type": "code",
   "execution_count": 30,
   "id": "939c0829-ffb6-40a9-b34a-fcbda1c997de",
   "metadata": {},
   "outputs": [],
   "source": [
    "matrix_multiplication = np.dot(A, B.T)"
   ]
  },
  {
   "cell_type": "code",
   "execution_count": 31,
   "id": "84254c8c-cb37-403c-a129-2ccbbc281468",
   "metadata": {},
   "outputs": [
    {
     "data": {
      "text/plain": [
       "array([[ 30,  70, 110],\n",
       "       [ 70, 174, 278],\n",
       "       [110, 278, 446]])"
      ]
     },
     "execution_count": 31,
     "metadata": {},
     "output_type": "execute_result"
    }
   ],
   "source": [
    "matrix_multiplication"
   ]
  },
  {
   "cell_type": "markdown",
   "id": "eb5063eb-eee6-4636-b570-ce35dc16d831",
   "metadata": {},
   "source": [
    "## <span style = \"color: red\"><b>3 Add both the matrices</span>"
   ]
  },
  {
   "cell_type": "code",
   "execution_count": 32,
   "id": "619c271d-a411-4475-bcf1-3e1444763d71",
   "metadata": {},
   "outputs": [
    {
     "data": {
      "text/plain": [
       "array([[ 1,  2,  3,  4],\n",
       "       [ 5,  6,  7,  8],\n",
       "       [ 9, 10, 11, 12]])"
      ]
     },
     "execution_count": 32,
     "metadata": {},
     "output_type": "execute_result"
    }
   ],
   "source": [
    "A"
   ]
  },
  {
   "cell_type": "code",
   "execution_count": 33,
   "id": "0834fe46-3b8c-4afd-9bc7-cd4fd9b2c2ce",
   "metadata": {},
   "outputs": [
    {
     "data": {
      "text/plain": [
       "array([[ 1,  2,  3,  4],\n",
       "       [ 5,  6,  7,  8],\n",
       "       [ 9, 10, 11, 12]])"
      ]
     },
     "execution_count": 33,
     "metadata": {},
     "output_type": "execute_result"
    }
   ],
   "source": [
    "B"
   ]
  },
  {
   "cell_type": "code",
   "execution_count": 34,
   "id": "f5b14267-3efe-4a35-b7cd-82ad76c225ba",
   "metadata": {},
   "outputs": [
    {
     "data": {
      "text/plain": [
       "array([[ 2,  4,  6,  8],\n",
       "       [10, 12, 14, 16],\n",
       "       [18, 20, 22, 24]])"
      ]
     },
     "execution_count": 34,
     "metadata": {},
     "output_type": "execute_result"
    }
   ],
   "source": [
    "A+B"
   ]
  },
  {
   "cell_type": "markdown",
   "id": "18c1baa1-d4c4-4dda-8ad5-3207c137605b",
   "metadata": {},
   "source": [
    "## <span style = \"color: red\"><b>4 Subtract matrix B from A</span>"
   ]
  },
  {
   "cell_type": "code",
   "execution_count": 35,
   "id": "dccf1fc2-78a0-4ce4-b67c-afa27c4717f1",
   "metadata": {},
   "outputs": [
    {
     "data": {
      "text/plain": [
       "array([[ 1,  2,  3,  4],\n",
       "       [ 5,  6,  7,  8],\n",
       "       [ 9, 10, 11, 12]])"
      ]
     },
     "execution_count": 35,
     "metadata": {},
     "output_type": "execute_result"
    }
   ],
   "source": [
    "A"
   ]
  },
  {
   "cell_type": "code",
   "execution_count": 36,
   "id": "2e3bf9e4-7a9f-434d-8f4d-e39a05f9485e",
   "metadata": {},
   "outputs": [
    {
     "data": {
      "text/plain": [
       "array([[ 1,  2,  3,  4],\n",
       "       [ 5,  6,  7,  8],\n",
       "       [ 9, 10, 11, 12]])"
      ]
     },
     "execution_count": 36,
     "metadata": {},
     "output_type": "execute_result"
    }
   ],
   "source": [
    "B"
   ]
  },
  {
   "cell_type": "code",
   "execution_count": 37,
   "id": "233d6f0c-4b6d-4b32-ac25-7a5632796837",
   "metadata": {},
   "outputs": [
    {
     "data": {
      "text/plain": [
       "array([[0, 0, 0, 0],\n",
       "       [0, 0, 0, 0],\n",
       "       [0, 0, 0, 0]])"
      ]
     },
     "execution_count": 37,
     "metadata": {},
     "output_type": "execute_result"
    }
   ],
   "source": [
    "A-B"
   ]
  },
  {
   "cell_type": "markdown",
   "id": "a4413a89-bfd0-43da-a5d1-d4f4a102e05e",
   "metadata": {},
   "source": [
    "## <span style = \"color: red\"><b>5 Divide Matrix B by A</span>"
   ]
  },
  {
   "cell_type": "code",
   "execution_count": 38,
   "id": "f4387397-c642-4a84-9ebf-07dc12f7fca0",
   "metadata": {},
   "outputs": [
    {
     "data": {
      "text/plain": [
       "array([[ 1,  2,  3,  4],\n",
       "       [ 5,  6,  7,  8],\n",
       "       [ 9, 10, 11, 12]])"
      ]
     },
     "execution_count": 38,
     "metadata": {},
     "output_type": "execute_result"
    }
   ],
   "source": [
    "A"
   ]
  },
  {
   "cell_type": "code",
   "execution_count": 39,
   "id": "8f26924c-94e7-41f2-9504-0c1e176d05d6",
   "metadata": {},
   "outputs": [
    {
     "data": {
      "text/plain": [
       "array([[ 1,  2,  3,  4],\n",
       "       [ 5,  6,  7,  8],\n",
       "       [ 9, 10, 11, 12]])"
      ]
     },
     "execution_count": 39,
     "metadata": {},
     "output_type": "execute_result"
    }
   ],
   "source": [
    "B"
   ]
  },
  {
   "cell_type": "code",
   "execution_count": 40,
   "id": "7720efa2-f7e6-4bd2-8029-1d22da681d84",
   "metadata": {},
   "outputs": [
    {
     "data": {
      "text/plain": [
       "array([[1., 1., 1., 1.],\n",
       "       [1., 1., 1., 1.],\n",
       "       [1., 1., 1., 1.]])"
      ]
     },
     "execution_count": 40,
     "metadata": {},
     "output_type": "execute_result"
    }
   ],
   "source": [
    "B/A"
   ]
  },
  {
   "cell_type": "markdown",
   "id": "89446e52-c420-4531-8c1d-030ef847858c",
   "metadata": {},
   "source": [
    "# `Q12 Which function in NumPy can be used to swap the byte order of an array?`"
   ]
  },
  {
   "cell_type": "markdown",
   "id": "451ff1f5-63f9-4fa3-8474-3282cbba812b",
   "metadata": {},
   "source": [
    "- <b>The `np.swapbytes` function in NumPy can be used to swap the byte order of an array."
   ]
  },
  {
   "cell_type": "markdown",
   "id": "8c18cab7-bcc7-432a-b162-2d766936490a",
   "metadata": {},
   "source": [
    "# `Q13 What is the significance of the np.linalg.inv function?`"
   ]
  },
  {
   "cell_type": "markdown",
   "id": "7ec4c621-a76b-4849-bf8f-fc40f2ee7555",
   "metadata": {},
   "source": [
    "- <b>The `np.linalg.inv` function is used to compute the multiplicative inverse of a matrix. This is particularly significant in various mathematical and scientific applications, especially in the field of linear algebra.\r\n",
    "- <b>\r\n",
    "The multiplicative inverse of a matrix has numerous applications, such as solving systems of linear equations, computing solutions to matrix equations, and in various transformations and calculations involving matrices."
   ]
  },
  {
   "cell_type": "code",
   "execution_count": 41,
   "id": "0a8ad9c5-c2b8-4cea-a2ca-fa7e8637a832",
   "metadata": {},
   "outputs": [
    {
     "data": {
      "text/plain": [
       "array([[3, 4],\n",
       "       [7, 8]])"
      ]
     },
     "execution_count": 41,
     "metadata": {},
     "output_type": "execute_result"
    }
   ],
   "source": [
    "# for Example\n",
    "arr = np.array([[3,4],[7,8]])\n",
    "arr"
   ]
  },
  {
   "cell_type": "code",
   "execution_count": 42,
   "id": "b3d86196-30ec-4f1b-8525-00de1621d3e1",
   "metadata": {},
   "outputs": [
    {
     "data": {
      "text/plain": [
       "array([[-2.  ,  1.  ],\n",
       "       [ 1.75, -0.75]])"
      ]
     },
     "execution_count": 42,
     "metadata": {},
     "output_type": "execute_result"
    }
   ],
   "source": [
    "np.linalg.inv(arr)"
   ]
  },
  {
   "cell_type": "markdown",
   "id": "91bb46a9-48e5-4f0d-8f4f-e7b43094860a",
   "metadata": {},
   "source": [
    "# `Q14 What does the np.reshape function do, and how is it used?`"
   ]
  },
  {
   "cell_type": "markdown",
   "id": "31435ebd-8071-442f-b653-cb5c40319a28",
   "metadata": {},
   "source": [
    "- <b>The `np.reshape` function in NumPy is used to change the shape of an array without changing its data. It allows you to modify the structure of the array while maintaining all the elements within it.\n",
    "- <b>It creates a new view of the array with the specified shape, as long as the total number of elements in the original array remains the same."
   ]
  },
  {
   "cell_type": "code",
   "execution_count": 43,
   "id": "e405ca9d-251f-4b05-ae8b-a59e929852b7",
   "metadata": {},
   "outputs": [
    {
     "data": {
      "text/plain": [
       "array([ 0,  1,  2,  3,  4,  5,  6,  7,  8,  9, 10, 11])"
      ]
     },
     "execution_count": 43,
     "metadata": {},
     "output_type": "execute_result"
    }
   ],
   "source": [
    "# Let's take an example for better understanding\n",
    "my_arr = np.arange(12)  # [0, 1, 2, 3, 4, 5, 6, 7, 8, 9, 10, 11]\n",
    "my_arr"
   ]
  },
  {
   "cell_type": "code",
   "execution_count": 44,
   "id": "9d169c59-2715-4dad-b05a-06c8a062de39",
   "metadata": {},
   "outputs": [
    {
     "data": {
      "text/plain": [
       "array([[ 0,  1,  2,  3],\n",
       "       [ 4,  5,  6,  7],\n",
       "       [ 8,  9, 10, 11]])"
      ]
     },
     "execution_count": 44,
     "metadata": {},
     "output_type": "execute_result"
    }
   ],
   "source": [
    "# Reshape into a 2D array with 3 rows and 4 columns\n",
    "reshaped_arr = np.reshape(my_arr, (3, 4))\n",
    "reshaped_arr"
   ]
  },
  {
   "cell_type": "markdown",
   "id": "f3e6a6f5-9655-4dbb-8472-278b0a4648c6",
   "metadata": {},
   "source": [
    "# `Q15 What is broadcasting in Numpy?`"
   ]
  },
  {
   "cell_type": "markdown",
   "id": "d55cf8dd-558e-4935-b71f-0e960f4eef0e",
   "metadata": {},
   "source": [
    "- <b>In numpy, `broadcasting` is a feature that allows arrays of different shapes to be added, subtracted, multiplied, or divided element-wise. This means that if the shapes of the arrays being added or matrix multiplication are not compatible, numpy will automatically reshape one of the arrays to make them compatible and perform the operation element-wise, therefore allowing for broadcasting. This is particularly useful for performing operations on arrays with irregular shapes or when performing operations on arrays with different dimensions."
   ]
  },
  {
   "cell_type": "code",
   "execution_count": 45,
   "id": "929b8844-37b5-48b1-81f5-89620f3bdfe0",
   "metadata": {},
   "outputs": [
    {
     "data": {
      "text/plain": [
       "array([[0., 0., 0.],\n",
       "       [0., 0., 0.],\n",
       "       [0., 0., 0.]])"
      ]
     },
     "execution_count": 45,
     "metadata": {},
     "output_type": "execute_result"
    }
   ],
   "source": [
    "# Let's understand with an example\n",
    "Array = np.zeros((3,3))    # Creating a 3x3 2D array having value is zero for ecah index by default and datatype is float.\n",
    "Array"
   ]
  },
  {
   "cell_type": "code",
   "execution_count": 46,
   "id": "d972cda8-dfa8-4551-9431-bd988c366b19",
   "metadata": {},
   "outputs": [],
   "source": [
    "# Let's create 1D array\n",
    "Array1 = np.array([1,2,3])"
   ]
  },
  {
   "cell_type": "code",
   "execution_count": 47,
   "id": "f288c485-688e-43e3-86bb-8c15efdc07e9",
   "metadata": {},
   "outputs": [
    {
     "data": {
      "text/plain": [
       "array([1, 2, 3])"
      ]
     },
     "execution_count": 47,
     "metadata": {},
     "output_type": "execute_result"
    }
   ],
   "source": [
    "Array1"
   ]
  },
  {
   "cell_type": "code",
   "execution_count": 48,
   "id": "4c737bb0-43da-4aad-b90a-0ef3c4103bac",
   "metadata": {},
   "outputs": [],
   "source": [
    "# Broadcasting\n",
    "result = Array+Array1"
   ]
  },
  {
   "cell_type": "code",
   "execution_count": 49,
   "id": "883aa5d0-5182-40c9-b510-ef638072f957",
   "metadata": {},
   "outputs": [
    {
     "data": {
      "text/plain": [
       "array([[1., 2., 3.],\n",
       "       [1., 2., 3.],\n",
       "       [1., 2., 3.]])"
      ]
     },
     "execution_count": 49,
     "metadata": {},
     "output_type": "execute_result"
    }
   ],
   "source": [
    "result"
   ]
  },
  {
   "cell_type": "code",
   "execution_count": null,
   "id": "5c6d62ed-8002-431f-8648-8835669860dc",
   "metadata": {},
   "outputs": [],
   "source": []
  }
 ],
 "metadata": {
  "kernelspec": {
   "display_name": "Python 3 (ipykernel)",
   "language": "python",
   "name": "python3"
  },
  "language_info": {
   "codemirror_mode": {
    "name": "ipython",
    "version": 3
   },
   "file_extension": ".py",
   "mimetype": "text/x-python",
   "name": "python",
   "nbconvert_exporter": "python",
   "pygments_lexer": "ipython3",
   "version": "3.11.7"
  }
 },
 "nbformat": 4,
 "nbformat_minor": 5
}
