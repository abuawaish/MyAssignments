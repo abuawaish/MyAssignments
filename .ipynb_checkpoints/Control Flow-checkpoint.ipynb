{
 "cells": [
  {
   "cell_type": "markdown",
   "id": "4a9e390d",
   "metadata": {},
   "source": [
    "# <b> <font color = 'blue'> Basic If-Else Statements:"
   ]
  },
  {
   "cell_type": "markdown",
   "id": "ab582857",
   "metadata": {},
   "source": [
    "### <b> <font color = 'red'> 1. Write a Python program to check if a given number is positive or negative."
   ]
  },
  {
   "cell_type": "code",
   "execution_count": 90,
   "id": "18d29eea",
   "metadata": {},
   "outputs": [
    {
     "name": "stdin",
     "output_type": "stream",
     "text": [
      "Enter a number :  -8\n"
     ]
    },
    {
     "name": "stdout",
     "output_type": "stream",
     "text": [
      "Number is negative\n"
     ]
    }
   ],
   "source": [
    "Input = int(input('Enter a number : '))\n",
    "if Input < 0:\n",
    "    print('Number is negative')\n",
    "else:\n",
    "    print('Number is Positive')"
   ]
  },
  {
   "cell_type": "markdown",
   "id": "f5986f35",
   "metadata": {},
   "source": [
    "### <b> <font color = 'red'> 2. Create a program that determines if a person is eligible to vote based on their age.\n"
   ]
  },
  {
   "cell_type": "code",
   "execution_count": 2,
   "id": "7a260aef",
   "metadata": {},
   "outputs": [
    {
     "name": "stdin",
     "output_type": "stream",
     "text": [
      "Enter a number :  18\n"
     ]
    },
    {
     "name": "stdout",
     "output_type": "stream",
     "text": [
      "Person is eligible to vote\n"
     ]
    }
   ],
   "source": [
    "Input = int(input(\"Enter a number : \"))\n",
    "if Input >= 18:\n",
    "    print('Person is eligible to vote')\n",
    "else:\n",
    "    print('Person is not eligible to vote')"
   ]
  },
  {
   "cell_type": "markdown",
   "id": "b7ced823",
   "metadata": {},
   "source": [
    "### <b> <font color = 'red'>3. Develop a program to find the maximum of two numbers using if-else statements.\n"
   ]
  },
  {
   "cell_type": "code",
   "execution_count": 3,
   "id": "2e8d8133",
   "metadata": {},
   "outputs": [
    {
     "name": "stdin",
     "output_type": "stream",
     "text": [
      "Enter number 'A' :  20\n",
      "Enter number 'B' :  10\n"
     ]
    },
    {
     "name": "stdout",
     "output_type": "stream",
     "text": [
      "A is maximum\n"
     ]
    }
   ],
   "source": [
    "Input1 = int(input(\"Enter number 'A' : \"))\n",
    "Input2 = int(input(\"Enter number 'B' : \"))\n",
    "\n",
    "if Input1 > Input2:\n",
    "    print('A is maximum')\n",
    "elif Input2 > Input1:\n",
    "    print('B is maximum')\n",
    "else:\n",
    "    print('A and B are equal')"
   ]
  },
  {
   "cell_type": "markdown",
   "id": "a52f78b0",
   "metadata": {},
   "source": [
    "### <b> <font color = 'red'>4. Write a Python script to classify a given year as a leap year or not.\n",
    "\n"
   ]
  },
  {
   "cell_type": "code",
   "execution_count": 4,
   "id": "a80d6a8f",
   "metadata": {},
   "outputs": [
    {
     "name": "stdin",
     "output_type": "stream",
     "text": [
      "Enter a year :  2020\n"
     ]
    },
    {
     "name": "stdout",
     "output_type": "stream",
     "text": [
      "It is a leap year\n"
     ]
    }
   ],
   "source": [
    "y = int(input('Enter a year : '))\n",
    "\n",
    "if((y % 400 == 0) or\n",
    "     (y % 100 != 0) and\n",
    "     (y % 4 == 0)):\n",
    "    print('It is a leap year')\n",
    "else:\n",
    "    print('It is not a leap year')"
   ]
  },
  {
   "cell_type": "markdown",
   "id": "4f5cdc6f",
   "metadata": {},
   "source": [
    "### <b> <font color = 'red'>5. Create a program that checks whether a character is a vowel or a consonant.\n",
    "\n"
   ]
  },
  {
   "cell_type": "code",
   "execution_count": 5,
   "id": "ad8f27ca",
   "metadata": {},
   "outputs": [
    {
     "name": "stdin",
     "output_type": "stream",
     "text": [
      "Enter a character :  a\n"
     ]
    },
    {
     "name": "stdout",
     "output_type": "stream",
     "text": [
      "Character is a vowel\n"
     ]
    }
   ],
   "source": [
    "c = input('Enter a character : ')\n",
    "v = \"AEIOUaeiou\"\n",
    "\n",
    "if(c in v):\n",
    "    print('Character is a vowel')\n",
    "else:\n",
    "    print('Character is a consonant')"
   ]
  },
  {
   "cell_type": "markdown",
   "id": "7c9a0ebc",
   "metadata": {},
   "source": [
    "### <b> <font color = 'red'>6. Implement a program to determine whether a given number is even or odd.\n",
    "\n"
   ]
  },
  {
   "cell_type": "code",
   "execution_count": 6,
   "id": "d360daa2",
   "metadata": {},
   "outputs": [
    {
     "name": "stdin",
     "output_type": "stream",
     "text": [
      "Enter a number :  12\n"
     ]
    },
    {
     "name": "stdout",
     "output_type": "stream",
     "text": [
      "Number is even\n"
     ]
    }
   ],
   "source": [
    "Input = int(input('Enter a number : '))\n",
    "if Input % 2 == 0:\n",
    "    print('Number is even')\n",
    "else:\n",
    "    print('Number is odd')"
   ]
  },
  {
   "cell_type": "markdown",
   "id": "fb6e2c46",
   "metadata": {},
   "source": [
    "### <b> <font color = 'red'>7. Write a Python function to calculate the absolute value of a number without using the `abs()` function."
   ]
  },
  {
   "cell_type": "code",
   "execution_count": 7,
   "id": "04ca3419",
   "metadata": {},
   "outputs": [
    {
     "name": "stdin",
     "output_type": "stream",
     "text": [
      "Enter a number :  -2\n"
     ]
    },
    {
     "name": "stdout",
     "output_type": "stream",
     "text": [
      "Abolute of this negative number is :  2\n"
     ]
    }
   ],
   "source": [
    "Input = int(input('Enter a number : '))\n",
    "if Input < 0:\n",
    "    print('Abolute of this negative number is : ', -Input)\n",
    "else:\n",
    "    print('Absolute of positive no is number itself : ', Input)"
   ]
  },
  {
   "cell_type": "markdown",
   "id": "bd89e49f",
   "metadata": {},
   "source": [
    "### <b> <font color = 'red'>8. Develop a program that determines the largest of three given numbers using if-else statements.\n",
    "\n"
   ]
  },
  {
   "cell_type": "code",
   "execution_count": 8,
   "id": "e53858e3",
   "metadata": {},
   "outputs": [
    {
     "name": "stdin",
     "output_type": "stream",
     "text": [
      "Enter number 'A' :  90\n",
      "Enter number 'B' :  80\n",
      "Enter number 'C' :  60\n"
     ]
    },
    {
     "name": "stdout",
     "output_type": "stream",
     "text": [
      "A is maximum\n"
     ]
    }
   ],
   "source": [
    "A = int(input(\"Enter number 'A' : \"))\n",
    "B = int(input(\"Enter number 'B' : \"))\n",
    "C = int(input(\"Enter number 'C' : \"))\n",
    "\n",
    "if A > B and A > C:\n",
    "    print('A is maximum')\n",
    "elif B > C:\n",
    "    print('B is maximum')\n",
    "elif A== B and A == C:\n",
    "    print(\"A, B and c are equal\")\n",
    "else:\n",
    "    print('C is maximum')"
   ]
  },
  {
   "cell_type": "markdown",
   "id": "2e9b4cbc",
   "metadata": {},
   "source": [
    "### <b> <font color = 'red'>9. Create a program that checks if a given string is a palindrome.\n",
    "\n"
   ]
  },
  {
   "cell_type": "code",
   "execution_count": 9,
   "id": "43d564b0",
   "metadata": {},
   "outputs": [
    {
     "name": "stdin",
     "output_type": "stream",
     "text": [
      "Enter a string :  wow\n"
     ]
    },
    {
     "name": "stdout",
     "output_type": "stream",
     "text": [
      "wow  is a palindrome.\n"
     ]
    }
   ],
   "source": [
    "# method 1\n",
    "String = input(\"Enter a string : \")\n",
    "\n",
    "lower = String.lower()\n",
    "\n",
    "if lower == lower[::-1]:\n",
    "    print(String, \" is a palindrome.\")\n",
    "else:\n",
    "    print(String, (\" is not a palindrome.\"))"
   ]
  },
  {
   "cell_type": "markdown",
   "id": "515a0f32",
   "metadata": {},
   "source": [
    "### <b> <font color = 'red'>10. Write a Python program to calculate the grade based on a student's score.\n"
   ]
  },
  {
   "cell_type": "code",
   "execution_count": 10,
   "id": "10557375",
   "metadata": {},
   "outputs": [
    {
     "name": "stdin",
     "output_type": "stream",
     "text": [
      "Enter score :  90\n"
     ]
    },
    {
     "name": "stdout",
     "output_type": "stream",
     "text": [
      "Gade : 'A'\n"
     ]
    }
   ],
   "source": [
    "S = int(input(\"Enter score : \"))\n",
    "\n",
    "if S > 100:\n",
    "    print('Invalid')\n",
    "elif S > 90:\n",
    "    print(\"Gade : 'O'\")\n",
    "elif S > 75:\n",
    "    print(\"Gade : 'A'\")\n",
    "elif S > 60:\n",
    "    print(\"Gade : 'B'\")\n",
    "elif S > 50:\n",
    "    print(\"Gade : 'C'\")\n",
    "elif S >=45:\n",
    "    print(\"Gade : 'D'\")\n",
    "else:\n",
    "    print('Fail')"
   ]
  },
  {
   "cell_type": "markdown",
   "id": "5f5b399f",
   "metadata": {},
   "source": [
    "# <b> <font color = 'blue'>Nested If-Else Statements:\n"
   ]
  },
  {
   "cell_type": "markdown",
   "id": "7ac56c2d",
   "metadata": {},
   "source": [
    "### <b> <font color = 'red'>11. Write a program to find the largest among three numbers using nested if-else statements.\n",
    "\n"
   ]
  },
  {
   "cell_type": "code",
   "execution_count": 11,
   "id": "7c9dddea",
   "metadata": {},
   "outputs": [
    {
     "name": "stdin",
     "output_type": "stream",
     "text": [
      "Enter number 'A' :  10\n",
      "Enter number 'B' :  20\n",
      "Enter number 'C' :  30\n"
     ]
    },
    {
     "name": "stdout",
     "output_type": "stream",
     "text": [
      "C is maximum\n"
     ]
    }
   ],
   "source": [
    "A = int(input(\"Enter number 'A' : \"))\n",
    "B = int(input(\"Enter number 'B' : \"))\n",
    "C = int(input(\"Enter number 'C' : \"))\n",
    "\n",
    "if A > B and A > C:\n",
    "    print('A is maximum')\n",
    "else:\n",
    "    if B > C:\n",
    "        print('B is maximum')\n",
    "    else:\n",
    "        print('C is maximum')"
   ]
  },
  {
   "cell_type": "markdown",
   "id": "ff1466d3",
   "metadata": {},
   "source": [
    "### <b> <font color = 'red'>12. Implement a program to determine if a triangle is equilateral, isosceles, or scalene.\n",
    "\n"
   ]
  },
  {
   "cell_type": "code",
   "execution_count": 12,
   "id": "c1a98d23",
   "metadata": {},
   "outputs": [
    {
     "name": "stdin",
     "output_type": "stream",
     "text": [
      "Enter side 'A' :  10\n",
      "Enter side 'B' :  20\n",
      "Enter side 'C' :  30\n"
     ]
    },
    {
     "name": "stdout",
     "output_type": "stream",
     "text": [
      "Isosceles Triangle\n"
     ]
    }
   ],
   "source": [
    "A = int(input(\"Enter side 'A' : \"))\n",
    "B = int(input(\"Enter side 'B' : \"))\n",
    "C = int(input(\"Enter side 'C' : \"))\n",
    "\n",
    "if A == B and A == C:\n",
    "    print('Equilateral Triangle')\n",
    "else:\n",
    "    if A != B or A != C or B != C:\n",
    "        print('Isosceles Triangle')\n",
    "    else:\n",
    "        print('Scalene Triangle')"
   ]
  },
  {
   "cell_type": "markdown",
   "id": "2819d37b",
   "metadata": {},
   "source": [
    "### <b> <font color = 'red'>13. Develop a program that checks if a year is a leap year and also if it is a century year.\n",
    "\n"
   ]
  },
  {
   "cell_type": "code",
   "execution_count": 13,
   "id": "4776200d",
   "metadata": {},
   "outputs": [
    {
     "name": "stdin",
     "output_type": "stream",
     "text": [
      "Enter a year :  2024\n"
     ]
    },
    {
     "name": "stdout",
     "output_type": "stream",
     "text": [
      "It is a leap year\n"
     ]
    }
   ],
   "source": [
    "y = int(input('Enter a year : '))\n",
    "\n",
    "if((y % 400 == 0) or\n",
    "     (y % 100 != 0) and\n",
    "     (y % 4 == 0)):\n",
    "    print('It is a leap year')\n",
    "else:\n",
    "    print('It is not a leap year')\n",
    "    \n",
    "if y % 100 == 0:\n",
    "    print(y, ' is a century')"
   ]
  },
  {
   "cell_type": "markdown",
   "id": "56ee1044",
   "metadata": {},
   "source": [
    "### <b> <font color = 'red'>14. Write a Python script to determine if a number is positive, negative, or zero.\n",
    "\n"
   ]
  },
  {
   "cell_type": "code",
   "execution_count": 14,
   "id": "ccdf29f7",
   "metadata": {},
   "outputs": [
    {
     "name": "stdin",
     "output_type": "stream",
     "text": [
      "Enter a number :  0\n"
     ]
    },
    {
     "name": "stdout",
     "output_type": "stream",
     "text": [
      "Number is 0\n"
     ]
    }
   ],
   "source": [
    "Input = int(input('Enter a number : '))\n",
    "if Input < 0:\n",
    "    print('Number is negative')\n",
    "else:\n",
    "    if Input > 0:\n",
    "        print('Number is Positive')\n",
    "    else:\n",
    "        print('Number is 0')"
   ]
  },
  {
   "cell_type": "markdown",
   "id": "b1775d07",
   "metadata": {},
   "source": [
    "### <b> <font color = 'red'>15. Create a program to check if a person is a teenager (between 13 and 19 years old).\n",
    "\n"
   ]
  },
  {
   "cell_type": "code",
   "execution_count": 15,
   "id": "e3943e12",
   "metadata": {},
   "outputs": [
    {
     "name": "stdin",
     "output_type": "stream",
     "text": [
      "Input age :  19\n"
     ]
    },
    {
     "name": "stdout",
     "output_type": "stream",
     "text": [
      "Person is not a teenager\n"
     ]
    }
   ],
   "source": [
    "age = int(input('Input age : '))\n",
    "if age > 13 and age < 19:\n",
    "    print('Person is a teenager')\n",
    "else:\n",
    "    print('Person is not a teenager')"
   ]
  },
  {
   "cell_type": "markdown",
   "id": "919a0cad",
   "metadata": {},
   "source": [
    "### <b> <font color = 'red'>16. Develop a program that determines the type of angle based on its measure (acute, obtuse, or right).\n",
    "\n"
   ]
  },
  {
   "cell_type": "code",
   "execution_count": 16,
   "id": "8ca84c14",
   "metadata": {},
   "outputs": [
    {
     "name": "stdin",
     "output_type": "stream",
     "text": [
      "Angle (between 0 to 180):  90.86\n"
     ]
    },
    {
     "name": "stdout",
     "output_type": "stream",
     "text": [
      "Obtuse angle\n"
     ]
    }
   ],
   "source": [
    "angle =  float(input('Angle (between 0 to 180): '))  \n",
    "\n",
    "if angle == 90:\n",
    "    print('Right angle')\n",
    "else:\n",
    "    if angle > 0 and angle < 90:\n",
    "        print('Acute Angle')\n",
    "    else:\n",
    "        print('Obtuse angle')"
   ]
  },
  {
   "cell_type": "markdown",
   "id": "69c751fc",
   "metadata": {},
   "source": [
    "### <b> <font color = 'red'>17. Write a Python program to calculate the roots of a quadratic equation.\n",
    "\n"
   ]
  },
  {
   "cell_type": "markdown",
   "id": "64b27020",
   "metadata": {},
   "source": [
    "<p><b>Quadratic equation : ax<sup>2</sup> + bx + c<br>\n",
    "Discriminent d = b<sup>2</sup> - 4ac<br>\n",
    "    Roots : (-b + (d)<sup>1/2</sup>)/2a and (-b - (d)<sup>1/2</sup>)/2a<br> 1. if d < 0 'roots a are imaginary' <br> \n",
    "    2. if d > 0 'real and distinct roots'<br> \n",
    "    3. if d = 0 'Equal roots'</p></b>"
   ]
  },
  {
   "cell_type": "code",
   "execution_count": 17,
   "id": "da6fbb7e",
   "metadata": {},
   "outputs": [
    {
     "name": "stdin",
     "output_type": "stream",
     "text": [
      "a =  10\n",
      "b =  20\n",
      "c =  30\n"
     ]
    },
    {
     "name": "stdout",
     "output_type": "stream",
     "text": [
      "Roots =  (-100+141.4213562373095j) i  and  (-100-141.4213562373095j) i\n"
     ]
    }
   ],
   "source": [
    "a = int(input('a = '))\n",
    "b = int(input('b = '))\n",
    "c = int(input('c = '))\n",
    "\n",
    "d = (b**2) - (4*a*c)\n",
    "\n",
    "if d == 0:\n",
    "    print('Roots = ', (-b+(d)**(1/2))/2*a)\n",
    "else:\n",
    "    if d > 0:\n",
    "        print('Roots = ', (-b+(d)**(1/2))/2*a, ' and ', (-b - (d)**(1/2))/2*a)\n",
    "    else:\n",
    "        print('Roots = ', (-b+(d)**(1/2))/2*a, 'i', ' and ', (-b - (d)**(1/2))/2*a,'i')"
   ]
  },
  {
   "cell_type": "markdown",
   "id": "449fbbb3",
   "metadata": {},
   "source": [
    "### <b> <font color = 'red'>18. Implement a program to determine the day of the week based on a user-provided number (1 for Monday, 2 for Tuesday, etc.).\n",
    "\n"
   ]
  },
  {
   "cell_type": "code",
   "execution_count": 18,
   "id": "e9102f05",
   "metadata": {},
   "outputs": [
    {
     "name": "stdin",
     "output_type": "stream",
     "text": [
      "Day =  4\n"
     ]
    }
   ],
   "source": [
    "day = input('Day = ')\n",
    "\n",
    "if day == 'Monday':\n",
    "    print('1')\n",
    "else:\n",
    "    if day == 'Tuesday':\n",
    "        print('2')\n",
    "    if day == 'Wednesday':\n",
    "        print('3')\n",
    "    if day == 'Thursday':\n",
    "        print('4')\n",
    "    if day == 'Friday':\n",
    "        print('5')\n",
    "    if day == 'Saturday':\n",
    "        print('6')\n",
    "    if day == 'Sunday':\n",
    "        print('7')"
   ]
  },
  {
   "cell_type": "markdown",
   "id": "8b18e4de",
   "metadata": {},
   "source": [
    "### <b> <font color = 'red'>19. Create a program that determines if a year is a leap year and also if it is evenly divisible by 400.\n"
   ]
  },
  {
   "cell_type": "code",
   "execution_count": 19,
   "id": "607f53a0",
   "metadata": {},
   "outputs": [
    {
     "name": "stdin",
     "output_type": "stream",
     "text": [
      "Enter a year :  2024\n"
     ]
    },
    {
     "name": "stdout",
     "output_type": "stream",
     "text": [
      "It is a leap year\n"
     ]
    }
   ],
   "source": [
    "y = int(input('Enter a year : '))\n",
    "\n",
    "if((y % 400 == 0) or\n",
    "     (y % 100 != 0) and\n",
    "     (y % 4 == 0)):\n",
    "    print('It is a leap year')\n",
    "else:\n",
    "    print('It is not a leap year')\n",
    "    \n",
    "if y %400 == 0:\n",
    "    print('It is evenly divisible by 400')"
   ]
  },
  {
   "cell_type": "markdown",
   "id": "7648bbb7",
   "metadata": {},
   "source": [
    "### <b> <font color = 'red'>20. Develop a program that checks if a given number is prime or not using nested if-else statements.\n",
    "\n"
   ]
  },
  {
   "cell_type": "code",
   "execution_count": 20,
   "id": "95c731d1",
   "metadata": {},
   "outputs": [
    {
     "name": "stdin",
     "output_type": "stream",
     "text": [
      "Enter number :  19\n"
     ]
    },
    {
     "name": "stdout",
     "output_type": "stream",
     "text": [
      "19 is a prime number\n"
     ]
    }
   ],
   "source": [
    "num = int(input('Enter number : '))\n",
    "\n",
    "if num > 1:\n",
    "    for i in range(2, int(num/2)+1):\n",
    "        if (num % i) == 0:\n",
    "            print(num, \"is not a prime number\")\n",
    "            break\n",
    "    else:\n",
    "        print(num, \"is a prime number\")\n",
    "else:\n",
    "    print(num, \"is not a prime number\")"
   ]
  },
  {
   "cell_type": "markdown",
   "id": "302dfcf0",
   "metadata": {},
   "source": [
    "# <b> <font color = 'blue'>Elif Statements:"
   ]
  },
  {
   "cell_type": "markdown",
   "id": "8cddb51c",
   "metadata": {},
   "source": [
    "### <b> <font color = 'red'>21. Write a Python program to assign grades based on different ranges of scores using elif statements.\n",
    "\n"
   ]
  },
  {
   "cell_type": "code",
   "execution_count": 21,
   "id": "3b76f6b1",
   "metadata": {},
   "outputs": [
    {
     "name": "stdin",
     "output_type": "stream",
     "text": [
      "Enter score :  50\n"
     ]
    },
    {
     "name": "stdout",
     "output_type": "stream",
     "text": [
      "Gade : 'D'\n"
     ]
    }
   ],
   "source": [
    "S = int(input(\"Enter score : \"))\n",
    "\n",
    "if S > 100:\n",
    "    print('Invalid')\n",
    "elif S > 90:\n",
    "    print(\"Gade : 'O'\")\n",
    "elif S > 75:\n",
    "    print(\"Gade : 'A'\")\n",
    "elif S > 60:\n",
    "    print(\"Gade : 'B'\")\n",
    "elif S > 50:\n",
    "    print(\"Gade : 'C'\")\n",
    "elif S >=45:\n",
    "    print(\"Gade : 'D'\")\n",
    "else:\n",
    "    print('Fail')"
   ]
  },
  {
   "cell_type": "markdown",
   "id": "74a01f0b",
   "metadata": {},
   "source": [
    "### <b> <font color = 'red'>22. Implement a program to determine the type of a triangle based on its angles.\n",
    "\n"
   ]
  },
  {
   "cell_type": "code",
   "execution_count": 22,
   "id": "c580585c",
   "metadata": {},
   "outputs": [
    {
     "name": "stdin",
     "output_type": "stream",
     "text": [
      "a =  60\n",
      "b =  50\n",
      "c =  30\n"
     ]
    },
    {
     "name": "stdout",
     "output_type": "stream",
     "text": [
      "Triangle does not exist\n"
     ]
    }
   ],
   "source": [
    "# angles must sum exactly to 180\n",
    "# we are using the concept of lines and angles : if 2 lines are equal then they have equal and opposite angle\n",
    "\n",
    "a = int(input('a = '))\n",
    "b = int(input('b = '))\n",
    "c = int(input('c = '))\n",
    "\n",
    "if a + b+ c == 180:\n",
    "    if a == b and a == c:\n",
    "        print('Equilateral triangle')\n",
    "        \n",
    "    elif b == 90:\n",
    "        print('Right angled triangle')\n",
    "        \n",
    "    elif a != b or a != c:\n",
    "        print('Isosceles triangle')\n",
    "        \n",
    "    else:\n",
    "        print('Scalene triangle')\n",
    "\n",
    "else:\n",
    "    print('Triangle does not exist')"
   ]
  },
  {
   "cell_type": "markdown",
   "id": "a23274f9",
   "metadata": {},
   "source": [
    "### <b> <font color = 'red'>23. Develop a program to categorize a given person's BMI into underweight, normal, overweight, or obese using elif statements.\n",
    "\n"
   ]
  },
  {
   "cell_type": "markdown",
   "id": "31a8363e",
   "metadata": {},
   "source": [
    "<b>Underweight: Less than 18.5<br>\n",
    "Healthy weight: 18.5 to 24.9<br>\n",
    "Overweight: 25.0 to 29.9<br>\n",
    "Obese: 30.0 or higher<br>\n",
    "Formula: weight / heigth<sup>2</sup></b>\n",
    "\n"
   ]
  },
  {
   "cell_type": "code",
   "execution_count": 23,
   "id": "7391c15f",
   "metadata": {},
   "outputs": [
    {
     "name": "stdin",
     "output_type": "stream",
     "text": [
      "weight in kgs :  70.5\n",
      "height in m :  5.5\n"
     ]
    },
    {
     "name": "stdout",
     "output_type": "stream",
     "text": [
      "2.330578512396694  - Underweight\n"
     ]
    }
   ],
   "source": [
    "w = float(input('weight in kgs : '))\n",
    "h = float(input('height in m : '))\n",
    "\n",
    "bmi = w / h**2\n",
    "\n",
    "if bmi < 18.5:\n",
    "    print(bmi, ' - Underweight')\n",
    "elif bmi > 18.5 and bmi < 24.9:\n",
    "    print(bmi, ' - Normal')\n",
    "elif bmi > 25 and bmi < 29.9:\n",
    "    print(bmi, ' - Overweight')\n",
    "else:\n",
    "    print(bmi, ' - Obese')"
   ]
  },
  {
   "cell_type": "markdown",
   "id": "b2f29c5f",
   "metadata": {},
   "source": [
    "### <b> <font color = 'red'>24. Create a program that determines whether a given number is positive, negative, or zero using elif statements.\n",
    "\n"
   ]
  },
  {
   "cell_type": "code",
   "execution_count": 24,
   "id": "6922d9fa",
   "metadata": {},
   "outputs": [
    {
     "name": "stdin",
     "output_type": "stream",
     "text": [
      "Enter a number :  -8\n"
     ]
    },
    {
     "name": "stdout",
     "output_type": "stream",
     "text": [
      "Number is negative\n"
     ]
    }
   ],
   "source": [
    "Input = int(input('Enter a number : '))\n",
    "if Input < 0:\n",
    "    print('Number is negative')\n",
    "elif Input > 0:\n",
    "    print('Number is Positive')\n",
    "else:\n",
    "    print('Number is Zero')"
   ]
  },
  {
   "cell_type": "markdown",
   "id": "7484b3b9",
   "metadata": {},
   "source": [
    "### <b> <font color = 'red'>25. Write a Python script to determine the type of a character (uppercase, lowercase, or special) using elif statements.\n",
    "\n"
   ]
  },
  {
   "cell_type": "code",
   "execution_count": 25,
   "id": "e7f638b4",
   "metadata": {},
   "outputs": [
    {
     "name": "stdin",
     "output_type": "stream",
     "text": [
      "Enter a character h\n"
     ]
    },
    {
     "name": "stdout",
     "output_type": "stream",
     "text": [
      "h  is in lowercase\n"
     ]
    }
   ],
   "source": [
    "c = input('Enter a character')\n",
    "\n",
    "if c.isupper():\n",
    "    print(c, ' is in Uppercase')\n",
    "elif c.islower():\n",
    "    print(c, ' is in lowercase')\n",
    "else:\n",
    "    print(c, ' is a special character')"
   ]
  },
  {
   "cell_type": "markdown",
   "id": "a6384afa",
   "metadata": {},
   "source": [
    "### <b> <font color = 'red'>26. Implement a program to calculate the discounted price based on different purchase amounts using elif statements.\n",
    "\n"
   ]
  },
  {
   "cell_type": "code",
   "execution_count": 26,
   "id": "906e8fca",
   "metadata": {},
   "outputs": [
    {
     "name": "stdin",
     "output_type": "stream",
     "text": [
      "Enter the purchased amount :  1200\n"
     ]
    },
    {
     "name": "stdout",
     "output_type": "stream",
     "text": [
      "No discount at this purchase\n"
     ]
    }
   ],
   "source": [
    "amt = int(input('Enter the purchased amount : '))\n",
    "\n",
    "if amt > 5000:\n",
    "    print('20% discount')\n",
    "    print('Discounted price : ', amt - amt*.2)\n",
    "\n",
    "elif amt > 2500 and amt < 5000:\n",
    "    print('12% discount')\n",
    "    print('Discounted price : ', amt - amt*.12)\n",
    "    \n",
    "elif amt > 1500 and amt < 2500:\n",
    "    print('8% discount')\n",
    "    print('Discounted price : ', amt - amt*.8)\n",
    "    \n",
    "else:\n",
    "    print('No discount at this purchase')"
   ]
  },
  {
   "cell_type": "markdown",
   "id": "c8c1a774",
   "metadata": {},
   "source": [
    "### <b> <font color = 'red'>27. Develop a program to calculate the electricity bill based on different consumption slabs using elif statements.\n",
    "\n"
   ]
  },
  {
   "cell_type": "code",
   "execution_count": 27,
   "id": "507e15cd",
   "metadata": {},
   "outputs": [
    {
     "name": "stdin",
     "output_type": "stream",
     "text": [
      "Enter the amount of units/month :  400\n"
     ]
    },
    {
     "name": "stdout",
     "output_type": "stream",
     "text": [
      "rate = 8\n",
      "Electricity bill =  3200.0\n"
     ]
    }
   ],
   "source": [
    "unit = float(input('Enter the amount of units/month : '))\n",
    "\n",
    "if unit >= 400:\n",
    "    print('rate = 8')\n",
    "    print('Electricity bill = ', unit*8)\n",
    "    \n",
    "elif unit >= 350:\n",
    "    print('rate = 7')\n",
    "    print('Electricity bill = ', unit*7)\n",
    "    \n",
    "elif unit >= 250:\n",
    "    print('rate = 6')\n",
    "    print('Electricity bill = ', unit*6)\n",
    "    \n",
    "elif unit >= 150:\n",
    "    print('rate = 5')\n",
    "    print('Electricity bill = ', unit*5)\n",
    "    \n",
    "else:\n",
    "    print('rate = 4')\n",
    "    print('Electricity bill = ', unit*4)"
   ]
  },
  {
   "cell_type": "markdown",
   "id": "2725f93c",
   "metadata": {},
   "source": [
    "### <b> <font color = 'red'>28. Create a program to determine the type of quadrilateral based on its angles and sides using elif statements.\n",
    "\n"
   ]
  },
  {
   "cell_type": "code",
   "execution_count": 28,
   "id": "a0285971",
   "metadata": {},
   "outputs": [
    {
     "name": "stdin",
     "output_type": "stream",
     "text": [
      "Enter the length of side 1:  4\n",
      "Enter the length of side 2:  4\n",
      "Enter the length of side 3:  4\n",
      "Enter the length of side 4:  4\n",
      "Enter the measure of angle 1 (in degrees):  30\n",
      "Enter the measure of angle 2 (in degrees):  40\n",
      "Enter the measure of angle 3 (in degrees):  50\n",
      "Enter the measure of angle 4 (in degrees):  60\n"
     ]
    },
    {
     "name": "stdout",
     "output_type": "stream",
     "text": [
      "This is a generic quadrilateral.\n"
     ]
    }
   ],
   "source": [
    "# sides\n",
    "a = float(input(\"Enter the length of side 1: \"))\n",
    "b = float(input(\"Enter the length of side 2: \"))\n",
    "c = float(input(\"Enter the length of side 3: \"))\n",
    "d = float(input(\"Enter the length of side 4: \"))\n",
    "\n",
    "\n",
    "#angles\n",
    "A = float(input(\"Enter the measure of angle 1 (in degrees): \"))\n",
    "B = float(input(\"Enter the measure of angle 2 (in degrees): \"))\n",
    "C = float(input(\"Enter the measure of angle 3 (in degrees): \"))\n",
    "D = float(input(\"Enter the measure of angle 4 (in degrees): \"))\n",
    "\n",
    "# Check the type of quadrilateral\n",
    "if a == b == c == d and A == B == C == D == 90:\n",
    "    print(\"This is a square.\")\n",
    "elif a == c and b == d and A == B == C == D == 90:\n",
    "    print(\"This is a rectangle.\")\n",
    "elif a == b == c == d and A == C and B == D:\n",
    "    print(\"This is a rhombus.\")\n",
    "elif a == c and b == d and A == C and B == D:\n",
    "    print(\"This is a parallelogram.\")\n",
    "else:\n",
    "    print(\"This is a generic quadrilateral.\")"
   ]
  },
  {
   "cell_type": "markdown",
   "id": "616b5e5e",
   "metadata": {},
   "source": [
    "### <b> <font color = 'red'>29. Write a Python script to determine the season based on a user-provided month using elif statements.\n",
    "\n"
   ]
  },
  {
   "cell_type": "markdown",
   "id": "acb0b55c",
   "metadata": {},
   "source": [
    "<b>- Winter <br>\n",
    "<b>- spring <br>\n",
    "<b>- summer <br>\n",
    "<b>- monsoon <br>\n",
    "<b>- autumn <br>"
   ]
  },
  {
   "cell_type": "code",
   "execution_count": 29,
   "id": "62ad530c",
   "metadata": {},
   "outputs": [
    {
     "name": "stdin",
     "output_type": "stream",
     "text": [
      "Enter a month :  may\n"
     ]
    },
    {
     "name": "stdout",
     "output_type": "stream",
     "text": [
      "season = \"Summer\"\n"
     ]
    }
   ],
   "source": [
    "month = input(\"Enter a month : \")\n",
    "\n",
    "month = month.lower()\n",
    "\n",
    "# Determine the season using elif statements\n",
    "if month == \"december\" or month == \"january\":\n",
    "    print('season = \"Winter\"')\n",
    "elif month == \"february\" or month == \"march\" :\n",
    "    print('season = \"Spring\"')\n",
    "elif  month == \"april\" or month == \"may\" or month == \"june\":\n",
    "    print('season = \"Summer\"')\n",
    "elif month == \"july\" or month == \"august\":\n",
    "    print('season = \"Monsoon\"')\n",
    "elif month == \"september\" or month == \"october\" or month == \"november\":\n",
    "    print('season == \"Autumn\"')\n",
    "else:\n",
    "    print('season = \"Invalid month\"')"
   ]
  },
  {
   "cell_type": "markdown",
   "id": "e556c6d7",
   "metadata": {},
   "source": [
    "### <b> <font color = 'red'>30. Implement a program to determine the type of a year (leap or common) and month (30 or 31 days) using elif statements."
   ]
  },
  {
   "cell_type": "code",
   "execution_count": 30,
   "id": "7d21bfc2",
   "metadata": {},
   "outputs": [
    {
     "name": "stdin",
     "output_type": "stream",
     "text": [
      "Enter a year :  2034\n"
     ]
    },
    {
     "name": "stdout",
     "output_type": "stream",
     "text": [
      "It is not a leap year\n",
      "January, March, May, July, August, October December has 31 days.\n",
      "April, June, September, November has 30 days.\n",
      "February has 28 days.\n"
     ]
    }
   ],
   "source": [
    "y = int(input('Enter a year : '))\n",
    "\n",
    "if((y % 400 == 0) or\n",
    "     (y % 100 != 0) and\n",
    "     (y % 4 == 0)):\n",
    "    print('It is a leap year')\n",
    "    \n",
    "    print('January, March, May, July, August, October December has 31 days.')\n",
    "    print('April, June, September, November has 30 days.')\n",
    "    print('February has 29 days.')\n",
    "    \n",
    "    \n",
    "else:\n",
    "    print('It is not a leap year')\n",
    "    \n",
    "    print('January, March, May, July, August, October December has 31 days.')\n",
    "    print('April, June, September, November has 30 days.')\n",
    "    print('February has 28 days.')"
   ]
  },
  {
   "cell_type": "markdown",
   "id": "d1fd1e16",
   "metadata": {},
   "source": [
    "# <b> <font color = 'blue'>Basic Level:"
   ]
  },
  {
   "cell_type": "markdown",
   "id": "1bc87bde",
   "metadata": {},
   "source": [
    "### <b> <font color = 'red'>1. Write a Python program that checks if a given number is positive, negative, or zero.\n",
    "\n"
   ]
  },
  {
   "cell_type": "code",
   "execution_count": 31,
   "id": "7ca10e00",
   "metadata": {},
   "outputs": [
    {
     "name": "stdin",
     "output_type": "stream",
     "text": [
      "Enter a number :  5\n"
     ]
    },
    {
     "name": "stdout",
     "output_type": "stream",
     "text": [
      "Number is Positive\n"
     ]
    }
   ],
   "source": [
    "Input = int(input('Enter a number : '))\n",
    "if Input < 0:\n",
    "    print('Number is negative')\n",
    "elif Input > 0:\n",
    "    print('Number is Positive')\n",
    "else:\n",
    "    print('Number is Zero')"
   ]
  },
  {
   "cell_type": "markdown",
   "id": "88eeb3b0",
   "metadata": {},
   "source": [
    "### <b> <font color = 'red'>2. Create a program to determine if a person is eligible to vote based on their age.\n",
    "\n"
   ]
  },
  {
   "cell_type": "code",
   "execution_count": 32,
   "id": "989724df",
   "metadata": {},
   "outputs": [
    {
     "name": "stdin",
     "output_type": "stream",
     "text": [
      "Enter a number :  18\n"
     ]
    },
    {
     "name": "stdout",
     "output_type": "stream",
     "text": [
      "Person is eligible to vote\n"
     ]
    }
   ],
   "source": [
    "Input = int(input(\"Enter a number : \"))\n",
    "if Input >= 18:\n",
    "    print('Person is eligible to vote')\n",
    "else:\n",
    "    print('Person is not eligible to vote')"
   ]
  },
  {
   "cell_type": "markdown",
   "id": "fc6f7c60",
   "metadata": {},
   "source": [
    "### <b> <font color = 'red'>3. Write a program to find the maximum of two given numbers using conditional statements.\n",
    "\n"
   ]
  },
  {
   "cell_type": "code",
   "execution_count": 33,
   "id": "c5c205d5",
   "metadata": {},
   "outputs": [
    {
     "name": "stdin",
     "output_type": "stream",
     "text": [
      "Enter number 'A' :  50\n",
      "Enter number 'B' :  70\n"
     ]
    },
    {
     "name": "stdout",
     "output_type": "stream",
     "text": [
      "B is maximum\n"
     ]
    }
   ],
   "source": [
    "Input1 = int(input(\"Enter number 'A' : \"))\n",
    "Input2 = int(input(\"Enter number 'B' : \"))\n",
    "\n",
    "if Input1 > Input2:\n",
    "    print('A is maximum')\n",
    "elif Input2 > Input1:\n",
    "    print('B is maximum')\n",
    "else:\n",
    "    print('A and B are equal')"
   ]
  },
  {
   "cell_type": "markdown",
   "id": "6e9170b8",
   "metadata": {},
   "source": [
    "### <b> <font color = 'red'>4. Develop a program that calculates the grade of a student based on their exam score.\n",
    "\n"
   ]
  },
  {
   "cell_type": "code",
   "execution_count": 34,
   "id": "89ccef6f",
   "metadata": {},
   "outputs": [
    {
     "name": "stdin",
     "output_type": "stream",
     "text": [
      "Enter score :  70\n"
     ]
    },
    {
     "name": "stdout",
     "output_type": "stream",
     "text": [
      "Grade : 'B'\n"
     ]
    }
   ],
   "source": [
    "S = int(input(\"Enter score : \"))\n",
    "\n",
    "if S > 100:\n",
    "    print('Invalid')\n",
    "elif S > 90:\n",
    "    print(\"Grade : 'O'\")\n",
    "elif S > 75:\n",
    "    print(\"Grade : 'A'\")\n",
    "elif S > 60:\n",
    "    print(\"Grade : 'B'\")\n",
    "elif S > 50:\n",
    "    print(\"Grade : 'C'\")\n",
    "elif S >=45:\n",
    "    print(\"Grade : 'D'\")\n",
    "else:\n",
    "    print('Fail')"
   ]
  },
  {
   "cell_type": "markdown",
   "id": "9ee8c802",
   "metadata": {},
   "source": [
    "### <b> <font color = 'red'>5. Create a program that checks if a year is a leap year or not.\n",
    "\n"
   ]
  },
  {
   "cell_type": "code",
   "execution_count": 35,
   "id": "3e9938a8",
   "metadata": {},
   "outputs": [
    {
     "name": "stdin",
     "output_type": "stream",
     "text": [
      "Enter a year :  2019\n"
     ]
    },
    {
     "name": "stdout",
     "output_type": "stream",
     "text": [
      "It is not a leap year\n"
     ]
    }
   ],
   "source": [
    "y = int(input('Enter a year : '))\n",
    "\n",
    "if((y % 400 == 0) or\n",
    "     (y % 100 != 0) and\n",
    "     (y % 4 == 0)):\n",
    "    print('It is a leap year')\n",
    "else:\n",
    "    print('It is not a leap year')"
   ]
  },
  {
   "cell_type": "markdown",
   "id": "6065c05b",
   "metadata": {},
   "source": [
    "### <b> <font color = 'red'>6. Write a program to classify a triangle based on its sides' lengths.\n",
    "\n"
   ]
  },
  {
   "cell_type": "code",
   "execution_count": 36,
   "id": "d2c661ba",
   "metadata": {},
   "outputs": [
    {
     "name": "stdin",
     "output_type": "stream",
     "text": [
      "Enter side 'A' :  40\n",
      "Enter side 'B' :  50\n",
      "Enter side 'C' :  60\n"
     ]
    },
    {
     "name": "stdout",
     "output_type": "stream",
     "text": [
      "Isosceles Triangle\n"
     ]
    }
   ],
   "source": [
    "A = int(input(\"Enter side 'A' : \"))\n",
    "B = int(input(\"Enter side 'B' : \"))\n",
    "C = int(input(\"Enter side 'C' : \"))\n",
    "\n",
    "if A == B and A == C:\n",
    "    print('Equilateral Triangle')\n",
    "else:\n",
    "    if A != B or A != C or B != C:\n",
    "        print('Isosceles Triangle')\n",
    "    else:\n",
    "        print('Scalene Triangle')"
   ]
  },
  {
   "cell_type": "markdown",
   "id": "9dee197a",
   "metadata": {},
   "source": [
    "### <b> <font color = 'red'>7. Build a program that determines the largest of three given numbers.\n",
    "\n"
   ]
  },
  {
   "cell_type": "code",
   "execution_count": 38,
   "id": "83a7f94d",
   "metadata": {},
   "outputs": [
    {
     "name": "stdin",
     "output_type": "stream",
     "text": [
      "Enter number 'A' :  10\n",
      "Enter number 'B' :  20\n",
      "Enter number 'C' :  30\n"
     ]
    },
    {
     "name": "stdout",
     "output_type": "stream",
     "text": [
      "C is the largest\n"
     ]
    }
   ],
   "source": [
    "A = int(input(\"Enter number 'A' : \"))\n",
    "B = int(input(\"Enter number 'B' : \"))\n",
    "C = int(input(\"Enter number 'C' : \"))\n",
    "\n",
    "if A > B and A > C:\n",
    "    print('A is the largest')\n",
    "else:\n",
    "    if B > C:\n",
    "        print('B is the largest')\n",
    "    else:\n",
    "        print('C is the largest')"
   ]
  },
  {
   "cell_type": "markdown",
   "id": "8c5dab74",
   "metadata": {},
   "source": [
    "### <b> <font color = 'red'>8. Develop a program that checks whether a character is a vowel or a consonant.\n",
    "\n"
   ]
  },
  {
   "cell_type": "code",
   "execution_count": 39,
   "id": "17e6b8ab",
   "metadata": {},
   "outputs": [
    {
     "name": "stdin",
     "output_type": "stream",
     "text": [
      "Enter a character :  a\n"
     ]
    },
    {
     "name": "stdout",
     "output_type": "stream",
     "text": [
      "Character is a vowel\n"
     ]
    }
   ],
   "source": [
    "c = input('Enter a character : ')\n",
    "v = \"AEIOUaeiou\"\n",
    "\n",
    "if(c in v):\n",
    "    print('Character is a vowel')\n",
    "else:\n",
    "    print('Character is a consonant')"
   ]
  },
  {
   "cell_type": "markdown",
   "id": "158e23ae",
   "metadata": {},
   "source": [
    "### <b> <font color = 'red'>9. Create a program to calculate the total cost of a shopping cart based on discounts.\n",
    "\n"
   ]
  },
  {
   "cell_type": "code",
   "execution_count": 40,
   "id": "ac4a5c04",
   "metadata": {},
   "outputs": [
    {
     "name": "stdin",
     "output_type": "stream",
     "text": [
      "Enter the purchased amount :  1500\n"
     ]
    },
    {
     "name": "stdout",
     "output_type": "stream",
     "text": [
      "No discount at this purchase\n"
     ]
    }
   ],
   "source": [
    "amt = int(input('Enter the purchased amount : '))\n",
    "\n",
    "if amt > 5000:\n",
    "    print('20% discount')\n",
    "    print('Discounted price : ', amt - amt*.2)\n",
    "\n",
    "elif amt > 2500 and amt < 5000:\n",
    "    print('12% discount')\n",
    "    print('Discounted price : ', amt - amt*.12)\n",
    "    \n",
    "elif amt > 1500 and amt < 2500:\n",
    "    print('8% discount')\n",
    "    print('Discounted price : ', amt - amt*.8)\n",
    "    \n",
    "else:\n",
    "    print('No discount at this purchase')"
   ]
  },
  {
   "cell_type": "markdown",
   "id": "06d56b0a",
   "metadata": {},
   "source": [
    "### <b> <font color = 'red'>10. Write a program that checks if a given number is even or odd.\n"
   ]
  },
  {
   "cell_type": "code",
   "execution_count": 41,
   "id": "2f99dde1",
   "metadata": {},
   "outputs": [
    {
     "name": "stdin",
     "output_type": "stream",
     "text": [
      "Enter a number :  9\n"
     ]
    },
    {
     "name": "stdout",
     "output_type": "stream",
     "text": [
      "Number is odd\n"
     ]
    }
   ],
   "source": [
    "Input = int(input('Enter a number : '))\n",
    "if Input % 2 == 0:\n",
    "    print('Number is even')\n",
    "else:\n",
    "    print('Number is odd')"
   ]
  },
  {
   "cell_type": "markdown",
   "id": "fcdb31b5",
   "metadata": {},
   "source": [
    "# <b> <font color = 'blue'>Intermediate Level:"
   ]
  },
  {
   "cell_type": "markdown",
   "id": "18edc4c7",
   "metadata": {},
   "source": [
    "### <b> <font color = 'red'>11. Write a program that calculates the roots of a quadratic equation .\n",
    "\n"
   ]
  },
  {
   "cell_type": "markdown",
   "id": "d845c9c1",
   "metadata": {},
   "source": [
    "<b>- a is coefficient of x <sup>2</sup><br>\n",
    "<b>- b is coefficient of x<br>\n",
    "<b>- c is a constant<br>\n",
    "<b>- ax <sup>2</sup> + bx + c<br>"
   ]
  },
  {
   "cell_type": "code",
   "execution_count": 42,
   "id": "16237311",
   "metadata": {},
   "outputs": [
    {
     "name": "stdin",
     "output_type": "stream",
     "text": [
      "a =  4\n",
      "b =  4\n",
      "c =  4\n"
     ]
    },
    {
     "name": "stdout",
     "output_type": "stream",
     "text": [
      "Roots =  (-7.999999999999999+13.856406460551018j) i  and  (-8-13.856406460551018j) i\n"
     ]
    }
   ],
   "source": [
    "a = int(input('a = '))\n",
    "b = int(input('b = '))\n",
    "c = int(input('c = '))\n",
    "\n",
    "d = (b**2) - (4*a*c)\n",
    "\n",
    "if d == 0:\n",
    "    print('Roots = ', (-b+(d)**(1/2))/2*a)\n",
    "else:\n",
    "    if d > 0:\n",
    "        print('Roots = ', (-b+(d)**(1/2))/2*a, ' and ', (-b - (d)**(1/2))/2*a)\n",
    "    else:\n",
    "        print('Roots = ', (-b+(d)**(1/2))/2*a, 'i', ' and ', (-b - (d)**(1/2))/2*a,'i')"
   ]
  },
  {
   "cell_type": "markdown",
   "id": "8c7cace1",
   "metadata": {},
   "source": [
    "### <b> <font color = 'red'>12. Create a program that determines the day of the week based on the day number (1-7)."
   ]
  },
  {
   "cell_type": "code",
   "execution_count": 45,
   "id": "3feea1f7",
   "metadata": {},
   "outputs": [
    {
     "name": "stdin",
     "output_type": "stream",
     "text": [
      "Day =  Monday\n"
     ]
    },
    {
     "name": "stdout",
     "output_type": "stream",
     "text": [
      "1\n"
     ]
    }
   ],
   "source": [
    "day = input('Day = ')\n",
    "\n",
    "if day == 'Monday':\n",
    "    print('1')\n",
    "else:\n",
    "    if day == 'Tuesday':\n",
    "        print('2')\n",
    "    if day == 'Wednesday':\n",
    "        print('3')\n",
    "    if day == 'Thursday':\n",
    "        print('4')\n",
    "    if day == 'Friday':\n",
    "        print('5')\n",
    "    if day == 'Saturday':\n",
    "        print('6')\n",
    "    if day == 'Sunday':\n",
    "        print('7')"
   ]
  },
  {
   "cell_type": "markdown",
   "id": "28e3ef31",
   "metadata": {},
   "source": [
    "### <b> <font color = 'red'>13. Develop a program that calculates the factorial of a given number using recursion."
   ]
  },
  {
   "cell_type": "code",
   "execution_count": 46,
   "id": "943337f6",
   "metadata": {},
   "outputs": [
    {
     "name": "stdin",
     "output_type": "stream",
     "text": [
      "Enter the number :  4\n"
     ]
    },
    {
     "name": "stdout",
     "output_type": "stream",
     "text": [
      "Factorial of, 4 is 24\n"
     ]
    }
   ],
   "source": [
    "n = int(input('Enter the number : '))\n",
    "\n",
    "def fact(n):\n",
    "    if n == 1:\n",
    "        return n\n",
    "    else:\n",
    "        return n * fact(n-1)\n",
    "    \n",
    "print('Factorial of,', n, 'is', fact(n))"
   ]
  },
  {
   "cell_type": "markdown",
   "id": "1e0018e9",
   "metadata": {},
   "source": [
    "### <b> <font color = 'red'>14. Write a program to find the largest among three numbers without using the `max()` function."
   ]
  },
  {
   "cell_type": "code",
   "execution_count": 47,
   "id": "1bea6e7c",
   "metadata": {},
   "outputs": [
    {
     "name": "stdin",
     "output_type": "stream",
     "text": [
      "Enter number 'A' :  10\n",
      "Enter number 'B' :  20\n",
      "Enter number 'C' :  30\n"
     ]
    },
    {
     "name": "stdout",
     "output_type": "stream",
     "text": [
      "C is maximum\n"
     ]
    }
   ],
   "source": [
    "A = int(input(\"Enter number 'A' : \"))\n",
    "B = int(input(\"Enter number 'B' : \"))\n",
    "C = int(input(\"Enter number 'C' : \"))\n",
    "\n",
    "if A > B and A > C:\n",
    "    print('A is maximum')\n",
    "else:\n",
    "    if B > C:\n",
    "        print('B is maximum')\n",
    "    else:\n",
    "        print('C is maximum')"
   ]
  },
  {
   "cell_type": "markdown",
   "id": "f68f6f7a",
   "metadata": {},
   "source": [
    "### <b> <font color = 'red'>15. Create a program that simulates a basic ATM transaction menu."
   ]
  },
  {
   "cell_type": "code",
   "execution_count": 50,
   "id": "ff3c271e",
   "metadata": {},
   "outputs": [
    {
     "name": "stdout",
     "output_type": "stream",
     "text": [
      "press 1 to check balance\n",
      "press 2 to deposit money\n",
      "press 3 to withdraw money\n",
      "press 4 to Exit\n"
     ]
    },
    {
     "name": "stdin",
     "output_type": "stream",
     "text": [
      "Enter one of the above choices:  3\n",
      "Enter the amount to withdraw: Rs 1\n"
     ]
    },
    {
     "name": "stdout",
     "output_type": "stream",
     "text": [
      "Insufficient funds!\n",
      "press 1 to check balance\n",
      "press 2 to deposit money\n",
      "press 3 to withdraw money\n",
      "press 4 to Exit\n"
     ]
    },
    {
     "name": "stdin",
     "output_type": "stream",
     "text": [
      "Enter one of the above choices:  2\n",
      "Enter the amount to deposit: Rs 1500\n"
     ]
    },
    {
     "name": "stdout",
     "output_type": "stream",
     "text": [
      "Deposited Rs 1500.0 successfully.\n",
      "press 1 to check balance\n",
      "press 2 to deposit money\n",
      "press 3 to withdraw money\n",
      "press 4 to Exit\n"
     ]
    },
    {
     "name": "stdin",
     "output_type": "stream",
     "text": [
      "Enter one of the above choices:  1\n"
     ]
    },
    {
     "name": "stdout",
     "output_type": "stream",
     "text": [
      "Your account balance is Rs 1500.0\n",
      "press 1 to check balance\n",
      "press 2 to deposit money\n",
      "press 3 to withdraw money\n",
      "press 4 to Exit\n"
     ]
    },
    {
     "name": "stdin",
     "output_type": "stream",
     "text": [
      "Enter one of the above choices:  3\n",
      "Enter the amount to withdraw: Rs 1000\n"
     ]
    },
    {
     "name": "stdout",
     "output_type": "stream",
     "text": [
      "Withdrew Rs 1000.0 successfully.\n",
      "press 1 to check balance\n",
      "press 2 to deposit money\n",
      "press 3 to withdraw money\n",
      "press 4 to Exit\n"
     ]
    },
    {
     "name": "stdin",
     "output_type": "stream",
     "text": [
      "Enter one of the above choices:  1\n"
     ]
    },
    {
     "name": "stdout",
     "output_type": "stream",
     "text": [
      "Your account balance is Rs 500.0\n",
      "press 1 to check balance\n",
      "press 2 to deposit money\n",
      "press 3 to withdraw money\n",
      "press 4 to Exit\n"
     ]
    },
    {
     "name": "stdin",
     "output_type": "stream",
     "text": [
      "Enter one of the above choices:  4\n"
     ]
    },
    {
     "name": "stdout",
     "output_type": "stream",
     "text": [
      "Exiting...\n"
     ]
    }
   ],
   "source": [
    "bal = 0.00  # This variable should persist, but in this basic script, it won't across runs\n",
    "\n",
    "while True:\n",
    "    print('press 1 to check balance')\n",
    "    print('press 2 to deposit money')\n",
    "    print('press 3 to withdraw money')\n",
    "    print('press 4 to Exit')\n",
    "\n",
    "    choice = input(\"Enter one of the above choices: \")\n",
    "\n",
    "    if choice == \"1\":\n",
    "        print('Your account balance is Rs', bal)\n",
    "\n",
    "    elif choice == \"2\":\n",
    "        amount = float(input(\"Enter the amount to deposit: Rs\"))\n",
    "        bal += amount\n",
    "        print('Deposited Rs', amount, 'successfully.')\n",
    "\n",
    "    elif choice == \"3\":\n",
    "        amount = float(input(\"Enter the amount to withdraw: Rs\"))\n",
    "        if amount <= bal:\n",
    "            bal -= amount\n",
    "            print('Withdrew Rs', amount, 'successfully.')\n",
    "        else:\n",
    "            print(\"Insufficient funds!\")\n",
    "\n",
    "    elif choice == \"4\":\n",
    "        print('Exiting...')\n",
    "        break  # This will exit the loop and end the program\n",
    "\n",
    "    else:\n",
    "        print('Invalid choice. Please select a valid option.')"
   ]
  },
  {
   "cell_type": "markdown",
   "id": "40a814df",
   "metadata": {},
   "source": [
    "### <b> <font color = 'red'>16. Build a program that checks if a given string is a palindrome or not.\n",
    "\n"
   ]
  },
  {
   "cell_type": "code",
   "execution_count": 51,
   "id": "5b0ff094",
   "metadata": {},
   "outputs": [
    {
     "name": "stdin",
     "output_type": "stream",
     "text": [
      "Enter a string :  wow\n"
     ]
    },
    {
     "name": "stdout",
     "output_type": "stream",
     "text": [
      "wow  is a palindrome.\n"
     ]
    }
   ],
   "source": [
    "String = input(\"Enter a string : \")\n",
    "\n",
    "lower = String.lower()\n",
    "\n",
    "if lower == lower[::-1]:\n",
    "    print(String, \" is a palindrome.\")\n",
    "else:\n",
    "    print(String, (\" is not a palindrome.\"))"
   ]
  },
  {
   "cell_type": "markdown",
   "id": "261a5f1c",
   "metadata": {},
   "source": [
    "### <b> <font color = 'red'>17. Write a program that calculates the average of a list of numbers, excluding the smallest and largest values.\n",
    "\n"
   ]
  },
  {
   "cell_type": "code",
   "execution_count": 53,
   "id": "17f5f166",
   "metadata": {},
   "outputs": [
    {
     "name": "stdin",
     "output_type": "stream",
     "text": [
      "Enter numbers with spaces :  10 20 30 40\n"
     ]
    },
    {
     "name": "stdout",
     "output_type": "stream",
     "text": [
      "Average =  25.0\n"
     ]
    }
   ],
   "source": [
    "l = input('Enter numbers with spaces : ').split()\n",
    "sum = 0\n",
    "\n",
    "if len(l) < 3:\n",
    "    print('Input atleast 3 numbers.')\n",
    "    \n",
    "else:\n",
    "    s = min(l)\n",
    "    m = max(l)\n",
    "    l.remove(s)\n",
    "    l.remove(m)\n",
    "    \n",
    "    for i in l:\n",
    "        sum += int(i)\n",
    "    \n",
    "print('Average = ', sum/len(l))"
   ]
  },
  {
   "cell_type": "markdown",
   "id": "b88b14e2",
   "metadata": {},
   "source": [
    "### <b> <font color = 'red'>18. Develop a program that converts a given temperature from Celsius to Fahrenheit."
   ]
  },
  {
   "cell_type": "code",
   "execution_count": 54,
   "id": "8d285ea4",
   "metadata": {},
   "outputs": [
    {
     "name": "stdin",
     "output_type": "stream",
     "text": [
      "Temperature in Celcius =  30\n"
     ]
    },
    {
     "name": "stdout",
     "output_type": "stream",
     "text": [
      "Temperature in Fahrenheit =  86.0\n"
     ]
    }
   ],
   "source": [
    "C = float(input(\"Temperature in Celcius = \"))\n",
    "\n",
    "F = (1.8 * C) + 32\n",
    "print(\"Temperature in Fahrenheit = \", F)"
   ]
  },
  {
   "cell_type": "markdown",
   "id": "fd01c4d0",
   "metadata": {},
   "source": [
    "### <b> <font color = 'red'>19. Create a program that simulates a basic calculator for addition, subtraction, multiplication, and division.\n",
    "\n"
   ]
  },
  {
   "cell_type": "code",
   "execution_count": 55,
   "id": "87dd4667",
   "metadata": {},
   "outputs": [
    {
     "name": "stdin",
     "output_type": "stream",
     "text": [
      "a =  10\n",
      "b =  20\n"
     ]
    },
    {
     "name": "stdout",
     "output_type": "stream",
     "text": [
      "Press '+' for addition\n",
      "Press '-' for subtraction\n",
      "Press '*' for multiplication\n",
      "Press '/' for division\n",
      "Press '//' for floor division\n",
      "Press '%' to get remainder\n",
      "Press '**' to get power of the number\n"
     ]
    },
    {
     "name": "stdin",
     "output_type": "stream",
     "text": [
      "Press one of the above operators +\n"
     ]
    },
    {
     "name": "stdout",
     "output_type": "stream",
     "text": [
      "30\n"
     ]
    }
   ],
   "source": [
    "a = int(input('a = '))\n",
    "b = int(input('b = '))\n",
    "\n",
    "print(\"Press '+' for addition\")\n",
    "print(\"Press '-' for subtraction\")\n",
    "print(\"Press '*' for multiplication\")\n",
    "print(\"Press '/' for division\")\n",
    "print(\"Press '//' for floor division\")\n",
    "print(\"Press '%' to get remainder\")\n",
    "print(\"Press '**' to get power of the number\")\n",
    "\n",
    "choice = input('Press one of the above operators')\n",
    "\n",
    "if choice == '+':\n",
    "    print(a+b)\n",
    "    \n",
    "elif choice == '-':\n",
    "    print(a-b)\n",
    "\n",
    "elif choice == '*':\n",
    "    print(a*b)\n",
    "    \n",
    "elif choice == '/':\n",
    "    print(a/b)\n",
    "    \n",
    "elif choice == '//':\n",
    "    print(a//b)\n",
    "    \n",
    "elif choice == '%':\n",
    "    print(a%b)\n",
    "    \n",
    "elif choice == '**':\n",
    "    print(a**b)\n",
    "    \n",
    "else:\n",
    "    print('Press the correct operator')\n"
   ]
  },
  {
   "cell_type": "markdown",
   "id": "4ef8e71d",
   "metadata": {},
   "source": [
    "### <b> <font color = 'red'>20. Write a program that determines the roots of a cubic equation using the Cardano formula.\n"
   ]
  },
  {
   "cell_type": "code",
   "execution_count": 56,
   "id": "66c206e8",
   "metadata": {},
   "outputs": [
    {
     "name": "stdout",
     "output_type": "stream",
     "text": [
      "The roots are: (0.951373035591442+5.111928049733164j), (-3.475686517795721-2.555964024866582j), (-3.475686517795721-2.555964024866582j)\n"
     ]
    }
   ],
   "source": [
    "import math\n",
    "\n",
    "def cubic_roots(a, b, c, d):\n",
    "    if a == 0:\n",
    "        if b == 0:\n",
    "            if c == 0:\n",
    "                print(\"This is not an equation.\")\n",
    "            else:\n",
    "                root = -d / c\n",
    "                print(f\"The root is: {root}\")\n",
    "        else:\n",
    "            p = c / b\n",
    "            q = d / b\n",
    "            discriminant = p ** 2 - 3 * q\n",
    "            if discriminant > 0:\n",
    "                u = (-q + math.sqrt(discriminant))**(1/3)\n",
    "                v = (-q - math.sqrt(discriminant))**(1/3)\n",
    "                root1 = u + v\n",
    "                root2 = -(u + v) / 2\n",
    "                root3 = -(u + v) / 2\n",
    "                print(f\"The roots are: {root1}, {root2}, {root3}\")\n",
    "            elif discriminant == 0:\n",
    "                root1 = -p / 3\n",
    "                root2 = -(p / 3)\n",
    "                root3 = -(p / 3)\n",
    "                print(f\"The roots are: {root1}, {root2}, {root3}\")\n",
    "            else:\n",
    "                r = math.sqrt(-discriminant)\n",
    "                theta = math.acos(-q / (p * r))\n",
    "                root1 = 2 * math.sqrt(-p / 3) * math.cos(theta / 3) - p / 3\n",
    "                root2 = 2 * math.sqrt(-p / 3) * math.cos((theta + 2 * math.pi) / 3) - p / 3\n",
    "                root3 = 2 * math.sqrt(-p / 3) * math.cos((theta + 4 * math.pi) / 3) - p / 3\n",
    "                print(f\"The roots are: {root1}, {root2}, {root3}\")\n",
    "    else:\n",
    "        p = (3 * a * c - b**2) / (3 * a**2)\n",
    "        q = (2 * b**3 - 9 * a * b * c + 27 * a**2 * d) / (27 * a**3)\n",
    "        discriminant = (q / 2)**2 + (p / 3)**3\n",
    "        \n",
    "        if discriminant > 0:\n",
    "            u = (-q / 2 + math.sqrt(discriminant))**(1/3)\n",
    "            v = (-q / 2 - math.sqrt(discriminant))**(1/3)\n",
    "            root1 = u + v - b / (3 * a)\n",
    "            root2 = -(u + v) / 2 - b / (3 * a)\n",
    "            root3 = -(u + v) / 2 - b / (3 * a)\n",
    "            print(f\"The roots are: {root1}, {root2}, {root3}\")\n",
    "        elif discriminant == 0:\n",
    "            if q < 0:\n",
    "                root1 = 2 * math.sqrt(-p / 3) - b / (3 * a)\n",
    "                root2 = -math.sqrt(-p / 3) - b / (3 * a)\n",
    "                root3 = -math.sqrt(-p / 3) - b / (3 * a)\n",
    "                print(f\"The roots are: {root1}, {root2}, {root3}\")\n",
    "            else:\n",
    "                root1 = -2 * math.sqrt(-p / 3) - b / (3 * a)\n",
    "                root2 = math.sqrt(-p / 3) - b / (3 * a)\n",
    "                root3 = math.sqrt(-p / 3) - b / (3 * a)\n",
    "                print(f\"The roots are: {root1}, {root2}, {root3}\")\n",
    "        else:\n",
    "            r = math.sqrt(-(p / 3)**3)\n",
    "            theta = math.acos(-(q / 2) / r)\n",
    "            root1 = 2 * math.sqrt(-p / 3) * math.cos(theta / 3) - b / (3 * a)\n",
    "            root2 = 2 * math.sqrt(-p / 3) * math.cos((theta + 2 * math.pi) / 3) - b / (3 * a)\n",
    "            root3 = 2 * math.sqrt(-p / 3) * math.cos((theta + 4 * math.pi) / 3) - b / (3 * a)\n",
    "            print(f\"The roots are: {root1}, {root2}, {root3}\")\n",
    "            \n",
    "cubic_roots(1,6,-12,24)"
   ]
  },
  {
   "cell_type": "markdown",
   "id": "427a2d30",
   "metadata": {},
   "source": [
    "# <b> <font color = 'blue'>Advanced Level:"
   ]
  },
  {
   "cell_type": "markdown",
   "id": "662215ca",
   "metadata": {},
   "source": [
    "### <b> <font color = 'red'>21. Create a program that calculates the income tax based on the user's income and tax brackets.\n"
   ]
  },
  {
   "cell_type": "code",
   "execution_count": 60,
   "id": "cc625926",
   "metadata": {},
   "outputs": [
    {
     "name": "stdin",
     "output_type": "stream",
     "text": [
      "Enter Income in Rs : 400000\n"
     ]
    },
    {
     "name": "stdout",
     "output_type": "stream",
     "text": [
      "Tax =  20000.0\n"
     ]
    }
   ],
   "source": [
    "income = int(input('Enter Income in Rs :'))\n",
    "tax = 0\n",
    "\n",
    "if income <= 300000:\n",
    "    print('Exempt from tax')\n",
    "    \n",
    "elif(income >= 300001  and income <= 600000):\n",
    "    tax = income * .05\n",
    "    print('Tax = ', tax)\n",
    "    \n",
    "elif(income >= 600001  and income <= 900000):\n",
    "    tax = income * .1\n",
    "    print('Tax = ', tax)\n",
    "    \n",
    "elif(income >= 900001  and income <= 1200000):\n",
    "    tax = income * .15\n",
    "    print('Tax = ', tax)\n",
    "    \n",
    "elif(income >= 1200001  and income <= 1500000):\n",
    "    tax = income * .2\n",
    "    print('Tax = ', tax)\n",
    "    \n",
    "else:\n",
    "    tax = income * .3\n",
    "    print('Tax = ', tax)"
   ]
  },
  {
   "cell_type": "markdown",
   "id": "df06712d",
   "metadata": {},
   "source": [
    "### <b> <font color = 'red'>22. Write a program that simulates a rock-paper-scissors game against the computer.\n",
    "\n"
   ]
  },
  {
   "cell_type": "code",
   "execution_count": 61,
   "id": "ee2f811a",
   "metadata": {},
   "outputs": [
    {
     "name": "stdin",
     "output_type": "stream",
     "text": [
      "Make a coice : rock/ paper/ scissors :  rock\n",
      "Make a coice : rock/ paper/ scissors :  paper\n"
     ]
    },
    {
     "name": "stdout",
     "output_type": "stream",
     "text": [
      "1 points to computer\n"
     ]
    }
   ],
   "source": [
    "user = input(\"Make a coice : rock/ paper/ scissors : \")\n",
    "computer = input(\"Make a coice : rock/ paper/ scissors : \")\n",
    "user.lower()\n",
    "computer.lower()\n",
    "\n",
    "if user == 'rock' and computer == 'paper':\n",
    "    print('1 points to computer')\n",
    "    \n",
    "elif user == 'paper' and computer == 'scissors':\n",
    "    print('1 points to computer')\n",
    "    \n",
    "elif user == 'scissors' and computer == 'rock':\n",
    "    print('1 points to computer')\n",
    "    \n",
    "elif user == 'rock' and computer == 'scissors':\n",
    "    print('1 points to user')\n",
    "    \n",
    "elif user == 'scissors' and computer == 'paper':\n",
    "    print('1 points to user')\n",
    "    \n",
    "elif user == 'paper' and computer == 'rock':\n",
    "    print('1 points to user')\n",
    "    \n",
    "else:\n",
    "    print('Its a tie!!')"
   ]
  },
  {
   "cell_type": "markdown",
   "id": "6de032d1",
   "metadata": {},
   "source": [
    "### <b> <font color = 'red'>23. Develop a program that generates a random password based on user preferences (length, complexity).\n",
    "\n"
   ]
  },
  {
   "cell_type": "code",
   "execution_count": 63,
   "id": "0616771c",
   "metadata": {},
   "outputs": [
    {
     "name": "stdin",
     "output_type": "stream",
     "text": [
      "Enter the length of the password :  8\n",
      "Enter complexity (e for easy/ m for medium / d for difficult : ) d\n"
     ]
    },
    {
     "name": "stdout",
     "output_type": "stream",
     "text": [
      "Password :  _LQ[SZdw\n"
     ]
    }
   ],
   "source": [
    "import random\n",
    "import string\n",
    "\n",
    "length = int(input('Enter the length of the password : '))\n",
    "complexity = input('Enter complexity (e for easy/ m for medium / d for difficult : )')\n",
    "\n",
    "if complexity == 'e':\n",
    "    characters = string.ascii_letters  # Only letters (lowercase and uppercase)\n",
    "elif complexity == 'm':\n",
    "    characters = string.ascii_letters + string.digits  # Letters and numbers\n",
    "elif complexity == 'd':\n",
    "    characters = string.ascii_letters + string.digits + string.punctuation  # Letters, numbers, and special characters\n",
    "else:\n",
    "    print(\"Invalid complexity choice.\")\n",
    "    \n",
    "    \n",
    "password = ''.join(random.choice(characters) for _ in range(length))\n",
    "\n",
    "print('Password : ', password)"
   ]
  },
  {
   "cell_type": "markdown",
   "id": "fc40b308",
   "metadata": {},
   "source": [
    "### <b> <font color = 'red'>24. Create a program that implements a simple text-based adventure game with branching scenarios.\n",
    "\n"
   ]
  },
  {
   "cell_type": "code",
   "execution_count": 64,
   "id": "16aee922",
   "metadata": {},
   "outputs": [
    {
     "name": "stdout",
     "output_type": "stream",
     "text": [
      "Choices\n",
      "Dare to Compete\n",
      "Which path will you choose?\n",
      "\n",
      "1. Take the left path.\n",
      "2. Take the right path.\n"
     ]
    },
    {
     "name": "stdin",
     "output_type": "stream",
     "text": [
      "Enter your choice (1/2):  1\n"
     ]
    },
    {
     "name": "stdout",
     "output_type": "stream",
     "text": [
      "You chose the left path.\n",
      "You can see a garden full of fruits, flowers, trees and 3 fountains.\n",
      "You can enjoy eating here.\n",
      "'GAME OVER'\n",
      "    \n"
     ]
    }
   ],
   "source": [
    "print(\"Choices\")\n",
    "print(\"Dare to Compete\")\n",
    "print(\"Which path will you choose?\")\n",
    "\n",
    "print(\"\\n1. Take the left path.\")\n",
    "print(\"2. Take the right path.\")\n",
    "choice = input(\"Enter your choice (1/2): \")\n",
    "\n",
    "if choice == '1':\n",
    "    print(\"You chose the left path.\")\n",
    "    print(\"\"\"You can see a garden full of fruits, flowers, trees and 3 fountains.\n",
    "You can enjoy eating here.\n",
    "'GAME OVER'\n",
    "    \"\"\")\n",
    "    \n",
    "elif choice == '2':\n",
    "    print(\"You chose the right path.\")\n",
    "    print(\"\"\"Its my fav place.\n",
    "    You can see a chocolate house, full of chocolates and candies. \n",
    "    There are several things which are blended with the fruits nuts and chocolates.\n",
    "    You can enjoy eating here.\n",
    "    'GAME OVER'\"\"\")\n",
    "\n",
    "else:\n",
    "    print(\"Invalid choice. Please enter '1' or '2'.\")\n",
    "    print(\"'GAME OVER'\")\n",
    "\n"
   ]
  },
  {
   "cell_type": "markdown",
   "id": "ce1c1512",
   "metadata": {},
   "source": [
    "### <b> <font color = 'red'>25. Build a program that solves a linear equation for x, considering different cases."
   ]
  },
  {
   "cell_type": "code",
   "execution_count": 73,
   "id": "bbfa42e0",
   "metadata": {},
   "outputs": [
    {
     "name": "stdin",
     "output_type": "stream",
     "text": [
      "Enter a linear equation (e.g., 2x + 3 = 4x - 5):  2x + 3 = 4x - 5\n"
     ]
    },
    {
     "name": "stdout",
     "output_type": "stream",
     "text": [
      "The solution for the equation is: 4.0\n"
     ]
    }
   ],
   "source": [
    "import re\n",
    "\n",
    "def solve_linear_equation(equation):\n",
    "    # Remove all spaces from the equation for easier processing\n",
    "    equation = equation.replace(\" \", \"\")\n",
    "    \n",
    "    # Split the equation into two sides based on '='\n",
    "    left, right = equation.split('=')\n",
    "    \n",
    "    # Helper function to parse an expression and get coefficients\n",
    "    def parse_side(expression):\n",
    "        # This regular expression matches terms like '+3x', '-4', 'x', etc.\n",
    "        terms = re.findall(r'[+-]?\\d*x?', expression)\n",
    "        constant = 0\n",
    "        coefficient = 0\n",
    "        \n",
    "        for term in terms:\n",
    "            if 'x' in term:\n",
    "                # Handle implicit coefficients like 'x' or '-x'\n",
    "                if term == 'x' or term == '+x':\n",
    "                    coefficient += 1\n",
    "                elif term == '-x':\n",
    "                    coefficient -= 1\n",
    "                else:\n",
    "                    coefficient += int(term.replace('x', ''))\n",
    "            elif term:\n",
    "                constant += int(term)\n",
    "                \n",
    "        return coefficient, constant\n",
    "\n",
    "    # Parse the left and right sides of the equation\n",
    "    left_coeff, left_const = parse_side(left)\n",
    "    right_coeff, right_const = parse_side(right)\n",
    "    \n",
    "    # Move everything to one side to get an equation in the form of `Ax + B = 0`\n",
    "    coeff = left_coeff - right_coeff\n",
    "    const = right_const - left_const\n",
    "\n",
    "    # Determine the solution based on the coefficient of x\n",
    "    if coeff == 0:\n",
    "        if const == 0:\n",
    "            return \"Infinite solutions\"\n",
    "        else:\n",
    "            return \"No solution\"\n",
    "    else:\n",
    "        # Calculate the value of x\n",
    "        x = const / coeff\n",
    "        return x\n",
    "\n",
    "# Example Usage\n",
    "equation = input(\"Enter a linear equation (e.g., 2x + 3 = 4x - 5): \")\n",
    "solution = solve_linear_equation(equation)\n",
    "\n",
    "# Display the result\n",
    "print(f\"The solution for the equation is: {solution}\")"
   ]
  },
  {
   "cell_type": "markdown",
   "id": "a0089ae4",
   "metadata": {},
   "source": [
    "### <b> <font color = 'red'>26. Write a program that simulates a basic quiz game with multiple-choice questions and scoring."
   ]
  },
  {
   "cell_type": "code",
   "execution_count": 74,
   "id": "2176d16c",
   "metadata": {},
   "outputs": [
    {
     "name": "stdout",
     "output_type": "stream",
     "text": [
      "QUIZ TIME!!\n",
      "Who is our Current PM?\n",
      "a. Shri Narendra Modi\n",
      "b. Dr. S. Jayashankar\n",
      "c. Yogi Aditya Nath\n",
      "\n"
     ]
    },
    {
     "name": "stdin",
     "output_type": "stream",
     "text": [
      "Enter your choice :  a\n"
     ]
    },
    {
     "name": "stdout",
     "output_type": "stream",
     "text": [
      "Score =  1\n",
      "What is the Capital of India?\n",
      "a. Haryana\n",
      "b. New Delhi\n",
      "c. Uttrakhand\n",
      "\n"
     ]
    },
    {
     "name": "stdin",
     "output_type": "stream",
     "text": [
      "Enter your choice : b\n"
     ]
    },
    {
     "name": "stdout",
     "output_type": "stream",
     "text": [
      "Score =  2\n"
     ]
    }
   ],
   "source": [
    "print('QUIZ TIME!!')\n",
    "\n",
    "score = 0\n",
    "\n",
    "print(\"\"\"Who is our Current PM?\n",
    "a. Shri Narendra Modi\n",
    "b. Dr. S. Jayashankar\n",
    "c. Yogi Aditya Nath\n",
    "\"\"\")\n",
    "\n",
    "ans = input('Enter your choice : ')\n",
    "\n",
    "if ans == 'a':\n",
    "    score = score +1\n",
    "    print('Score = ', score)\n",
    "else:\n",
    "    print('Score = ', score)\n",
    "    \n",
    "print(\"\"\"What is the Capital of India?\n",
    "a. Haryana\n",
    "b. New Delhi\n",
    "c. Uttrakhand\n",
    "\"\"\")\n",
    "\n",
    "ans = input('Enter your choice :')\n",
    "\n",
    "if ans == 'b':\n",
    "    score +=1\n",
    "    print('Score = ', score)\n",
    "else:\n",
    "    print('Score = ', score)\n",
    "    "
   ]
  },
  {
   "cell_type": "markdown",
   "id": "76491ff7",
   "metadata": {},
   "source": [
    "### <b> <font color = 'red'>27. Develop a program that determines whether a given year is a prime number or not.\n",
    "\n"
   ]
  },
  {
   "cell_type": "code",
   "execution_count": 75,
   "id": "02652988",
   "metadata": {},
   "outputs": [
    {
     "name": "stdin",
     "output_type": "stream",
     "text": [
      "Enter the year :  2024\n"
     ]
    },
    {
     "name": "stdout",
     "output_type": "stream",
     "text": [
      "2024 is not a prime number\n"
     ]
    }
   ],
   "source": [
    "year = int(input('Enter the year : '))\n",
    "\n",
    "if year > 1:\n",
    "    for i in range(2, int(year/2)+1):\n",
    "        if (year % i) == 0:\n",
    "            print(year, \"is not a prime number\")\n",
    "            break\n",
    "    else:\n",
    "        print(year, \"is a prime number\")\n",
    "else:\n",
    "    print(year, \"is not a prime number\")"
   ]
  },
  {
   "cell_type": "markdown",
   "id": "f3b944dc",
   "metadata": {},
   "source": [
    "### <b> <font color = 'red'>28. Create a program that sorts three numbers in ascending order using conditional statements.\n",
    "\n"
   ]
  },
  {
   "cell_type": "code",
   "execution_count": 77,
   "id": "d1e0b50d",
   "metadata": {},
   "outputs": [
    {
     "name": "stdin",
     "output_type": "stream",
     "text": [
      "Enter 1st number 8\n",
      "Enter 2nd number 1\n",
      "Enter 3rd number 3\n"
     ]
    },
    {
     "name": "stdout",
     "output_type": "stream",
     "text": [
      "1 ,  8 ,  3\n"
     ]
    }
   ],
   "source": [
    "a = int(input('Enter 1st number'))\n",
    "b = int(input('Enter 2nd number'))\n",
    "c = int(input('Enter 3rd number'))\n",
    "\n",
    "if a > b and a > c and b > c:\n",
    "    print(c, ', ', b, ', ', a)\n",
    "\n",
    "elif  b > a and a > c and b > c:\n",
    "    print(c, ', ', a, ', ', b)\n",
    "    \n",
    "elif  a > b and c > b and a > c:\n",
    "    print(b, ', ', a, ', ',c )\n",
    "    \n",
    "elif  a > b and c > b and c > a:\n",
    "    print(b, ', ',c, ', ', a)\n",
    "    \n",
    "elif  b > a and c > a and b > c:\n",
    "    print(a, ', ', c, ', ', b)\n",
    "    \n",
    "else:\n",
    "    print(a, ', ', b, ', ', c)"
   ]
  },
  {
   "cell_type": "markdown",
   "id": "343b418b",
   "metadata": {},
   "source": [
    "### <b> <font color = 'red'>29. Build a program that determines the roots of a quartic equation using numerical methods.\n",
    "\n"
   ]
  },
  {
   "cell_type": "code",
   "execution_count": 78,
   "id": "3cac232b",
   "metadata": {},
   "outputs": [
    {
     "name": "stdin",
     "output_type": "stream",
     "text": [
      "Enter lower bound of interval:  6\n",
      "Enter upper bound of interval:  7\n",
      "Enter tolerance (e.g., 0.0001):  0.011\n"
     ]
    },
    {
     "name": "stdout",
     "output_type": "stream",
     "text": [
      "Approximate root: 6.9922\n"
     ]
    }
   ],
   "source": [
    "# Define the quartic equation as a function\n",
    "def quartic_equation(x):\n",
    "    return x**4 - 6 * x**3 + 11 * x**2 - 6 * x\n",
    "\n",
    "# Define the bisection method to find a root\n",
    "def bisection_method(a, b, tol):\n",
    "    while (b - a) / 2.0 > tol:\n",
    "        midpoint = (a + b) / 2.0\n",
    "        if quartic_equation(midpoint) * quartic_equation(a) < 0:\n",
    "            b = midpoint\n",
    "        else:\n",
    "            a = midpoint\n",
    "    return (a + b) / 2.0\n",
    "\n",
    "# Input interval [a, b] and tolerance\n",
    "a = float(input(\"Enter lower bound of interval: \"))\n",
    "b = float(input(\"Enter upper bound of interval: \"))\n",
    "tolerance = float(input(\"Enter tolerance (e.g., 0.0001): \"))\n",
    "\n",
    "# Find and print the approximate root\n",
    "root = bisection_method(a, b, tolerance)\n",
    "print(f\"Approximate root: {root:.4f}\")\n"
   ]
  },
  {
   "cell_type": "markdown",
   "id": "79bebfed",
   "metadata": {},
   "source": [
    "### <b> <font color = 'red'>30. Write a program that calculates the BMI (Body Mass Index) and provides health recommendations based on the user's input."
   ]
  },
  {
   "cell_type": "code",
   "execution_count": 79,
   "id": "6648be6b",
   "metadata": {},
   "outputs": [
    {
     "name": "stdin",
     "output_type": "stream",
     "text": [
      "weight in kgs :  75.5\n",
      "height in m :  5.6\n"
     ]
    },
    {
     "name": "stdout",
     "output_type": "stream",
     "text": [
      "2.407525510204082  - Underweight\n",
      "Your metabolism is quiet high. \n",
      "    So you should eat more carbs and fats along with proteins and other nutitious food.\n",
      "    You should execise 3 days a week and not more than 20 minutes\n"
     ]
    }
   ],
   "source": [
    "w = float(input('weight in kgs : '))\n",
    "h = float(input('height in m : '))\n",
    "\n",
    "bmi = w / h**2\n",
    "\n",
    "if bmi < 18.5:\n",
    "    print(bmi, ' - Underweight')\n",
    "    print(\"\"\"Your metabolism is quiet high. \n",
    "    So you should eat more carbs and fats along with proteins and other nutitious food.\n",
    "    You should execise 3 days a week and not more than 20 minutes\"\"\")\n",
    "elif bmi > 18.5 and bmi < 24.9:\n",
    "    print(bmi, ' - Normal')\n",
    "    print(\"\"\"Your metabolic rate is perfect. \n",
    "    So you should eat a balanced diet to maintain your healthy routine.\n",
    "    You should execise 3-5 days a week and not more than 30 minutes\"\"\")\n",
    "elif bmi > 25 and bmi < 29.9:\n",
    "    print(bmi, ' - Overweight')\n",
    "    print(\"\"\"Your metabolism is slow. \n",
    "    So you should make more protein intake.\n",
    "    You should execise 6 days a week for about 50 minutes\"\"\")\n",
    "else:\n",
    "    print(bmi, ' - Obese')\n",
    "    print(\"\"\"Seems like you never workout. \n",
    "    So you should avoid eating junks and focus only one healthy balanced food.\n",
    "    Consult a doctor if there is any medical concern.\n",
    "    You should execise 6 days a week for about 45 - minutes.\"\"\")"
   ]
  },
  {
   "cell_type": "markdown",
   "id": "78f9b254",
   "metadata": {},
   "source": [
    "# <b> <font color = 'blue'>Challenge Level:\n"
   ]
  },
  {
   "cell_type": "markdown",
   "id": "997cdf51",
   "metadata": {},
   "source": [
    "###  <b> <font color = 'red'>31. Create a program that validates a password based on complexity rules (length, characters, etc.)."
   ]
  },
  {
   "cell_type": "code",
   "execution_count": 80,
   "id": "0e27f93e",
   "metadata": {},
   "outputs": [
    {
     "name": "stdin",
     "output_type": "stream",
     "text": [
      "Enter password :  My_pass\n"
     ]
    },
    {
     "name": "stdout",
     "output_type": "stream",
     "text": [
      "Password should have at least one numeral\n",
      "Password should have at least one of the symbols $@#\n"
     ]
    }
   ],
   "source": [
    "SpecialSym =['$', '@', '#', '%']\n",
    "val = True\n",
    "     \n",
    "passwd = input('Enter password : ')\n",
    "    \n",
    "if len(passwd) < 6:\n",
    "    print('length should be at least 6')\n",
    "    val = False\n",
    "         \n",
    "if len(passwd) > 20:\n",
    "    print('length should be not be greater than 8')\n",
    "    val = False\n",
    "         \n",
    "if not any(char.isdigit() for char in passwd):\n",
    "    print('Password should have at least one numeral')\n",
    "    val = False\n",
    "         \n",
    "if not any(char.isupper() for char in passwd):\n",
    "    print('Password should have at least one uppercase letter')\n",
    "    val = False\n",
    "         \n",
    "if not any(char.islower() for char in passwd):\n",
    "    print('Password should have at least one lowercase letter')\n",
    "    val = False\n",
    "         \n",
    "if not any(char in SpecialSym for char in passwd):\n",
    "    print('Password should have at least one of the symbols $@#')\n",
    "    val = False\n",
    "    \n",
    "if val:\n",
    "    print('Password is Validated')"
   ]
  },
  {
   "cell_type": "markdown",
   "id": "f14a581f",
   "metadata": {},
   "source": [
    "###  <b> <font color = 'red'>32. Develop a program that performs matrix addition and subtraction based on user input."
   ]
  },
  {
   "cell_type": "code",
   "execution_count": 81,
   "id": "cccf6f4f",
   "metadata": {},
   "outputs": [
    {
     "name": "stdout",
     "output_type": "stream",
     "text": [
      "Printing elements of first matrix\n",
      "1 2 \n",
      "3 4 \n",
      "Printing elements of second matrix\n",
      "4 5 \n",
      "6 7 \n"
     ]
    },
    {
     "name": "stdin",
     "output_type": "stream",
     "text": [
      "Enter Choice :\n",
      "1 for addition.\n",
      "2 for subtraction 1\n"
     ]
    },
    {
     "name": "stdout",
     "output_type": "stream",
     "text": [
      "Addition of two matrix\n",
      "5 7 \n",
      "9 11 \n"
     ]
    }
   ],
   "source": [
    "matrix1 = [[1, 2], [3, 4]]\n",
    "matrix2 = [[4, 5], [6, 7]]\n",
    " \n",
    "# Printing elements of matrix1\n",
    "print(\"Printing elements of first matrix\")\n",
    "for row in matrix1:\n",
    "    for element in row:\n",
    "        print(element, end=\" \")\n",
    "    print()\n",
    " \n",
    "# Printing elements of matrix2\n",
    "print(\"Printing elements of second matrix\")\n",
    "for row in matrix2:\n",
    "    for element in row:\n",
    "        print(element, end=\" \")\n",
    "    print()\n",
    "    \n",
    "choice = input(\"\"\"Enter Choice :\n",
    "1 for addition.\n",
    "2 for subtraction\"\"\")\n",
    "\n",
    "if choice == '1':\n",
    "    result = [[0, 0], [0, 0]]\n",
    "    for i in range(len(matrix1)):\n",
    "        for j in range(len(matrix1[0])):\n",
    "            result[i][j] = matrix1[i][j] + matrix2[i][j]\n",
    "\n",
    "    print(\"Addition of two matrix\")\n",
    "    for row in result:\n",
    "        for element in row:\n",
    "            print(element, end=\" \")\n",
    "        print()\n",
    "    \n",
    "else:\n",
    "    result = [[0, 0], [0, 0]]\n",
    "    for i in range(len(matrix1)):\n",
    "        for j in range(len(matrix1[0])):\n",
    "            result[i][j] = matrix1[i][j] - matrix2[i][j]\n",
    "\n",
    "    print(\"Subtraction of two matrix\")\n",
    "    for row in result:\n",
    "        for element in row:\n",
    "            print(element, end=\" \")\n",
    "        print()\n",
    "    "
   ]
  },
  {
   "cell_type": "markdown",
   "id": "7b9366d3",
   "metadata": {},
   "source": [
    "###  <b> <font color = 'red'>33. Write a program that calculates the greatest common divisor (GCD) of two numbers using the Euclidean algorithm.\n",
    "\n"
   ]
  },
  {
   "cell_type": "code",
   "execution_count": 82,
   "id": "6a6957e1",
   "metadata": {},
   "outputs": [
    {
     "name": "stdin",
     "output_type": "stream",
     "text": [
      "Enter value of a :  10\n",
      "Enter value of b :  20\n"
     ]
    },
    {
     "name": "stdout",
     "output_type": "stream",
     "text": [
      "gcd( 10 , 20 ) =  10\n"
     ]
    }
   ],
   "source": [
    "def gcd(a, b):\n",
    "    if a == 0:\n",
    "        return b\n",
    "    else:\n",
    "        return gcd(b % a, a)\n",
    " \n",
    "a = int(input('Enter value of a : '))\n",
    "b = int(input('Enter value of b : '))\n",
    "\n",
    "\n",
    "print(\"gcd(\", a, \",\", b, \") = \", gcd(a, b))"
   ]
  },
  {
   "cell_type": "markdown",
   "id": "aa7745b8",
   "metadata": {},
   "source": [
    "### <b> <font color = 'red'>34. Build a program that performs matrix multiplication using nested loops and conditional statements.\n",
    "\n"
   ]
  },
  {
   "cell_type": "code",
   "execution_count": 83,
   "id": "10187559",
   "metadata": {},
   "outputs": [
    {
     "name": "stdout",
     "output_type": "stream",
     "text": [
      "[16, 19]\n",
      "[36, 43]\n"
     ]
    }
   ],
   "source": [
    "def matrix_multiply(matrix1, matrix2):\n",
    "    # Check if the matrices can be multiplied\n",
    "    if len(matrix1[0]) != len(matrix2):\n",
    "        return None\n",
    "\n",
    "    # Initialize an empty result matrix\n",
    "    result = []\n",
    "\n",
    "    # Perform matrix multiplication using nested loops\n",
    "    for i in range(len(matrix1)):\n",
    "        row = []\n",
    "        for j in range(len(matrix2[0])):\n",
    "            cell = 0\n",
    "            for k in range(len(matrix2)):\n",
    "                cell += matrix1[i][k] * matrix2[k][j]\n",
    "            row.append(cell)\n",
    "        result.append(row)\n",
    "\n",
    "    return result\n",
    "\n",
    "matrix1 = [[1, 2], [3, 4]]\n",
    "matrix2 = [[4, 5], [6, 7]]\n",
    " \n",
    "\n",
    "result_matrix = matrix_multiply(matrix1, matrix2)\n",
    "\n",
    "# Print the result matrix\n",
    "if result_matrix:\n",
    "    for row in result_matrix:\n",
    "        print(row)"
   ]
  },
  {
   "cell_type": "markdown",
   "id": "1adc251e",
   "metadata": {},
   "source": [
    "### <b> <font color = 'red'>35. Create a program that simulates a basic text-based tic-tac-toe game against the computer.\n",
    "\n"
   ]
  },
  {
   "cell_type": "code",
   "execution_count": 84,
   "id": "1f4bfd85",
   "metadata": {},
   "outputs": [
    {
     "name": "stdout",
     "output_type": "stream",
     "text": [
      "  |   |  \n",
      "--+---+--\n",
      "  |   |  \n",
      "--+---+--\n",
      "  |   |  \n"
     ]
    },
    {
     "name": "stdin",
     "output_type": "stream",
     "text": [
      "Enter your move (1-9):  5\n"
     ]
    },
    {
     "name": "stdout",
     "output_type": "stream",
     "text": [
      "  |   |  \n",
      "--+---+--\n",
      "  | X |  \n",
      "--+---+--\n",
      "  |   |  \n",
      "Computer's move:\n",
      "  |   |  \n",
      "--+---+--\n",
      "  | X |  \n",
      "--+---+--\n",
      "  |   | O\n"
     ]
    },
    {
     "name": "stdin",
     "output_type": "stream",
     "text": [
      "Enter your move (1-9):  4\n"
     ]
    },
    {
     "name": "stdout",
     "output_type": "stream",
     "text": [
      "  |   |  \n",
      "--+---+--\n",
      "X | X |  \n",
      "--+---+--\n",
      "  |   | O\n",
      "Computer's move:\n",
      "  | O |  \n",
      "--+---+--\n",
      "X | X |  \n",
      "--+---+--\n",
      "  |   | O\n"
     ]
    },
    {
     "name": "stdin",
     "output_type": "stream",
     "text": [
      "Enter your move (1-9):  0\n"
     ]
    },
    {
     "name": "stdout",
     "output_type": "stream",
     "text": [
      "Invalid move. Try again.\n",
      "  | O |  \n",
      "--+---+--\n",
      "X | X |  \n",
      "--+---+--\n",
      "  |   | O\n"
     ]
    },
    {
     "name": "stdin",
     "output_type": "stream",
     "text": [
      "Enter your move (1-9):  1\n"
     ]
    },
    {
     "name": "stdout",
     "output_type": "stream",
     "text": [
      "X | O |  \n",
      "--+---+--\n",
      "X | X |  \n",
      "--+---+--\n",
      "  |   | O\n",
      "Computer's move:\n",
      "X | O |  \n",
      "--+---+--\n",
      "X | X |  \n",
      "--+---+--\n",
      "  | O | O\n"
     ]
    },
    {
     "name": "stdin",
     "output_type": "stream",
     "text": [
      "Enter your move (1-9):  7\n"
     ]
    },
    {
     "name": "stdout",
     "output_type": "stream",
     "text": [
      "X | O |  \n",
      "--+---+--\n",
      "X | X |  \n",
      "--+---+--\n",
      "X | O | O\n",
      "You win!\n"
     ]
    }
   ],
   "source": [
    "import random\n",
    "\n",
    "# Initialize the game board\n",
    "board = [\" \" for _ in range(9)]\n",
    "\n",
    "# Function to display the game board\n",
    "def display_board(board):\n",
    "    print(f\"{board[0]} | {board[1]} | {board[2]}\")\n",
    "    print(\"--+---+--\")\n",
    "    print(f\"{board[3]} | {board[4]} | {board[5]}\")\n",
    "    print(\"--+---+--\")\n",
    "    print(f\"{board[6]} | {board[7]} | {board[8]}\")\n",
    "\n",
    "# Function to check for a win\n",
    "def check_win(board, player):\n",
    "    winning_combinations = [(0, 1, 2), (3, 4, 5), (6, 7, 8),\n",
    "                            (0, 3, 6), (1, 4, 7), (2, 5, 8),\n",
    "                            (0, 4, 8), (2, 4, 6)]\n",
    "    for combo in winning_combinations:\n",
    "        if all(board[i] == player for i in combo):\n",
    "            return True\n",
    "    return False\n",
    "\n",
    "# Function to check if the board is full\n",
    "def check_draw(board):\n",
    "    return \" \" not in board\n",
    "\n",
    "# Computer's move\n",
    "def computer_move(board):\n",
    "    empty_cells = [i for i, cell in enumerate(board) if cell == \" \"]\n",
    "    return random.choice(empty_cells)\n",
    "\n",
    "# Main game loop\n",
    "current_player = \"X\"\n",
    "while True:\n",
    "    display_board(board)\n",
    "    if current_player == \"X\":\n",
    "        player_move = int(input(\"Enter your move (1-9): \")) - 1\n",
    "        if board[player_move] == \" \":\n",
    "            board[player_move] = current_player\n",
    "        else:\n",
    "            print(\"Invalid move. Try again.\")\n",
    "            continue\n",
    "    else:\n",
    "        print(\"Computer's move:\")\n",
    "        computer_choice = computer_move(board)\n",
    "        if board[computer_choice] == \" \":\n",
    "            board[computer_choice] = current_player\n",
    "    \n",
    "    if check_win(board, current_player):\n",
    "        display_board(board)\n",
    "        if current_player == \"X\":\n",
    "            print(\"You win!\")\n",
    "        else:\n",
    "            print(\"Computer wins!\")\n",
    "        break\n",
    "    elif check_draw(board):\n",
    "        display_board(board)\n",
    "        print(\"It's a draw!\")\n",
    "        break\n",
    "    \n",
    "    current_player = \"O\" if current_player == \"X\" else \"X\"\n"
   ]
  },
  {
   "cell_type": "markdown",
   "id": "cde86e7e",
   "metadata": {},
   "source": [
    "### <b> <font color = 'red'>36. Write a program that generates Fibonacci numbers up to a specified term using iterative methods.\n",
    "\n"
   ]
  },
  {
   "cell_type": "code",
   "execution_count": 85,
   "id": "de21a2c5",
   "metadata": {},
   "outputs": [
    {
     "name": "stdin",
     "output_type": "stream",
     "text": [
      "How many terms?  10\n"
     ]
    },
    {
     "name": "stdout",
     "output_type": "stream",
     "text": [
      "Fibonacci sequence:\n",
      "0\n",
      "1\n",
      "1\n",
      "2\n",
      "3\n",
      "5\n",
      "8\n",
      "13\n",
      "21\n",
      "34\n"
     ]
    }
   ],
   "source": [
    "nterms = int(input(\"How many terms? \"))\n",
    "\n",
    "n1, n2 = 0, 1\n",
    "count = 0\n",
    "\n",
    "if nterms <= 0:\n",
    "   print(\"Please enter a positive integer\")\n",
    "\n",
    "elif nterms == 1:\n",
    "   print(\"Fibonacci sequence upto\",nterms,\":\")\n",
    "   print(n1)\n",
    "\n",
    "else:\n",
    "   print(\"Fibonacci sequence:\")\n",
    "   while count < nterms:\n",
    "       print(n1)\n",
    "       nth = n1 + n2\n",
    "\n",
    "       n1 = n2\n",
    "       n2 = nth\n",
    "       count += 1"
   ]
  },
  {
   "cell_type": "markdown",
   "id": "6c60902f",
   "metadata": {},
   "source": [
    "### <b> <font color = 'red'>37. Develop a program that calculates the nth term of the Fibonacci sequence using memoization.\n",
    "\n"
   ]
  },
  {
   "cell_type": "code",
   "execution_count": 86,
   "id": "e12f4f7b",
   "metadata": {},
   "outputs": [
    {
     "name": "stdin",
     "output_type": "stream",
     "text": [
      "Enter the value of n:  10\n"
     ]
    },
    {
     "name": "stdout",
     "output_type": "stream",
     "text": [
      "The 10 th fibonacci number is :  55\n"
     ]
    }
   ],
   "source": [
    "fibo = {}\n",
    "\n",
    "def fibonacci(n):\n",
    "\n",
    "    if n in fibo:\n",
    "        return fibo[n]\n",
    "\n",
    "    if n == 0:\n",
    "        result = 0\n",
    "    elif n == 1:\n",
    "        result = 1\n",
    "    else:\n",
    "        result = fibonacci(n - 1) + fibonacci(n - 2)\n",
    "    \n",
    "    fibo[n] = result\n",
    "    \n",
    "    return result\n",
    "\n",
    "n = int(input(\"Enter the value of n: \"))\n",
    "\n",
    "if n < 0:\n",
    "    print(\"Please enter a non-negative integer.\")\n",
    "else:\n",
    "    result = fibonacci(n)\n",
    "    print('The', n,'th fibonacci number is : ', result)"
   ]
  },
  {
   "cell_type": "markdown",
   "id": "468728d9",
   "metadata": {},
   "source": [
    "### <b> <font color = 'red'>38. Create a program that generates a calendar for a given month and year using conditional statements.\n",
    "\n"
   ]
  },
  {
   "cell_type": "code",
   "execution_count": 87,
   "id": "743be08f",
   "metadata": {},
   "outputs": [
    {
     "name": "stdin",
     "output_type": "stream",
     "text": [
      "Enter the year (e.g., 2023):  2034\n",
      "Enter the month (1-12):  8\n"
     ]
    },
    {
     "name": "stdout",
     "output_type": "stream",
     "text": [
      "Calendar for August 2034\n",
      "Mo Tu We Th Fr Sa Su\n",
      "    1  2  3  4  5  6 \n",
      " 7  8  9 10 11 12 13 \n",
      "14 15 16 17 18 19 20 \n",
      "21 22 23 24 25 26 27 \n",
      "28 29 30 31          \n"
     ]
    }
   ],
   "source": [
    "import calendar\n",
    "\n",
    "year = int(input(\"Enter the year (e.g., 2023): \"))\n",
    "month = int(input(\"Enter the month (1-12): \"))\n",
    "\n",
    "if year < 0 or month < 1 or month > 12:\n",
    "    print(\"Invalid input. Please enter a valid year (>= 0) and month (1-12).\")\n",
    "else:\n",
    "\n",
    "    cal = calendar.monthcalendar(year, month)\n",
    "    \n",
    "    month_name = calendar.month_name[month]\n",
    "    year_header = str(year)\n",
    "    \n",
    "    print(f\"Calendar for {month_name} {year_header}\")\n",
    "    print(\"Mo Tu We Th Fr Sa Su\")\n",
    "    \n",
    "    for week in cal:\n",
    "        for day in week:\n",
    "            if day == 0:\n",
    "                print(\"  \", end=\" \") \n",
    "            else:\n",
    "                print(f\"{day:2d}\", end=\" \")  \n",
    "        print()"
   ]
  },
  {
   "cell_type": "markdown",
   "id": "39a9bc50",
   "metadata": {},
   "source": [
    "### <b> <font color = 'red'>39. Build a program that simulates a basic text-based blackjack game against the computer.\n",
    "\n"
   ]
  },
  {
   "cell_type": "code",
   "execution_count": 88,
   "id": "f4fac950",
   "metadata": {},
   "outputs": [
    {
     "name": "stdout",
     "output_type": "stream",
     "text": [
      "Player hand: ['6', '9']\n",
      "Dealer hand: J\n"
     ]
    },
    {
     "name": "stdin",
     "output_type": "stream",
     "text": [
      "Hit or stand? (h/s):  h\n"
     ]
    },
    {
     "name": "stdout",
     "output_type": "stream",
     "text": [
      "Player hand: ['6', '9', 'Q']\n",
      "Dealer hand: ['J', '10']\n",
      "Player busts! Dealer wins!\n"
     ]
    }
   ],
   "source": [
    "import random\n",
    "\n",
    "# Cards and their values\n",
    "cards = ['A', '2', '3', '4', '5', '6', '7', '8', '9', '10', 'J', 'Q', 'K'] * 4\n",
    "values = {'A': 11, '2': 2, '3': 3, '4': 4, '5': 5, '6': 6, '7': 7, '8': 8, '9': 9, '10': 10, 'J': 10, 'Q': 10, 'K': 10}\n",
    "\n",
    "random.shuffle(cards)\n",
    "\n",
    "player_hand = []\n",
    "dealer_hand = []\n",
    "\n",
    "# Deal two cards to each player\n",
    "for i in range(2):\n",
    "    player_hand.append(cards.pop())\n",
    "    dealer_hand.append(cards.pop())\n",
    "\n",
    "# Function to calculate hand value\n",
    "def calculate_hand_value(hand):\n",
    "    value = 0\n",
    "    ace_count = 0\n",
    "    for card in hand:\n",
    "        value += values[card]\n",
    "        if card == 'A':\n",
    "            ace_count += 1\n",
    "    \n",
    "    # Adjust for aces being 1 or 11\n",
    "    while value > 21 and ace_count:\n",
    "        value -= 10\n",
    "        ace_count -= 1\n",
    "\n",
    "    return value\n",
    "\n",
    "# Display the player's and dealer's hands\n",
    "print(f\"Player hand: {player_hand}\")\n",
    "print(f\"Dealer hand: {dealer_hand[0]}\")\n",
    "\n",
    "# Let the player hit or stand\n",
    "while True:\n",
    "    hit_or_stand = input('Hit or stand? (h/s): ')\n",
    "\n",
    "    if hit_or_stand == 'h':\n",
    "        player_hand.append(cards.pop())\n",
    "        print(f\"Player hand: {player_hand}\")\n",
    "\n",
    "        if calculate_hand_value(player_hand) > 21:\n",
    "            break\n",
    "    else:\n",
    "        break\n",
    "\n",
    "# Dealer must hit until their hand totals at least 17\n",
    "while calculate_hand_value(dealer_hand) < 17:\n",
    "    dealer_hand.append(cards.pop())\n",
    "\n",
    "# Display the dealer's hand\n",
    "print(f\"Dealer hand: {dealer_hand}\")\n",
    "\n",
    "# Determine the winner\n",
    "player_value = calculate_hand_value(player_hand)\n",
    "dealer_value = calculate_hand_value(dealer_hand)\n",
    "\n",
    "if player_value > 21:\n",
    "    print('Player busts! Dealer wins!')\n",
    "elif dealer_value > 21:\n",
    "    print('Dealer busts! Player wins!')\n",
    "elif player_value > dealer_value:\n",
    "    print('Player wins!')\n",
    "elif player_value < dealer_value:\n",
    "    print('Dealer wins!')\n",
    "else:\n",
    "    print('Tie!')\n"
   ]
  },
  {
   "cell_type": "markdown",
   "id": "1c307b2b",
   "metadata": {},
   "source": [
    "### <b> <font color = 'red'>40. Write a program that generates the prime factors of a given number using trial division.\n",
    "\n"
   ]
  },
  {
   "cell_type": "code",
   "execution_count": 89,
   "id": "2dc25090",
   "metadata": {},
   "outputs": [
    {
     "name": "stdin",
     "output_type": "stream",
     "text": [
      "Enter a positive integer:  50\n"
     ]
    },
    {
     "name": "stdout",
     "output_type": "stream",
     "text": [
      "Prime factors of 50 are:\n",
      "2\n",
      "5\n",
      "5\n"
     ]
    }
   ],
   "source": [
    "num = int(input(\"Enter a positive integer: \"))\n",
    "\n",
    "if num <= 1:\n",
    "    print(\"Prime factors are not defined for numbers less than or equal to 1.\")\n",
    "else:\n",
    "    print(f\"Prime factors of {num} are:\")\n",
    "\n",
    "    divisor = 2\n",
    "    \n",
    "    while num > 1:\n",
    "        if num % divisor == 0:\n",
    "            print(divisor)\n",
    "            num //= divisor\n",
    "        else:\n",
    "            divisor += 1"
   ]
  },
  {
   "cell_type": "code",
   "execution_count": null,
   "id": "4e180dcb",
   "metadata": {},
   "outputs": [],
   "source": []
  }
 ],
 "metadata": {
  "kernelspec": {
   "display_name": "Python 3 (ipykernel)",
   "language": "python",
   "name": "python3"
  },
  "language_info": {
   "codemirror_mode": {
    "name": "ipython",
    "version": 3
   },
   "file_extension": ".py",
   "mimetype": "text/x-python",
   "name": "python",
   "nbconvert_exporter": "python",
   "pygments_lexer": "ipython3",
   "version": "3.12.4"
  }
 },
 "nbformat": 4,
 "nbformat_minor": 5
}
