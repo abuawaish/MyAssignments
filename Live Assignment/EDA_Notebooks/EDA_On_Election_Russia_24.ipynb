{
 "cells": [
  {
   "cell_type": "markdown",
   "metadata": {
    "id": "jn1HQ0c447ur"
   },
   "source": [
    "# <b> importing necessary libraries"
   ]
  },
  {
   "cell_type": "code",
   "execution_count": 1,
   "metadata": {
    "id": "0mTvbWkz5ICX"
   },
   "outputs": [],
   "source": [
    "import pandas as pd\n",
    "import numpy as np\n",
    "import matplotlib.pyplot as plt\n",
    "import seaborn as sns\n",
    "import warnings\n",
    "warnings.filterwarnings(\"ignore\")"
   ]
  },
  {
   "cell_type": "markdown",
   "metadata": {},
   "source": [
    "# <b> importing dataset from local system or machine"
   ]
  },
  {
   "cell_type": "code",
   "execution_count": 2,
   "metadata": {
    "colab": {
     "base_uri": "https://localhost:8080/",
     "height": 756
    },
    "id": "M9DUxfLZ5TWH",
    "outputId": "77422d73-8b0e-4132-b851-2dc8920008f8"
   },
   "outputs": [
    {
     "data": {
      "text/html": [
       "<div>\n",
       "<style scoped>\n",
       "    .dataframe tbody tr th:only-of-type {\n",
       "        vertical-align: middle;\n",
       "    }\n",
       "\n",
       "    .dataframe tbody tr th {\n",
       "        vertical-align: top;\n",
       "    }\n",
       "\n",
       "    .dataframe thead th {\n",
       "        text-align: right;\n",
       "    }\n",
       "</style>\n",
       "<table border=\"1\" class=\"dataframe\">\n",
       "  <thead>\n",
       "    <tr style=\"text-align: right;\">\n",
       "      <th></th>\n",
       "      <th>id</th>\n",
       "      <th>sex</th>\n",
       "      <th>age</th>\n",
       "      <th>federal_district</th>\n",
       "      <th>type_of_city</th>\n",
       "      <th>knows_election_date</th>\n",
       "      <th>will_vote</th>\n",
       "      <th>candidate</th>\n",
       "      <th>television_usage</th>\n",
       "      <th>internet_usage</th>\n",
       "      <th>education</th>\n",
       "      <th>income</th>\n",
       "      <th>employment</th>\n",
       "      <th>job_type</th>\n",
       "      <th>company_type</th>\n",
       "      <th>weight1</th>\n",
       "    </tr>\n",
       "  </thead>\n",
       "  <tbody>\n",
       "    <tr>\n",
       "      <th>0</th>\n",
       "      <td>07169ed8148ce047</td>\n",
       "      <td>male</td>\n",
       "      <td>18.0</td>\n",
       "      <td>north caucasian</td>\n",
       "      <td>village</td>\n",
       "      <td>named correct date</td>\n",
       "      <td>not sure</td>\n",
       "      <td>Putin</td>\n",
       "      <td>several times a week</td>\n",
       "      <td>over 4 hours a day</td>\n",
       "      <td>incomplete school education</td>\n",
       "      <td>very high</td>\n",
       "      <td>entrepreneur</td>\n",
       "      <td>NaN</td>\n",
       "      <td>farming</td>\n",
       "      <td>1.445172</td>\n",
       "    </tr>\n",
       "    <tr>\n",
       "      <th>1</th>\n",
       "      <td>0716a4f3354cecdd</td>\n",
       "      <td>male</td>\n",
       "      <td>23.0</td>\n",
       "      <td>north caucasian</td>\n",
       "      <td>village</td>\n",
       "      <td>named correct date</td>\n",
       "      <td>not sure</td>\n",
       "      <td>Putin</td>\n",
       "      <td>once half a year</td>\n",
       "      <td>over 4 hours a day</td>\n",
       "      <td>college</td>\n",
       "      <td>very high</td>\n",
       "      <td>work for hire</td>\n",
       "      <td>commercial organization</td>\n",
       "      <td>trade</td>\n",
       "      <td>1.445172</td>\n",
       "    </tr>\n",
       "    <tr>\n",
       "      <th>2</th>\n",
       "      <td>0716889b304ce79c</td>\n",
       "      <td>male</td>\n",
       "      <td>20.0</td>\n",
       "      <td>volga</td>\n",
       "      <td>city with population of less than 50k</td>\n",
       "      <td>named correct date</td>\n",
       "      <td>definitely yes</td>\n",
       "      <td>Putin</td>\n",
       "      <td>several times a week</td>\n",
       "      <td>over 4 hours a day</td>\n",
       "      <td>college</td>\n",
       "      <td>very high</td>\n",
       "      <td>work for hire</td>\n",
       "      <td>law enforcement agency</td>\n",
       "      <td>law enforcement agency</td>\n",
       "      <td>1.301691</td>\n",
       "    </tr>\n",
       "    <tr>\n",
       "      <th>3</th>\n",
       "      <td>07168e28b5cce563</td>\n",
       "      <td>male</td>\n",
       "      <td>22.0</td>\n",
       "      <td>northwestern</td>\n",
       "      <td>city with population of 1 million and higher</td>\n",
       "      <td>not sure or no answer</td>\n",
       "      <td>not sure</td>\n",
       "      <td>Davankov</td>\n",
       "      <td>several times a week</td>\n",
       "      <td>over 4 hours a day</td>\n",
       "      <td>college</td>\n",
       "      <td>very high</td>\n",
       "      <td>unemployed</td>\n",
       "      <td>NaN</td>\n",
       "      <td>NaN</td>\n",
       "      <td>1.538628</td>\n",
       "    </tr>\n",
       "    <tr>\n",
       "      <th>4</th>\n",
       "      <td>0716a563914ce549</td>\n",
       "      <td>male</td>\n",
       "      <td>21.0</td>\n",
       "      <td>southern</td>\n",
       "      <td>city with population of 1 million and higher</td>\n",
       "      <td>named correct date</td>\n",
       "      <td>definitely yes</td>\n",
       "      <td>Putin</td>\n",
       "      <td>does not watch</td>\n",
       "      <td>over 4 hours a day</td>\n",
       "      <td>bachelor degree</td>\n",
       "      <td>very high</td>\n",
       "      <td>employed student</td>\n",
       "      <td>commercial organization</td>\n",
       "      <td>tech, programming, communications</td>\n",
       "      <td>1.967015</td>\n",
       "    </tr>\n",
       "    <tr>\n",
       "      <th>...</th>\n",
       "      <td>...</td>\n",
       "      <td>...</td>\n",
       "      <td>...</td>\n",
       "      <td>...</td>\n",
       "      <td>...</td>\n",
       "      <td>...</td>\n",
       "      <td>...</td>\n",
       "      <td>...</td>\n",
       "      <td>...</td>\n",
       "      <td>...</td>\n",
       "      <td>...</td>\n",
       "      <td>...</td>\n",
       "      <td>...</td>\n",
       "      <td>...</td>\n",
       "      <td>...</td>\n",
       "      <td>...</td>\n",
       "    </tr>\n",
       "    <tr>\n",
       "      <th>1595</th>\n",
       "      <td>0716b23c2c0cee3a</td>\n",
       "      <td>male</td>\n",
       "      <td>61.0</td>\n",
       "      <td>central</td>\n",
       "      <td>settlement</td>\n",
       "      <td>named correct date</td>\n",
       "      <td>definitely no</td>\n",
       "      <td>will not take part</td>\n",
       "      <td>over 4 hours a day</td>\n",
       "      <td>less than 4 hours a day</td>\n",
       "      <td>bachelor degree</td>\n",
       "      <td>hard to say</td>\n",
       "      <td>unemployed pensioner</td>\n",
       "      <td>NaN</td>\n",
       "      <td>NaN</td>\n",
       "      <td>1.270761</td>\n",
       "    </tr>\n",
       "    <tr>\n",
       "      <th>1596</th>\n",
       "      <td>07168254d14ceb55</td>\n",
       "      <td>female</td>\n",
       "      <td>80.0</td>\n",
       "      <td>volga</td>\n",
       "      <td>village</td>\n",
       "      <td>named correct date</td>\n",
       "      <td>likely yes</td>\n",
       "      <td>struggle to answer</td>\n",
       "      <td>several times a week</td>\n",
       "      <td>does not use internet</td>\n",
       "      <td>college</td>\n",
       "      <td>hard to say</td>\n",
       "      <td>unemployed pensioner</td>\n",
       "      <td>NaN</td>\n",
       "      <td>NaN</td>\n",
       "      <td>0.921724</td>\n",
       "    </tr>\n",
       "    <tr>\n",
       "      <th>1597</th>\n",
       "      <td>071690f34d4ce164</td>\n",
       "      <td>female</td>\n",
       "      <td>76.0</td>\n",
       "      <td>northwestern</td>\n",
       "      <td>city with population of 50-100k</td>\n",
       "      <td>named correct date</td>\n",
       "      <td>definitely yes</td>\n",
       "      <td>Putin</td>\n",
       "      <td>does not watch</td>\n",
       "      <td>over 4 hours a day</td>\n",
       "      <td>bachelor degree</td>\n",
       "      <td>hard to say</td>\n",
       "      <td>unemployed pensioner</td>\n",
       "      <td>NaN</td>\n",
       "      <td>NaN</td>\n",
       "      <td>1.396691</td>\n",
       "    </tr>\n",
       "    <tr>\n",
       "      <th>1598</th>\n",
       "      <td>0716bfa9c48ce79a</td>\n",
       "      <td>female</td>\n",
       "      <td>74.0</td>\n",
       "      <td>central</td>\n",
       "      <td>city with population of less than 50k</td>\n",
       "      <td>not sure or no answer</td>\n",
       "      <td>definitely yes</td>\n",
       "      <td>Putin</td>\n",
       "      <td>over 4 hours a day</td>\n",
       "      <td>over 4 hours a day</td>\n",
       "      <td>academic degree</td>\n",
       "      <td>hard to say</td>\n",
       "      <td>employed pensioner</td>\n",
       "      <td>commercial organization</td>\n",
       "      <td>industry, manufacturing</td>\n",
       "      <td>0.995849</td>\n",
       "    </tr>\n",
       "    <tr>\n",
       "      <th>1599</th>\n",
       "      <td>07168088318cef88</td>\n",
       "      <td>female</td>\n",
       "      <td>76.0</td>\n",
       "      <td>ural</td>\n",
       "      <td>village</td>\n",
       "      <td>named correct date</td>\n",
       "      <td>definitely yes</td>\n",
       "      <td>Putin</td>\n",
       "      <td>over 4 hours a day</td>\n",
       "      <td>over 4 hours a day</td>\n",
       "      <td>school</td>\n",
       "      <td>hard to say</td>\n",
       "      <td>unemployed pensioner</td>\n",
       "      <td>NaN</td>\n",
       "      <td>NaN</td>\n",
       "      <td>0.860836</td>\n",
       "    </tr>\n",
       "  </tbody>\n",
       "</table>\n",
       "<p>1600 rows × 16 columns</p>\n",
       "</div>"
      ],
      "text/plain": [
       "                    id     sex   age federal_district  \\\n",
       "0     07169ed8148ce047    male  18.0  north caucasian   \n",
       "1     0716a4f3354cecdd    male  23.0  north caucasian   \n",
       "2     0716889b304ce79c    male  20.0            volga   \n",
       "3     07168e28b5cce563    male  22.0     northwestern   \n",
       "4     0716a563914ce549    male  21.0         southern   \n",
       "...                ...     ...   ...              ...   \n",
       "1595  0716b23c2c0cee3a    male  61.0          central   \n",
       "1596  07168254d14ceb55  female  80.0            volga   \n",
       "1597  071690f34d4ce164  female  76.0     northwestern   \n",
       "1598  0716bfa9c48ce79a  female  74.0          central   \n",
       "1599  07168088318cef88  female  76.0             ural   \n",
       "\n",
       "                                      type_of_city    knows_election_date  \\\n",
       "0                                          village     named correct date   \n",
       "1                                          village     named correct date   \n",
       "2            city with population of less than 50k     named correct date   \n",
       "3     city with population of 1 million and higher  not sure or no answer   \n",
       "4     city with population of 1 million and higher     named correct date   \n",
       "...                                            ...                    ...   \n",
       "1595                                    settlement     named correct date   \n",
       "1596                                       village     named correct date   \n",
       "1597               city with population of 50-100k     named correct date   \n",
       "1598         city with population of less than 50k  not sure or no answer   \n",
       "1599                                       village     named correct date   \n",
       "\n",
       "           will_vote           candidate      television_usage  \\\n",
       "0           not sure               Putin  several times a week   \n",
       "1           not sure               Putin      once half a year   \n",
       "2     definitely yes               Putin  several times a week   \n",
       "3           not sure            Davankov  several times a week   \n",
       "4     definitely yes               Putin        does not watch   \n",
       "...              ...                 ...                   ...   \n",
       "1595   definitely no  will not take part    over 4 hours a day   \n",
       "1596      likely yes  struggle to answer  several times a week   \n",
       "1597  definitely yes               Putin        does not watch   \n",
       "1598  definitely yes               Putin    over 4 hours a day   \n",
       "1599  definitely yes               Putin    over 4 hours a day   \n",
       "\n",
       "               internet_usage                    education       income  \\\n",
       "0          over 4 hours a day  incomplete school education    very high   \n",
       "1          over 4 hours a day                      college    very high   \n",
       "2          over 4 hours a day                      college    very high   \n",
       "3          over 4 hours a day                      college    very high   \n",
       "4          over 4 hours a day              bachelor degree    very high   \n",
       "...                       ...                          ...          ...   \n",
       "1595  less than 4 hours a day              bachelor degree  hard to say   \n",
       "1596    does not use internet                      college  hard to say   \n",
       "1597       over 4 hours a day              bachelor degree  hard to say   \n",
       "1598       over 4 hours a day              academic degree  hard to say   \n",
       "1599       over 4 hours a day                       school  hard to say   \n",
       "\n",
       "                employment                 job_type  \\\n",
       "0             entrepreneur                      NaN   \n",
       "1            work for hire  commercial organization   \n",
       "2            work for hire   law enforcement agency   \n",
       "3               unemployed                      NaN   \n",
       "4         employed student  commercial organization   \n",
       "...                    ...                      ...   \n",
       "1595  unemployed pensioner                      NaN   \n",
       "1596  unemployed pensioner                      NaN   \n",
       "1597  unemployed pensioner                      NaN   \n",
       "1598    employed pensioner  commercial organization   \n",
       "1599  unemployed pensioner                      NaN   \n",
       "\n",
       "                           company_type   weight1  \n",
       "0                               farming  1.445172  \n",
       "1                                 trade  1.445172  \n",
       "2                law enforcement agency  1.301691  \n",
       "3                                   NaN  1.538628  \n",
       "4     tech, programming, communications  1.967015  \n",
       "...                                 ...       ...  \n",
       "1595                                NaN  1.270761  \n",
       "1596                                NaN  0.921724  \n",
       "1597                                NaN  1.396691  \n",
       "1598            industry, manufacturing  0.995849  \n",
       "1599                                NaN  0.860836  \n",
       "\n",
       "[1600 rows x 16 columns]"
      ]
     },
     "execution_count": 2,
     "metadata": {},
     "output_type": "execute_result"
    }
   ],
   "source": [
    "df=pd.read_csv(r\"C:\\Users\\HP\\MyAssignments\\Live Assignment\\datasets\\election2024.csv\")\n",
    "df"
   ]
  },
  {
   "cell_type": "markdown",
   "metadata": {
    "id": "dpOr7LMh6Ltc"
   },
   "source": [
    "# <b> Data Pre-Processing"
   ]
  },
  {
   "cell_type": "code",
   "execution_count": 3,
   "metadata": {
    "colab": {
     "base_uri": "https://localhost:8080/"
    },
    "id": "Z025pqoY5gHx",
    "outputId": "e9e415e5-ce03-4c8a-95ea-221dcc5e4dc4"
   },
   "outputs": [
    {
     "name": "stdout",
     "output_type": "stream",
     "text": [
      "<class 'pandas.core.frame.DataFrame'>\n",
      "RangeIndex: 1600 entries, 0 to 1599\n",
      "Data columns (total 16 columns):\n",
      " #   Column               Non-Null Count  Dtype  \n",
      "---  ------               --------------  -----  \n",
      " 0   id                   1600 non-null   object \n",
      " 1   sex                  1600 non-null   object \n",
      " 2   age                  1600 non-null   float64\n",
      " 3   federal_district     1600 non-null   object \n",
      " 4   type_of_city         1600 non-null   object \n",
      " 5   knows_election_date  1600 non-null   object \n",
      " 6   will_vote            1600 non-null   object \n",
      " 7   candidate            1600 non-null   object \n",
      " 8   television_usage     1600 non-null   object \n",
      " 9   internet_usage       1600 non-null   object \n",
      " 10  education            1600 non-null   object \n",
      " 11  income               1600 non-null   object \n",
      " 12  employment           1600 non-null   object \n",
      " 13  job_type             692 non-null    object \n",
      " 14  company_type         879 non-null    object \n",
      " 15  weight1              1600 non-null   float64\n",
      "dtypes: float64(2), object(14)\n",
      "memory usage: 200.1+ KB\n"
     ]
    }
   ],
   "source": [
    "df.info()"
   ]
  },
  {
   "cell_type": "code",
   "execution_count": 4,
   "metadata": {
    "colab": {
     "base_uri": "https://localhost:8080/"
    },
    "id": "EKNVi-KR6Sc8",
    "outputId": "ed995405-f4a0-49dd-ccbe-77a10fe34158"
   },
   "outputs": [
    {
     "data": {
      "text/plain": [
       "id                       0\n",
       "sex                      0\n",
       "age                      0\n",
       "federal_district         0\n",
       "type_of_city             0\n",
       "knows_election_date      0\n",
       "will_vote                0\n",
       "candidate                0\n",
       "television_usage         0\n",
       "internet_usage           0\n",
       "education                0\n",
       "income                   0\n",
       "employment               0\n",
       "job_type               908\n",
       "company_type           721\n",
       "weight1                  0\n",
       "dtype: int64"
      ]
     },
     "execution_count": 4,
     "metadata": {},
     "output_type": "execute_result"
    }
   ],
   "source": [
    "df.isnull().sum()"
   ]
  },
  {
   "cell_type": "code",
   "execution_count": 5,
   "metadata": {
    "colab": {
     "base_uri": "https://localhost:8080/"
    },
    "id": "vOS9Rgso6bM9",
    "outputId": "981d8503-199f-4cbf-e570-66983c738f29"
   },
   "outputs": [
    {
     "data": {
      "text/plain": [
       "job_type\n",
       "commercial organization                    445\n",
       "government agency                          163\n",
       "law enforcement agency                      33\n",
       "non-profit agency                           22\n",
       "hard to say                                 22\n",
       "government, management, judicial bodies      7\n",
       "Name: count, dtype: int64"
      ]
     },
     "execution_count": 5,
     "metadata": {},
     "output_type": "execute_result"
    }
   ],
   "source": [
    "df[\"job_type\"].value_counts()"
   ]
  },
  {
   "cell_type": "code",
   "execution_count": 6,
   "metadata": {
    "id": "b__aWXWk6n6S"
   },
   "outputs": [],
   "source": [
    "df[\"job_type\"].fillna(\"Other\",inplace=True)"
   ]
  },
  {
   "cell_type": "code",
   "execution_count": 7,
   "metadata": {
    "colab": {
     "base_uri": "https://localhost:8080/"
    },
    "id": "64b42tcG7Ai1",
    "outputId": "b1d15fbe-22b8-405d-949d-b9175612c80d"
   },
   "outputs": [
    {
     "data": {
      "text/plain": [
       "job_type\n",
       "Other                                      908\n",
       "commercial organization                    445\n",
       "government agency                          163\n",
       "law enforcement agency                      33\n",
       "non-profit agency                           22\n",
       "hard to say                                 22\n",
       "government, management, judicial bodies      7\n",
       "Name: count, dtype: int64"
      ]
     },
     "execution_count": 7,
     "metadata": {},
     "output_type": "execute_result"
    }
   ],
   "source": [
    "df[\"job_type\"].value_counts()"
   ]
  },
  {
   "cell_type": "code",
   "execution_count": 8,
   "metadata": {
    "colab": {
     "base_uri": "https://localhost:8080/"
    },
    "id": "AtRHqGbR7Dc_",
    "outputId": "b418205c-0439-4ed2-fddf-c324e850f236"
   },
   "outputs": [
    {
     "data": {
      "text/plain": [
       "company_type\n",
       "industry, manufacturing                                                                                                     138\n",
       "trade                                                                                                                       113\n",
       "education                                                                                                                    85\n",
       "Сфера услуг, сервиса, бытового обслуживания Включает в том числе: Прачечная/химчистка, ремонт мебели, часов, ювелирны...     70\n",
       "construction, architecture                                                                                                   67\n",
       "transportation, storage                                                                                                      51\n",
       "farming                                                                                                                      44\n",
       "law enforcement agency                                                                                                       42\n",
       "healthcare                                                                                                                   39\n",
       "other                                                                                                                        39\n",
       "tech, programming, communications                                                                                            33\n",
       "housing and communal services                                                                                                30\n",
       "catering, restaurants                                                                                                        25\n",
       "finances                                                                                                                     22\n",
       "social services                                                                                                              20\n",
       "culture, sports                                                                                                              16\n",
       "refused to answer                                                                                                            12\n",
       "hard to say                                                                                                                  11\n",
       "state administration                                                                                                          8\n",
       "entertainment, tourism                                                                                                        7\n",
       "media                                                                                                                         7\n",
       "Name: count, dtype: int64"
      ]
     },
     "execution_count": 8,
     "metadata": {},
     "output_type": "execute_result"
    }
   ],
   "source": [
    "df[\"company_type\"].value_counts()"
   ]
  },
  {
   "cell_type": "code",
   "execution_count": 9,
   "metadata": {
    "id": "PzGQ5Z9s7JgO"
   },
   "outputs": [],
   "source": [
    "df[\"company_type\"].fillna(\"Other\",inplace=True)"
   ]
  },
  {
   "cell_type": "code",
   "execution_count": 10,
   "metadata": {
    "colab": {
     "base_uri": "https://localhost:8080/"
    },
    "id": "dG6kaG3M7ZLP",
    "outputId": "c76ac6f4-8d3d-4090-cc91-1fd8c0386ac1"
   },
   "outputs": [
    {
     "data": {
      "text/plain": [
       "company_type\n",
       "Other                                                                                                                       721\n",
       "industry, manufacturing                                                                                                     138\n",
       "trade                                                                                                                       113\n",
       "education                                                                                                                    85\n",
       "Сфера услуг, сервиса, бытового обслуживания Включает в том числе: Прачечная/химчистка, ремонт мебели, часов, ювелирны...     70\n",
       "construction, architecture                                                                                                   67\n",
       "transportation, storage                                                                                                      51\n",
       "farming                                                                                                                      44\n",
       "law enforcement agency                                                                                                       42\n",
       "healthcare                                                                                                                   39\n",
       "other                                                                                                                        39\n",
       "tech, programming, communications                                                                                            33\n",
       "housing and communal services                                                                                                30\n",
       "catering, restaurants                                                                                                        25\n",
       "finances                                                                                                                     22\n",
       "social services                                                                                                              20\n",
       "culture, sports                                                                                                              16\n",
       "refused to answer                                                                                                            12\n",
       "hard to say                                                                                                                  11\n",
       "state administration                                                                                                          8\n",
       "entertainment, tourism                                                                                                        7\n",
       "media                                                                                                                         7\n",
       "Name: count, dtype: int64"
      ]
     },
     "execution_count": 10,
     "metadata": {},
     "output_type": "execute_result"
    }
   ],
   "source": [
    "df[\"company_type\"].value_counts()"
   ]
  },
  {
   "cell_type": "markdown",
   "metadata": {
    "id": "GPf4Mpnw7jqM"
   },
   "source": [
    "- Since the unknown values were much larger as compared to other values, so simply made one more kind of value named as other i.e. unknown."
   ]
  },
  {
   "cell_type": "code",
   "execution_count": 11,
   "metadata": {
    "colab": {
     "base_uri": "https://localhost:8080/"
    },
    "id": "NdMYQ6Em7d44",
    "outputId": "a09dcb34-07d5-40da-e706-ee9a090230e9"
   },
   "outputs": [
    {
     "data": {
      "text/plain": [
       "id                     0\n",
       "sex                    0\n",
       "age                    0\n",
       "federal_district       0\n",
       "type_of_city           0\n",
       "knows_election_date    0\n",
       "will_vote              0\n",
       "candidate              0\n",
       "television_usage       0\n",
       "internet_usage         0\n",
       "education              0\n",
       "income                 0\n",
       "employment             0\n",
       "job_type               0\n",
       "company_type           0\n",
       "weight1                0\n",
       "dtype: int64"
      ]
     },
     "execution_count": 11,
     "metadata": {},
     "output_type": "execute_result"
    }
   ],
   "source": [
    "df.isnull().sum()"
   ]
  },
  {
   "cell_type": "markdown",
   "metadata": {
    "id": "I5l5Y-wK8Opt"
   },
   "source": [
    "- No null values are in dataset"
   ]
  },
  {
   "cell_type": "code",
   "execution_count": 12,
   "metadata": {
    "colab": {
     "base_uri": "https://localhost:8080/"
    },
    "id": "I_3zU2FO8Gb9",
    "outputId": "616c8e38-5801-4947-a1f1-62e589c7cbda"
   },
   "outputs": [
    {
     "data": {
      "text/plain": [
       "np.int64(0)"
      ]
     },
     "execution_count": 12,
     "metadata": {},
     "output_type": "execute_result"
    }
   ],
   "source": [
    "#Check for Duplicates\n",
    "df.duplicated().sum()"
   ]
  },
  {
   "cell_type": "markdown",
   "metadata": {
    "id": "xqZ9pKnJ8xjV"
   },
   "source": [
    "- No duplicates in the Dataset."
   ]
  },
  {
   "cell_type": "code",
   "execution_count": 13,
   "metadata": {
    "colab": {
     "base_uri": "https://localhost:8080/",
     "height": 417
    },
    "id": "MPKk52Ei8vPz",
    "outputId": "75ea352d-b54e-4cb4-ebed-03042ccf0cca"
   },
   "outputs": [
    {
     "data": {
      "text/html": [
       "<div>\n",
       "<style scoped>\n",
       "    .dataframe tbody tr th:only-of-type {\n",
       "        vertical-align: middle;\n",
       "    }\n",
       "\n",
       "    .dataframe tbody tr th {\n",
       "        vertical-align: top;\n",
       "    }\n",
       "\n",
       "    .dataframe thead th {\n",
       "        text-align: right;\n",
       "    }\n",
       "</style>\n",
       "<table border=\"1\" class=\"dataframe\">\n",
       "  <thead>\n",
       "    <tr style=\"text-align: right;\">\n",
       "      <th></th>\n",
       "      <th>id</th>\n",
       "      <th>sex</th>\n",
       "      <th>age</th>\n",
       "      <th>federal_district</th>\n",
       "      <th>type_of_city</th>\n",
       "      <th>knows_election_date</th>\n",
       "      <th>will_vote</th>\n",
       "      <th>candidate</th>\n",
       "      <th>television_usage</th>\n",
       "      <th>internet_usage</th>\n",
       "      <th>education</th>\n",
       "      <th>income</th>\n",
       "      <th>employment</th>\n",
       "      <th>job_type</th>\n",
       "      <th>company_type</th>\n",
       "      <th>weight1</th>\n",
       "    </tr>\n",
       "  </thead>\n",
       "  <tbody>\n",
       "    <tr>\n",
       "      <th>0</th>\n",
       "      <td>07169ed8148ce047</td>\n",
       "      <td>male</td>\n",
       "      <td>18.0</td>\n",
       "      <td>north caucasian</td>\n",
       "      <td>village</td>\n",
       "      <td>named correct date</td>\n",
       "      <td>not sure</td>\n",
       "      <td>Putin</td>\n",
       "      <td>several times a week</td>\n",
       "      <td>over 4 hours a day</td>\n",
       "      <td>incomplete school education</td>\n",
       "      <td>very high</td>\n",
       "      <td>entrepreneur</td>\n",
       "      <td>Other</td>\n",
       "      <td>farming</td>\n",
       "      <td>1.445172</td>\n",
       "    </tr>\n",
       "    <tr>\n",
       "      <th>1</th>\n",
       "      <td>0716a4f3354cecdd</td>\n",
       "      <td>male</td>\n",
       "      <td>23.0</td>\n",
       "      <td>north caucasian</td>\n",
       "      <td>village</td>\n",
       "      <td>named correct date</td>\n",
       "      <td>not sure</td>\n",
       "      <td>Putin</td>\n",
       "      <td>once half a year</td>\n",
       "      <td>over 4 hours a day</td>\n",
       "      <td>college</td>\n",
       "      <td>very high</td>\n",
       "      <td>work for hire</td>\n",
       "      <td>commercial organization</td>\n",
       "      <td>trade</td>\n",
       "      <td>1.445172</td>\n",
       "    </tr>\n",
       "    <tr>\n",
       "      <th>2</th>\n",
       "      <td>0716889b304ce79c</td>\n",
       "      <td>male</td>\n",
       "      <td>20.0</td>\n",
       "      <td>volga</td>\n",
       "      <td>city with population of less than 50k</td>\n",
       "      <td>named correct date</td>\n",
       "      <td>definitely yes</td>\n",
       "      <td>Putin</td>\n",
       "      <td>several times a week</td>\n",
       "      <td>over 4 hours a day</td>\n",
       "      <td>college</td>\n",
       "      <td>very high</td>\n",
       "      <td>work for hire</td>\n",
       "      <td>law enforcement agency</td>\n",
       "      <td>law enforcement agency</td>\n",
       "      <td>1.301691</td>\n",
       "    </tr>\n",
       "    <tr>\n",
       "      <th>3</th>\n",
       "      <td>07168e28b5cce563</td>\n",
       "      <td>male</td>\n",
       "      <td>22.0</td>\n",
       "      <td>northwestern</td>\n",
       "      <td>city with population of 1 million and higher</td>\n",
       "      <td>not sure or no answer</td>\n",
       "      <td>not sure</td>\n",
       "      <td>Davankov</td>\n",
       "      <td>several times a week</td>\n",
       "      <td>over 4 hours a day</td>\n",
       "      <td>college</td>\n",
       "      <td>very high</td>\n",
       "      <td>unemployed</td>\n",
       "      <td>Other</td>\n",
       "      <td>Other</td>\n",
       "      <td>1.538628</td>\n",
       "    </tr>\n",
       "    <tr>\n",
       "      <th>4</th>\n",
       "      <td>0716a563914ce549</td>\n",
       "      <td>male</td>\n",
       "      <td>21.0</td>\n",
       "      <td>southern</td>\n",
       "      <td>city with population of 1 million and higher</td>\n",
       "      <td>named correct date</td>\n",
       "      <td>definitely yes</td>\n",
       "      <td>Putin</td>\n",
       "      <td>does not watch</td>\n",
       "      <td>over 4 hours a day</td>\n",
       "      <td>bachelor degree</td>\n",
       "      <td>very high</td>\n",
       "      <td>employed student</td>\n",
       "      <td>commercial organization</td>\n",
       "      <td>tech, programming, communications</td>\n",
       "      <td>1.967015</td>\n",
       "    </tr>\n",
       "  </tbody>\n",
       "</table>\n",
       "</div>"
      ],
      "text/plain": [
       "                 id   sex   age federal_district  \\\n",
       "0  07169ed8148ce047  male  18.0  north caucasian   \n",
       "1  0716a4f3354cecdd  male  23.0  north caucasian   \n",
       "2  0716889b304ce79c  male  20.0            volga   \n",
       "3  07168e28b5cce563  male  22.0     northwestern   \n",
       "4  0716a563914ce549  male  21.0         southern   \n",
       "\n",
       "                                   type_of_city    knows_election_date  \\\n",
       "0                                       village     named correct date   \n",
       "1                                       village     named correct date   \n",
       "2         city with population of less than 50k     named correct date   \n",
       "3  city with population of 1 million and higher  not sure or no answer   \n",
       "4  city with population of 1 million and higher     named correct date   \n",
       "\n",
       "        will_vote candidate      television_usage      internet_usage  \\\n",
       "0        not sure     Putin  several times a week  over 4 hours a day   \n",
       "1        not sure     Putin      once half a year  over 4 hours a day   \n",
       "2  definitely yes     Putin  several times a week  over 4 hours a day   \n",
       "3        not sure  Davankov  several times a week  over 4 hours a day   \n",
       "4  definitely yes     Putin        does not watch  over 4 hours a day   \n",
       "\n",
       "                     education     income        employment  \\\n",
       "0  incomplete school education  very high      entrepreneur   \n",
       "1                      college  very high     work for hire   \n",
       "2                      college  very high     work for hire   \n",
       "3                      college  very high        unemployed   \n",
       "4              bachelor degree  very high  employed student   \n",
       "\n",
       "                  job_type                       company_type   weight1  \n",
       "0                    Other                            farming  1.445172  \n",
       "1  commercial organization                              trade  1.445172  \n",
       "2   law enforcement agency             law enforcement agency  1.301691  \n",
       "3                    Other                              Other  1.538628  \n",
       "4  commercial organization  tech, programming, communications  1.967015  "
      ]
     },
     "execution_count": 13,
     "metadata": {},
     "output_type": "execute_result"
    }
   ],
   "source": [
    "df.head()"
   ]
  },
  {
   "cell_type": "markdown",
   "metadata": {
    "id": "iGUnv4HeDZQF"
   },
   "source": [
    "- As id columns is that important, Drop it."
   ]
  },
  {
   "cell_type": "code",
   "execution_count": 14,
   "metadata": {
    "id": "YH8MyrVL9BxZ"
   },
   "outputs": [],
   "source": [
    "df.drop(\"id\",axis=1,inplace=True)"
   ]
  },
  {
   "cell_type": "code",
   "execution_count": 15,
   "metadata": {
    "colab": {
     "base_uri": "https://localhost:8080/",
     "height": 417
    },
    "id": "VBJIs9cUDo7V",
    "outputId": "1458e4c6-cb33-4655-ac2a-983a87f27e52"
   },
   "outputs": [
    {
     "data": {
      "text/html": [
       "<div>\n",
       "<style scoped>\n",
       "    .dataframe tbody tr th:only-of-type {\n",
       "        vertical-align: middle;\n",
       "    }\n",
       "\n",
       "    .dataframe tbody tr th {\n",
       "        vertical-align: top;\n",
       "    }\n",
       "\n",
       "    .dataframe thead th {\n",
       "        text-align: right;\n",
       "    }\n",
       "</style>\n",
       "<table border=\"1\" class=\"dataframe\">\n",
       "  <thead>\n",
       "    <tr style=\"text-align: right;\">\n",
       "      <th></th>\n",
       "      <th>sex</th>\n",
       "      <th>age</th>\n",
       "      <th>federal_district</th>\n",
       "      <th>type_of_city</th>\n",
       "      <th>knows_election_date</th>\n",
       "      <th>will_vote</th>\n",
       "      <th>candidate</th>\n",
       "      <th>television_usage</th>\n",
       "      <th>internet_usage</th>\n",
       "      <th>education</th>\n",
       "      <th>income</th>\n",
       "      <th>employment</th>\n",
       "      <th>job_type</th>\n",
       "      <th>company_type</th>\n",
       "      <th>weight1</th>\n",
       "    </tr>\n",
       "  </thead>\n",
       "  <tbody>\n",
       "    <tr>\n",
       "      <th>0</th>\n",
       "      <td>male</td>\n",
       "      <td>18.0</td>\n",
       "      <td>north caucasian</td>\n",
       "      <td>village</td>\n",
       "      <td>named correct date</td>\n",
       "      <td>not sure</td>\n",
       "      <td>Putin</td>\n",
       "      <td>several times a week</td>\n",
       "      <td>over 4 hours a day</td>\n",
       "      <td>incomplete school education</td>\n",
       "      <td>very high</td>\n",
       "      <td>entrepreneur</td>\n",
       "      <td>Other</td>\n",
       "      <td>farming</td>\n",
       "      <td>1.445172</td>\n",
       "    </tr>\n",
       "    <tr>\n",
       "      <th>1</th>\n",
       "      <td>male</td>\n",
       "      <td>23.0</td>\n",
       "      <td>north caucasian</td>\n",
       "      <td>village</td>\n",
       "      <td>named correct date</td>\n",
       "      <td>not sure</td>\n",
       "      <td>Putin</td>\n",
       "      <td>once half a year</td>\n",
       "      <td>over 4 hours a day</td>\n",
       "      <td>college</td>\n",
       "      <td>very high</td>\n",
       "      <td>work for hire</td>\n",
       "      <td>commercial organization</td>\n",
       "      <td>trade</td>\n",
       "      <td>1.445172</td>\n",
       "    </tr>\n",
       "    <tr>\n",
       "      <th>2</th>\n",
       "      <td>male</td>\n",
       "      <td>20.0</td>\n",
       "      <td>volga</td>\n",
       "      <td>city with population of less than 50k</td>\n",
       "      <td>named correct date</td>\n",
       "      <td>definitely yes</td>\n",
       "      <td>Putin</td>\n",
       "      <td>several times a week</td>\n",
       "      <td>over 4 hours a day</td>\n",
       "      <td>college</td>\n",
       "      <td>very high</td>\n",
       "      <td>work for hire</td>\n",
       "      <td>law enforcement agency</td>\n",
       "      <td>law enforcement agency</td>\n",
       "      <td>1.301691</td>\n",
       "    </tr>\n",
       "    <tr>\n",
       "      <th>3</th>\n",
       "      <td>male</td>\n",
       "      <td>22.0</td>\n",
       "      <td>northwestern</td>\n",
       "      <td>city with population of 1 million and higher</td>\n",
       "      <td>not sure or no answer</td>\n",
       "      <td>not sure</td>\n",
       "      <td>Davankov</td>\n",
       "      <td>several times a week</td>\n",
       "      <td>over 4 hours a day</td>\n",
       "      <td>college</td>\n",
       "      <td>very high</td>\n",
       "      <td>unemployed</td>\n",
       "      <td>Other</td>\n",
       "      <td>Other</td>\n",
       "      <td>1.538628</td>\n",
       "    </tr>\n",
       "    <tr>\n",
       "      <th>4</th>\n",
       "      <td>male</td>\n",
       "      <td>21.0</td>\n",
       "      <td>southern</td>\n",
       "      <td>city with population of 1 million and higher</td>\n",
       "      <td>named correct date</td>\n",
       "      <td>definitely yes</td>\n",
       "      <td>Putin</td>\n",
       "      <td>does not watch</td>\n",
       "      <td>over 4 hours a day</td>\n",
       "      <td>bachelor degree</td>\n",
       "      <td>very high</td>\n",
       "      <td>employed student</td>\n",
       "      <td>commercial organization</td>\n",
       "      <td>tech, programming, communications</td>\n",
       "      <td>1.967015</td>\n",
       "    </tr>\n",
       "  </tbody>\n",
       "</table>\n",
       "</div>"
      ],
      "text/plain": [
       "    sex   age federal_district                                  type_of_city  \\\n",
       "0  male  18.0  north caucasian                                       village   \n",
       "1  male  23.0  north caucasian                                       village   \n",
       "2  male  20.0            volga         city with population of less than 50k   \n",
       "3  male  22.0     northwestern  city with population of 1 million and higher   \n",
       "4  male  21.0         southern  city with population of 1 million and higher   \n",
       "\n",
       "     knows_election_date       will_vote candidate      television_usage  \\\n",
       "0     named correct date        not sure     Putin  several times a week   \n",
       "1     named correct date        not sure     Putin      once half a year   \n",
       "2     named correct date  definitely yes     Putin  several times a week   \n",
       "3  not sure or no answer        not sure  Davankov  several times a week   \n",
       "4     named correct date  definitely yes     Putin        does not watch   \n",
       "\n",
       "       internet_usage                    education     income  \\\n",
       "0  over 4 hours a day  incomplete school education  very high   \n",
       "1  over 4 hours a day                      college  very high   \n",
       "2  over 4 hours a day                      college  very high   \n",
       "3  over 4 hours a day                      college  very high   \n",
       "4  over 4 hours a day              bachelor degree  very high   \n",
       "\n",
       "         employment                 job_type  \\\n",
       "0      entrepreneur                    Other   \n",
       "1     work for hire  commercial organization   \n",
       "2     work for hire   law enforcement agency   \n",
       "3        unemployed                    Other   \n",
       "4  employed student  commercial organization   \n",
       "\n",
       "                        company_type   weight1  \n",
       "0                            farming  1.445172  \n",
       "1                              trade  1.445172  \n",
       "2             law enforcement agency  1.301691  \n",
       "3                              Other  1.538628  \n",
       "4  tech, programming, communications  1.967015  "
      ]
     },
     "execution_count": 15,
     "metadata": {},
     "output_type": "execute_result"
    }
   ],
   "source": [
    "df.head(5)"
   ]
  },
  {
   "cell_type": "markdown",
   "metadata": {
    "id": "91U_8I1AEuB3"
   },
   "source": [
    "# <b> EDA --> Exploratory Data Analysis"
   ]
  },
  {
   "cell_type": "code",
   "execution_count": 16,
   "metadata": {
    "colab": {
     "base_uri": "https://localhost:8080/"
    },
    "id": "S8IROF96DsWL",
    "outputId": "fd26dcda-8863-4090-d240-6467ce2cf7ca"
   },
   "outputs": [
    {
     "data": {
      "text/plain": [
       "sex\n",
       "female    843\n",
       "male      757\n",
       "Name: count, dtype: int64"
      ]
     },
     "execution_count": 16,
     "metadata": {},
     "output_type": "execute_result"
    }
   ],
   "source": [
    "df[\"sex\"].value_counts()"
   ]
  },
  {
   "cell_type": "code",
   "execution_count": 17,
   "metadata": {
    "colab": {
     "base_uri": "https://localhost:8080/",
     "height": 406
    },
    "id": "hj6iGtuNGVd-",
    "outputId": "83dcb88c-8dd6-4611-9511-14b42dd637a1"
   },
   "outputs": [
    {
     "data": {
      "image/png": "[encoded data removed]",
      "text/plain": [
       "<Figure size 640x480 with 1 Axes>"
      ]
     },
     "metadata": {},
     "output_type": "display_data"
    }
   ],
   "source": [
    "#pie chart\n",
    "plt.pie(df[\"sex\"].value_counts(),labels=[\"Male\",\"Female\"],autopct=\"%0.2f%%\")\n",
    "plt.show()"
   ]
  },
  {
   "cell_type": "code",
   "execution_count": 18,
   "metadata": {
    "colab": {
     "base_uri": "https://localhost:8080/",
     "height": 430
    },
    "id": "E9GGUD3IGrZr",
    "outputId": "06b61a26-453e-4845-a6c6-eef078513096"
   },
   "outputs": [
    {
     "data": {
      "image/png": "[encoded data removed]",
      "text/plain": [
       "<Figure size 640x480 with 1 Axes>"
      ]
     },
     "metadata": {},
     "output_type": "display_data"
    }
   ],
   "source": [
    "plt.hist(df[\"age\"])\n",
    "plt.show()"
   ]
  },
  {
   "cell_type": "code",
   "execution_count": 19,
   "metadata": {
    "colab": {
     "base_uri": "https://localhost:8080/"
    },
    "id": "fUPse-CdG3rl",
    "outputId": "548623a7-6447-4850-d9a0-b3aac6dcdb8d"
   },
   "outputs": [
    {
     "data": {
      "text/plain": [
       "count    1600.000000\n",
       "mean       49.936250\n",
       "std        16.901797\n",
       "min        18.000000\n",
       "25%        37.000000\n",
       "50%        49.000000\n",
       "75%        64.000000\n",
       "max        90.000000\n",
       "Name: age, dtype: float64"
      ]
     },
     "execution_count": 19,
     "metadata": {},
     "output_type": "execute_result"
    }
   ],
   "source": [
    "df[\"age\"].describe()"
   ]
  },
  {
   "cell_type": "markdown",
   "metadata": {
    "id": "CTn4v-0EHxoB"
   },
   "source": [
    "- As per the fact that minimum age in russia to vote is 18 as well as our age distribution is too between 18 and 90 we can say the all of the citizens in the dataset are eligible to vote."
   ]
  },
  {
   "cell_type": "code",
   "execution_count": 20,
   "metadata": {
    "colab": {
     "base_uri": "https://localhost:8080/",
     "height": 184
    },
    "id": "hhEjuzQDHtQ4",
    "outputId": "e96b8bec-a199-4aaf-b988-39e21571f41a"
   },
   "outputs": [
    {
     "data": {
      "text/html": [
       "<div>\n",
       "<style scoped>\n",
       "    .dataframe tbody tr th:only-of-type {\n",
       "        vertical-align: middle;\n",
       "    }\n",
       "\n",
       "    .dataframe tbody tr th {\n",
       "        vertical-align: top;\n",
       "    }\n",
       "\n",
       "    .dataframe thead th {\n",
       "        text-align: right;\n",
       "    }\n",
       "</style>\n",
       "<table border=\"1\" class=\"dataframe\">\n",
       "  <thead>\n",
       "    <tr style=\"text-align: right;\">\n",
       "      <th></th>\n",
       "      <th>sex</th>\n",
       "      <th>age</th>\n",
       "      <th>federal_district</th>\n",
       "      <th>type_of_city</th>\n",
       "      <th>knows_election_date</th>\n",
       "      <th>will_vote</th>\n",
       "      <th>candidate</th>\n",
       "      <th>television_usage</th>\n",
       "      <th>internet_usage</th>\n",
       "      <th>education</th>\n",
       "      <th>income</th>\n",
       "      <th>employment</th>\n",
       "      <th>job_type</th>\n",
       "      <th>company_type</th>\n",
       "      <th>weight1</th>\n",
       "    </tr>\n",
       "  </thead>\n",
       "  <tbody>\n",
       "    <tr>\n",
       "      <th>0</th>\n",
       "      <td>male</td>\n",
       "      <td>18.0</td>\n",
       "      <td>north caucasian</td>\n",
       "      <td>village</td>\n",
       "      <td>named correct date</td>\n",
       "      <td>not sure</td>\n",
       "      <td>Putin</td>\n",
       "      <td>several times a week</td>\n",
       "      <td>over 4 hours a day</td>\n",
       "      <td>incomplete school education</td>\n",
       "      <td>very high</td>\n",
       "      <td>entrepreneur</td>\n",
       "      <td>Other</td>\n",
       "      <td>farming</td>\n",
       "      <td>1.445172</td>\n",
       "    </tr>\n",
       "    <tr>\n",
       "      <th>1</th>\n",
       "      <td>male</td>\n",
       "      <td>23.0</td>\n",
       "      <td>north caucasian</td>\n",
       "      <td>village</td>\n",
       "      <td>named correct date</td>\n",
       "      <td>not sure</td>\n",
       "      <td>Putin</td>\n",
       "      <td>once half a year</td>\n",
       "      <td>over 4 hours a day</td>\n",
       "      <td>college</td>\n",
       "      <td>very high</td>\n",
       "      <td>work for hire</td>\n",
       "      <td>commercial organization</td>\n",
       "      <td>trade</td>\n",
       "      <td>1.445172</td>\n",
       "    </tr>\n",
       "  </tbody>\n",
       "</table>\n",
       "</div>"
      ],
      "text/plain": [
       "    sex   age federal_district type_of_city knows_election_date will_vote  \\\n",
       "0  male  18.0  north caucasian      village  named correct date  not sure   \n",
       "1  male  23.0  north caucasian      village  named correct date  not sure   \n",
       "\n",
       "  candidate      television_usage      internet_usage  \\\n",
       "0     Putin  several times a week  over 4 hours a day   \n",
       "1     Putin      once half a year  over 4 hours a day   \n",
       "\n",
       "                     education     income     employment  \\\n",
       "0  incomplete school education  very high   entrepreneur   \n",
       "1                      college  very high  work for hire   \n",
       "\n",
       "                  job_type company_type   weight1  \n",
       "0                    Other      farming  1.445172  \n",
       "1  commercial organization        trade  1.445172  "
      ]
     },
     "execution_count": 20,
     "metadata": {},
     "output_type": "execute_result"
    }
   ],
   "source": [
    "df.head(2)"
   ]
  },
  {
   "cell_type": "code",
   "execution_count": 21,
   "metadata": {
    "colab": {
     "base_uri": "https://localhost:8080/",
     "height": 406
    },
    "id": "Wf7gv0xmIcjG",
    "outputId": "cbd43edc-4c1d-4d5b-cb16-5ede74345eff"
   },
   "outputs": [
    {
     "data": {
      "image/png": "[encoded data removed]",
      "text/plain": [
       "<Figure size 640x480 with 1 Axes>"
      ]
     },
     "metadata": {},
     "output_type": "display_data"
    }
   ],
   "source": [
    "plt.pie(df[\"candidate\"].value_counts(),labels=df[\"candidate\"].value_counts().index,autopct=\"%0.2f%%\")\n",
    "plt.show()"
   ]
  },
  {
   "cell_type": "code",
   "execution_count": 22,
   "metadata": {
    "colab": {
     "base_uri": "https://localhost:8080/"
    },
    "id": "1TuwzNudIuyP",
    "outputId": "5aeb5e67-7aa9-4ad9-cdc0-62792a15f8e5"
   },
   "outputs": [
    {
     "data": {
      "text/plain": [
       "candidate\n",
       "Putin                 1128\n",
       "struggle to answer     164\n",
       "will not take part      96\n",
       "Davankov                67\n",
       "Kharitonov              63\n",
       "Slutskiy                55\n",
       "spoilt vote             27\n",
       "Name: count, dtype: int64"
      ]
     },
     "execution_count": 22,
     "metadata": {},
     "output_type": "execute_result"
    }
   ],
   "source": [
    "df[\"candidate\"].value_counts()"
   ]
  },
  {
   "cell_type": "markdown",
   "metadata": {
    "id": "VfeCzhQtJ90a"
   },
   "source": [
    "- 70% voters are in favour of Putin,while 16.25% are still not disclosed i.e.\"struggle to answer\" & \"will not take part\"."
   ]
  },
  {
   "cell_type": "code",
   "execution_count": 23,
   "metadata": {
    "colab": {
     "base_uri": "https://localhost:8080/"
    },
    "id": "GXiULP86JjF-",
    "outputId": "844fb9bb-8108-4f80-fbbf-31cdf8cf3934"
   },
   "outputs": [
    {
     "data": {
      "text/plain": [
       "will_vote\n",
       "definitely yes        1062\n",
       "likely yes             218\n",
       "not sure               166\n",
       "definitely no           86\n",
       "likely no               55\n",
       "struggle to answer      13\n",
       "Name: count, dtype: int64"
      ]
     },
     "execution_count": 23,
     "metadata": {},
     "output_type": "execute_result"
    }
   ],
   "source": [
    "#Let's check Voting situation\n",
    "df[\"will_vote\"].value_counts()"
   ]
  },
  {
   "cell_type": "code",
   "execution_count": 24,
   "metadata": {
    "colab": {
     "base_uri": "https://localhost:8080/",
     "height": 510
    },
    "id": "LxivFAt4KZ5-",
    "outputId": "9443dbed-1cb7-47de-cbaf-6cea84f7611a"
   },
   "outputs": [
    {
     "data": {
      "image/png": "[encoded data removed]",
      "text/plain": [
       "<Figure size 1000x500 with 1 Axes>"
      ]
     },
     "metadata": {},
     "output_type": "display_data"
    }
   ],
   "source": [
    "plt.figure(figsize=(10, 5))\n",
    "#df = your_dataframe_here  # Assign your DataFrame to the variable df\n",
    "\n",
    "sns.barplot(x=df[\"will_vote\"].value_counts().index, y=df[\"will_vote\"].value_counts(),hue=df[\"will_vote\"].value_counts().index)\n",
    "plt.xticks(rotation=90)\n",
    "\n",
    "for i, count in enumerate(df[\"will_vote\"].value_counts()):\n",
    "    plt.text(i, count, str(count), ha=\"center\", va=\"bottom\")\n",
    "\n",
    "plt.show()"
   ]
  },
  {
   "cell_type": "markdown",
   "metadata": {
    "id": "-V0Og21wMhlL"
   },
   "source": [
    "- As per the above barplot, 1016 around 70% people are sure to vote if we include likely yes too, there are around 80% voter who are sure to vote.\n",
    "\n",
    "- Let's cosider these voters to for a conclusion:"
   ]
  },
  {
   "cell_type": "code",
   "execution_count": 25,
   "metadata": {
    "colab": {
     "base_uri": "https://localhost:8080/",
     "height": 774
    },
    "id": "TvTsWhR2L24y",
    "outputId": "cd158a22-23bf-4bdb-c515-9b74a2017436"
   },
   "outputs": [
    {
     "data": {
      "text/html": [
       "<div>\n",
       "<style scoped>\n",
       "    .dataframe tbody tr th:only-of-type {\n",
       "        vertical-align: middle;\n",
       "    }\n",
       "\n",
       "    .dataframe tbody tr th {\n",
       "        vertical-align: top;\n",
       "    }\n",
       "\n",
       "    .dataframe thead th {\n",
       "        text-align: right;\n",
       "    }\n",
       "</style>\n",
       "<table border=\"1\" class=\"dataframe\">\n",
       "  <thead>\n",
       "    <tr style=\"text-align: right;\">\n",
       "      <th></th>\n",
       "      <th>sex</th>\n",
       "      <th>age</th>\n",
       "      <th>federal_district</th>\n",
       "      <th>type_of_city</th>\n",
       "      <th>knows_election_date</th>\n",
       "      <th>will_vote</th>\n",
       "      <th>candidate</th>\n",
       "      <th>television_usage</th>\n",
       "      <th>internet_usage</th>\n",
       "      <th>education</th>\n",
       "      <th>income</th>\n",
       "      <th>employment</th>\n",
       "      <th>job_type</th>\n",
       "      <th>company_type</th>\n",
       "      <th>weight1</th>\n",
       "    </tr>\n",
       "  </thead>\n",
       "  <tbody>\n",
       "    <tr>\n",
       "      <th>2</th>\n",
       "      <td>male</td>\n",
       "      <td>20.0</td>\n",
       "      <td>volga</td>\n",
       "      <td>city with population of less than 50k</td>\n",
       "      <td>named correct date</td>\n",
       "      <td>definitely yes</td>\n",
       "      <td>Putin</td>\n",
       "      <td>several times a week</td>\n",
       "      <td>over 4 hours a day</td>\n",
       "      <td>college</td>\n",
       "      <td>very high</td>\n",
       "      <td>work for hire</td>\n",
       "      <td>law enforcement agency</td>\n",
       "      <td>law enforcement agency</td>\n",
       "      <td>1.301691</td>\n",
       "    </tr>\n",
       "    <tr>\n",
       "      <th>4</th>\n",
       "      <td>male</td>\n",
       "      <td>21.0</td>\n",
       "      <td>southern</td>\n",
       "      <td>city with population of 1 million and higher</td>\n",
       "      <td>named correct date</td>\n",
       "      <td>definitely yes</td>\n",
       "      <td>Putin</td>\n",
       "      <td>does not watch</td>\n",
       "      <td>over 4 hours a day</td>\n",
       "      <td>bachelor degree</td>\n",
       "      <td>very high</td>\n",
       "      <td>employed student</td>\n",
       "      <td>commercial organization</td>\n",
       "      <td>tech, programming, communications</td>\n",
       "      <td>1.967015</td>\n",
       "    </tr>\n",
       "    <tr>\n",
       "      <th>6</th>\n",
       "      <td>male</td>\n",
       "      <td>37.0</td>\n",
       "      <td>northwestern</td>\n",
       "      <td>city with population of less than 50k</td>\n",
       "      <td>named correct date</td>\n",
       "      <td>definitely yes</td>\n",
       "      <td>Putin</td>\n",
       "      <td>once half a year</td>\n",
       "      <td>several times a week</td>\n",
       "      <td>school</td>\n",
       "      <td>very high</td>\n",
       "      <td>work for hire</td>\n",
       "      <td>commercial organization</td>\n",
       "      <td>industry, manufacturing</td>\n",
       "      <td>0.579384</td>\n",
       "    </tr>\n",
       "    <tr>\n",
       "      <th>7</th>\n",
       "      <td>male</td>\n",
       "      <td>43.0</td>\n",
       "      <td>southern</td>\n",
       "      <td>city with population of 50-100k</td>\n",
       "      <td>named correct date</td>\n",
       "      <td>definitely yes</td>\n",
       "      <td>Putin</td>\n",
       "      <td>does not watch</td>\n",
       "      <td>less than 4 hours a day</td>\n",
       "      <td>college</td>\n",
       "      <td>very high</td>\n",
       "      <td>self-employed</td>\n",
       "      <td>Other</td>\n",
       "      <td>other</td>\n",
       "      <td>0.662259</td>\n",
       "    </tr>\n",
       "    <tr>\n",
       "      <th>8</th>\n",
       "      <td>male</td>\n",
       "      <td>39.0</td>\n",
       "      <td>northwestern</td>\n",
       "      <td>city with population of 100-500k</td>\n",
       "      <td>wrong answer</td>\n",
       "      <td>definitely yes</td>\n",
       "      <td>Putin</td>\n",
       "      <td>does not watch</td>\n",
       "      <td>over 4 hours a day</td>\n",
       "      <td>college</td>\n",
       "      <td>very high</td>\n",
       "      <td>unemployed pensioner</td>\n",
       "      <td>Other</td>\n",
       "      <td>Other</td>\n",
       "      <td>0.468226</td>\n",
       "    </tr>\n",
       "    <tr>\n",
       "      <th>...</th>\n",
       "      <td>...</td>\n",
       "      <td>...</td>\n",
       "      <td>...</td>\n",
       "      <td>...</td>\n",
       "      <td>...</td>\n",
       "      <td>...</td>\n",
       "      <td>...</td>\n",
       "      <td>...</td>\n",
       "      <td>...</td>\n",
       "      <td>...</td>\n",
       "      <td>...</td>\n",
       "      <td>...</td>\n",
       "      <td>...</td>\n",
       "      <td>...</td>\n",
       "      <td>...</td>\n",
       "    </tr>\n",
       "    <tr>\n",
       "      <th>1594</th>\n",
       "      <td>male</td>\n",
       "      <td>51.0</td>\n",
       "      <td>north caucasian</td>\n",
       "      <td>city with population of 500-950k</td>\n",
       "      <td>named correct date</td>\n",
       "      <td>likely yes</td>\n",
       "      <td>Putin</td>\n",
       "      <td>several times a week</td>\n",
       "      <td>several times a week</td>\n",
       "      <td>bachelor degree</td>\n",
       "      <td>hard to say</td>\n",
       "      <td>unemployed</td>\n",
       "      <td>Other</td>\n",
       "      <td>Other</td>\n",
       "      <td>0.928472</td>\n",
       "    </tr>\n",
       "    <tr>\n",
       "      <th>1596</th>\n",
       "      <td>female</td>\n",
       "      <td>80.0</td>\n",
       "      <td>volga</td>\n",
       "      <td>village</td>\n",
       "      <td>named correct date</td>\n",
       "      <td>likely yes</td>\n",
       "      <td>struggle to answer</td>\n",
       "      <td>several times a week</td>\n",
       "      <td>does not use internet</td>\n",
       "      <td>college</td>\n",
       "      <td>hard to say</td>\n",
       "      <td>unemployed pensioner</td>\n",
       "      <td>Other</td>\n",
       "      <td>Other</td>\n",
       "      <td>0.921724</td>\n",
       "    </tr>\n",
       "    <tr>\n",
       "      <th>1597</th>\n",
       "      <td>female</td>\n",
       "      <td>76.0</td>\n",
       "      <td>northwestern</td>\n",
       "      <td>city with population of 50-100k</td>\n",
       "      <td>named correct date</td>\n",
       "      <td>definitely yes</td>\n",
       "      <td>Putin</td>\n",
       "      <td>does not watch</td>\n",
       "      <td>over 4 hours a day</td>\n",
       "      <td>bachelor degree</td>\n",
       "      <td>hard to say</td>\n",
       "      <td>unemployed pensioner</td>\n",
       "      <td>Other</td>\n",
       "      <td>Other</td>\n",
       "      <td>1.396691</td>\n",
       "    </tr>\n",
       "    <tr>\n",
       "      <th>1598</th>\n",
       "      <td>female</td>\n",
       "      <td>74.0</td>\n",
       "      <td>central</td>\n",
       "      <td>city with population of less than 50k</td>\n",
       "      <td>not sure or no answer</td>\n",
       "      <td>definitely yes</td>\n",
       "      <td>Putin</td>\n",
       "      <td>over 4 hours a day</td>\n",
       "      <td>over 4 hours a day</td>\n",
       "      <td>academic degree</td>\n",
       "      <td>hard to say</td>\n",
       "      <td>employed pensioner</td>\n",
       "      <td>commercial organization</td>\n",
       "      <td>industry, manufacturing</td>\n",
       "      <td>0.995849</td>\n",
       "    </tr>\n",
       "    <tr>\n",
       "      <th>1599</th>\n",
       "      <td>female</td>\n",
       "      <td>76.0</td>\n",
       "      <td>ural</td>\n",
       "      <td>village</td>\n",
       "      <td>named correct date</td>\n",
       "      <td>definitely yes</td>\n",
       "      <td>Putin</td>\n",
       "      <td>over 4 hours a day</td>\n",
       "      <td>over 4 hours a day</td>\n",
       "      <td>school</td>\n",
       "      <td>hard to say</td>\n",
       "      <td>unemployed pensioner</td>\n",
       "      <td>Other</td>\n",
       "      <td>Other</td>\n",
       "      <td>0.860836</td>\n",
       "    </tr>\n",
       "  </tbody>\n",
       "</table>\n",
       "<p>1280 rows × 15 columns</p>\n",
       "</div>"
      ],
      "text/plain": [
       "         sex   age federal_district  \\\n",
       "2       male  20.0            volga   \n",
       "4       male  21.0         southern   \n",
       "6       male  37.0     northwestern   \n",
       "7       male  43.0         southern   \n",
       "8       male  39.0     northwestern   \n",
       "...      ...   ...              ...   \n",
       "1594    male  51.0  north caucasian   \n",
       "1596  female  80.0            volga   \n",
       "1597  female  76.0     northwestern   \n",
       "1598  female  74.0          central   \n",
       "1599  female  76.0             ural   \n",
       "\n",
       "                                      type_of_city    knows_election_date  \\\n",
       "2            city with population of less than 50k     named correct date   \n",
       "4     city with population of 1 million and higher     named correct date   \n",
       "6            city with population of less than 50k     named correct date   \n",
       "7                  city with population of 50-100k     named correct date   \n",
       "8                 city with population of 100-500k           wrong answer   \n",
       "...                                            ...                    ...   \n",
       "1594              city with population of 500-950k     named correct date   \n",
       "1596                                       village     named correct date   \n",
       "1597               city with population of 50-100k     named correct date   \n",
       "1598         city with population of less than 50k  not sure or no answer   \n",
       "1599                                       village     named correct date   \n",
       "\n",
       "           will_vote           candidate      television_usage  \\\n",
       "2     definitely yes               Putin  several times a week   \n",
       "4     definitely yes               Putin        does not watch   \n",
       "6     definitely yes               Putin      once half a year   \n",
       "7     definitely yes               Putin        does not watch   \n",
       "8     definitely yes               Putin        does not watch   \n",
       "...              ...                 ...                   ...   \n",
       "1594      likely yes               Putin  several times a week   \n",
       "1596      likely yes  struggle to answer  several times a week   \n",
       "1597  definitely yes               Putin        does not watch   \n",
       "1598  definitely yes               Putin    over 4 hours a day   \n",
       "1599  definitely yes               Putin    over 4 hours a day   \n",
       "\n",
       "               internet_usage        education       income  \\\n",
       "2          over 4 hours a day          college    very high   \n",
       "4          over 4 hours a day  bachelor degree    very high   \n",
       "6        several times a week           school    very high   \n",
       "7     less than 4 hours a day          college    very high   \n",
       "8          over 4 hours a day          college    very high   \n",
       "...                       ...              ...          ...   \n",
       "1594     several times a week  bachelor degree  hard to say   \n",
       "1596    does not use internet          college  hard to say   \n",
       "1597       over 4 hours a day  bachelor degree  hard to say   \n",
       "1598       over 4 hours a day  academic degree  hard to say   \n",
       "1599       over 4 hours a day           school  hard to say   \n",
       "\n",
       "                employment                 job_type  \\\n",
       "2            work for hire   law enforcement agency   \n",
       "4         employed student  commercial organization   \n",
       "6            work for hire  commercial organization   \n",
       "7            self-employed                    Other   \n",
       "8     unemployed pensioner                    Other   \n",
       "...                    ...                      ...   \n",
       "1594            unemployed                    Other   \n",
       "1596  unemployed pensioner                    Other   \n",
       "1597  unemployed pensioner                    Other   \n",
       "1598    employed pensioner  commercial organization   \n",
       "1599  unemployed pensioner                    Other   \n",
       "\n",
       "                           company_type   weight1  \n",
       "2                law enforcement agency  1.301691  \n",
       "4     tech, programming, communications  1.967015  \n",
       "6               industry, manufacturing  0.579384  \n",
       "7                                 other  0.662259  \n",
       "8                                 Other  0.468226  \n",
       "...                                 ...       ...  \n",
       "1594                              Other  0.928472  \n",
       "1596                              Other  0.921724  \n",
       "1597                              Other  1.396691  \n",
       "1598            industry, manufacturing  0.995849  \n",
       "1599                              Other  0.860836  \n",
       "\n",
       "[1280 rows x 15 columns]"
      ]
     },
     "execution_count": 25,
     "metadata": {},
     "output_type": "execute_result"
    }
   ],
   "source": [
    "df_vote=df[(df[\"will_vote\"] == \"definitely yes\") | (df[\"will_vote\"] == \"likely yes\")]\n",
    "df_vote"
   ]
  },
  {
   "cell_type": "code",
   "execution_count": 26,
   "metadata": {
    "colab": {
     "base_uri": "https://localhost:8080/"
    },
    "id": "Gbb-psMYQmHR",
    "outputId": "132a09e3-09c0-47b0-b651-c361082f7409"
   },
   "outputs": [
    {
     "data": {
      "text/plain": [
       "candidate\n",
       "Putin                 981\n",
       "struggle to answer    119\n",
       "Davankov               60\n",
       "Kharitonov             44\n",
       "Slutskiy               43\n",
       "spoilt vote            24\n",
       "will not take part      9\n",
       "Name: count, dtype: int64"
      ]
     },
     "execution_count": 26,
     "metadata": {},
     "output_type": "execute_result"
    }
   ],
   "source": [
    "df_vote[\"candidate\"].value_counts()"
   ]
  },
  {
   "cell_type": "code",
   "execution_count": 27,
   "metadata": {
    "colab": {
     "base_uri": "https://localhost:8080/",
     "height": 406
    },
    "id": "GhfFITM2RpOt",
    "outputId": "43ab35cf-bf6c-4980-8d29-c616c08c3d09"
   },
   "outputs": [
    {
     "data": {
      "image/png": "[encoded data removed]",
      "text/plain": [
       "<Figure size 640x480 with 1 Axes>"
      ]
     },
     "metadata": {},
     "output_type": "display_data"
    }
   ],
   "source": [
    "plt.pie(df_vote[\"candidate\"].value_counts(),labels=df_vote[\"candidate\"].value_counts().index,autopct=\"%0.2f%%\")\n",
    "plt.show()"
   ]
  },
  {
   "cell_type": "markdown",
   "metadata": {
    "id": "38-K6adHR7PR"
   },
   "source": [
    "- Even in those who are sure and like yes voters, there are even increase for putin by 76%. Hence we can say that Putin is far more likely to win.\n",
    "- On the other hand opponent leaders like \"Davamkov\",\"Kharitonov\", \"Slutskiy\" etc. not even close to putin.\n",
    "- If we consider other factors like those who \"struggle to answer\" and \"will not take part\" then too putin is far more ahead of all."
   ]
  },
  {
   "cell_type": "code",
   "execution_count": 28,
   "metadata": {
    "colab": {
     "base_uri": "https://localhost:8080/"
    },
    "id": "lmR7RW1oR3vs",
    "outputId": "b7177224-f3ff-48e8-a224-93d41bfbe941"
   },
   "outputs": [
    {
     "data": {
      "text/plain": [
       "Index(['sex', 'age', 'federal_district', 'type_of_city', 'knows_election_date',\n",
       "       'will_vote', 'candidate', 'television_usage', 'internet_usage',\n",
       "       'education', 'income', 'employment', 'job_type', 'company_type',\n",
       "       'weight1'],\n",
       "      dtype='object')"
      ]
     },
     "execution_count": 28,
     "metadata": {},
     "output_type": "execute_result"
    }
   ],
   "source": [
    "df.columns"
   ]
  },
  {
   "cell_type": "markdown",
   "metadata": {
    "id": "FuJJHh6NVbyD"
   },
   "source": [
    "federal_district\n"
   ]
  },
  {
   "cell_type": "code",
   "execution_count": 29,
   "metadata": {
    "colab": {
     "base_uri": "https://localhost:8080/",
     "height": 547
    },
    "id": "e_d6O4AiTjPb",
    "outputId": "6d259717-3164-4455-f233-87eb585ffb10"
   },
   "outputs": [
    {
     "data": {
      "image/png": "[encoded data removed]",
      "text/plain": [
       "<Figure size 640x480 with 1 Axes>"
      ]
     },
     "metadata": {},
     "output_type": "display_data"
    }
   ],
   "source": [
    "df[\"federal_district\"].value_counts()\n",
    "sns.countplot(x=df[\"federal_district\"])\n",
    "plt.xticks(rotation=90)\n",
    "# Iterate over the bars and set different colors\n",
    "for i, patch in enumerate(plt.gca().patches):\n",
    "    patch.set_facecolor(plt.cm.viridis(i / len(plt.gca().patches)))\n",
    "\n",
    "plt.show()"
   ]
  },
  {
   "cell_type": "markdown",
   "metadata": {
    "id": "uMuUxiJGXUB3"
   },
   "source": [
    "- Above federal districts are represented in the dataset\n",
    "- Central and volga are two districts which are having more respondents in number."
   ]
  },
  {
   "cell_type": "markdown",
   "metadata": {
    "id": "g-jiuAyfX8H8"
   },
   "source": [
    "# <b> Conclusion:\n",
    "- There may be many more points to discuss but as per the poll elections are considered, Putin is Getting tremendous victory in \"Presidential Election 2024\" as per this poll."
   ]
  },
  {
   "cell_type": "code",
   "execution_count": null,
   "metadata": {},
   "outputs": [],
   "source": []
  }
 ],
 "metadata": {
  "colab": {
   "provenance": []
  },
  "kernelspec": {
   "display_name": "Python 3 (ipykernel)",
   "language": "python",
   "name": "python3"
  },
  "language_info": {
   "codemirror_mode": {
    "name": "ipython",
    "version": 3
   },
   "file_extension": ".py",
   "mimetype": "text/x-python",
   "name": "python",
   "nbconvert_exporter": "python",
   "pygments_lexer": "ipython3",
   "version": "3.12.4"
  }
 },
 "nbformat": 4,
 "nbformat_minor": 4
}
