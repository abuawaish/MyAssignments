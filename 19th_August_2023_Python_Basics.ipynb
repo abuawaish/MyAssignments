{
 "cells": [
  {
   "cell_type": "markdown",
   "metadata": {},
   "source": [
    "# <b><span style = \"color: blue\">TOPIC : </span> <font color = 'orange'> Python Basics Variable </font>"
   ]
  },
  {
   "cell_type": "markdown",
   "metadata": {
    "id": "Dby3grzvATvG"
   },
   "source": [
    "# `Q1. Declare two variables, `x` and `y`, and assign them integer values. Swap the values of these variables without using any temporary variable.`"
   ]
  },
  {
   "cell_type": "code",
   "execution_count": 1,
   "metadata": {
    "colab": {
     "base_uri": "https://localhost:8080/"
    },
    "executionInfo": {
     "elapsed": 17,
     "status": "ok",
     "timestamp": 1693325789589,
     "user": {
      "displayName": "Sai Krishna",
      "userId": "15796453070529237937"
     },
     "user_tz": -330
    },
    "id": "FUcmsDELAFyn",
    "outputId": "984be1ff-867c-4b93-bd7e-424edca0bdf0"
   },
   "outputs": [
    {
     "name": "stdout",
     "output_type": "stream",
     "text": [
      "Before swap x : 2 and y : 3\n",
      "After swap x : 3 and y : 2\n"
     ]
    }
   ],
   "source": [
    "x = 2\n",
    "y = 3\n",
    "def Swap(x: int,y: int) -> None:\n",
    "    print(f'Before swap x : {x} and y : {y}')\n",
    "    x , y = y , x\n",
    "    print(f'After swap x : {x} and y : {y}')\n",
    "Swap(x,y)"
   ]
  },
  {
   "cell_type": "markdown",
   "metadata": {
    "id": "Py1o0B2cAjQZ"
   },
   "source": [
    "---\n",
    "- x = 2 and y = 3 are defined as global variables\n",
    "- The function `Swap` is defined with two parameters, `x` and `y`, both of type int.\n",
    "- Inside the Swap function:\n",
    "- 1. It first prints the values of `x` and `y` before swapping.\n",
    "- 2. Then, it swaps the values of `x` and `y` using assignment operator `x, y = y, x`. This operation swaps the values of `x` and `y` without using a temporary variable.\n",
    "- 3. Finally, it prints the values of `x` and `y` after swapping.\n",
    "- The function `Swap` is called with the values of `x` and `y` as actual arguments.\n",
    "---"
   ]
  },
  {
   "cell_type": "markdown",
   "metadata": {
    "id": "PQg0AtLfApOG"
   },
   "source": [
    "# `Q2. Create a program that calculates the area of a rectangle. Take the length and width as inputs from the user and store them in variables. Calculate and display the area.`\n"
   ]
  },
  {
   "cell_type": "code",
   "execution_count": 2,
   "metadata": {
    "colab": {
     "base_uri": "https://localhost:8080/"
    },
    "id": "g4vPde3eA8bb",
    "outputId": "b33c9b44-c7f5-4f8b-ba18-9da6ecae9b48"
   },
   "outputs": [
    {
     "name": "stdin",
     "output_type": "stream",
     "text": [
      "Enter the length of the rectangle:  12.5\n",
      "Enter the width of the rectangle:  5.5\n"
     ]
    },
    {
     "name": "stdout",
     "output_type": "stream",
     "text": [
      "68.75\n"
     ]
    }
   ],
   "source": [
    "def area_f_a_rectangle(length: float , width: float) -> float:\n",
    "    area = length*width\n",
    "    return area\n",
    "length = float(input(\"Enter the length of the rectangle: \"))\n",
    "width = float(input(\"Enter the width of the rectangle: \"))\n",
    "result = area_f_a_rectangle(length,width)\n",
    "print(result)"
   ]
  },
  {
   "cell_type": "markdown",
   "metadata": {
    "id": "7EfDCblKBTCx"
   },
   "source": [
    "---\n",
    "- The function `area_f_a_rectangle` is defined with two parameters: `length` and `width`, both of type float. It calculates the area of a rectangle by multiplying the length and width together and stores the result in a variable called `area`\n",
    "- The program prompts the user to input the `length` and width of the rectangle using the `input()` function. The input values are converted to float using the `float()` function\n",
    "- The `area_f_a_rectangle` function is called with the input `length` and `width` as arguments. The returned `area` is stored in a variable called `result`.\n",
    "- Finally, the program prints the `result`, which is the calculated area of the rectangle.\n",
    "---"
   ]
  },
  {
   "cell_type": "markdown",
   "metadata": {
    "id": "OxwMgWbIBbIr"
   },
   "source": [
    "# `Q3. Write a Python program that converts temperatures from Celsius to Fahrenheit. Take the temperature in Celsius as input, store it in a variable, convert it to Fahrenheit, and display the result.`\n"
   ]
  },
  {
   "cell_type": "code",
   "execution_count": 3,
   "metadata": {
    "colab": {
     "base_uri": "https://localhost:8080/"
    },
    "id": "PgxdOkUlBtaR",
    "outputId": "0641a1a6-597b-41da-cfe7-954d4f865e54"
   },
   "outputs": [
    {
     "name": "stdin",
     "output_type": "stream",
     "text": [
      "Enter temperature in Celsius:  30\n"
     ]
    },
    {
     "name": "stdout",
     "output_type": "stream",
     "text": [
      "30.0 Celsius is equal to 86.00 Fahrenheit\n"
     ]
    }
   ],
   "source": [
    "def Celsius_to_Fahrenheit(celsius_temperature: float) -> float:\n",
    "    fahrenheit_temperature = (celsius_temperature * 9/5) + 32\n",
    "    return fahrenheit_temperature\n",
    "celsius_temperature = float(input(\"Enter temperature in Celsius: \"))\n",
    "result = Celsius_to_Fahrenheit(celsius_temperature)\n",
    "print(f\"{celsius_temperature} Celsius is equal to {result:.2f} Fahrenheit\")"
   ]
  },
  {
   "cell_type": "markdown",
   "metadata": {
    "id": "mddiAkTWB0Jh"
   },
   "source": [
    "---\n",
    "- The function `Celsius_to_Fahrenheit` is defined with one parameter: `celsius_temperature`, of type float. It calculates the equivalent temperature in Fahrenheit using the conversion formula `(celsius_temperature * 9/5) + 32`, and stores the result in a variable called `fahrenheit_temperature`.\n",
    "- The program prompts the user to input a temperature in Celsius using the `input()` function. The input value is converted to a float using the `float()` function.\n",
    "- The `Celsius_to_Fahrenheit` function is called with the input `celsius_temperature` as an actual argument. The returned Fahrenheit temperature is stored in a variable called `result`.\n",
    "- Finally, the program prints out the original Celsius temperature along with the converted Fahrenheit temperature using a formatted string. The `:.2f` formatting specifier is used to format the result to two decimal places.\n",
    "---"
   ]
  },
  {
   "cell_type": "markdown",
   "metadata": {
    "id": "mArkUNSjB45Z"
   },
   "source": [
    "# <b><span style = \"color: blue\">TOPIC : </span> <font color = 'orange'>String Based Questions</font>"
   ]
  },
  {
   "cell_type": "markdown",
   "metadata": {
    "id": "CWuIxsfpCWDv"
   },
   "source": [
    "# `Q1. Write a Python program that takes a string as input and prints the length of the string`"
   ]
  },
  {
   "cell_type": "code",
   "execution_count": 4,
   "metadata": {
    "colab": {
     "base_uri": "https://localhost:8080/"
    },
    "executionInfo": {
     "elapsed": 16882,
     "status": "ok",
     "timestamp": 1693289698688,
     "user": {
      "displayName": "mohit maheshwari",
      "userId": "14686011545114257818"
     },
     "user_tz": -330
    },
    "id": "w80nV4OaCbi_",
    "outputId": "943b3bf9-1b44-4359-b8cb-3bed8396104a"
   },
   "outputs": [
    {
     "name": "stdin",
     "output_type": "stream",
     "text": [
      "Enter a string:  abu awaish\n"
     ]
    },
    {
     "name": "stdout",
     "output_type": "stream",
     "text": [
      "The length of the input string is : 10\n"
     ]
    }
   ],
   "source": [
    "def length_of_the_string(string: str) -> int:\n",
    "    count = 0\n",
    "    for i in string:\n",
    "        count+=1\n",
    "    return count\n",
    "input_string = input(\"Enter a string: \")\n",
    "string_length = length_of_the_string(input_string)\n",
    "print(\"The length of the input string is : {}\".format(string_length))"
   ]
  },
  {
   "cell_type": "markdown",
   "metadata": {
    "id": "YO_yUf1ECph3"
   },
   "source": [
    "---\n",
    "- The function `length_of_the_string` is defined with one parameter: `string`, of type str. It initializes a variable called count to 0 to keep track of the number of characters in the string. Then, it iterates through each character `i` in the input string and increments the count variable by 1 for each character encountered.\n",
    "- The program prompts the user to input a string using the `input()` function. The input string is stored in a variable called `input_string`.\n",
    "- The `length_of_the_string` function is called with the `input_string` as an actual argument. The returned value, which represents the length of the `input_string`, is stored in a variable called `string_length`.\n",
    "- Finally, the program prints out the length of the input string using a formatted string with the `format()` method.\n",
    "---"
   ]
  },
  {
   "cell_type": "markdown",
   "metadata": {
    "id": "pEAB5kQUCwxd"
   },
   "source": [
    "# `Q2. Create a program that takes a sentence from the user and counts the number of vowels (a, e, i, o, u) in the string.`"
   ]
  },
  {
   "cell_type": "code",
   "execution_count": 5,
   "metadata": {
    "colab": {
     "base_uri": "https://localhost:8080/"
    },
    "id": "X-1y_antC4nh",
    "outputId": "fb854644-4805-42cb-aa2d-81e212177720"
   },
   "outputs": [
    {
     "name": "stdin",
     "output_type": "stream",
     "text": [
      "Enter a sentence:  This is me abu awaish\n"
     ]
    },
    {
     "name": "stdout",
     "output_type": "stream",
     "text": [
      "Number of vowels: 8\n"
     ]
    }
   ],
   "source": [
    "def count_vowels(sentence: str) -> int:\n",
    "    vowel_count = 0\n",
    "    vowels = \"aeiouAEIOU\"\n",
    "    for char in sentence:\n",
    "        if char in vowels:\n",
    "            vowel_count+=1\n",
    "    return vowel_count\n",
    "sentence = input(\"Enter a sentence: \")\n",
    "vowel_count = count_vowels(sentence)\n",
    "print(\"Number of vowels:\", vowel_count)"
   ]
  },
  {
   "cell_type": "markdown",
   "metadata": {
    "id": "Qf4KKu6bDLWk"
   },
   "source": [
    "---\n",
    "- The function `count_vowels` is defined with one parameter: `sentence`, of type str. It initializes a variable called `vowel_count` to `0` to keep track of the number of vowels in the sentence. It also initializes a string called vowels containing all lowercase and uppercase vowels.\n",
    "- The program prompts the user to input a sentence using the `input()` function. The input sentence is stored in a variable called `sentence\n",
    "- The `count_vowels` function is called with the input `sentence` as an actual argument. The returned value, which represents the count of vowels in the sentence, is stored in a variable called `vowel_count`.\n",
    "- Finally, the program prints out the count of vowels in the sentence.\n",
    "---"
   ]
  },
  {
   "cell_type": "markdown",
   "metadata": {
    "id": "7zqeASFFDSlo"
   },
   "source": [
    "# `Q3. Given a string, reverse the order of characters using string slicing and print the reversed string.`"
   ]
  },
  {
   "cell_type": "code",
   "execution_count": 6,
   "metadata": {
    "colab": {
     "base_uri": "https://localhost:8080/"
    },
    "id": "WHi9zpP0DiMd",
    "outputId": "d80cc99c-30b9-4188-e87b-2be269b7d173"
   },
   "outputs": [
    {
     "name": "stdin",
     "output_type": "stream",
     "text": [
      "Enter a string: earth revolves around the sun\n"
     ]
    },
    {
     "name": "stdout",
     "output_type": "stream",
     "text": [
      "nus eht dnuora sevlover htrae\n"
     ]
    }
   ],
   "source": [
    "def reverse(input_string: str) -> str:\n",
    "    return input_string[::-1]\n",
    "input_string = input('Enter a string:')\n",
    "reversed_string = reverse(input_string)\n",
    "print(reversed_string)"
   ]
  },
  {
   "cell_type": "markdown",
   "metadata": {
    "id": "sq1g1TScDo6p"
   },
   "source": [
    "---\n",
    "- The function `reverse` is defined with one parameter: `input_string`, of type str. It uses slicing with a step of -1 `([::-1])` to reverse the input string and returns the reversed string.\n",
    "- The program prompts the user to input a string using the `input()` function. The input string is stored in a variable called `input_string`.\n",
    "- The `reverse` function is called with the `input_string` as an actual argument. The returned value, which represents the reversed string, is stored in a variable called `reversed_string`.\n",
    "- Finally, the program prints out the reversed string.\n",
    "---"
   ]
  },
  {
   "cell_type": "markdown",
   "metadata": {
    "id": "KDdUmXXVDuHY"
   },
   "source": [
    "# `Q4. Write a program that takes a string as input and checks if it is a palindrome (reads the same forwards and backwards).`"
   ]
  },
  {
   "cell_type": "code",
   "execution_count": 7,
   "metadata": {
    "colab": {
     "base_uri": "https://localhost:8080/"
    },
    "id": "nFv1b-5pED8f",
    "outputId": "b902dddb-be8d-4ccc-f939-51a67032d7dd"
   },
   "outputs": [
    {
     "name": "stdin",
     "output_type": "stream",
     "text": [
      "enter a string :  refer\n"
     ]
    },
    {
     "name": "stdout",
     "output_type": "stream",
     "text": [
      "The input string is a palindrome.\n"
     ]
    }
   ],
   "source": [
    "def palindrome(input_str : str) -> None:\n",
    "    cleaned_string = input_str.replace(\" \", \"\").lower()\n",
    "    reversed_string = cleaned_string[::-1]\n",
    "    if cleaned_string == reversed_string:\n",
    "        print(\"The input string is a palindrome.\")\n",
    "    else:\n",
    "        print(\"The input string is not a palindrome.\")\n",
    "input_str = input('enter a string : ')\n",
    "palindrome(input_str)"
   ]
  },
  {
   "cell_type": "markdown",
   "metadata": {
    "id": "hi8ZWEF5EJKc"
   },
   "source": [
    "---\n",
    "- The function `palindrome` is defined with one parameter: `input_str`, of type str. Inside the function:\n",
    "- 1. The input string is first cleaned by removing all spaces and converting all characters to lowercase using the `replace()` and `lower()` string methods. The result is stored in a variable called `cleaned_string`.\n",
    "  2. The cleaned string is then reversed using slicing with a step of -1 `([::-1])` and stored in a variable called `reversed_string`.\n",
    "  3. The function checks if the cleaned string is equal to its reverse. If they are equal, it means the input string is a palindrome, and it prints a message saying so. Otherwise, it prints a message indicating that the input string is not a palindrome.\n",
    "- The program prompts the user to input a string using the `input()` function. The input string is stored in a variable called `input_str`\n",
    "- The `palindrome` function is called with the `input_str` as an actual argument\n",
    "- Finally it returned the whether the input string is palindrome or not along with message"
   ]
  },
  {
   "cell_type": "markdown",
   "metadata": {
    "id": "C4pOe6HOE2kF"
   },
   "source": [
    "# `Q5. Create a program that takes a string as input and removes all the spaces from it. Print the modified string without spaces.`"
   ]
  },
  {
   "cell_type": "code",
   "execution_count": 8,
   "metadata": {
    "colab": {
     "base_uri": "https://localhost:8080/"
    },
    "id": "tNI4L5SzFDdx",
    "outputId": "753e8060-74ef-4fd6-dbd4-d1810afed4d0"
   },
   "outputs": [
    {
     "name": "stdin",
     "output_type": "stream",
     "text": [
      "enter a string :  It removes all the spaces from given string\n"
     ]
    },
    {
     "name": "stdout",
     "output_type": "stream",
     "text": [
      "Itremovesallthespacesfromgivenstring\n"
     ]
    }
   ],
   "source": [
    "def remove_the_space(input_string: str) -> str:\n",
    "    modified_str = \"\"\n",
    "    for char in input_string:\n",
    "        if char != \" \":\n",
    "            modified_str+=char\n",
    "    return modified_str\n",
    "input_string = input('enter a string : ')\n",
    "modified_string = remove_the_space(input_string)\n",
    "print(modified_string)"
   ]
  },
  {
   "cell_type": "markdown",
   "metadata": {
    "id": "SpTRWxd4FJ27"
   },
   "source": [
    "---\n",
    "- The function `remove_the_space` is defined with one parameter: `input_string`, of type str. Inside the function:\n",
    "- 1. It initializes an empty string called `modified_str` to store the modified string without spaces.\n",
    "  2. It iterates through each character char in the input string.\n",
    "  3. f the character is not a space `(\" \")`, it appends the character to the `modified_str`.\n",
    "Finally, it returns the modified string without spaces.\n",
    "- The program prompts the user to input a string using the `input()` function. The input string is stored in a variable called `input_string`.\n",
    "- The `remove_the_space` function is called with the `input_string` as an actual argument. The returned value, which represents the modified string without spaces, is stored in a variable called `modified_string`.\n",
    "- Finally, the program prints out the modified string without spaces.\n",
    "---"
   ]
  },
  {
   "cell_type": "code",
   "execution_count": null,
   "metadata": {},
   "outputs": [],
   "source": []
  }
 ],
 "metadata": {
  "colab": {
   "provenance": []
  },
  "kernelspec": {
   "display_name": "Python 3 (ipykernel)",
   "language": "python",
   "name": "python3"
  },
  "language_info": {
   "codemirror_mode": {
    "name": "ipython",
    "version": 3
   },
   "file_extension": ".py",
   "mimetype": "text/x-python",
   "name": "python",
   "nbconvert_exporter": "python",
   "pygments_lexer": "ipython3",
   "version": "3.11.7"
  }
 },
 "nbformat": 4,
 "nbformat_minor": 4
}
