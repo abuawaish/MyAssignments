{
 "cells": [
  {
   "cell_type": "markdown",
   "id": "a0b4cfc5-6bb1-48dc-a4c2-ac122ce06e3f",
   "metadata": {},
   "source": [
    "# <b> <font color = 'blue'> Problem 1 : </font> <font color = 'orange'> Bank Account Create a class representing a bank account with attributes like account number, account holder name, and balance. Implement methods to deposit and withdraw money from the account.</font>"
   ]
  },
  {
   "cell_type": "code",
   "execution_count": 1,
   "id": "ef9a5933-b8c1-4abf-9e74-b85163374222",
   "metadata": {},
   "outputs": [],
   "source": [
    "class BankAccount:\n",
    "    def __init__(self, account_number, account_holder, balance):\n",
    "        self.account_number = account_number\n",
    "        self.account_holder = account_holder\n",
    "        self.balance = balance\n",
    "        \n",
    "    def current_balance(self):\n",
    "        return f'{self.account_holder} current balance are : ₹{self.balance}'\n",
    "    \n",
    "    def deposit(self, amount):\n",
    "        self.balance += amount\n",
    "        return f\"Deposit of ₹{amount} successful and new balance : ₹{self.balance}\"\n",
    "    \n",
    "    def withdraw(self, amount):\n",
    "        if amount <= self.balance:\n",
    "            self.balance -= amount\n",
    "            return f\"Withdrawal of ₹{amount} successful and new balance : ₹{self.balance}\"\n",
    "        else:\n",
    "            return \"Insufficient funds for withdrawal.\""
   ]
  },
  {
   "cell_type": "code",
   "execution_count": 2,
   "id": "3b252d14-f29e-406d-9f51-e2520d7142d4",
   "metadata": {},
   "outputs": [
    {
     "name": "stdout",
     "output_type": "stream",
     "text": [
      "Abu Awaish current balance are : ₹1000\n",
      "Deposit of ₹500 successful and new balance : ₹1500\n",
      "Withdrawal of ₹200 successful and new balance : ₹1300\n",
      "Insufficient funds for withdrawal.\n"
     ]
    }
   ],
   "source": [
    "# Create a BankAccount instance\n",
    "account1 = BankAccount(\"12345\", \"Abu Awaish\", 1000)\n",
    "\n",
    "\n",
    "#Current balance ₹1000\n",
    "print(account1.current_balance())\n",
    "# Deposit ₹500\n",
    "print(account1.deposit(500))  # Output: Deposit of  ₹500 successful. New balance: $1500\n",
    "\n",
    "# Withdraw ₹200\n",
    "print(account1.withdraw(200))  # Output: Withdrawal of ₹200 successful. New balance: $1300\n",
    "\n",
    "# Attempt to withdraw $1500 (more than current balance)\n",
    "print(account1.withdraw(1500))  # Output: Insufficient funds for withdrawal.\n"
   ]
  },
  {
   "cell_type": "markdown",
   "id": "c00c8e25-5840-43d5-b3dc-8312f4c46c43",
   "metadata": {},
   "source": [
    "# <b> <font color = 'blue'> Problem 2 : </font><font color = 'orange'>Employee Management Create a class representing an employee with attributes like employee ID, name, and salary. Implement methods to calculate the yearly bonus and display employee details.</font>"
   ]
  },
  {
   "cell_type": "code",
   "execution_count": 3,
   "id": "b2cc5e42-f1c5-4160-afbe-349bb931ea59",
   "metadata": {},
   "outputs": [],
   "source": [
    "class Employee:\n",
    "    def __init__(self, employee_id, name, salary):\n",
    "        self.employee_id = employee_id\n",
    "        self.name = name\n",
    "        self.salary = salary\n",
    "    \n",
    "    def calculate_yearly_bonus(self):\n",
    "        bonus = 0.10 * self.salary\n",
    "        return bonus\n",
    "    \n",
    "    def display_details(self):\n",
    "        return f\"Employee Details\\nID : {self.employee_id}\\nName : {self.name}\\nSalary : ₹{self.salary}\""
   ]
  },
  {
   "cell_type": "code",
   "execution_count": 4,
   "id": "2a150710-986e-445b-b977-cc409a1bf478",
   "metadata": {},
   "outputs": [
    {
     "name": "stdout",
     "output_type": "stream",
     "text": [
      "Yearly Bonus: ₹6000.0\n",
      "Employee Details\n",
      "ID : cs007\n",
      "Name : Abu\n",
      "Salary : ₹60000\n"
     ]
    }
   ],
   "source": [
    "# Create an Employee instance\n",
    "employee1 = Employee(\"cs007\", \"Abu\", 60000)\n",
    "\n",
    "# Calculate yearly bonus\n",
    "print(f\"Yearly Bonus: ₹{employee1.calculate_yearly_bonus()}\")  # Output: Yearly Bonus: ₹6000.0\n",
    "\n",
    "# Display employee details\n",
    "print(employee1.display_details())\n",
    "# Output:\n",
    "# Employee Details\n",
    "# ID : cs007\n",
    "# Name : Abu\n",
    "# Salary : ₹60000"
   ]
  },
  {
   "cell_type": "markdown",
   "id": "a0d77c2f-7ca4-4803-a508-9be23a0aeece",
   "metadata": {},
   "source": [
    "# <b> <font color = 'blue'> Problem 3 : </font><font color = 'orange'>Vehicle Rental Create a class representing a vehicle rental system. Implement methods to rent a vehicle, return a vehicle, and display available vehicles.</font>"
   ]
  },
  {
   "cell_type": "code",
   "execution_count": 5,
   "id": "b71099e1-d4be-482b-b0f4-529d1ba43678",
   "metadata": {},
   "outputs": [],
   "source": [
    "class VehicleRental:\n",
    "    def __init__(self):\n",
    "        self.available_vehicles = []\n",
    "        \n",
    "    def rent_vehicle(self, vehicle_type):\n",
    "        if vehicle_type in self.available_vehicles:\n",
    "            self.available_vehicles.remove(vehicle_type)\n",
    "            return f\"{vehicle_type} rented successfully.\"\n",
    "        else:\n",
    "            return f\"{vehicle_type} is not available for rent.\"\n",
    "            \n",
    "    def return_vehicle(self, vehicle_type):\n",
    "        self.available_vehicles.append(vehicle_type)\n",
    "        return f\"{vehicle_type} returned successfully.\"\n",
    "        \n",
    "    def display_available_vehicles(self):\n",
    "        return \"Available Vehicles : \" + \", \".join(self.available_vehicles)"
   ]
  },
  {
   "cell_type": "code",
   "execution_count": 6,
   "id": "a94a69be-1c02-4731-a431-c52d790779eb",
   "metadata": {},
   "outputs": [
    {
     "name": "stdout",
     "output_type": "stream",
     "text": [
      "Car rented successfully.\n",
      "Available Vehicles : SUV, Truck\n",
      "Car returned successfully.\n",
      "Available Vehicles : SUV, Truck, Car\n"
     ]
    }
   ],
   "source": [
    "# Create a VehicleRental instance\n",
    "rental_system = VehicleRental()\n",
    "\n",
    "# Add available vehicles to the rental system\n",
    "rental_system.available_vehicles = [\"Car\", \"SUV\", \"Truck\"]\n",
    "\n",
    "# Rent a vehicle\n",
    "print(rental_system.rent_vehicle(\"Car\"))  # Output: Car rented successfully.\n",
    "\n",
    "# Display available vehicles\n",
    "print(rental_system.display_available_vehicles())  # Output: Available Vehicles: SUV, Truck\n",
    "\n",
    "# Return a vehicle\n",
    "print(rental_system.return_vehicle(\"Car\"))  # Output: Car returned successfully.\n",
    "\n",
    "# Display available vehicles after returning\n",
    "print(rental_system.display_available_vehicles())  # Output: Available Vehicles: Car, SUV, Truck\n"
   ]
  },
  {
   "cell_type": "markdown",
   "id": "27780cac-1312-4adc-b45b-68fe070019df",
   "metadata": {},
   "source": [
    "# <b> <font color = 'blue'> Problem 4 : </font><font color = 'orange'> Library Catalog Create classes representing a library and a book. Implement methods to add books to the library, borrow books, and display available books.</font>"
   ]
  },
  {
   "cell_type": "code",
   "execution_count": 7,
   "id": "bc1d76f6-ddd5-42b2-a910-fe39d75b081a",
   "metadata": {},
   "outputs": [],
   "source": [
    "class Book:\n",
    "    def __init__(self, title, author):\n",
    "        self.title = title\n",
    "        self.author = author\n",
    "        self.available = True\n",
    "class Library():\n",
    "    def __init__(self):\n",
    "        self.books = []\n",
    "        \n",
    "    def add_book(self, book):\n",
    "        self.books.append(book)\n",
    "        return f\"{book.title} by {book.author} added to the library.\"\n",
    "        \n",
    "    def borrow_book(self, title):\n",
    "        for book in self.books:\n",
    "            if book.title == title and book.available:\n",
    "                book.available = False\n",
    "                return f\"{book.title} by {book.author} borrowed successfully.\"\n",
    "        return f\"{title} is not available in the library or is currently on loan.\"\n",
    "\n",
    "    def return_book(self, title):\n",
    "        for book in self.books:\n",
    "            if book.title == title and not book.available:\n",
    "                book.available = True\n",
    "                return f\"{book.title} by {book.author} returned successfully.\"\n",
    "        return f\"{title} is not a valid book or is already available in the library.\"\n",
    "        \n",
    "    def display_available_books(self):\n",
    "        available_books = [book.title for book in self.books if book.available]\n",
    "        return \"Available Books : \" + \" , \".join(available_books)\n"
   ]
  },
  {
   "cell_type": "code",
   "execution_count": 8,
   "id": "f24304a7-a4c4-4081-a067-e9a7293c6750",
   "metadata": {},
   "outputs": [
    {
     "name": "stdout",
     "output_type": "stream",
     "text": [
      "The Python by Rob Mastrodomenico added to the library.\n",
      "\n",
      "Thinking in Java by Bruce Eckel added to the library.\n",
      "\n",
      "Thinking in Java by Bruce Eckel borrowed successfully.\n",
      "\n",
      "Available Books : The Python\n",
      "\n",
      "Thinking in Java by Bruce Eckel returned successfully.\n",
      "\n",
      "Available Books : The Python , Thinking in Java\n"
     ]
    }
   ],
   "source": [
    "# Create Book instances\n",
    "book1 = Book(\"The Python\", \"Rob Mastrodomenico\")\n",
    "book2 = Book(\"Thinking in Java\", \"Bruce Eckel\")\n",
    "\n",
    "# Create a Library instance\n",
    "library = Library()\n",
    "\n",
    "# Add books to the library\n",
    "print(library.add_book(book1))  # Output: The Python by Rob Mastrodomenico added to the library.\n",
    "print()\n",
    "print(library.add_book(book2))  # Output: Thinking in Java by Bruce Eckel added to the library.\n",
    "print()\n",
    "# Borrow a book\n",
    "print(library.borrow_book(\"Thinking in Java\"))  # Output: Thinking in Java by Bruce Eckel borrowed successfully.\n",
    "print()\n",
    "# Display available books\n",
    "print(library.display_available_books())  # Output: Available Books: The Python\n",
    "print()\n",
    "# Return a book\n",
    "print(library.return_book(\"Thinking in Java\"))  # Output: Thinking in Java by Bruce Eckel returned successfully.\n",
    "print()\n",
    "# Display available books after returning\n",
    "print(library.display_available_books())  # Output: Available Books : The Python , Thinking in Java"
   ]
  },
  {
   "cell_type": "markdown",
   "id": "e219d897-a916-4f49-9935-3ccb7b92fbeb",
   "metadata": {},
   "source": [
    "# <b> <font color = 'blue'> Problem 5 : </font> <font color = 'orange'> Product Inventory Create classes representing a product and an inventory system. Implement methods to add products to the inventory, update product quantity, and display available products.</font>"
   ]
  },
  {
   "cell_type": "code",
   "execution_count": 9,
   "id": "0f548ed9-a0f6-4e5a-ab7f-6e9de6ee75b0",
   "metadata": {},
   "outputs": [],
   "source": [
    "class Product:\n",
    "    def __init__(self, product_id, name, price, quantity):\n",
    "        self.product_id = product_id\n",
    "        self.name = name\n",
    "        self.price = price\n",
    "        self.quantity = quantity\n",
    "class Inventory:\n",
    "    def __init__(self):\n",
    "        self.products = []\n",
    "\n",
    "    def add_product(self, product):\n",
    "        self.products.append(product)\n",
    "        return f\"{product.name} added to the inventory.\"\n",
    "\n",
    "    def update_quantity(self, product_id, new_quantity):\n",
    "        for product in self.products:\n",
    "            if product.product_id == product_id:\n",
    "                product.quantity = new_quantity\n",
    "                return f\"Quantity of {product.name} updated to {new_quantity}.\"\n",
    "        return \"Product not found in the inventory.\"\n",
    "\n",
    "    def display_available_products(self):\n",
    "        available_products = [f\"{product.name} - ₹{product.price} - Quantity : {product.quantity}\" for product in self.products if product.quantity > 0]\n",
    "        return \"\\n\".join(available_products)"
   ]
  },
  {
   "cell_type": "code",
   "execution_count": 10,
   "id": "e4c1228f-4590-4ebd-824d-57920fb0e92d",
   "metadata": {},
   "outputs": [
    {
     "name": "stdout",
     "output_type": "stream",
     "text": [
      "Product_A added to the inventory.\n",
      "Product_B added to the inventory.\n",
      "Quantity of Product_A updated to 60.\n",
      "Product_A - ₹10.99 - Quantity : 60\n",
      "Product_B - ₹15.99 - Quantity : 30\n"
     ]
    }
   ],
   "source": [
    "# Create Product instances\n",
    "product1 = Product(\"P001\", \"Product_A\", 10.99, 50)\n",
    "product2 = Product(\"P002\", \"Product_B\", 15.99, 30)\n",
    "\n",
    "# Create an Inventory instance\n",
    "inventory = Inventory()\n",
    "\n",
    "# Add products to the inventory\n",
    "print(inventory.add_product(product1))  # Output: Product_A added to the inventory.\n",
    "print(inventory.add_product(product2))  # Output: Product_B added to the inventory.\n",
    "\n",
    "# Update the quantity of a product\n",
    "print(inventory.update_quantity(\"P001\", 60))  # Output: Quantity of Product_A updated to 60.\n",
    "\n",
    "# Display available products\n",
    "print(inventory.display_available_products())\n",
    "# Output:\n",
    "# Product A - ₹10.99 - Quantity: 60\n",
    "# Product B - ₹15.99 - Quantity: 30"
   ]
  },
  {
   "cell_type": "markdown",
   "id": "e7d24f3d-3ce9-4e79-9fe2-1b53d1c84f1e",
   "metadata": {},
   "source": [
    "# <b> <font color = 'blue'> Problem 6 : </font> <font color = 'orange'> Shape Calculation Create a class representing a shape with attributes like length, width, and height. Implement methods to calculate the area and perimeter of the shape.</font>"
   ]
  },
  {
   "cell_type": "code",
   "execution_count": 11,
   "id": "940d9a28-5eb0-4383-8f96-c48f630b0159",
   "metadata": {},
   "outputs": [],
   "source": [
    "class Shape:\n",
    "    def __init__(self, length, width, height):\n",
    "        self.length = length\n",
    "        self.width = width\n",
    "        self.height = height\n",
    "\n",
    "    def calculate_area(self):\n",
    "        if self.height is None:  # For 2D shapes like rectangle and square\n",
    "            return self.length * self.width\n",
    "        else:  # For 3D shapes like a triangle\n",
    "            return 0.5 * self.length * self.width\n",
    "\n",
    "    def calculate_perimeter(self):\n",
    "        if self.height is None:  # For 2D shapes like rectangle and square\n",
    "            return 2 * (self.length + self.width)\n",
    "        else:  # For 3D shapes like a triangle (perimeter for a triangle is the sum of its sides)\n",
    "            return self.height + self.width + self.length"
   ]
  },
  {
   "cell_type": "code",
   "execution_count": 12,
   "id": "dddeaa03-00d0-48ee-aa44-f019fb76250b",
   "metadata": {},
   "outputs": [
    {
     "name": "stdout",
     "output_type": "stream",
     "text": [
      "Rectangle⬇️\n",
      "Area : 50\n",
      "Perimeter : 30\n",
      "\n",
      "Triangle⬇️\n",
      "Area : 6.0\n",
      "Perimeter : 12\n"
     ]
    }
   ],
   "source": [
    "# Create a Shape instance for a rectangle\n",
    "rectangle = Shape(5, 10, None)  # Length = 5, Width = 10\n",
    "\n",
    "# Calculate and display the area and perimeter of the rectangle\n",
    "print(\"Rectangle⬇️\")\n",
    "print(\"Area :\", rectangle.calculate_area())  # Output: Area: 50\n",
    "print(\"Perimeter :\", rectangle.calculate_perimeter())  # Output: Perimeter: 30\n",
    "\n",
    "# Create a Shape instance for a triangle\n",
    "triangle = Shape(3, 4, 5)  # Side1 = 3, Side2 = 4, Side3 = 5, Height = None\n",
    "\n",
    "# Calculate and display the area and perimeter of the triangle\n",
    "print(\"\\nTriangle⬇️\")\n",
    "print(\"Area :\", triangle.calculate_area())  # Output: Area: 6.0\n",
    "print(\"Perimeter :\", triangle.calculate_perimeter())  # Output: Perimeter: 12\n"
   ]
  },
  {
   "cell_type": "markdown",
   "id": "eb164ff0-ae85-4be3-b00d-72b71955448e",
   "metadata": {},
   "source": [
    "# <b> <font color = 'blue'> Problem 7 : </font> <font color = 'orange'>Student Management Create a class representing a student with attributes like student ID, name, and grades. Implement methods to calculate the average grade and display student details.</font>"
   ]
  },
  {
   "cell_type": "code",
   "execution_count": 13,
   "id": "aac7f8ba-e35b-4d36-9c05-e6460c035570",
   "metadata": {},
   "outputs": [],
   "source": [
    "class Student:\n",
    "    def __init__(self, student_id, name, grades=[]):\n",
    "        self.student_id = student_id\n",
    "        self.name = name\n",
    "        self.grades = grades\n",
    "\n",
    "    def calculate_average_grade(self):\n",
    "        if len(self.grades) == 0:\n",
    "            return 0\n",
    "        return sum(self.grades) / len(self.grades)\n",
    "\n",
    "    def display_student_details(self):\n",
    "        average_grade = self.calculate_average_grade()\n",
    "        return f\"Student ID: {self.student_id}\\nName : {self.name}\\nGrades : {self.grades}\\nAverage Grade : {average_grade:.2f}\"\n"
   ]
  },
  {
   "cell_type": "code",
   "execution_count": 14,
   "id": "df603fee-8f32-4d6f-b0d3-bb7f242af879",
   "metadata": {},
   "outputs": [
    {
     "name": "stdout",
     "output_type": "stream",
     "text": [
      "Student ID: cs007\n",
      "Name : Awaish\n",
      "Grades : [85, 90, 88, 92, 89]\n",
      "Average Grade : 88.80\n"
     ]
    }
   ],
   "source": [
    "# Create a Student instance\n",
    "student1 = Student(\"cs007\", \"Awaish\", [85, 90, 88, 92, 89])\n",
    "\n",
    "# Calculate the average grade and display student details\n",
    "print(student1.display_student_details())\n"
   ]
  },
  {
   "cell_type": "markdown",
   "id": "b04fcd58-3f54-4ee7-869a-2237b3badfa5",
   "metadata": {},
   "source": [
    "# <b> <font color = 'blue'> Problem 8 : </font> <font color = 'orange'> Email Management Create a class representing an email with attributes like sender, recipient, and subject. Implement methods to send an email and display email details.</font>"
   ]
  },
  {
   "cell_type": "code",
   "execution_count": 15,
   "id": "0e9a3927-be34-4a49-a99b-13af385f9a08",
   "metadata": {},
   "outputs": [],
   "source": [
    "class Email:\n",
    "    def __init__(self, sender, recipient, subject):\n",
    "        self.sender = sender\n",
    "        self.recipient = recipient\n",
    "        self.subject = subject\n",
    "\n",
    "    def send_email(self, message):\n",
    "        print(f\"Email sent from {self.sender} to {self.recipient} with subject : {self.subject}\\nMessage: {message}\")\n",
    "\n",
    "    def display_email_details(self):\n",
    "        return f\"Sender : {self.sender}\\nRecipient : {self.recipient}\\nSubject : {self.subject}\""
   ]
  },
  {
   "cell_type": "code",
   "execution_count": 16,
   "id": "af0cb945-390b-4a51-b217-bcfdf88b407d",
   "metadata": {},
   "outputs": [
    {
     "name": "stdout",
     "output_type": "stream",
     "text": [
      "Email sent from abuawaish7@gmail.com to ayaan8@gmail.com with subject : Regarding Project Status\n",
      "Message: Hello, I hope this email finds you well. Please find the attached report.\n",
      "Sender : abuawaish7@gmail.com\n",
      "Recipient : ayaan8@gmail.com\n",
      "Subject : Regarding Project Status\n"
     ]
    }
   ],
   "source": [
    "# Create an Email instance\n",
    "email = Email(\"abuawaish7@gmail.com\", \"ayaan8@gmail.com\", \"Regarding Project Status\")\n",
    "\n",
    "# Send the email\n",
    "email.send_email(\"Hello, I hope this email finds you well. Please find the attached report.\")\n",
    "\n",
    "# Display email details\n",
    "print(email.display_email_details())\n"
   ]
  },
  {
   "cell_type": "markdown",
   "id": "0f2b5a7f-72ab-4c2a-ab40-a70f075e731f",
   "metadata": {},
   "source": [
    "# <b> <font color = 'blue'> Problem 9 : </font> <font color = 'orange'>Social Media Profile Create a class representing a social media profile with attributes like username and posts. Implement methods to add posts, display posts, and search for posts by keyword.</font>"
   ]
  },
  {
   "cell_type": "code",
   "execution_count": 17,
   "id": "19d6a225-556b-4936-b637-081697d587d7",
   "metadata": {},
   "outputs": [],
   "source": [
    "class SocialMediaProfile:\n",
    "    def __init__(self, username, posts=[]):\n",
    "        self.username = username\n",
    "        self.posts = posts\n",
    "\n",
    "    def add_post(self, post_content):\n",
    "        self.posts.append(post_content)\n",
    "        return \"Post added successfully.\"\n",
    "\n",
    "    def display_posts(self):\n",
    "        return \"Posts⬇️\\n\" + \"\\n\".join(self.posts)\n",
    "\n",
    "    def search_posts(self, keyword):\n",
    "        found_posts = [post for post in self.posts if keyword.lower() in post.lower()]\n",
    "        if found_posts:\n",
    "            return f\"Posts found with the keyword -> {keyword}\\n\" + \"\\n\".join(found_posts)\n",
    "        else:\n",
    "            return f\"No posts found with the keyword -> {keyword}\""
   ]
  },
  {
   "cell_type": "code",
   "execution_count": 18,
   "id": "d87a8c45-09ef-40ec-b905-6c209e61706b",
   "metadata": {},
   "outputs": [
    {
     "name": "stdout",
     "output_type": "stream",
     "text": [
      "Posts⬇️\n",
      "Excited to start this new project!\n",
      "Enjoying my vacation getaway!\n",
      "Posts found with the keyword -> excited\n",
      "Excited to start this new project!\n"
     ]
    }
   ],
   "source": [
    "# Create a SocialMediaProfile instance\n",
    "profile = SocialMediaProfile(\"user123\")\n",
    "\n",
    "# Add posts to the profile\n",
    "profile.add_post(\"Excited to start this new project!\")\n",
    "profile.add_post(\"Enjoying my vacation getaway!\")\n",
    "\n",
    "# Display all posts\n",
    "print(profile.display_posts())\n",
    "\n",
    "# Search for posts containing a keyword\n",
    "keyword = \"excited\"\n",
    "print(profile.search_posts(keyword))"
   ]
  },
  {
   "cell_type": "markdown",
   "id": "fca076a7-47a2-4723-ab95-810dbd913742",
   "metadata": {},
   "source": [
    "# <b> <font color = 'blue'> Problem 10 : </font> <font color = 'orange'> ToDo List Create a class representing a ToDo list with attributes like tasks and due dates. Implement methods to add tasks, mark tasks as completed, and display pending tasks.</font>"
   ]
  },
  {
   "cell_type": "code",
   "execution_count": 19,
   "id": "af7e684e-5a94-4a41-86a4-c8feb7d8dabb",
   "metadata": {},
   "outputs": [],
   "source": [
    "class ToDoList:\n",
    "    def __init__(self):\n",
    "        self.tasks = []\n",
    "        self.due_dates = []\n",
    "\n",
    "    def add_task(self, task, due_date):\n",
    "        self.tasks.append(task)\n",
    "        self.due_dates.append(due_date)\n",
    "        return f\"Task '{task}' added with due date {due_date}.\"\n",
    "\n",
    "    def mark_as_completed(self, task):\n",
    "        if task in self.tasks:\n",
    "            index = self.tasks.index(task)\n",
    "            del self.tasks[index]\n",
    "            del self.due_dates[index]\n",
    "            return f\"Task '{task}' marked as completed.\"\n",
    "        else:\n",
    "            return f\"Task '{task}' not found in the ToDo list.\"\n",
    "\n",
    "    def display_pending_tasks(self):\n",
    "        if len(self.tasks) == 0:\n",
    "            return \"No pending tasks.\"\n",
    "        else:\n",
    "            pending_tasks = [f\"{self.tasks[i]} - Due: {self.due_dates[i]}\" for i in range(len(self.tasks))]\n",
    "            return \"Pending Tasks:\\n\" + \"\\n\".join(pending_tasks)"
   ]
  },
  {
   "cell_type": "code",
   "execution_count": 20,
   "id": "9293bec1-7771-43c4-8670-5c4932f3c618",
   "metadata": {},
   "outputs": [
    {
     "name": "stdout",
     "output_type": "stream",
     "text": [
      "Task 'Complete project report' added with due date 2024-05-10.\n",
      "Task 'Buy groceries' added with due date 2024-05-06.\n",
      "Pending Tasks:\n",
      "Complete project report - Due: 2024-05-10\n",
      "Buy groceries - Due: 2024-05-06\n",
      "Task 'Buy groceries' marked as completed.\n",
      "Pending Tasks:\n",
      "Complete project report - Due: 2024-05-10\n"
     ]
    }
   ],
   "source": [
    "# Create a ToDoList instance\n",
    "todo_list = ToDoList()\n",
    "\n",
    "# Add tasks to the ToDo list\n",
    "print(todo_list.add_task(\"Complete project report\", \"2024-05-10\"))\n",
    "print(todo_list.add_task(\"Buy groceries\", \"2024-05-06\"))\n",
    "\n",
    "# Display all pending tasks\n",
    "print(todo_list.display_pending_tasks())\n",
    "\n",
    "# Mark a task as completed\n",
    "print(todo_list.mark_as_completed(\"Buy groceries\"))\n",
    "\n",
    "# Display pending tasks after marking one as completed\n",
    "print(todo_list.display_pending_tasks())"
   ]
  },
  {
   "cell_type": "code",
   "execution_count": null,
   "id": "0a1bec6b-8ae1-41b9-aa7b-fb80947e133f",
   "metadata": {},
   "outputs": [],
   "source": []
  }
 ],
 "metadata": {
  "kernelspec": {
   "display_name": "Python 3 (ipykernel)",
   "language": "python",
   "name": "python3"
  },
  "language_info": {
   "codemirror_mode": {
    "name": "ipython",
    "version": 3
   },
   "file_extension": ".py",
   "mimetype": "text/x-python",
   "name": "python",
   "nbconvert_exporter": "python",
   "pygments_lexer": "ipython3",
   "version": "3.11.8"
  }
 },
 "nbformat": 4,
 "nbformat_minor": 5
}
