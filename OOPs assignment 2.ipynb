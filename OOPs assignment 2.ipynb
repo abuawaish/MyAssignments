{
 "cells": [
  {
   "cell_type": "markdown",
   "id": "3dc4c37c",
   "metadata": {},
   "source": [
    "# <b><font color = 'orange'> CONSTRUCTOR"
   ]
  },
  {
   "cell_type": "markdown",
   "id": "16150113",
   "metadata": {},
   "source": [
    "### `1. What is a constructor in Python? Explain its purpose and usage.`\n"
   ]
  },
  {
   "cell_type": "markdown",
   "id": "a9231cdf",
   "metadata": {},
   "source": [
    "<b> In Python, a constructor is a special method that is automatically called when an object is created. Its purpose is to initialize the attributes of the object. The constructor method is named __init__ and is defined within a class."
   ]
  },
  {
   "cell_type": "code",
   "execution_count": 1,
   "id": "6a36ed17",
   "metadata": {},
   "outputs": [
    {
     "name": "stdout",
     "output_type": "stream",
     "text": [
      "red\n",
      "orange\n"
     ]
    }
   ],
   "source": [
    "class colour:\n",
    "    def __init__(self, col1, col2):\n",
    "        self.col1 = col1\n",
    "        self.col2 = col2\n",
    "        \n",
    "colour1 = colour('red', 'orange')\n",
    "\n",
    "print(colour1.col1)\n",
    "print(colour1.col2)"
   ]
  },
  {
   "cell_type": "markdown",
   "id": "05306f8b",
   "metadata": {},
   "source": [
    "<b><p>In this example, the __init__ method takes three parameters: self (a reference to the instance being created) and the attributes name and age. Inside the method, self.name and self.age are used to initialize the object's attributes with the values passed during the object's creation.\n",
    "\n",
    "The constructor is called automatically when you create a new instance of the class, as shown with my_dog = Dog(\"Buddy\", 3). The self parameter is implicit and refers to the instance of the class.\n",
    "\n",
    "The purpose of the constructor is to ensure that an object is properly set up with its initial state when it is created. It's a convenient way to organize and initialize the attributes of an object.</b></p>"
   ]
  },
  {
   "cell_type": "markdown",
   "id": "6d1060b5",
   "metadata": {},
   "source": [
    "### `2. Differentiate between a parameterless constructor and a parameterized constructor in Python.`\n"
   ]
  },
  {
   "cell_type": "markdown",
   "id": "b23fca96",
   "metadata": {},
   "source": [
    "#### <b> <font color = 'blue'>Parameterless Constructor:\n",
    "\n",
    "- <b>Also known as a default constructor.\n",
    "- <b>It has only the self parameter.\n",
    "- <b>Initializes the object with default values or sets up the object without requiring any external input during instantiation."
   ]
  },
  {
   "cell_type": "code",
   "execution_count": 2,
   "id": "707a4ece",
   "metadata": {},
   "outputs": [
    {
     "name": "stdout",
     "output_type": "stream",
     "text": [
      "42\n"
     ]
    }
   ],
   "source": [
    "class MyClass:\n",
    "    def __init__(self):\n",
    "        # initialization code without parameters\n",
    "        self.default_value = 42\n",
    "\n",
    "# Creating an instance\n",
    "obj = MyClass()\n",
    "print(obj.default_value)"
   ]
  },
  {
   "cell_type": "markdown",
   "id": "8c76068c",
   "metadata": {},
   "source": [
    "#### <b> <font color = 'blue'>Parameterized Constructor:\n",
    "\n",
    "- <b>Takes parameters in addition to self.\n",
    "- <b>Initializes the object's attributes with values provided during the instantiation of the object."
   ]
  },
  {
   "cell_type": "code",
   "execution_count": 3,
   "id": "53bb143f",
   "metadata": {},
   "outputs": [
    {
     "name": "stdout",
     "output_type": "stream",
     "text": [
      "value1\n"
     ]
    }
   ],
   "source": [
    "class AnotherClass:\n",
    "    def __init__(self, param1, param2):\n",
    "        # initialization code with parameters\n",
    "        self.attribute1 = param1\n",
    "        self.attribute2 = param2\n",
    "\n",
    "# Creating an instance with parameters\n",
    "obj = AnotherClass(\"value1\", \"value2\")\n",
    "print(obj.attribute1)"
   ]
  },
  {
   "cell_type": "markdown",
   "id": "0fdaead6",
   "metadata": {},
   "source": [
    "### `3. How do you define a constructor in a Python class? Provide an example.`\n"
   ]
  },
  {
   "cell_type": "markdown",
   "id": "8d727dfb",
   "metadata": {},
   "source": [
    "<b><p>In Python, a constructor is a special method used for initializing the object. It is called when an object is created from the class and allows you to set up initial values for the object's attributes. The constructor method is named __init__.</b></p>"
   ]
  },
  {
   "cell_type": "code",
   "execution_count": 4,
   "id": "6c248299",
   "metadata": {},
   "outputs": [
    {
     "name": "stdout",
     "output_type": "stream",
     "text": [
      "Skyline\n"
     ]
    }
   ],
   "source": [
    "class car:\n",
    "    def __init__(self, company, model, year, colour):\n",
    "        self.company  =  company\n",
    "        self.model  = model\n",
    "        self.year  = year\n",
    "        self.colour  = colour\n",
    "        \n",
    "car1 = car('Nissan', 'Skyline', 2020, 'blue')\n",
    "\n",
    "print(car1.model)"
   ]
  },
  {
   "cell_type": "markdown",
   "id": "8af8752e",
   "metadata": {},
   "source": [
    "### `4. Explain the \"__init__\" method in Python and its role in constructors.`\n"
   ]
  },
  {
   "cell_type": "markdown",
   "id": "42bf69c2",
   "metadata": {},
   "source": [
    "<b>In Python, the __init__ method is a special method that is automatically called when an object is created from a class. It stands for \"initialize\" and is commonly used to set up the initial state of an object. The __init__ method is sometimes referred to as a constructor because it plays a crucial role in initializing the attributes of an object."
   ]
  },
  {
   "cell_type": "code",
   "execution_count": 5,
   "id": "0e6ad9f9",
   "metadata": {},
   "outputs": [
    {
     "name": "stdout",
     "output_type": "stream",
     "text": [
      "Buddy\n",
      "3\n"
     ]
    }
   ],
   "source": [
    "class Dog:\n",
    "    def __init__(self, name, age):\n",
    "        self.name = name\n",
    "        self.age = age\n",
    "\n",
    "my_dog = Dog(name=\"Buddy\", age=3)\n",
    "\n",
    "print(my_dog.name)  \n",
    "print(my_dog.age)   "
   ]
  },
  {
   "cell_type": "markdown",
   "id": "aa5a7c00",
   "metadata": {},
   "source": [
    "### `5. In a class named \"Person\", create a constructor that initializes the \"name\" and \"age\" attributes. Provide an example of creating an object of this class.`\n"
   ]
  },
  {
   "cell_type": "code",
   "execution_count": 6,
   "id": "3042389e",
   "metadata": {},
   "outputs": [
    {
     "name": "stdout",
     "output_type": "stream",
     "text": [
      "abu awaish\n",
      "22\n"
     ]
    }
   ],
   "source": [
    "class Person:\n",
    "    def __init__(self, name, age):\n",
    "        self.name = name\n",
    "        self.age = age\n",
    "    \n",
    "p1 = Person('abu awaish', 22)\n",
    "print(p1.name)\n",
    "print(p1.age)"
   ]
  },
  {
   "cell_type": "markdown",
   "id": "60b1274d",
   "metadata": {},
   "source": [
    "### `6. How can you call a constructor explicitly in Python? Give an example.`\n"
   ]
  },
  {
   "cell_type": "markdown",
   "id": "fee78757",
   "metadata": {},
   "source": [
    "<b>In Python, you can call a constructor explicitly by using the __init__ method of a class."
   ]
  },
  {
   "cell_type": "code",
   "execution_count": 7,
   "id": "5489964d",
   "metadata": {},
   "outputs": [
    {
     "name": "stdout",
     "output_type": "stream",
     "text": [
      "Constructor called with value: 10\n",
      "Constructor called with value: 20\n"
     ]
    }
   ],
   "source": [
    "class MyClass:\n",
    "    def __init__(self, value):\n",
    "        self.value = value\n",
    "        print(\"Constructor called with value:\", value)\n",
    "\n",
    "# Create an instance of MyClass without explicitly calling the constructor\n",
    "obj1 = MyClass(value=10)\n",
    "\n",
    "# Create another instance of MyClass and explicitly call the constructor\n",
    "obj2 = MyClass.__init__(obj1, value=20)\n"
   ]
  },
  {
   "cell_type": "markdown",
   "id": "75379626",
   "metadata": {},
   "source": [
    "### `7. What is the significance of the \"self\" parameter in Python constructors? Explain with an example.`\n"
   ]
  },
  {
   "cell_type": "markdown",
   "id": "40a7825e",
   "metadata": {},
   "source": [
    "<b><p>The self parameter in Python constructors (and methods in general) represents the instance of the class. It is a convention in Python to name this first parameter as self, but you could technically name it anything (though it's not recommended for clarity).\n",
    "\n",
    "The significance of self is that it allows you to refer to the instance of the class within the methods of that class. When you create an instance of a class and call a method or a constructor, Python automatically passes the instance as the first argument (self). This allows you to access and manipulate the instance variables and other methods of the class.</b></p>"
   ]
  },
  {
   "cell_type": "code",
   "execution_count": 8,
   "id": "3c11b5da",
   "metadata": {},
   "outputs": [
    {
     "name": "stdout",
     "output_type": "stream",
     "text": [
      "Value: 32\n"
     ]
    }
   ],
   "source": [
    "class MyClass:\n",
    "    def __init__(self, value):\n",
    "        # 'self' refers to the instance being created\n",
    "        self.value = value\n",
    "\n",
    "    def print_value(self):\n",
    "        # Accessing 'value' through 'self'\n",
    "        print(\"Value:\", self.value)\n",
    "\n",
    "# Creating an instance of MyClass\n",
    "obj = MyClass(32)\n",
    "\n",
    "# Calling a method that uses 'self'\n",
    "obj.print_value()\n"
   ]
  },
  {
   "cell_type": "markdown",
   "id": "720eae61",
   "metadata": {},
   "source": [
    "### `8. Discuss the concept of default constructors in Python. When are they used?`"
   ]
  },
  {
   "cell_type": "code",
   "execution_count": 9,
   "id": "c7e678d8",
   "metadata": {},
   "outputs": [
    {
     "name": "stdout",
     "output_type": "stream",
     "text": [
      "Buddy 3\n",
      "Unknown 0\n"
     ]
    }
   ],
   "source": [
    "class Dog:\n",
    "    def __init__(self, name=\"Unknown\", age=0):\n",
    "        self.name = name\n",
    "        self.age = age\n",
    "\n",
    "dog1 = Dog(name=\"Buddy\", age=3)\n",
    "dog2 = Dog()\n",
    "\n",
    "print(dog1.name, dog1.age)  \n",
    "print(dog2.name, dog2.age)  "
   ]
  },
  {
   "cell_type": "markdown",
   "id": "14c901d5",
   "metadata": {},
   "source": [
    "<b><p>Default constructors, in a broader sense, are used to provide a way of creating an object without explicitly specifying all the attributes. This can be useful when you have some sensible default values that can be applied if the user doesn't provide specific ones.\n",
    "\n",
    "It's important to note that this concept is not unique to the __init__ method; you can use default values in other methods and functions as well. The key idea is to provide flexibility while ensuring that the object can still be created and used with minimal explicit input if desired.</b></p>"
   ]
  },
  {
   "cell_type": "markdown",
   "id": "36e64387",
   "metadata": {},
   "source": [
    "### `9. Create a Python class called \"Rectangle\" with a constructor that initializes the \"width\" and \"height\" attributes. Provide a method to calculate the area of the rectangle.`\n"
   ]
  },
  {
   "cell_type": "code",
   "execution_count": 10,
   "id": "589b34bf",
   "metadata": {},
   "outputs": [
    {
     "name": "stdout",
     "output_type": "stream",
     "text": [
      "Area of Rectangle = 200\n",
      "Area of Rectangle = 480\n"
     ]
    }
   ],
   "source": [
    "class Rectangle:\n",
    "    def __init__(self, width, height):\n",
    "        self.width = width\n",
    "        self.height = height\n",
    "        \n",
    "    def area(self):\n",
    "        area = self.width * self.height\n",
    "        return f\"Area of Rectangle = {area}\"\n",
    "    \n",
    "rec1 = Rectangle(20, 10)\n",
    "rec2 = Rectangle(32, 15)\n",
    "\n",
    "print(rec1.area())\n",
    "print(rec2.area())"
   ]
  },
  {
   "cell_type": "markdown",
   "id": "27ee11b1",
   "metadata": {},
   "source": [
    "### `10. How can you have multiple constructors in a Python class? Explain with an example.`\n"
   ]
  },
  {
   "cell_type": "markdown",
   "id": "b304d27e",
   "metadata": {},
   "source": [
    "<b> In Python, a class can have multiple constructors by using class methods or default values for parameters"
   ]
  },
  {
   "cell_type": "code",
   "execution_count": 11,
   "id": "11398a06",
   "metadata": {},
   "outputs": [
    {
     "name": "stdout",
     "output_type": "stream",
     "text": [
      "value1 value2\n",
      "new_value1 new_value2\n",
      "default1 default2\n"
     ]
    }
   ],
   "source": [
    "class MyClass:\n",
    "    def __init__(self, param1, param2):\n",
    "        self.param1 = param1\n",
    "        self.param2 = param2\n",
    "\n",
    "    # Constructor with a class method\n",
    "    @classmethod\n",
    "    def from_string(cls, input_string):\n",
    "        # Parse the string and extract parameters\n",
    "        param1, param2 = input_string.split(',')\n",
    "        # Create and return an instance of the class\n",
    "        return cls(param1, param2)\n",
    "\n",
    "    # Constructor with default values\n",
    "    @staticmethod\n",
    "    def with_default_values(param1='default1', param2='default2'):\n",
    "        # Create and return an instance of the class\n",
    "        return MyClass(param1, param2)\n",
    "\n",
    "# Using the default constructor\n",
    "obj1 = MyClass('value1', 'value2')\n",
    "\n",
    "# Using the constructor with class method\n",
    "obj2 = MyClass.from_string('new_value1,new_value2')\n",
    "\n",
    "# Using the constructor with default values\n",
    "obj3 = MyClass.with_default_values()\n",
    "\n",
    "# Printing values of the objects\n",
    "print(obj1.param1, obj1.param2)  # Output: value1 value2\n",
    "print(obj2.param1, obj2.param2)  # Output: new_value1 new_value2\n",
    "print(obj3.param1, obj3.param2)  # Output: default1 default2\n"
   ]
  },
  {
   "cell_type": "markdown",
   "id": "c23477be",
   "metadata": {},
   "source": [
    "### `11. What is method overloading, and how is it related to constructors in Python?`"
   ]
  },
  {
   "cell_type": "markdown",
   "id": "19e1f33a",
   "metadata": {},
   "source": [
    "<b><p>Method overloading refers to the ability to define multiple methods in the same class with the same name but different parameter lists. This allows a class to have multiple methods with the same name that perform different actions based on the number or types of parameters they receive.\n",
    "\n",
    "In Python, unlike some other programming languages (e.g., Java, C++), method overloading based on the number or types of parameters is not supported directly. However, Python provides a way to achieve similar functionality using default parameter Ivalues and variable-length argument lists.\n",
    "\n",
    "Now, when it comes to constructors in Python, you can't have multiple constructors with different parameter lists in the traditional sense, as you might in languages that support method overloading. However, you can achieve similar functionality using default parameter values and class methods.\n",
    "\n",
    "For example, in the previous code example, the class `MyClass` had a default `__init__` constructor and additional constructors implemented as class methods (`from_string` and `with_default_values`). These class methods serve a similar purpose to overloaded constructors in other languages, allowing you to create instances of the class with different sets of parameters.\n",
    "\n",
    "So, while Python doesn't have explicit method overloading as in some other languages, you can use default values and class methods to achieve similar behavior when working with constructors.</b></p>"
   ]
  },
  {
   "cell_type": "markdown",
   "id": "bee8d334",
   "metadata": {},
   "source": [
    "### `12. Explain the use of the \"super()\" function in Python constructors. Provide an example.`\n"
   ]
  },
  {
   "cell_type": "markdown",
   "id": "e7439116",
   "metadata": {},
   "source": [
    "<b>In Python, the super() function is used to call a method from a parent class. It is often used in the context of constructors to invoke the constructor of the parent class. This is particularly useful in inheritance scenarios where a subclass wants to extend or override the behavior of its parent class."
   ]
  },
  {
   "cell_type": "code",
   "execution_count": 12,
   "id": "56b7111a",
   "metadata": {},
   "outputs": [
    {
     "name": "stdout",
     "output_type": "stream",
     "text": [
      "Param1: 1, Param2: 2, Param3: 3\n"
     ]
    }
   ],
   "source": [
    "class ParentClass:\n",
    "    def __init__(self, param1, param2):\n",
    "        self.param1 = param1\n",
    "        self.param2 = param2\n",
    "\n",
    "    def display_params(self):\n",
    "        print(f'Param1: {self.param1}, Param2: {self.param2}')\n",
    "\n",
    "class ChildClass(ParentClass):\n",
    "    def __init__(self, param1, param2, param3):\n",
    "        # Call the constructor of the parent class using super()\n",
    "        super().__init__(param1, param2)\n",
    "        self.param3 = param3\n",
    "\n",
    "    # Override the display_params method\n",
    "    def display_params(self):\n",
    "        # Add behavior specific to the ChildClass\n",
    "        print(f'Param1: {self.param1}, Param2: {self.param2}, Param3: {self.param3}')\n",
    "\n",
    "# Creating an instance of the ChildClass\n",
    "child_obj = ChildClass(1, 2, 3)\n",
    "\n",
    "# Calling the overridden method\n",
    "child_obj.display_params()\n"
   ]
  },
  {
   "cell_type": "markdown",
   "id": "694b7ba5",
   "metadata": {},
   "source": [
    "### `13. Create a class called \"Book\" with a constructor that initializes the \"title\" , \"author\", and \"published_year\" attributes. Provide a method to display book details.`\n"
   ]
  },
  {
   "cell_type": "code",
   "execution_count": 13,
   "id": "ad0cf08d",
   "metadata": {},
   "outputs": [
    {
     "name": "stdout",
     "output_type": "stream",
     "text": [
      "Title : Three Questions,  Author : Leo Tolstoy, Published Year : 1885\n"
     ]
    }
   ],
   "source": [
    "class Book:\n",
    "    def __init__(self, title, author, published_year):\n",
    "        self.title = title\n",
    "        self.author  = author\n",
    "        self.published_year  = published_year\n",
    "        \n",
    "        \n",
    "    def display(self):\n",
    "        print(f\"Title : {self.title},  Author : {self.author}, Published Year : {self.published_year}\")\n",
    "    \n",
    "book1 = Book('Three Questions', 'Leo Tolstoy', 1885)\n",
    "book1.display()"
   ]
  },
  {
   "cell_type": "markdown",
   "id": "a28437e4",
   "metadata": {},
   "source": [
    "### `14. Discuss the differences between constructors and regular methods in Python classes.`"
   ]
  },
  {
   "cell_type": "markdown",
   "id": "1c0ee37d",
   "metadata": {},
   "source": [
    "#### <b><font color = 'blue'>Constructor:\n",
    "\n",
    "- <b>Purpose: The primary purpose of a constructor is to initialize the object's attributes when an instance of the class is created.\n",
    "- <b>Syntax: In Python, the constructor method is named __init__. It is automatically called when an object is instantiated."
   ]
  },
  {
   "cell_type": "code",
   "execution_count": 14,
   "id": "65b34e80",
   "metadata": {},
   "outputs": [],
   "source": [
    "class MyClass:\n",
    "    def __init__(self, attribute1, attribute2):\n",
    "        self.attribute1 = attribute1\n",
    "        self.attribute2 = attribute2\n"
   ]
  },
  {
   "cell_type": "markdown",
   "id": "e2cd8b7b",
   "metadata": {},
   "source": [
    "#### <b><font color = 'blue'>Regular Methods:\n",
    "\n",
    "- <b>Purpose: Regular methods are functions defined within a class that perform operations on the object's attributes.\n",
    "- <b>Syntax: They take the instance (usually named self) as their first parameter, giving them access to the object's attributes and other methods."
   ]
  },
  {
   "cell_type": "code",
   "execution_count": 15,
   "id": "25b1b66d",
   "metadata": {},
   "outputs": [],
   "source": [
    "class MyClass:\n",
    "    def __init__(self, attribute1, attribute2):\n",
    "        self.attribute1 = attribute1\n",
    "        self.attribute2 = attribute2\n",
    "\n",
    "    def perform_operation(self): # regular methods\n",
    "        return self.attribute1 + self.attribute2\n"
   ]
  },
  {
   "cell_type": "markdown",
   "id": "56fa2896",
   "metadata": {},
   "source": [
    "### `15. Explain the role of the \"self\" parameter in instance variable initialization within a constructor.`\n"
   ]
  },
  {
   "cell_type": "markdown",
   "id": "92990e1d",
   "metadata": {},
   "source": [
    "<b><p>Certainly! In Python, the \"self\" parameter in a class constructor plays a crucial role in instance variable initialization. Let's break down its role step by step:\n",
    "\n",
    "1. **Reference to the Instance:**\n",
    "   - When an object is created from a class, the `self` parameter refers to the instance of that class. It is a convention in Python to name this parameter `self`, although you could technically name it anything (but it's highly recommended to stick with `self` for clarity).\n",
    "\n",
    "2. **Instance Variables:**\n",
    "   - Inside the constructor (`__init__` method), `self` is used to create and reference instance variables. These variables are specific to each instance of the class, allowing different objects to have different states.\n",
    "\n",
    "3. **Initialization of Instance Variables:**\n",
    "   - The `self` parameter is used to initialize instance variables. When you see code like `self.attribute = value` inside the constructor, it means that the attribute is associated with the instance being created, not with the class itself.</b></p>"
   ]
  },
  {
   "cell_type": "code",
   "execution_count": 16,
   "id": "1a10b77a",
   "metadata": {},
   "outputs": [],
   "source": [
    "# 4. **Example:**\n",
    "   \n",
    "class MyClass:\n",
    "    def __init__(self, attribute1, attribute2):\n",
    "        self.attribute1 = attribute1\n",
    "        self.attribute2 = attribute2\n",
    "\n",
    "#   In this example, when you create an object like `obj = MyClass(10, 20)`, `self.attribute1` and `self.attribute2` are specific to the `obj` instance."
   ]
  },
  {
   "cell_type": "code",
   "execution_count": 17,
   "id": "4c8f94c7",
   "metadata": {},
   "outputs": [],
   "source": [
    "#5. **Access to Instance Variables:**\n",
    "# Throughout the class, including in other methods, you can access instance variables using `self`. For example, in a regular method of the class, you would use `self.attribute1` to refer to the `attribute1` of the current instance.\n",
    "\n",
    "class MyClass:\n",
    "    def __init__(self, attribute1, attribute2):\n",
    "        self.attribute1 = attribute1\n",
    "        self.attribute2 = attribute2\n",
    "\n",
    "    def perform_operation(self):\n",
    "        return self.attribute1 + self.attribute2\n"
   ]
  },
  {
   "cell_type": "markdown",
   "id": "093f1fa8",
   "metadata": {},
   "source": [
    "<b><p>In the `perform_operation` method, `self.attribute1` and `self.attribute2` refer to the attributes of the current instance.\n",
    "\n",
    "In summary, the `self` parameter in the constructor serves as a reference to the instance being created, allowing you to initialize and access instance variables. It's a way for the class to distinguish between attributes that belong to the class itself and those that belong to individual instances of the class.</b></p>"
   ]
  },
  {
   "cell_type": "markdown",
   "id": "a7424026",
   "metadata": {},
   "source": [
    "### `16. How do you prevent a class from having multiple instances by using constructors in Python? Provide an example.`\n"
   ]
  },
  {
   "cell_type": "markdown",
   "id": "892ae610",
   "metadata": {},
   "source": [
    "**In Python, you can prevent a class from having multiple instances by using a class variable to track whether an instance has already been created. Here's an example using a simple Singleton pattern:**"
   ]
  },
  {
   "cell_type": "code",
   "execution_count": 18,
   "id": "3053afca",
   "metadata": {},
   "outputs": [
    {
     "name": "stdout",
     "output_type": "stream",
     "text": [
      "True\n"
     ]
    }
   ],
   "source": [
    "class SingletonClass:\n",
    "    _instance = None  # Class variable to store the instance\n",
    "\n",
    "    def __new__(cls):\n",
    "        # If an instance doesn't exist, create one and store it in _instance\n",
    "        if cls._instance is None:\n",
    "            cls._instance = super(SingletonClass, cls).__new__(cls)\n",
    "        return cls._instance\n",
    "\n",
    "    def __init__(self):\n",
    "        # Initialization code here\n",
    "        pass\n",
    "\n",
    "# Example usage\n",
    "instance1 = SingletonClass()\n",
    "instance2 = SingletonClass()\n",
    "\n",
    "print(instance1 is instance2)  # This should print True\n"
   ]
  },
  {
   "cell_type": "markdown",
   "id": "6ada49af",
   "metadata": {},
   "source": [
    "### `17. Create a Python class called \"Student\" with a constructor that takes a list of subjects as a parameter and initializes the \"subjects\" attribute.`\n"
   ]
  },
  {
   "cell_type": "code",
   "execution_count": 19,
   "id": "ecb199ae",
   "metadata": {},
   "outputs": [
    {
     "name": "stdout",
     "output_type": "stream",
     "text": [
      "['Math', 'English', 'History']\n",
      "['Physics', 'Chemistry', 'Biology']\n"
     ]
    }
   ],
   "source": [
    "class Student:\n",
    "    def __init__(self, subjects):\n",
    "        self.subjects = subjects\n",
    "\n",
    "# Example usage\n",
    "student1 = Student(['Math', 'English', 'History'])\n",
    "student2 = Student(['Physics', 'Chemistry', 'Biology'])\n",
    "\n",
    "print(student1.subjects)  # Output: ['Math', 'English', 'History']\n",
    "print(student2.subjects)  # Output: ['Physics', 'Chemistry', 'Biology']\n"
   ]
  },
  {
   "cell_type": "markdown",
   "id": "1d89f131",
   "metadata": {},
   "source": [
    "### `18. What is the purpose of the \"__del__\" method in Python classes, and how does it relate to constructors?`\n"
   ]
  },
  {
   "cell_type": "markdown",
   "id": "ec3d9c7c",
   "metadata": {},
   "source": [
    "<b><p>The `__del__` method in Python is a special method that is called when an object is about to be destroyed, typically when it goes out of scope or when the `del` statement is used to delete the reference to the object. It serves as the destructor method in a class, allowing you to define custom cleanup actions before an object is deleted.\n",
    "\n",
    "However, it's important to note that the `__del__` method is not guaranteed to be called at a specific time or in a predictable manner due to the automatic garbage collection mechanism in Python. Therefore, it's generally recommended to use other mechanisms, such as the `with` statement or context managers, for resource cleanup instead of relying on `__del__`.\n",
    "\n",
    "In contrast, the constructor method in Python is `__init__`, and its purpose is to initialize the attributes of an object when it is created. The constructor is called immediately after the object is created, and it sets up the initial state of the object.\n",
    "\n",
    "In summary, while the constructor (`__init__`) is responsible for initializing the object's attributes upon creation, the `__del__` method can be used for custom cleanup actions before the object is destroyed. However, it's essential to be cautious when relying on `__del__` for cleanup, and alternative approaches should be considered for better control over resource management./<b></p>"
   ]
  },
  {
   "cell_type": "code",
   "execution_count": 20,
   "id": "10008799-5101-469c-b7f6-b11e0abc026a",
   "metadata": {},
   "outputs": [
    {
     "name": "stdout",
     "output_type": "stream",
     "text": [
      "True\n",
      "The file has been closed.\n",
      "instance of a class (`handler`) has been deleted successfully\n"
     ]
    }
   ],
   "source": [
    "class FileHandler:\n",
    "    def __init__(self, file_name):\n",
    "        self.file = open(file_name, 'w')\n",
    "\n",
    "    def write(self, data):\n",
    "        self.file.write(data)\n",
    "\n",
    "    def __del__(self):\n",
    "        # Ensure the file is properly closed when the object is destroyed\n",
    "        self.file.close()\n",
    "        print(f\"The file has been closed.\")\n",
    "\n",
    "# Create a FileHandler instance\n",
    "handler = FileHandler('example.txt')\n",
    "handler.write('Hello, World!')\n",
    "\n",
    "print(isinstance(handler,FileHandler))\n",
    "# Delete the handler to trigger __del__\n",
    "del handler\n",
    "try:\n",
    "    print(isinstance(handler,FileHandler))\n",
    "except NameError as ne:\n",
    "    print('instance of a class (`handler`) has been deleted successfully')\n",
    "    "
   ]
  },
  {
   "cell_type": "markdown",
   "id": "20f10a27",
   "metadata": {},
   "source": [
    "### `19. Explain the use of constructor chaining in Python. Provide a practical example.`"
   ]
  },
  {
   "cell_type": "markdown",
   "id": "b4112be6",
   "metadata": {},
   "source": [
    "<b>Constructor chaining is the process of calling one constructor from another constructor. Constructor chaining is useful when you want to invoke multiple constructors, one after another, by initializing only one instance. In Python, constructor chaining is convenient when we are dealing with inheritance."
   ]
  },
  {
   "cell_type": "code",
   "execution_count": 21,
   "id": "d5a336fe",
   "metadata": {},
   "outputs": [
    {
     "name": "stdout",
     "output_type": "stream",
     "text": [
      "Parent constructor called\n",
      "Child constructor called\n",
      "John Doe\n",
      "20\n"
     ]
    }
   ],
   "source": [
    "class Parent:\n",
    "    def __init__(self, name):\n",
    "        print(\"Parent constructor called\")\n",
    "        self.name = name\n",
    "\n",
    "class Child(Parent):\n",
    "    def __init__(self, name, age):\n",
    "        super().__init__(name)\n",
    "        print(\"Child constructor called\")\n",
    "        self.age = age\n",
    "\n",
    "child = Child(\"John Doe\", 20)\n",
    "\n",
    "print(child.name)\n",
    "print(child.age)"
   ]
  },
  {
   "cell_type": "markdown",
   "id": "5f6fd337",
   "metadata": {},
   "source": [
    "### `20. Create a Python class called \"Car\" with a default constructor that initializes the \"make\" and \"model\" attributes. Provide a method to display car information.`\n",
    "\n"
   ]
  },
  {
   "cell_type": "code",
   "execution_count": 22,
   "id": "97d23a0c",
   "metadata": {},
   "outputs": [
    {
     "name": "stdout",
     "output_type": "stream",
     "text": [
      "Car Information: Toyota Camry\n"
     ]
    }
   ],
   "source": [
    "class Car:\n",
    "    def __init__(self, make, model):\n",
    "        self.make = make\n",
    "        self.model = model\n",
    "\n",
    "    def display_info(self):\n",
    "        print(f\"Car Information: {self.make} {self.model}\")\n",
    "\n",
    "# Example usage:\n",
    "my_car = Car(\"Toyota\", \"Camry\")\n",
    "my_car.display_info()\n"
   ]
  },
  {
   "cell_type": "markdown",
   "id": "6e093872",
   "metadata": {},
   "source": [
    "#  <b><font color = 'orange'>INHERITANCE"
   ]
  },
  {
   "cell_type": "markdown",
   "id": "81e7357c",
   "metadata": {},
   "source": [
    "### `11. What is inheritance in Python? Explain its significance in object-oriented programming.`"
   ]
  },
  {
   "cell_type": "markdown",
   "id": "ca25b823",
   "metadata": {},
   "source": [
    "<b><p>nheritance in Python is a mechanism that allows a class (called the child or subclass) to inherit properties and behaviors from another class (called the parent or superclass). The child class can reuse and extend the attributes and methods of the parent class, promoting code reuse and modularity in object-oriented programming.\n",
    "\n",
    "Significance of inheritance in object-oriented programming:\n",
    "\n",
    "Code Reusability: Inheritance allows you to reuse code from existing classes. The child class inherits attributes and methods from the parent class, reducing the need to duplicate code.\n",
    "\n",
    "Modularity: Inheritance promotes a modular approach to design. You can define a base class with common features, and then create specialized classes that inherit from it to add or override specific behaviors.\n",
    "\n",
    "Extensibility: Child classes can extend the functionality of the parent class. You can add new methods or attributes in the child class without modifying the parent class, making it easier to extend and adapt your code.\n",
    "\n",
    "Polymorphism: Inheritance contributes to polymorphism, where objects of different classes can be treated as objects of a common base class. This enables a more flexible and generalized approach to programming.\n",
    "\n",
    "Organization and Maintenance: Inheritance helps organize code in a hierarchical structure. Changes made to the common functionality in the base class automatically reflect in all the derived classes, making maintenance more manageable.</b></p>"
   ]
  },
  {
   "cell_type": "markdown",
   "id": "f5eaabbb",
   "metadata": {},
   "source": [
    "### `2. Differentiate between single inheritance and multiple inheritance in Python. Provide examples for each.`"
   ]
  },
  {
   "cell_type": "markdown",
   "id": "c9cec8c4",
   "metadata": {},
   "source": [
    "<b><p>In Python, inheritance is a way to create a new class by using the attributes and methods of an existing class. Single inheritance and multiple inheritance refer to the number of parent classes a child class can have.\n",
    "\n",
    "#### <b> <font color = 'blue'>Single Inheritance:\n",
    "In single inheritance, a class can inherit from only one parent class.\n",
    "\n",
    "#### <b> <font color = 'blue'>Multiple Inheritance:\n",
    "In multiple inheritance, a class can inherit from more than one parent class.</b></p>"
   ]
  },
  {
   "cell_type": "code",
   "execution_count": 23,
   "id": "37351d47",
   "metadata": {},
   "outputs": [
    {
     "name": "stdout",
     "output_type": "stream",
     "text": [
      "Some generic sound\n",
      "Woof! Woof!\n"
     ]
    }
   ],
   "source": [
    "# Single Inheritance\n",
    "class Animal:\n",
    "    def speak(self):\n",
    "        print(\"Some generic sound\")\n",
    "\n",
    "class Dog(Animal):\n",
    "    def bark(self):\n",
    "        print(\"Woof! Woof!\")\n",
    "\n",
    "# Example usage\n",
    "my_dog = Dog()\n",
    "my_dog.speak()  # Output: Some generic sound\n",
    "my_dog.bark()   # Output: Woof! Woof!\n"
   ]
  },
  {
   "cell_type": "code",
   "execution_count": 24,
   "id": "272aeaf4",
   "metadata": {},
   "outputs": [
    {
     "name": "stdout",
     "output_type": "stream",
     "text": [
      "Some generic sound\n",
      "Playing with the pet\n",
      "Woof! Woof!\n"
     ]
    }
   ],
   "source": [
    "# Multiple Inheritance\n",
    "\n",
    "class Animal:\n",
    "    def speak(self):\n",
    "        print(\"Some generic sound\")\n",
    "\n",
    "class Pet:\n",
    "    def play(self):\n",
    "        print(\"Playing with the pet\")\n",
    "\n",
    "class Dog(Animal, Pet):\n",
    "    def bark(self):\n",
    "        print(\"Woof! Woof!\")\n",
    "\n",
    "# Example usage\n",
    "my_dog = Dog()\n",
    "my_dog.speak()  # Output: Some generic sound\n",
    "my_dog.play()   # Output: Playing with the pet\n",
    "my_dog.bark()   # Output: Woof! Woof!\n"
   ]
  },
  {
   "cell_type": "markdown",
   "id": "cdafa25e",
   "metadata": {},
   "source": [
    "### `3. Create a Python class called \"Vehicle\" with attributes \"color\" and 'speed\". Then, create a child class called \"Car\" that inherits from \"Vehicle\" and adds a \"brand\" attribute. Provide an example of creating a \"Car\" object.`\n"
   ]
  },
  {
   "cell_type": "code",
   "execution_count": 25,
   "id": "f68a656b",
   "metadata": {},
   "outputs": [
    {
     "name": "stdout",
     "output_type": "stream",
     "text": [
      "white\n",
      "40\n",
      "Toyota\n"
     ]
    }
   ],
   "source": [
    "class Vehicle:\n",
    "    def __init__(self, color, speed):\n",
    "        self.color = color\n",
    "        self.speed = speed\n",
    "        \n",
    "class Car(Vehicle):\n",
    "    def __init__(self, color, speed, brand):\n",
    "        super().__init__(color, speed)\n",
    "        self.brand = brand\n",
    "        \n",
    "car1 = Car(color = 'white', speed = 40, brand = 'Toyota')\n",
    "\n",
    "print(car1.color)\n",
    "print(car1.speed)\n",
    "print(car1.brand)"
   ]
  },
  {
   "cell_type": "markdown",
   "id": "14d11d78",
   "metadata": {},
   "source": [
    "### `4. Explain the concept of method overriding in inheritance. Provide a practical example.`"
   ]
  },
  {
   "cell_type": "markdown",
   "id": "95442d4e",
   "metadata": {},
   "source": [
    "**Method overriding is a concept in object-oriented programming where a subclass provides a specific implementation for a method that is already defined in its superclass. This allows a subclass to provide a specialized version of a method that is tailored to its own needs, while still maintaining the same method signature as the superclass.**"
   ]
  },
  {
   "cell_type": "code",
   "execution_count": 26,
   "id": "b2d9e149",
   "metadata": {},
   "outputs": [
    {
     "name": "stdout",
     "output_type": "stream",
     "text": [
      "Woof! Woof!\n"
     ]
    }
   ],
   "source": [
    "class Animal:\n",
    "    def makeSound(self):\n",
    "        print(\"Some generic sound\")\n",
    "\n",
    "class Dog(Animal):\n",
    "    def makeSound(self):\n",
    "        print(\"Woof! Woof!\")\n",
    "\n",
    "my_dog = Dog()\n",
    "my_dog.makeSound()"
   ]
  },
  {
   "cell_type": "markdown",
   "id": "01aaac31",
   "metadata": {},
   "source": [
    "### `5. How can you access the methods and attributes of a parent class from a child class in Python? Give an example.`"
   ]
  },
  {
   "cell_type": "markdown",
   "id": "12177c38-788e-4098-a6ae-5e0a0a2239f4",
   "metadata": {},
   "source": [
    "**In Python, you can access the methods and attributes of a parent class from a child class using the super() function. The super() function is used to refer to the parent class, allowing you to call its methods or access its attributes. This is useful in cases where you want to extend the functionality of the parent class in the child class.**"
   ]
  },
  {
   "cell_type": "code",
   "execution_count": 27,
   "id": "73228d2d-e560-4c82-974d-5f5d8d0d55ad",
   "metadata": {},
   "outputs": [
    {
     "name": "stdout",
     "output_type": "stream",
     "text": [
      "ParentClass - Name: John\n",
      "ChildClass - Age: 25\n"
     ]
    }
   ],
   "source": [
    "class ParentClass:\n",
    "    def __init__(self, name):\n",
    "        self.name = name\n",
    "\n",
    "    def display_info(self):\n",
    "        print(f\"ParentClass - Name: {self.name}\")\n",
    "\n",
    "class ChildClass(ParentClass):\n",
    "    def __init__(self, name, age):\n",
    "        # Calling the constructor of the parent class using super()\n",
    "        super().__init__(name)\n",
    "        self.age = age\n",
    "\n",
    "    def display_info(self):\n",
    "        # Calling the method of the parent class using super()\n",
    "        super().display_info()\n",
    "        print(f\"ChildClass - Age: {self.age}\")\n",
    "\n",
    "# Creating an instance of the child class\n",
    "child_obj = ChildClass(name=\"John\", age=25)\n",
    "\n",
    "# Accessing the methods and attributes of the parent class from the child class\n",
    "child_obj.display_info()\n"
   ]
  },
  {
   "cell_type": "markdown",
   "id": "f3226cf2",
   "metadata": {},
   "source": [
    "### `6. Discuss the use of the \"super()\" function in Python inheritance. When and why is it used? Provide an example.`"
   ]
  },
  {
   "cell_type": "markdown",
   "id": "0dfe439a-cc81-4afa-949d-b901609a60a0",
   "metadata": {},
   "source": [
    "<b><p>The super() function in Python is used in the context of inheritance to refer to the parent class and invoke its methods or access its attributes. It provides a way to delegate the call to a method or attribute to the parent class, allowing for the extension or customization of functionality in the child class while still utilizing the behavior of the parent class. The super() function is typically used in the following scenarios:\n",
    "\n",
    "1. Calling the Parent Class Constructor:\n",
    "\n",
    "    - When the child class has its own constructor (__init__ method) and you want to call the constructor of the parent class to initialize attributes inherited from the parent.\n",
    "\n",
    "2. Invoking Parent Class Methods:\n",
    "\n",
    "    - When the child class overrides a method of the parent class and you want to call the overridden method in addition to providing the specific behavior in the child class.\n",
    "\n",
    "3. Accessing Parent Class Attributes:\n",
    "\n",
    "    - When the child class has its own attributes and methods, and you want to access attributes or methods of the parent class without duplicating code.</b></p>"
   ]
  },
  {
   "cell_type": "code",
   "execution_count": 28,
   "id": "45d8732d-a4da-42c7-b64f-309aaf92bf04",
   "metadata": {},
   "outputs": [
    {
     "name": "stdout",
     "output_type": "stream",
     "text": [
      "Generic animal sound\n",
      "Bark bark!\n",
      "Canine - Breed: Golden Retriever\n"
     ]
    }
   ],
   "source": [
    "class Animal:\n",
    "    def __init__(self, species):\n",
    "        self.species = species\n",
    "\n",
    "    def make_sound(self):\n",
    "        print(\"Generic animal sound\")\n",
    "\n",
    "class Dog(Animal):\n",
    "    def __init__(self, species, breed):\n",
    "        # Calling the constructor of the parent class using super()\n",
    "        super().__init__(species)\n",
    "        self.breed = breed\n",
    "\n",
    "    def make_sound(self):\n",
    "        # Calling the overridden method of the parent class using super()\n",
    "        super().make_sound()\n",
    "        print(\"Bark bark!\")\n",
    "\n",
    "    def display_info(self):\n",
    "        # Accessing attributes of the parent class using super()\n",
    "        print(f\"{self.species} - Breed: {self.breed}\")\n",
    "\n",
    "# Creating an instance of the child class\n",
    "dog = Dog(species=\"Canine\", breed=\"Golden Retriever\")\n",
    "\n",
    "# Accessing methods and attributes using super()\n",
    "dog.make_sound()\n",
    "dog.display_info()\n"
   ]
  },
  {
   "cell_type": "markdown",
   "id": "c46ce276",
   "metadata": {},
   "source": [
    "### `7. Create a Python class called \"Animal\" with a method \"speak()\". Then, create child classes \"Dog\" and \"Cat\" that inherit from \"Animal\" and override the \"speak()\" method. Provide an example of using these classes.`\n"
   ]
  },
  {
   "cell_type": "code",
   "execution_count": 29,
   "id": "0b3cee37",
   "metadata": {},
   "outputs": [
    {
     "name": "stdout",
     "output_type": "stream",
     "text": [
      "Woof!\n",
      "Meow!\n"
     ]
    }
   ],
   "source": [
    "class Animal:\n",
    "    def speak(self):\n",
    "        raise NotImplementedError(\"Subclasses must implement the speak method\")\n",
    "\n",
    "class Dog(Animal):\n",
    "    def speak(self):\n",
    "        return \"Woof!\"\n",
    "\n",
    "class Cat(Animal):\n",
    "    def speak(self):\n",
    "        return \"Meow!\"\n",
    "\n",
    "# Example usage\n",
    "dog = Dog()\n",
    "cat = Cat()\n",
    "\n",
    "print(dog.speak())  # Output: Woof!\n",
    "print(cat.speak())  # Output: Meow!\n"
   ]
  },
  {
   "cell_type": "markdown",
   "id": "38c2d3a8",
   "metadata": {},
   "source": [
    "### `8. Explain the role of the \"isinstance()\" function in Python and how it relates to inheritance.`"
   ]
  },
  {
   "cell_type": "markdown",
   "id": "09fba791",
   "metadata": {},
   "source": [
    "<b><p>The isinstance() function in Python is used to check whether an object belongs to a particular class or a tuple of classes. It helps in determining the type of an object and is often used to check if an object is an instance of a specific class or any of its subclasses.\n",
    "\n",
    "In the context of inheritance, isinstance() is valuable for checking the inheritance hierarchy of an object. It allows you to verify if an object is an instance of a particular class or any of its derived classes, providing a way to perform conditional operations based on the type of an object.</b></p>"
   ]
  },
  {
   "cell_type": "code",
   "execution_count": 30,
   "id": "155ac99c",
   "metadata": {},
   "outputs": [
    {
     "name": "stdout",
     "output_type": "stream",
     "text": [
      "True\n",
      "True\n",
      "True\n"
     ]
    }
   ],
   "source": [
    "class Animal:\n",
    "    pass\n",
    "\n",
    "class Dog(Animal):\n",
    "    pass\n",
    "\n",
    "class Cat(Animal):\n",
    "    pass\n",
    "\n",
    "# Instances\n",
    "my_animal = Animal()\n",
    "my_dog = Dog()\n",
    "my_cat = Cat()\n",
    "\n",
    "# Using isinstance to check the type\n",
    "print(isinstance(my_animal, Animal))  # Output: True\n",
    "print(isinstance(my_dog, Animal))     # Output: True (since Dog is a subclass of Animal)\n",
    "print(isinstance(my_cat, Animal))     # Output: True (since Cat is a subclass of Animal)\n"
   ]
  },
  {
   "cell_type": "markdown",
   "id": "af5f6b31",
   "metadata": {},
   "source": [
    "### `9. What is the purpose of the `issubclass()` function in Python? Provide an example.`"
   ]
  },
  {
   "cell_type": "markdown",
   "id": "41aac083",
   "metadata": {},
   "source": [
    "<b><p>The issubclass() function in Python is used to check if a class is a subclass of another class. It helps determine the inheritance relationship between two classes. The function takes two arguments: the potential subclass and the potential superclass.\n",
    "\n",
    "This function is handy when you want to programmatically check the relationships between classes, especially in scenarios where you need to ensure that a certain class inherits from another before, for example, using its methods or attributes.</b></p>"
   ]
  },
  {
   "cell_type": "code",
   "execution_count": 31,
   "id": "58635e40",
   "metadata": {},
   "outputs": [
    {
     "name": "stdout",
     "output_type": "stream",
     "text": [
      "True\n",
      "True\n",
      "True\n"
     ]
    }
   ],
   "source": [
    "class Animal:\n",
    "    pass\n",
    "\n",
    "class Mammal(Animal):\n",
    "    pass\n",
    "\n",
    "class Dog(Mammal):\n",
    "    pass\n",
    "\n",
    "# Using issubclass to check the relationship between classes\n",
    "print(issubclass(Mammal, Animal))  # Output: True (Mammal is a subclass of Animal)\n",
    "print(issubclass(Dog, Animal))      # Output: True (Dog is a subclass of Animal)\n",
    "print(issubclass(Dog, Mammal))      # Output: True (Dog is a subclass of Mammal)\n"
   ]
  },
  {
   "cell_type": "markdown",
   "id": "8ef6fb1f",
   "metadata": {},
   "source": [
    "### `10. Discuss the concept of constructor inheritance in Python. How are constructors inherited in child classes?`"
   ]
  },
  {
   "cell_type": "markdown",
   "id": "293805b6",
   "metadata": {},
   "source": [
    "<b><p>Constructor inheritance in Python involves how the __init__ method (constructor) of a parent class is inherited by its child classes. When a child class is created, it can choose to inherit the constructor from its parent class or define its own constructor. If a child class defines its own constructor, it may or may not call the constructor of the parent class explicitly using super().__init__().</b></p>"
   ]
  },
  {
   "cell_type": "code",
   "execution_count": 32,
   "id": "65e1ac3a",
   "metadata": {},
   "outputs": [
    {
     "name": "stdout",
     "output_type": "stream",
     "text": [
      "Animal constructor called for Generic Animal\n",
      "Animal constructor called for Canine\n",
      "Dog constructor called for Labrador\n"
     ]
    }
   ],
   "source": [
    "class Animal:\n",
    "    def __init__(self, species):\n",
    "        self.species = species\n",
    "        print(f\"Animal constructor called for {self.species}\")\n",
    "\n",
    "class Dog(Animal):\n",
    "    def __init__(self, species, breed):\n",
    "        # Call the constructor of the parent class explicitly\n",
    "        super().__init__(species)\n",
    "        self.breed = breed\n",
    "        print(f\"Dog constructor called for {self.breed}\")\n",
    "\n",
    "# Creating instances\n",
    "my_animal = Animal(\"Generic Animal\")\n",
    "my_dog = Dog(\"Canine\", \"Labrador\")\n"
   ]
  },
  {
   "cell_type": "markdown",
   "id": "c0eb5475",
   "metadata": {},
   "source": [
    "### `11. Create a Python class called \"Shape\" with a method \"area()\" that calculates the area of a shape. Then, create child classes \"Circle\" and \"Rectangle\" that inherit from \"Shape\" and implement the \"area()\" method accordingly. Provide an example.`"
   ]
  },
  {
   "cell_type": "code",
   "execution_count": 33,
   "id": "7ce566a4",
   "metadata": {},
   "outputs": [
    {
     "name": "stdout",
     "output_type": "stream",
     "text": [
      "Area of the circle: 78.54\n",
      "Area of the rectangle: 24\n"
     ]
    }
   ],
   "source": [
    "import math\n",
    "\n",
    "class Shape:\n",
    "    def area(self):\n",
    "        pass  # This method will be overridden by subclasses\n",
    "\n",
    "class Circle(Shape):\n",
    "    def __init__(self, radius):\n",
    "        self.radius = radius\n",
    "\n",
    "    def area(self):\n",
    "        return math.pi * self.radius**2\n",
    "\n",
    "class Rectangle(Shape):\n",
    "    def __init__(self, length, width):\n",
    "        self.length = length\n",
    "        self.width = width\n",
    "\n",
    "    def area(self):\n",
    "        return self.length * self.width\n",
    "\n",
    "# Example usage\n",
    "circle = Circle(5)\n",
    "rectangle = Rectangle(4, 6)\n",
    "\n",
    "print(f\"Area of the circle: {circle.area():.2f}\")\n",
    "print(f\"Area of the rectangle: {rectangle.area()}\")\n",
    "\n",
    "\n",
    "        "
   ]
  },
  {
   "cell_type": "markdown",
   "id": "0e4f97e9",
   "metadata": {},
   "source": [
    "### 12. Explain the use of abstract base classes (ABCs) in Python and how they relate to inheritance. Provide an example using the `abc` module.\n"
   ]
  },
  {
   "cell_type": "markdown",
   "id": "c5e38fe5",
   "metadata": {},
   "source": [
    "Abstract Base Classes (ABCs) in Python are a way to define a common interface for a group of related classes. They serve as a blueprint that enforces certain methods to be implemented by the concrete (sub)classes. ABCs help ensure a consistent structure and behavior across a set of classes.\n",
    "\n",
    "In Python, the abc module provides tools for working with ABCs. The ABC class and the abstractmethod decorator are key components."
   ]
  },
  {
   "cell_type": "code",
   "execution_count": 34,
   "id": "d9fec1d6",
   "metadata": {},
   "outputs": [
    {
     "name": "stdout",
     "output_type": "stream",
     "text": [
      "Area of the circle: 78.50\n",
      "Area of the rectangle: 24\n"
     ]
    }
   ],
   "source": [
    "from abc import ABC, abstractmethod\n",
    "\n",
    "class Shape(ABC):\n",
    "    @abstractmethod\n",
    "    def area(self):\n",
    "        pass\n",
    "\n",
    "class Circle(Shape):\n",
    "    def __init__(self, radius):\n",
    "        self.radius = radius\n",
    "\n",
    "    def area(self):\n",
    "        return 3.14 * self.radius**2\n",
    "\n",
    "class Rectangle(Shape):\n",
    "    def __init__(self, length, width):\n",
    "        self.length = length\n",
    "        self.width = width\n",
    "\n",
    "    def area(self):\n",
    "        return self.length * self.width\n",
    "\n",
    "# Example usage\n",
    "circle = Circle(5)\n",
    "rectangle = Rectangle(4, 6)\n",
    "\n",
    "print(f\"Area of the circle: {circle.area():.2f}\")\n",
    "print(f\"Area of the rectangle: {rectangle.area()}\")\n"
   ]
  },
  {
   "cell_type": "markdown",
   "id": "1752825e",
   "metadata": {},
   "source": [
    "### 13. How can you prevent a child class from modifying certain attributes or methods inherited from a parent class in Python?\n"
   ]
  },
  {
   "cell_type": "markdown",
   "id": "948a8777",
   "metadata": {},
   "source": [
    "In Python, you can prevent a child class from modifying certain attributes or methods inherited from a parent class by using encapsulation and access modifiers. The key is to mark the attributes or methods as private or protected, making it clear that they are not intended to be modified by external classes.\n",
    "\n",
    "Here are a couple of approaches:\n",
    "\n",
    "1. Using a Single Underscore (_):\n",
    "By convention, a single leading underscore indicates that a method or attribute is intended to be protected. While it doesn't actually prevent access, it signals to other developers that they should not modify it.\n",
    "\n",
    "2. Using Double Underscore (Name Mangling):\n",
    "You can use double underscores to implement a form of name mangling, making the attribute or method harder to access from outside the class."
   ]
  },
  {
   "cell_type": "code",
   "execution_count": 35,
   "id": "170d468d",
   "metadata": {},
   "outputs": [
    {
     "name": "stdout",
     "output_type": "stream",
     "text": [
      "This can be accessed but should not be modified\n"
     ]
    }
   ],
   "source": [
    "# 1. Using a Single Underscore (_):\n",
    "\n",
    "class Parent:\n",
    "    def __init__(self):\n",
    "        self._protected_attribute = \"This can be accessed but should not be modified\"\n",
    "\n",
    "class Child(Parent):\n",
    "    def __init__(self):\n",
    "        super().__init__()\n",
    "\n",
    "# Example usage\n",
    "child = Child()\n",
    "print(child._protected_attribute)  # Access is allowed\n"
   ]
  },
  {
   "cell_type": "code",
   "execution_count": 36,
   "id": "fa250f3a",
   "metadata": {},
   "outputs": [],
   "source": [
    "#2. Using Double Underscore (Name Mangling):\n",
    "\n",
    "class Parent:\n",
    "    def __init__(self):\n",
    "        self.__private_attribute = \"This should not be modified\"\n",
    "\n",
    "class Child(Parent):\n",
    "    def __init__(self):\n",
    "        super().__init__()\n",
    "\n",
    "# Example usage\n",
    "child = Child()\n",
    "# Accessing the attribute directly will raise an AttributeError\n",
    "# print(child.__private_attribute)  # Uncommenting this line will result in an error\n"
   ]
  },
  {
   "cell_type": "markdown",
   "id": "28ae91cc",
   "metadata": {},
   "source": [
    "### 14. Create a Python class called `Employee` with attributes `name` and `salary`. Then, create a child class `Manager` that inherits from `Employee` and adds an attribute `department`. Provide an example.\n"
   ]
  },
  {
   "cell_type": "code",
   "execution_count": 37,
   "id": "34499673",
   "metadata": {},
   "outputs": [
    {
     "name": "stdout",
     "output_type": "stream",
     "text": [
      "Employee Information:\n",
      "Name: John Doe\n",
      "Salary: $50000\n",
      "\n",
      "Manager Information:\n",
      "Name: Alice Smith\n",
      "Salary: $70000\n",
      "Department: Engineering\n"
     ]
    }
   ],
   "source": [
    "class Employee:\n",
    "    def __init__(self, name, salary):\n",
    "        self.name = name\n",
    "        self.salary = salary\n",
    "\n",
    "    def display_info(self):\n",
    "        print(f\"Name: {self.name}\\nSalary: ${self.salary}\")\n",
    "\n",
    "class Manager(Employee):\n",
    "    def __init__(self, name, salary, department):\n",
    "        # Call the constructor of the parent class\n",
    "        super().__init__(name, salary)\n",
    "        self.department = department\n",
    "\n",
    "    def display_info(self):\n",
    "        # Override the display_info method to include department\n",
    "        super().display_info()\n",
    "        print(f\"Department: {self.department}\")\n",
    "\n",
    "# Example usage\n",
    "employee = Employee(\"John Doe\", 50000)\n",
    "manager = Manager(\"Alice Smith\", 70000, \"Engineering\")\n",
    "\n",
    "print(\"Employee Information:\")\n",
    "employee.display_info()\n",
    "\n",
    "print(\"\\nManager Information:\")\n",
    "manager.display_info()\n"
   ]
  },
  {
   "cell_type": "markdown",
   "id": "1c50660a",
   "metadata": {},
   "source": [
    "### 15. Discuss the concept of method overloading in Python inheritance. How does it differ from method overriding?\n"
   ]
  },
  {
   "cell_type": "markdown",
   "id": "2c02061c",
   "metadata": {},
   "source": [
    "Method Overloading:\n",
    "\n",
    "Method overloading in Python refers to the ability to define multiple methods with the same name in the same class, but with different parameter lists. Python, unlike some other languages, does not support traditional method overloading where you can have multiple methods with the same name and different parameter types. However, you can achieve a form of overloading using default parameter values or variable-length argument lists."
   ]
  },
  {
   "cell_type": "code",
   "execution_count": 38,
   "id": "dcf73014",
   "metadata": {},
   "outputs": [
    {
     "name": "stdout",
     "output_type": "stream",
     "text": [
      "1\n",
      "3\n",
      "6\n"
     ]
    }
   ],
   "source": [
    "class Calculator:\n",
    "    def add(self, a, b=0, c=0):\n",
    "        return a + b + c\n",
    "\n",
    "# Example usage\n",
    "calc = Calculator()\n",
    "print(calc.add(1))       # Output: 1\n",
    "print(calc.add(1, 2))    # Output: 3\n",
    "print(calc.add(1, 2, 3)) # Output: 6\n"
   ]
  },
  {
   "cell_type": "markdown",
   "id": "89e6e71c",
   "metadata": {},
   "source": [
    "Method overriding occurs when a subclass provides a specific implementation for a method that is already defined in its superclass. It allows a subclass to provide a specialized version of a method while maintaining the same method signature as the superclass."
   ]
  },
  {
   "cell_type": "code",
   "execution_count": 39,
   "id": "c0ff1175",
   "metadata": {},
   "outputs": [
    {
     "name": "stdout",
     "output_type": "stream",
     "text": [
      "Woof! Woof!\n"
     ]
    }
   ],
   "source": [
    "class Animal:\n",
    "    def make_sound(self):\n",
    "        print(\"Some generic sound\")\n",
    "\n",
    "class Dog(Animal):\n",
    "    def make_sound(self):\n",
    "        print(\"Woof! Woof!\")\n",
    "\n",
    "# Example usage\n",
    "my_dog = Dog()\n",
    "my_dog.make_sound()  # Output: Woof! Woof!\n"
   ]
  },
  {
   "cell_type": "markdown",
   "id": "8b634abb",
   "metadata": {},
   "source": [
    "Differences:\n",
    "\n",
    "Purpose:\n",
    "\n",
    "Method overloading is about defining multiple methods with the same name but different parameter lists in the same class.\n",
    "Method overriding is about providing a specific implementation for a method in a subclass that is already defined in its superclass.\n",
    "Syntax:\n",
    "\n",
    "Method overloading in Python is achieved through default parameter values or variable-length argument lists.\n",
    "Method overriding involves redefining a method in the subclass with the same name and parameters as in the superclass.\n",
    "Number of Methods:\n",
    "\n",
    "Method overloading involves having multiple methods with the same name in the same class.\n",
    "Method overriding involves having a method in the superclass and providing a specific implementation in the subclass.\n",
    "In summary, method overloading is about having multiple methods with the same name in the same class, while method overriding is about providing a specific implementation for a method in a subclass that is already defined in its superclass."
   ]
  },
  {
   "cell_type": "markdown",
   "id": "ad237bd3",
   "metadata": {},
   "source": [
    "### 16. Explain the purpose of the `__init__()` method in Python inheritance and how it is utilized in child classes.\n"
   ]
  },
  {
   "cell_type": "markdown",
   "id": "5ccda383",
   "metadata": {},
   "source": [
    "The __init__() method in Python is a special method, also known as the constructor, that is automatically called when an object is created from a class. Its primary purpose is to initialize the attributes of the object. In the context of inheritance, the __init__() method plays a crucial role in initializing attributes both in the parent class and its child classes.\n",
    "\n",
    "1. Initialization in the Parent Class:\n",
    "In the parent class, the __init__() method is responsible for initializing the attributes specific to that class. It is called when an instance of the parent class is created.\n",
    "\n",
    "2. Inheritance and Super():\n",
    "When a child class is created, its __init__() method can call the __init__() method of the parent class using super().__init__() to ensure that the initialization logic of the parent class is executed.\n",
    "\n",
    "3. Initialization in Child Class:\n",
    "In addition to calling the parent class's __init__() method, the child class's __init__() method can initialize its own attributes."
   ]
  },
  {
   "cell_type": "code",
   "execution_count": 40,
   "id": "cc64a227",
   "metadata": {},
   "outputs": [
    {
     "name": "stdout",
     "output_type": "stream",
     "text": [
      "Animal constructor called for Tiger\n"
     ]
    }
   ],
   "source": [
    "# Initialization in the Parent Class:\n",
    "\n",
    "class Animal:\n",
    "    def __init__(self, species):\n",
    "        self.species = species\n",
    "        print(f\"Animal constructor called for {self.species}\")\n",
    "\n",
    "# Example usage\n",
    "my_animal = Animal(\"Tiger\")\n",
    "# Output: Animal constructor called for Tiger\n"
   ]
  },
  {
   "cell_type": "code",
   "execution_count": 41,
   "id": "a2b2a531",
   "metadata": {},
   "outputs": [
    {
     "name": "stdout",
     "output_type": "stream",
     "text": [
      "Animal constructor called for Canine\n",
      "Dog constructor called for Labrador\n"
     ]
    }
   ],
   "source": [
    "#  Inheritance and Super()\n",
    "\n",
    "class Dog(Animal):\n",
    "    def __init__(self, species, breed):\n",
    "        # Call the constructor of the parent class\n",
    "        super().__init__(species)\n",
    "        self.breed = breed\n",
    "        print(f\"Dog constructor called for {self.breed}\")\n",
    "\n",
    "# Example usage\n",
    "my_dog = Dog(\"Canine\", \"Labrador\")\n",
    "# Output:\n",
    "# Animal constructor called for Canine\n",
    "# Dog constructor called for Labrador"
   ]
  },
  {
   "cell_type": "code",
   "execution_count": 42,
   "id": "eb0021a5",
   "metadata": {},
   "outputs": [
    {
     "name": "stdout",
     "output_type": "stream",
     "text": [
      "Animal constructor called for Canine\n",
      "Dog constructor called for Labrador with Golden color\n"
     ]
    }
   ],
   "source": [
    "#  Initialization in Child Class\n",
    "\n",
    "class Dog(Animal):\n",
    "    def __init__(self, species, breed, color):\n",
    "        # Call the constructor of the parent class\n",
    "        super().__init__(species)\n",
    "        self.breed = breed\n",
    "        self.color = color\n",
    "        print(f\"Dog constructor called for {self.breed} with {self.color} color\")\n",
    "\n",
    "# Example usage\n",
    "my_dog = Dog(\"Canine\", \"Labrador\", \"Golden\")\n",
    "# Output:\n",
    "# Animal constructor called for Canine\n",
    "# Dog constructor called for Labrador with Golden color\n"
   ]
  },
  {
   "cell_type": "markdown",
   "id": "195fdc41",
   "metadata": {},
   "source": [
    "In summary, the __init__() method is used for initializing attributes in both the parent and child classes in the context of inheritance. It allows for proper initialization of the object's state, and using super() ensures that the initialization logic of the parent class is also executed."
   ]
  },
  {
   "cell_type": "markdown",
   "id": "7fd8766d",
   "metadata": {},
   "source": [
    "### 17. Create a Python class called `Bird` with a method `fly()`. Then, create child classes `Eagle` and `Sparrow` that inherit from `Bird` and implement the `fly()` method differently. Provide an example of using these classes.\n"
   ]
  },
  {
   "cell_type": "code",
   "execution_count": 43,
   "id": "0a68e4bd",
   "metadata": {},
   "outputs": [
    {
     "name": "stdout",
     "output_type": "stream",
     "text": [
      "The bird is flying\n",
      "The eagle is flying\n",
      "The sparrow is flying\n"
     ]
    }
   ],
   "source": [
    "class Bird:\n",
    "    def fly(self):\n",
    "        print(\"The bird is flying\")\n",
    "\n",
    "class Eagle(Bird):\n",
    "    def fly(self):\n",
    "        print(\"The eagle is flying\")\n",
    "\n",
    "class Sparrow(Bird):\n",
    "    def fly(self):\n",
    "        print(\"The sparrow is flying\")\n",
    "\n",
    "bird = Bird()\n",
    "bird.fly()\n",
    "\n",
    "eagle = Eagle()\n",
    "eagle.fly()\n",
    "\n",
    "sparrow = Sparrow()\n",
    "sparrow.fly()"
   ]
  },
  {
   "cell_type": "markdown",
   "id": "8015137c",
   "metadata": {},
   "source": [
    "### 18. What is the \"diamond problem\" in multiple inheritance, and how does Python address it?\n"
   ]
  },
  {
   "cell_type": "markdown",
   "id": "22825399-64bd-4122-a2c7-1a2ec8e49931",
   "metadata": {},
   "source": [
    "The \"diamond problem\" is a term used in the context of object-oriented programming and multiple inheritance. It refers to a potential ambiguity that can arise when a class inherits from two classes that have a common ancestor.\r\n",
    "\r\n",
    "Python addresses the diamond problem by using a method resolution order (MRO). The MRO defines the order in which base classes are considered when searching for a method or attribute in a class hierarchy. In Python, the C3 linearization algorithm is used to compute the MRO.  D\r\n"
   ]
  },
  {
   "cell_type": "code",
   "execution_count": 44,
   "id": "2749830b-ac85-4cfd-9574-87107df18186",
   "metadata": {},
   "outputs": [
    {
     "name": "stdout",
     "output_type": "stream",
     "text": [
      "(<class '__main__.D'>, <class '__main__.B'>, <class '__main__.C'>, <class '__main__.A'>, <class 'object'>)\n",
      "[<class '__main__.D'>, <class '__main__.B'>, <class '__main__.C'>, <class '__main__.A'>, <class 'object'>]\n"
     ]
    }
   ],
   "source": [
    "class A:\n",
    "    def foo(self):\n",
    "        print(\"A\")\n",
    "\n",
    "class B(A):\n",
    "    def foo(self):\n",
    "        print(\"B\")\n",
    "\n",
    "class C(A):\n",
    "    def foo(self):\n",
    "        print(\"C\")\n",
    "\n",
    "class D(B, C):\n",
    "    pass\n",
    "\n",
    "# Output the MRO\n",
    "print(D.__mro__)\n",
    "# or\n",
    "print(D.mro())\n"
   ]
  },
  {
   "cell_type": "markdown",
   "id": "386410db",
   "metadata": {},
   "source": [
    "### 19. Discuss the concept of \"is-a\" and \"has-a\" relationships in inheritance, and provide examples of each.\n"
   ]
  },
  {
   "cell_type": "markdown",
   "id": "e42f7935-0422-4640-8117-f4efc8811dad",
   "metadata": {},
   "source": [
    "\n",
    "The \"is-a\" and \"has-a\" relationships are concepts in object-oriented programming that describe the relationships between classes and objects.\r",
    "1. \n",
    "\r\n",
    "\"is-a\" Relationship:\r\n",
    "\r\n",
    "This relationship represents inheritance, where a class is a specialized version of another class.\r\n",
    "It's often described using phrases like \"a Dog is a Mammal\" or \"a Car is a Vehicle.\"\r\n",
    "Inheritance allows a subclass to inherit attributes and behaviors from a supe\n",
    "\n",
    "2. \"has-a\" Relationship:\r\n",
    "\r\n",
    "This relationship represents composition, where a class has another class as a part or component.\r\n",
    "It's often described using phrases like \"a Car has an Engine\" or \"a Person has a Address.\"\r\n",
    "Composition involves creating objects of one class within another class.rclass."
   ]
  },
  {
   "cell_type": "code",
   "execution_count": 45,
   "id": "ce335fe2-4728-4f93-b740-8004481796ed",
   "metadata": {},
   "outputs": [
    {
     "name": "stdout",
     "output_type": "stream",
     "text": [
      "Engine started.\n",
      "Car is moving.\n"
     ]
    }
   ],
   "source": [
    "# Example of \"is-a\" relationship\n",
    "class Vehicle:\n",
    "    def start_engine(self):\n",
    "        print(\"Engine started.\")\n",
    "\n",
    "class Car(Vehicle):\n",
    "    def drive(self):\n",
    "        print(\"Car is moving.\")\n",
    "\n",
    "# Car \"is-a\" Vehicle\n",
    "car = Car()\n",
    "car.start_engine()  # Inherited from Vehicle\n",
    "car.drive()        # Specific to Car\n",
    "\n",
    "\n",
    "# The \"is-a\" relationship is demonstrated through inheritance. The Car class is a subclass of the Vehicle class, and it inherits the start_engine method."
   ]
  },
  {
   "cell_type": "code",
   "execution_count": 46,
   "id": "0daeb560-40f6-43d4-bdb1-cef651b477bd",
   "metadata": {},
   "outputs": [
    {
     "name": "stdout",
     "output_type": "stream",
     "text": [
      "Engine started.\n"
     ]
    }
   ],
   "source": [
    "# Example of \"has-a\" relationship\n",
    "class Engine:\n",
    "    def start(self):\n",
    "        print(\"Engine started.\")\n",
    "\n",
    "class Car:\n",
    "    def __init__(self):\n",
    "        self.engine = Engine()  # Car \"has-a\" Engine\n",
    "\n",
    "    def drive(self):\n",
    "        self.engine.start()\n",
    "\n",
    "# Car \"has-a\" Engine\n",
    "car = Car()\n",
    "car.drive()  # Uses the Engine component\n",
    "\n",
    "# The \"has-a\" relationship is demonstrated through composition. \n",
    "#The Car class has an Engine object as a component, and it can delegate the start method of the engine."
   ]
  },
  {
   "cell_type": "markdown",
   "id": "dc5ae1e5",
   "metadata": {},
   "source": [
    "### 20. Create a Python class hierarchy for a university system. Start with a base class `Person` and create child classes `Student` and `Professor`, each with their own attributes and methods. Provide an example of using these classes in a university context.\n",
    "\n"
   ]
  },
  {
   "cell_type": "code",
   "execution_count": 47,
   "id": "5b0f04d7",
   "metadata": {},
   "outputs": [
    {
     "name": "stdout",
     "output_type": "stream",
     "text": [
      "Hello, my name is Alice and I am 20 years old.\n",
      "Alice is studying hard.\n",
      "Hello, my name is Dr. Smith and I am 45 years old.\n",
      "Professor Dr. Smith is teaching a class.\n"
     ]
    }
   ],
   "source": [
    "class Person:\n",
    "    def __init__(self, name, age):\n",
    "        self.name = name\n",
    "        self.age = age\n",
    "\n",
    "    def introduce(self):\n",
    "        print(f\"Hello, my name is {self.name} and I am {self.age} years old.\")\n",
    "\n",
    "class Student(Person):\n",
    "    def __init__(self, name, age, student_id):\n",
    "        super().__init__(name, age)\n",
    "        self.student_id = student_id\n",
    "\n",
    "    def study(self):\n",
    "        print(f\"{self.name} is studying hard.\")\n",
    "\n",
    "class Professor(Person):\n",
    "    def __init__(self, name, age, employee_id):\n",
    "        super().__init__(name, age)\n",
    "        self.employee_id = employee_id\n",
    "\n",
    "    def teach(self):\n",
    "        print(f\"Professor {self.name} is teaching a class.\")\n",
    "\n",
    "# Example usage:\n",
    "student = Student(\"Alice\", 20, \"S12345\")\n",
    "professor = Professor(\"Dr. Smith\", 45, \"P98765\")\n",
    "\n",
    "student.introduce()  # Output: Hello, my name is Alice and I am 20 years old.\n",
    "student.study()      # Output: Alice is studying hard.\n",
    "\n",
    "professor.introduce()  # Output: Hello, my name is Dr. Smith and I am 45 years old.\n",
    "professor.teach()      # Output: Professor Dr. Smith is teaching a class.\n"
   ]
  },
  {
   "cell_type": "markdown",
   "id": "62489063",
   "metadata": {},
   "source": [
    "## ENCAPSULATION"
   ]
  },
  {
   "cell_type": "markdown",
   "id": "c4a9310b",
   "metadata": {},
   "source": [
    "### 1. Explain the concept of encapsulation in Python. What is its role in object-oriented programming?\n"
   ]
  },
  {
   "cell_type": "markdown",
   "id": "476391f0-fd08-4623-9d8a-a222e0bb883a",
   "metadata": {},
   "source": [
    "Encapsulation is one of the fundamental principles of object-oriented programming (OOP), and it refers to the bundling of data (attributes) and methods (functions) that operate on the data into a single unit known as a class. The idea is to hide the internal details of the object and only expose a well-defined interface to the outside world.\n",
    "\n",
    "In Python, encapsulation is implemented using private and public access modifiers:\n",
    "\n",
    "1. Public Members:\n",
    "\n",
    "Public members (attributes and methods) are accessible from outside the class.\n",
    "They can be accessed using the dot notation.\n",
    "<br>\n",
    "\n",
    "2. Private Members:<br>\n",
    "\n",
    "Private members are denoted by a double underscore __ before the member name.\n",
    "They are not accessible from outside the class.\n",
    "<br><br>"
   ]
  },
  {
   "cell_type": "markdown",
   "id": "5888e999-f79f-40f7-93f3-599d7a972194",
   "metadata": {},
   "source": [
    "<b>The role of encapsulation in object-oriented programming includes:<b><br>\n",
    "<br>\n",
    "- Data Hiding:<br>\n",
    "Encapsulation hides the internal details and implementation of a class from the outside world.\n",
    "It allows the developer to control access to the data and prevents unintended modifications.\n",
    "<br>\n",
    "- Modularity:<br>\n",
    "Encapsulation promotes modularity by organizing the code into self-contained units (classes).\n",
    "Each class can be developed, tested, and maintained independently, enhancing code organization and readability.\n",
    "<br>\n",
    "- Abstraction:<br>\n",
    "By exposing a well-defined interface while hiding the implementation details, encapsulation enables abstraction.\n",
    "Users of a class only need to know how to use the public interface without worrying about the internal workings.\n",
    "<br>\n",
    "- Flexibility and Maintainability:<br>\n",
    "Encapsulation makes it easier to modify the internal implementation of a class without affecting the external code that uses it.\n",
    "It promotes code maintainability and reduces the risk of unintended side effects when making changes.\n",
    "<br>\n",
    "In summary, encapsulation in Python and OOP provides a mechanism to bundle data and methods, control access to them, and promote a clean and modular design. It contributes to the principles of abstraction, data hiding, and code organization, making code more maintainable and scalable."
   ]
  },
  {
   "cell_type": "code",
   "execution_count": 48,
   "id": "3662191e-7d35-480b-931b-a5e64fabbf38",
   "metadata": {},
   "outputs": [
    {
     "name": "stdout",
     "output_type": "stream",
     "text": [
      "I am public!\n"
     ]
    }
   ],
   "source": [
    "# Private Members\n",
    "\n",
    "class MyClass:\n",
    "    def __init__(self):\n",
    "        self.public_member = \"I am public!\"\n",
    "\n",
    "obj = MyClass()\n",
    "print(obj.public_member)  # Accessing a public member\n"
   ]
  },
  {
   "cell_type": "code",
   "execution_count": 49,
   "id": "e268e1e6-7061-4942-8321-727aa6abf8e0",
   "metadata": {},
   "outputs": [],
   "source": [
    "# Private Members\n",
    "\n",
    "class MyClass:\n",
    "    def __init__(self):\n",
    "        self.__private_member = \"I am private!\"\n",
    "\n",
    "obj = MyClass()\n",
    "# This will result in an AttributeError\n",
    "# print(obj.__private_member)\n"
   ]
  },
  {
   "cell_type": "markdown",
   "id": "50904b66",
   "metadata": {},
   "source": [
    "### 2. Describe the key principles of encapsulation, including access control and data hiding.\n"
   ]
  },
  {
   "cell_type": "markdown",
   "id": "d1bf5378-ce3e-480d-8a75-b3c153ac55c2",
   "metadata": {},
   "source": [
    "Encapsulation is a key principle in object-oriented programming (OOP) that involves bundling data (attributes) and methods (functions) that operate on the data into a single unit known as a class. The key principles of encapsulation include access control and data hiding:\n",
    "\n",
    "1. <b>Access Control:<b>\n",
    "    - Access control defines the visibility of class members (attributes and methods) from outside the class.\n",
    "    - It determines which parts of a class are accessible and modifiable by external code.\n",
    "\n",
    "    - <b>Public Members:</b>\n",
    "        - Public members are accessible from outside the class.\n",
    "        - They can be accessed using the dot notation.\n",
    "     \n",
    "   - <b>Private Members:</b>\n",
    "       - Private members are denoted by a double underscore __ before the member name.\n",
    "       - They are not accessible from outside the class.\n",
    "         \n",
    "2. <b>Data Hiding:</b>\n",
    "\n",
    "    - Data hiding is a form of encapsulation that involves restricting direct access to certain class members.\n",
    "    - It aims to protect the internal representation of the object and ensures that it can only be modified through well-defined methods.\n",
    "      \n",
    "   - <b>Public Interface</b>\n",
    "       - The public interface consists of the methods and attributes that are intended to be used by external code.\n",
    "       - It defines how external code interacts with the object.\n",
    "\n",
    "    \n",
    "   - <b> Private Implementation:</b>\n",
    "       - The internal details of the class are kept private and hidden from external code.\n",
    "       - External code interacts with the object only through the public interface.\n",
    "      \n",
    "By adhering to the principles of access control and data hiding, encapsulation promotes a clear separation between the external interface of a class and its internal implementation. This separation enhances code maintainability, readability, and flexibility, as internal details can be modified without affecting external code."
   ]
  },
  {
   "cell_type": "code",
   "execution_count": 50,
   "id": "b7f027f0-7d2a-4eda-99bd-c25adf4e7549",
   "metadata": {},
   "outputs": [
    {
     "name": "stdout",
     "output_type": "stream",
     "text": [
      "I am public!\n"
     ]
    }
   ],
   "source": [
    "# Access Control\n",
    "# Public Members\n",
    "\n",
    "class MyClass:\n",
    "    def __init__(self):\n",
    "        self.public_member = \"I am public!\"\n",
    "\n",
    "obj = MyClass()\n",
    "print(obj.public_member)  # Accessing a public member\n"
   ]
  },
  {
   "cell_type": "code",
   "execution_count": 51,
   "id": "201b4c61-79a2-4b68-b990-36455676ed4a",
   "metadata": {},
   "outputs": [],
   "source": [
    "# Access Control\n",
    "# Private Members\n",
    "\n",
    "class MyClass:\n",
    "    def __init__(self):\n",
    "        self.__private_member = \"I am private!\"\n",
    "\n",
    "obj = MyClass()\n",
    "# This will result in an AttributeError\n",
    "# print(obj.__private_member)\n"
   ]
  },
  {
   "cell_type": "code",
   "execution_count": 52,
   "id": "05e198bc-23c0-4936-86c2-8ee6dff8ab8d",
   "metadata": {},
   "outputs": [],
   "source": [
    "# Data Hiding\n",
    "# Public Interface\n",
    "\n",
    "class BankAccount:\n",
    "    def __init__(self, balance):\n",
    "        self.__balance = balance  # Private member\n",
    "\n",
    "    def get_balance(self):\n",
    "        return self.__balance  # Access through a method\n",
    "\n",
    "    def deposit(self, amount):\n",
    "        self.__balance += amount\n",
    "\n",
    "    def withdraw(self, amount):\n",
    "        if amount <= self.__balance:\n",
    "            self.__balance -= amount\n",
    "        else:\n",
    "            print(\"Insufficient funds.\")\n"
   ]
  },
  {
   "cell_type": "code",
   "execution_count": 53,
   "id": "4daffdab-6b12-4339-9f4b-26bdd9a33d41",
   "metadata": {},
   "outputs": [
    {
     "name": "stdout",
     "output_type": "stream",
     "text": [
      "1000\n"
     ]
    }
   ],
   "source": [
    "# Data Hiding\n",
    "# Private Implementation\n",
    "\n",
    "account = BankAccount(1000)\n",
    "print(account.get_balance())  # Accessing balance through a method\n",
    "account.withdraw(500)         # Modifying balance through a method\n"
   ]
  },
  {
   "cell_type": "markdown",
   "id": "9fcb983b",
   "metadata": {},
   "source": [
    "### 3. How can you achieve encapsulation in Python classes? Provide an example.\n"
   ]
  },
  {
   "cell_type": "markdown",
   "id": "ee97282e-6121-4644-aade-e63b86759b78",
   "metadata": {},
   "source": [
    "In Python, encapsulation is achieved through access modifiers and conventions. The access modifiers control the visibility of class members, and the naming conventions indicate the intended visibility of a member. Here's how you can achieve encapsulation in Python:\n",
    "\n",
    "1. Private Members:\n",
    "\n",
    "    - Use a double underscore __ before the member name to make it private.\n",
    "    - Private members are not directly accessible from outside the class.\n",
    "\n",
    "2. Public Members:\n",
    "\n",
    "    - Members without a leading underscore or double underscore are considered public.\n",
    "    - They are accessible from outside the class.\n",
    "\n",
    "3. Getter and Setter Methods:\n",
    "\n",
    "    - To provide controlled access to private members, use getter and setter methods.\n",
    "    - Getter methods allow reading the value, and setter methods allow modifying it."
   ]
  },
  {
   "cell_type": "code",
   "execution_count": 54,
   "id": "71b4e3b4-370a-4130-8dcf-44e272082830",
   "metadata": {},
   "outputs": [],
   "source": [
    "# Private Members\n",
    "\n",
    "class MyClass:\n",
    "    def __init__(self):\n",
    "        self.__private_member = \"I am private!\"\n",
    "\n",
    "obj = MyClass()\n",
    "# This will result in an AttributeError\n",
    "# print(obj.__private_member)\n"
   ]
  },
  {
   "cell_type": "code",
   "execution_count": 55,
   "id": "ea51d0af-5826-415b-bff3-7393a24e4961",
   "metadata": {},
   "outputs": [
    {
     "name": "stdout",
     "output_type": "stream",
     "text": [
      "I am public!\n"
     ]
    }
   ],
   "source": [
    "# Public Members\n",
    "\n",
    "class MyClass:\n",
    "    def __init__(self):\n",
    "        self.public_member = \"I am public!\"\n",
    "\n",
    "obj = MyClass()\n",
    "print(obj.public_member)  # Accessing a public member\n"
   ]
  },
  {
   "cell_type": "code",
   "execution_count": 56,
   "id": "f3303bcd-cb9a-4b9d-9b9d-0cedb38f1590",
   "metadata": {},
   "outputs": [
    {
     "name": "stdout",
     "output_type": "stream",
     "text": [
      "1000\n"
     ]
    }
   ],
   "source": [
    "# Getter and Setter Methods\n",
    "\n",
    "class BankAccount:\n",
    "    def __init__(self, balance):\n",
    "        self.__balance = balance\n",
    "\n",
    "    def get_balance(self):\n",
    "        return self.__balance\n",
    "\n",
    "    def set_balance(self, new_balance):\n",
    "        if new_balance >= 0:\n",
    "            self.__balance = new_balance\n",
    "        else:\n",
    "            print(\"Invalid balance.\")\n",
    "\n",
    "account = BankAccount(1000)\n",
    "print(account.get_balance())  # Accessing balance through a getter\n",
    "account.set_balance(1500)     # Modifying balance through a setter\n"
   ]
  },
  {
   "cell_type": "markdown",
   "id": "9166ea27",
   "metadata": {},
   "source": [
    "### 4. Discuss the difference between public, private, and protected access modifiers in Python.\n"
   ]
  },
  {
   "cell_type": "markdown",
   "id": "8c5063a7-55ca-4967-a264-9960088b51f1",
   "metadata": {},
   "source": [
    "In Python, access modifiers are used to control the visibility and accessibility of class members (attributes and methods). The three main access modifiers are public, private, and protected. Here's a brief overview of each:\n",
    "\n",
    "1. Public Access Modifier:\n",
    "\n",
    "    - Members without any leading underscore or double underscore are considered public.\n",
    "    - Public members are accessible from outside the class.\n",
    "  \n",
    "2. Private Access Modifier:\n",
    "    - Members with a double underscore __ prefix are considered private.\n",
    "    - Private members are not directly accessible from outside the class.\n",
    "  \n",
    "3. Protected Access Modifier:\n",
    "\n",
    "    - Members with a single leading underscore _ are considered protected (though it's more of a convention than a strict enforcement).\n",
    "   \n",
    "    - Protected members are not intended to be accessed from outside the class, but they can be accessed if needed."
   ]
  },
  {
   "cell_type": "code",
   "execution_count": 57,
   "id": "cc9c8bf5-8973-4167-af3f-63608a48f55b",
   "metadata": {},
   "outputs": [
    {
     "name": "stdout",
     "output_type": "stream",
     "text": [
      "I am public!\n"
     ]
    }
   ],
   "source": [
    "# Public Access Modifier\n",
    "\n",
    "class MyClass:\n",
    "    def __init__(self):\n",
    "        self.public_member = \"I am public!\"\n",
    "\n",
    "obj = MyClass()\n",
    "print(obj.public_member)  # Accessing a public member\n"
   ]
  },
  {
   "cell_type": "code",
   "execution_count": 58,
   "id": "5d2ed18f-12e5-4457-9fb4-6c677f5232d7",
   "metadata": {},
   "outputs": [],
   "source": [
    "# Private Access Modifier\n",
    "class MyClass:\n",
    "    def __init__(self):\n",
    "        self.__private_member = \"I am private!\"\n",
    "\n",
    "obj = MyClass()\n",
    "# This will result in an AttributeError\n",
    "# print(obj.__private_member)\n"
   ]
  },
  {
   "cell_type": "code",
   "execution_count": 59,
   "id": "d71670ff-e5ad-49df-8dd1-bf61b4b66b72",
   "metadata": {},
   "outputs": [
    {
     "name": "stdout",
     "output_type": "stream",
     "text": [
      "I am 'protected'.\n"
     ]
    }
   ],
   "source": [
    "# However, it's important to note that in Python, there is no strict enforcement of private members. They are name-mangled to include the class name, but they can still be accessed with some effort. The use of a single leading underscore is often used to indicate that a member should be treated as if it were private.\n",
    "\n",
    "class MyClass:\r\n",
    "    def __init__(self):\r\n",
    "        self._private_member = \"I am 'protected'.\"\r\n",
    "\r\n",
    "obj = MyClass()\r\n",
    "print(obj._private_member)  # Accessing a \"protected\" member\r\n"
   ]
  },
  {
   "cell_type": "code",
   "execution_count": 60,
   "id": "e1889d6e-2e07-42b7-b87a-acd1448db153",
   "metadata": {},
   "outputs": [
    {
     "name": "stdout",
     "output_type": "stream",
     "text": [
      "I am protected.\n"
     ]
    }
   ],
   "source": [
    "# Protected Access Modifier:\n",
    "class MyClass:\n",
    "    def __init__(self):\n",
    "        self._protected_member = \"I am protected.\"\n",
    "\n",
    "obj = MyClass()\n",
    "print(obj._protected_member)  # Accessing a protected member\n"
   ]
  },
  {
   "cell_type": "markdown",
   "id": "7d246aec-c81c-4bf9-934a-985455b81cea",
   "metadata": {},
   "source": [
    "In summary:\n",
    "\n",
    "- Public: Accessible from anywhere, inside or outside the class.\n",
    "- Private: Not directly accessible from outside the class. Name-mangled to include the class name, but can still be accessed with some effort.\n",
    "- Protected: Not intended for external use, but can be accessed if needed. Conventional, not enforced by the language.\n",
    "\n",
    "While Python provides these access modifiers, it also emphasizes the principle of \"we are all consenting adults here,\" trusting developers to follow conventions and not enforce strict access control."
   ]
  },
  {
   "cell_type": "markdown",
   "id": "e48d8ddc",
   "metadata": {},
   "source": [
    "### 5. Create a Python class called `Person` with a private attribute `__name`. Provide methods to get and set the name attribute.\n"
   ]
  },
  {
   "cell_type": "code",
   "execution_count": 61,
   "id": "6aeaec6a",
   "metadata": {},
   "outputs": [
    {
     "name": "stdout",
     "output_type": "stream",
     "text": [
      "John\n",
      "Jane\n"
     ]
    }
   ],
   "source": [
    "class Person:\n",
    "    def __init__(self, name):\n",
    "        self.__name = name  # Private attribute\n",
    "\n",
    "    def get_name(self):\n",
    "        return self.__name\n",
    "\n",
    "    def set_name(self, new_name):\n",
    "        self.__name = new_name\n",
    "\n",
    "# Example usage:\n",
    "person = Person(\"John\")\n",
    "\n",
    "# Accessing the private attribute using the getter method\n",
    "print(person.get_name())  # Output: John\n",
    "\n",
    "# Modifying the private attribute using the setter method\n",
    "person.set_name(\"Jane\")\n",
    "\n",
    "# Accessing the modified private attribute\n",
    "print(person.get_name())  # Output: Jane\n"
   ]
  },
  {
   "cell_type": "markdown",
   "id": "3878fb16-9f7b-4c33-b5b3-1509d7375fa9",
   "metadata": {},
   "source": [
    "In this example:\n",
    "\n",
    "- The __name attribute is declared as private by prefixing it with double underscores.\n",
    "- The get_name method is a getter method that allows external code to access the value of the private __name attribute.\n",
    "- The set_name method is a setter method that allows external code to modify the value of the private __name attribute.\n",
    "\n",
    "Using this approach, you can encapsulate the __name attribute and control access to it through well-defined methods."
   ]
  },
  {
   "cell_type": "markdown",
   "id": "60ac9cc4",
   "metadata": {},
   "source": [
    "### 6. Explain the purpose of getter and setter methods in encapsulation. Provide examples.\n"
   ]
  },
  {
   "cell_type": "markdown",
   "id": "38948a9f-f4bc-4958-9f06-253b2b891c9b",
   "metadata": {},
   "source": [
    "Getter and setter methods play a crucial role in encapsulation by providing controlled access to the private attributes of a class. They allow you to encapsulate the internal state of an object and define how external code can interact with and modify that state. Here's an explanation of the purpose of getter and setter methods, along with examples:\n",
    "\n",
    "- Getter Methods:\n",
    "    \n",
    "    - Purpose: Getter methods provide a way to retrieve the value of a private attribute from outside the class.\n",
    "\n",
    "- Setter Methods:\n",
    "\n",
    "    - Purpose: Setter methods provide a way to modify the value of a private attribute from outside the class, allowing controlled updates.\n",
    "\n",
    "\n",
    "The purpose of using getter and setter methods includes:\n",
    "\n",
    "- Encapsulation: The internal state of an object is encapsulated, and external code interacts with the object through well-defined methods, maintaining a clear separation between the implementation details and the public interface.\n",
    "\n",
    "- Controlled Access: By using getter and setter methods, you can control how external code accesses and modifies the private attributes. This allows you to enforce validation, perform additional operations, or add logic to ensure the integrity of the object's state.\n",
    "\n",
    "- Flexibility: The implementation details of the class can be modified or extended without affecting external code that relies on the public interface provided by the getter and setter methods.\n",
    "\n",
    "By incorporating getter and setter methods in your class design, you promote good encapsulation practices and ensure a more robust and maintainable codebase."
   ]
  },
  {
   "cell_type": "code",
   "execution_count": 62,
   "id": "5fa1a396-2a7e-4b7c-87ec-eccd5c2484d9",
   "metadata": {},
   "outputs": [
    {
     "name": "stdout",
     "output_type": "stream",
     "text": [
      "1000\n"
     ]
    }
   ],
   "source": [
    "# Getter Method\n",
    "\n",
    "class BankAccount:\n",
    "    def __init__(self, balance):\n",
    "        self.__balance = balance  # Private attribute\n",
    "\n",
    "    def get_balance(self):\n",
    "        return self.__balance  # Getter method\n",
    "\n",
    "account = BankAccount(1000)\n",
    "print(account.get_balance())  # Accessing balance through a getter\n"
   ]
  },
  {
   "cell_type": "code",
   "execution_count": 63,
   "id": "ceda6774-1d34-4782-bf89-8aca3332a7c3",
   "metadata": {},
   "outputs": [],
   "source": [
    "# Setter Method\n",
    "\n",
    "class BankAccount:\n",
    "    def __init__(self, balance):\n",
    "        self.__balance = balance  # Private attribute\n",
    "\n",
    "    def set_balance(self, new_balance):\n",
    "        if new_balance >= 0:\n",
    "            self.__balance = new_balance  # Setter method\n",
    "\n",
    "account = BankAccount(1000)\n",
    "account.set_balance(1500)  # Modifying balance through a setter\n"
   ]
  },
  {
   "cell_type": "markdown",
   "id": "b14bbfb6",
   "metadata": {},
   "source": [
    "### 7. What is name mangling in Python, and how does it affect encapsulation?\n"
   ]
  },
  {
   "cell_type": "markdown",
   "id": "e501b7ce-9a12-42c4-9e8d-1f0b3b67301d",
   "metadata": {},
   "source": [
    "Name mangling is a technique used in Python to make the names of attributes in a class more unique to avoid accidental name conflicts in subclasses. It involves adding a prefix to attribute names to make them less likely to be overridden in subclasses. This is achieved by prefixing the attribute name with a double underscore (__).\r\n",
    "\r\n",
    "In Python, when an identifier inside a class is prefixed with a double underscore, the interpreter performs name mangling by adding a prefix with the form _classname (where classname is the name of the class). This ensures that the attribute is still accessible from within the class, but its name is modified to avoid clashes in the global namespace and with attributes of other classes."
   ]
  },
  {
   "cell_type": "code",
   "execution_count": 64,
   "id": "1aeb4fff-8860-4ed3-9f3e-62b967ba782b",
   "metadata": {},
   "outputs": [
    {
     "name": "stdout",
     "output_type": "stream",
     "text": [
      "I am private.\n"
     ]
    }
   ],
   "source": [
    "class MyClass:\n",
    "    def __init__(self):\n",
    "        self.__private_attribute = \"I am private.\"\n",
    "\n",
    "obj = MyClass()\n",
    "\n",
    "# Attempting to access the private attribute directly results in an AttributeError\n",
    "# print(obj.__private_attribute)\n",
    "\n",
    "# However, name mangling allows access within the class using the mangled name\n",
    "print(obj._MyClass__private_attribute)  # Output: I am private.\n",
    "\n",
    "\n",
    "# In this example, __private_attribute is a private attribute in the MyClass class. \n",
    "# Attempting to access it directly from outside the class results in an AttributeError. \n",
    "# However, name mangling allows access using the mangled name _MyClass__private_attribute from outside the class."
   ]
  },
  {
   "cell_type": "markdown",
   "id": "1dc200e8-818e-4c23-aa3e-b90c878aca43",
   "metadata": {},
   "source": [
    "Effect on Encapsulation:\n",
    "\n",
    "1. Protection from Accidental Name Conflicts:\n",
    "\n",
    "    - Name mangling helps prevent accidental name conflicts, especially in large codebases or when dealing with multiple inheritance.\n",
    "    - It reduces the chances of unintentionally overriding attributes in subclasses.\n",
    "\n",
    "2. Encapsulation is Not Strictly Enforced:\n",
    "\n",
    "    - While name mangling provides a level of protection, it does not strictly enforce encapsulation.\n",
    "    - The mangled names can still be accessed from outside the class with a bit of effort.\n",
    "\n",
    "3. Conventions and Trust:\n",
    "\n",
    "    - Python relies on conventions and trusting developers to follow best practices.\n",
    "    - The use of a single leading underscore (e.g., _protected_attribute) is often used to indicate that an attribute should be treated as protected.\n",
    "\n",
    "\n",
    "In summary, name mangling in Python is a mechanism to make attribute names in a class more unique and less likely to clash with names in other classes. While it helps protect against accidental name conflicts, it doesn't provide strict encapsulation, and adherence to conventions is crucial for maintaining code integrity."
   ]
  },
  {
   "cell_type": "markdown",
   "id": "e8e28d88",
   "metadata": {},
   "source": [
    "### 8. Create a Python class called `BankAccount` with private attributes for the account balance (`__balance`) and account number (`__account_number`). Provide methods for depositing and withdrawing money.\n"
   ]
  },
  {
   "cell_type": "code",
   "execution_count": 65,
   "id": "de457f27",
   "metadata": {},
   "outputs": [
    {
     "name": "stdout",
     "output_type": "stream",
     "text": [
      "Balance: 1000\n",
      "Balance after deposit: 1500\n",
      "Balance after withdrawal: 1300\n"
     ]
    }
   ],
   "source": [
    "class BankAccount:\n",
    "    def __init__(self, account_number, initial_balance=0):\n",
    "        self.__account_number = account_number  # Private attribute\n",
    "        self.__balance = initial_balance  # Private attribute\n",
    "\n",
    "    def get_balance(self):\n",
    "        return self.__balance  # Getter method for balance\n",
    "\n",
    "    def deposit(self, amount):\n",
    "        if amount > 0:\n",
    "            self.__balance += amount\n",
    "\n",
    "    def withdraw(self, amount):\n",
    "        if amount > 0 and amount <= self.__balance:\n",
    "            self.__balance -= amount\n",
    "\n",
    "# Example usage:\n",
    "account = BankAccount(account_number=\"12345\", initial_balance=1000)\n",
    "\n",
    "# Accessing the private attributes using getter methods\n",
    "print(\"Balance:\", account.get_balance())  # Output: 1000\n",
    "\n",
    "# Depositing money\n",
    "account.deposit(500)\n",
    "print(\"Balance after deposit:\", account.get_balance())  # Output: 1500\n",
    "\n",
    "# Withdrawing money\n",
    "account.withdraw(200)\n",
    "print(\"Balance after withdrawal:\", account.get_balance())  # Output: 1300\n"
   ]
  },
  {
   "cell_type": "markdown",
   "id": "1e575bfd",
   "metadata": {},
   "source": [
    "### 9. Discuss the advantages of encapsulation in terms of code maintainability and security.\n"
   ]
  },
  {
   "cell_type": "markdown",
   "id": "09e8f122-82cb-44e2-8edd-40b514dd9e23",
   "metadata": {},
   "source": [
    "Encapsulation in object-oriented programming (OOP) offers several advantages, particularly in terms of code maintainability and security. Here's a discussion of these advantages:\n",
    "\n",
    "<u>Code Maintainability</u>\n",
    "\n",
    "1. Modularity:\n",
    "\n",
    "    - Encapsulation promotes modularity by bundling related data (attributes) and behaviors (methods) into a single unit (class).\n",
    "    - Each class becomes a self-contained module, making it easier to understand, modify, and maintain.\n",
    "\n",
    "2. Reduced Code Complexity:\n",
    "\n",
    "    - Encapsulation helps reduce code complexity by hiding the internal details of a class from external code.\n",
    "    - External code interacts with the object through a well-defined interface, avoiding the need to understand the intricate implementation details.\n",
    "\n",
    "3. Code Flexibility:\n",
    "\n",
    "    - Changes to the internal implementation of a class can be made without affecting the external code that uses the class.\n",
    "    - This flexibility allows for easier updates, refactoring, and enhancements to the codebase.\n",
    "\n",
    "4. Easier Debugging:\n",
    "\n",
    "    - Encapsulation isolates the internal state of an object, making it easier to locate and fix bugs.\n",
    "    - Debugging becomes more straightforward since you can focus on the specific class or module without being overwhelmed by the entire codebase.\n",
    "\n",
    "\n",
    "<u>Security</u>\n",
    "\n",
    "1. Controlled Access:\n",
    "\n",
    "    - Encapsulation provides controlled access to the internal state of an object through getter and setter methods.\n",
    "    - Access to private attributes is restricted, reducing the risk of unintentional modifications or misuse by external code.\n",
    "\n",
    "2. Information Hiding:\n",
    "\n",
    "    - Encapsulation enables information hiding by concealing the internal details of a class.\n",
    "    - This protects sensitive data and implementation details, making it harder for external code to access or manipulate them directly.\n",
    "\n",
    "3. Validation and Security Checks:\n",
    "\n",
    "   - Setter methods in encapsulated classes can include validation checks and security measures.\n",
    "   - This ensures that only valid and secure changes are made to the internal state, enhancing the overall security of the system.\n",
    "\n",
    "4. Code Integrity:\n",
    "\n",
    "    - Encapsulation helps maintain code integrity by enforcing a clear separation between the internal and external aspects of a class.\n",
    "    - It discourages direct manipulation of internal state, reducing the risk of unintended side effects and ensuring that the class operates as intended.\n",
    "\n",
    "\n",
    "In summary, encapsulation in OOP improves code maintainability by promoting modularity, reducing complexity, and providing flexibility for code updates. From a security perspective, encapsulation offers controlled access, information hiding, and the ability to implement validation and security checks, contributing to a more secure and robust software system."
   ]
  },
  {
   "cell_type": "markdown",
   "id": "30d75400",
   "metadata": {},
   "source": [
    "### 10. How can you access private attributes in Python? Provide an example demonstrating the use of name mangling.\n"
   ]
  },
  {
   "cell_type": "markdown",
   "id": "13ce4034-9852-4164-842f-ae91ec887692",
   "metadata": {},
   "source": [
    "In Python, private attributes can be accessed from outside the class using name mangling. While name mangling is not a strict security feature, it adds a level of complexity to accessing private attributes, making it more intentional and less prone to accidental interference. Name mangling involves prefixing the attribute name with a double underscore __, and the interpreter modifies the name by adding a prefix with the form _classname.\r\n",
    "\r\n",
    "Here's an example demonstrating how to access private attributes using name mangling:"
   ]
  },
  {
   "cell_type": "code",
   "execution_count": 66,
   "id": "e675b5f8-de6a-4d55-a494-96f16ffb5a39",
   "metadata": {},
   "outputs": [
    {
     "name": "stdout",
     "output_type": "stream",
     "text": [
      "I am private.\n"
     ]
    }
   ],
   "source": [
    "class MyClass:\n",
    "    def __init__(self):\n",
    "        self.__private_attribute = \"I am private.\"\n",
    "\n",
    "# Creating an instance of the class\n",
    "obj = MyClass()\n",
    "\n",
    "# Accessing the private attribute using name mangling\n",
    "# The private attribute __private_attribute is name-mangled to _MyClass__private_attribute\n",
    "print(obj._MyClass__private_attribute)  # Output: I am private.\n"
   ]
  },
  {
   "cell_type": "markdown",
   "id": "d0044574-a5db-4c75-bd80-e0c52451c5fc",
   "metadata": {},
   "source": [
    "In general, developers are expected to follow conventions and trust each other to maintain the integrity of the codebase. Strict security measures in terms of attribute access are not enforced by the language itself."
   ]
  },
  {
   "cell_type": "markdown",
   "id": "80f9bfec",
   "metadata": {},
   "source": [
    "### 11. Create a Python class hierarchy for a school system, including classes for students, teachers, and courses, and implement encapsulation principles to protect sensitive information.\n"
   ]
  },
  {
   "cell_type": "code",
   "execution_count": 67,
   "id": "6950a482",
   "metadata": {},
   "outputs": [
    {
     "name": "stdout",
     "output_type": "stream",
     "text": [
      "Student: Alice 18 S12345\n",
      "Teacher: Mr. Smith 35 T98765\n",
      "Course: CS101 Introduction to Computer Science\n"
     ]
    }
   ],
   "source": [
    "class Person:\n",
    "    def __init__(self, name, age):\n",
    "        self._name = name  # Protected attribute\n",
    "        self._age = age    # Protected attribute\n",
    "\n",
    "    def get_name(self):\n",
    "        return self._name\n",
    "\n",
    "    def get_age(self):\n",
    "        return self._age\n",
    "\n",
    "\n",
    "class Student(Person):\n",
    "    def __init__(self, name, age, student_id):\n",
    "        super().__init__(name, age)\n",
    "        self.__student_id = student_id  # Private attribute\n",
    "\n",
    "    def get_student_id(self):\n",
    "        return self.__student_id\n",
    "\n",
    "\n",
    "class Teacher(Person):\n",
    "    def __init__(self, name, age, employee_id):\n",
    "        super().__init__(name, age)\n",
    "        self.__employee_id = employee_id  # Private attribute\n",
    "\n",
    "    def get_employee_id(self):\n",
    "        return self.__employee_id\n",
    "\n",
    "\n",
    "class Course:\n",
    "    def __init__(self, course_code, course_name):\n",
    "        self._course_code = course_code  # Protected attribute\n",
    "        self.__course_name = course_name  # Private attribute\n",
    "\n",
    "    def get_course_code(self):\n",
    "        return self._course_code\n",
    "\n",
    "    def get_course_name(self):\n",
    "        return self.__course_name\n",
    "\n",
    "\n",
    "# Example usage:\n",
    "student = Student(name=\"Alice\", age=18, student_id=\"S12345\")\n",
    "teacher = Teacher(name=\"Mr. Smith\", age=35, employee_id=\"T98765\")\n",
    "course = Course(course_code=\"CS101\", course_name=\"Introduction to Computer Science\")\n",
    "\n",
    "# Accessing information through getter methods\n",
    "print(\"Student:\", student.get_name(), student.get_age(), student.get_student_id())\n",
    "print(\"Teacher:\", teacher.get_name(), teacher.get_age(), teacher.get_employee_id())\n",
    "print(\"Course:\", course.get_course_code(), course.get_course_name())\n"
   ]
  },
  {
   "cell_type": "markdown",
   "id": "aca77bfd",
   "metadata": {},
   "source": [
    "### 12. Explain the concept of property decorators in Python and how they relate to encapsulation.\n"
   ]
  },
  {
   "cell_type": "code",
   "execution_count": 68,
   "id": "ddd8d458-8755-4411-a817-087c881d0a3a",
   "metadata": {},
   "outputs": [],
   "source": [
    "# Property decorators in Python are a way to define getter, setter, and deleter methods \n",
    "#for class attributes, allowing you to control the access, modification, and deletion of \n",
    "# attribute values. Property decorators provide a more concise syntax for working with \n",
    "# these methods.\n",
    "\n",
    "# The 'property' decorator is used to create read-only properties, while '@property', \n",
    "# '@<attribute>.setter', and '@<attribute>.deleter' are used to define getter, setter, and\n",
    "# deleter methods, respectively."
   ]
  },
  {
   "cell_type": "code",
   "execution_count": 69,
   "id": "3099bab8-3c8e-4360-b699-e329c3a139b2",
   "metadata": {},
   "outputs": [
    {
     "name": "stdout",
     "output_type": "stream",
     "text": [
      "0\n"
     ]
    }
   ],
   "source": [
    "# Getter Method (@propert\n",
    "class MyClass:\n",
    "    def __init__(self):\n",
    "        self._value = 0\n",
    "\n",
    "    @property\n",
    "    def value(self):\n",
    "        return self._value\n",
    "\n",
    "obj = MyClass()\n",
    "print(obj.value)  # Accessing the attribute using the getter method\n"
   ]
  },
  {
   "cell_type": "markdown",
   "id": "ea7212ca-6a09-4e84-9bd9-d071cae3fb51",
   "metadata": {},
   "source": [
    "Encapsulation: The @property decorator allows you to create a read-only property without explicitly using a getter method. This encapsulates the attribute by providing controlled access."
   ]
  },
  {
   "cell_type": "code",
   "execution_count": 70,
   "id": "679b60b1-4f54-4900-9ac3-edcfef8b2497",
   "metadata": {},
   "outputs": [],
   "source": [
    "# Setter Method (@<attribute>.setter)\n",
    "\n",
    "class MyClass:\n",
    "    def __init__(self):\n",
    "        self._value = 0\n",
    "\n",
    "    @property\n",
    "    def value(self):\n",
    "        return self._value\n",
    "\n",
    "    @value.setter\n",
    "    def value(self, new_value):\n",
    "        if new_value >= 0:\n",
    "            self._value = new_value\n",
    "\n",
    "obj = MyClass()\n",
    "obj.value = 5  # Modifying the attribute using the setter method\n"
   ]
  },
  {
   "cell_type": "markdown",
   "id": "73d556a2-de27-4468-9779-9d78a58ec6af",
   "metadata": {},
   "source": [
    "Encapsulation: The @<attribute>.setter decorator allows you to define a setter method for the attribute, enforcing conditions or validation before modifying the attribute. This encapsulates the modification process."
   ]
  },
  {
   "cell_type": "code",
   "execution_count": 71,
   "id": "85a621e2-1018-428a-a82a-2ebe4ef4d90f",
   "metadata": {},
   "outputs": [
    {
     "name": "stdout",
     "output_type": "stream",
     "text": [
      "Deleting the attribute\n"
     ]
    }
   ],
   "source": [
    "# Delete Method\n",
    "class MyClass:\n",
    "    def __init__(self):\n",
    "        self._value = 0\n",
    "\n",
    "    @property\n",
    "    def value(self):\n",
    "        return self._value\n",
    "\n",
    "    @value.deleter\n",
    "    def value(self):\n",
    "        print(\"Deleting the attribute\")\n",
    "        del self._value\n",
    "\n",
    "obj = MyClass()\n",
    "del obj.value  # Deleting the attribute using the deleter method\n"
   ]
  },
  {
   "cell_type": "markdown",
   "id": "7007934d-c079-4ba2-b339-7c077e9fcc57",
   "metadata": {},
   "source": [
    "Encapsulation: The @<attribute>.deleter decorator allows you to define a deleter method for the attribute, providing a way to perform actions before or after the attribute is deleted. This encapsulates the deletion process.\n",
    "\n",
    "In summary, property decorators in Python, including @property, @<attribute>.setter, and @<attribute>.deleter, enhance encapsulation by providing a cleaner and more Pythonic way to define getter, setter, and deleter methods for class attributes. They allow you to control access, modification, and deletion of attribute values, promoting a more robust and encapsulated class design."
   ]
  },
  {
   "cell_type": "markdown",
   "id": "c35acc36",
   "metadata": {},
   "source": [
    "### 13. What is data hiding, and why is it important in encapsulation? Provide examples.\n"
   ]
  },
  {
   "cell_type": "markdown",
   "id": "0aa4ddbb-effb-401a-a691-23af873a19f1",
   "metadata": {},
   "source": [
    "Data hiding is a concept in object-oriented programming (OOP) that involves restricting direct access to the internal representation of an object, such as its attributes or implementation details. The idea is to hide the complexity and structure of the object's data, allowing controlled access and modification through well-defined methods. Data hiding is closely related to encapsulation and is a key principle in building maintainable and secure software.\n",
    "\n",
    "<b>Why is Data Hiding Important in Encapsulation?</b>\n",
    "\n",
    "1. Abstraction:\n",
    "\n",
    "    - Data hiding allows the creation of abstract interfaces for objects. Users of the class only need to know how to interact with the public methods, not the internal details.\n",
    "\n",
    "2. Security:\n",
    "\n",
    "    - By hiding the internal details, data hiding helps protect sensitive information from direct manipulation or unauthorized access.\n",
    "    - It prevents external code from directly modifying or reading the internal state of an object.\n",
    "\n",
    "3. Flexibility and Maintenance:\n",
    "\n",
    "    - Hiding the internal implementation details provides flexibility to modify or refactor the internal structure of a class without affecting the external code.\n",
    "    - It simplifies maintenance and reduces the risk of unintended consequences when making changes.\n",
    "\n",
    "4. Code Organization:\n",
    "\n",
    "    - Data hiding contributes to code organization by clearly separating the public interface of a class from its implementation details.\n",
    "    - It improves the readability of code by allowing developers to focus on the essential aspects of the class without being distracted by low-level details."
   ]
  },
  {
   "cell_type": "code",
   "execution_count": 72,
   "id": "f23814ef-1e76-493c-860f-33a4c8500b49",
   "metadata": {},
   "outputs": [
    {
     "name": "stdout",
     "output_type": "stream",
     "text": [
      "10\n"
     ]
    }
   ],
   "source": [
    "# without data hiding\n",
    "class WithoutDataHiding:\n",
    "    def __init__(self):\n",
    "        self.value = 0\n",
    "\n",
    "    def increment(self):\n",
    "        self.value += 1\n",
    "\n",
    "# External code can directly modify the internal state\n",
    "obj = WithoutDataHiding()\n",
    "obj.value = 10\n",
    "print(obj.value)  # Output: 10\n"
   ]
  },
  {
   "cell_type": "code",
   "execution_count": 73,
   "id": "bf8d3063-c58d-4633-8020-94f639064fd2",
   "metadata": {},
   "outputs": [
    {
     "name": "stdout",
     "output_type": "stream",
     "text": [
      "1\n"
     ]
    }
   ],
   "source": [
    "# with data hiding\n",
    "class WithDataHiding:\n",
    "    def __init__(self):\n",
    "        self.__value = 0  # Private attribute\n",
    "\n",
    "    def increment(self):\n",
    "        self.__value += 1\n",
    "\n",
    "    def get_value(self):\n",
    "        return self.__value\n",
    "\n",
    "# External code cannot directly modify the private attribute\n",
    "obj = WithDataHiding()\n",
    "# This would result in an AttributeError\n",
    "# obj.__value = 10\n",
    "\n",
    "# Accessing the attribute through a public method\n",
    "obj.increment()\n",
    "print(obj.get_value())  # Output: 1\n"
   ]
  },
  {
   "cell_type": "markdown",
   "id": "9395a62f",
   "metadata": {},
   "source": [
    "### 14. Create a Python class called `Employee` with private attributes for salary (`__salary`) and employee ID (`__employee_id`). Provide a method to calculate yearly bonuses.\n"
   ]
  },
  {
   "cell_type": "code",
   "execution_count": 74,
   "id": "6bd30fb3",
   "metadata": {},
   "outputs": [
    {
     "name": "stdout",
     "output_type": "stream",
     "text": [
      "Employee ID: E12345\n",
      "Salary: 50000\n",
      "Yearly Bonus (10%): $5000.00\n"
     ]
    }
   ],
   "source": [
    "class Employee:\n",
    "    def __init__(self, employee_id, salary):\n",
    "        self.__employee_id = employee_id  # Private attribute\n",
    "        self.__salary = salary  # Private attribute\n",
    "\n",
    "    def calculate_yearly_bonus(self, percentage):\n",
    "        \"\"\"\n",
    "        Calculate yearly bonus based on the specified percentage of the salary.\n",
    "        \n",
    "        Args:\n",
    "            percentage (float): Percentage of the salary for the bonus.\n",
    "        \n",
    "        Returns:\n",
    "            float: Yearly bonus amount.\n",
    "        \"\"\"\n",
    "        if 0 <= percentage <= 100:\n",
    "            bonus = (percentage / 100) * self.__salary\n",
    "            return bonus\n",
    "        else:\n",
    "            raise ValueError(\"Percentage should be between 0 and 100.\")\n",
    "\n",
    "    # Getter methods (optional)\n",
    "    def get_employee_id(self):\n",
    "        return self.__employee_id\n",
    "\n",
    "    def get_salary(self):\n",
    "        return self.__salary\n",
    "\n",
    "# Example usage:\n",
    "employee = Employee(employee_id=\"E12345\", salary=50000)\n",
    "\n",
    "# Accessing private attributes through getter methods (optional)\n",
    "print(\"Employee ID:\", employee.get_employee_id())\n",
    "print(\"Salary:\", employee.get_salary())\n",
    "\n",
    "# Calculating and displaying the yearly bonus\n",
    "bonus_percentage = 10  # 10% of the salary\n",
    "yearly_bonus = employee.calculate_yearly_bonus(percentage=bonus_percentage)\n",
    "print(f\"Yearly Bonus ({bonus_percentage}%): ${yearly_bonus:.2f}\")\n"
   ]
  },
  {
   "cell_type": "markdown",
   "id": "d638cd97",
   "metadata": {},
   "source": [
    "### 15. Discuss the use of accessors and mutators in encapsulation. How do they help maintain control over attribute access?\n"
   ]
  },
  {
   "cell_type": "markdown",
   "id": "d502d2ad-c29e-4cc3-b850-22709daeb49e",
   "metadata": {},
   "source": [
    "Accessors and mutators are methods used in encapsulation to control access to the attributes of a class. They help maintain control over attribute access by providing a well-defined interface for reading and modifying the internal state of an object.\n",
    "\n",
    "- <b>Accessors</b>\n",
    "    - Purpose: Accessors, also known as getter methods, provide read-only access to the private attributes of a class.\n",
    "\n",
    "    - Usage: They return the value of a private attribute, allowing external code to retrieve information without directly accessing the attribute.\n",
    " \n",
    "    - Benefits\n",
    "  \n",
    "        - Controlled Read Access: External code can access the private attribute only through the getter method, providing controlled and validated access.\n",
    "        - Abstraction: The internal details of the attribute can be abstracted, allowing changes to the implementation without affecting external code.\n",
    " \n",
    "- <b>Mutators</b>\n",
    "  \n",
    "    - Purpose: Mutators, also known as setter methods, provide a controlled way to modify the values of private attributes.\n",
    "\n",
    "    - Usage: They take a new value as an argument and update the internal state of the object.\n",
    " \n",
    "    - Benefits\n",
    "\n",
    "        - Controlled Write Access: External code can modify the private attribute only through the setter method, allowing validation and logic to be applied before the update.\n",
    "        - Encapsulation: The internal representation of the attribute is encapsulated, and changes can be made with minimal impact on external code.\n",
    "\n",
    "\n",
    "The use of accessors and mutators helps maintain control over attribute access, promoting encapsulation, and providing a clear and controlled interface for external code to interact with the object."
   ]
  },
  {
   "cell_type": "code",
   "execution_count": 75,
   "id": "52345200-4e15-45e8-b2fd-46276a06d3ec",
   "metadata": {},
   "outputs": [],
   "source": [
    "# Accessors\n",
    "class MyClass:\n",
    "    def __init__(self):\n",
    "        self.__private_attribute = \"I am private!\"\n",
    "\n",
    "    def get_private_attribute(self):\n",
    "        return self.__private_attribute\n"
   ]
  },
  {
   "cell_type": "code",
   "execution_count": 76,
   "id": "750d4b7d",
   "metadata": {},
   "outputs": [],
   "source": [
    "# Mutators\n",
    "class MyClass:\n",
    "    def __init__(self):\n",
    "        self.__private_attribute = \"I am private!\"\n",
    "\n",
    "    def set_private_attribute(self, new_value):\n",
    "        self.__private_attribute = new_value\n"
   ]
  },
  {
   "cell_type": "code",
   "execution_count": 77,
   "id": "12aad26f-cf7d-499c-8965-73361989853d",
   "metadata": {},
   "outputs": [
    {
     "name": "stdout",
     "output_type": "stream",
     "text": [
      "Initial Balance: 1000\n",
      "Balance after deposit: 1500\n",
      "Balance after withdrawal: 1300\n"
     ]
    }
   ],
   "source": [
    "# Combinig Accessors and Mutators\n",
    "\n",
    "class BankAccount:\n",
    "    def __init__(self, balance):\n",
    "        self.__balance = balance  # Private attribute\n",
    "\n",
    "    def get_balance(self):\n",
    "        return self.__balance  # Accessor method\n",
    "\n",
    "    def deposit(self, amount):\n",
    "        if amount > 0:\n",
    "            self.__balance += amount  # Mutator method\n",
    "\n",
    "    def withdraw(self, amount):\n",
    "        if 0 < amount <= self.__balance:\n",
    "            self.__balance -= amount  # Mutator method\n",
    "        else:\n",
    "            print(\"Invalid withdrawal amount.\")\n",
    "\n",
    "# Example usage:\n",
    "account = BankAccount(balance=1000)\n",
    "\n",
    "# Accessing the balance through the accessor method\n",
    "print(\"Initial Balance:\", account.get_balance())\n",
    "\n",
    "# Modifying the balance through the mutator methods\n",
    "account.deposit(500)\n",
    "print(\"Balance after deposit:\", account.get_balance())\n",
    "\n",
    "account.withdraw(200)\n",
    "print(\"Balance after withdrawal:\", account.get_balance())\n"
   ]
  },
  {
   "cell_type": "markdown",
   "id": "a636077d",
   "metadata": {},
   "source": [
    "### 16. What are the potential drawbacks or disadvantages of using encapsulation in Python?\n"
   ]
  },
  {
   "cell_type": "markdown",
   "id": "785ff7f5-b21c-4f0d-95ec-ee2b45dfae7e",
   "metadata": {},
   "source": [
    "While encapsulation in Python offers many benefits, there are also potential drawbacks or disadvantages to consider:\n",
    "\n",
    "1. Increased Complexity:\n",
    "\n",
    "    - Encapsulation can introduce additional layers of abstraction and complexity, especially when using getter and setter methods.\n",
    "    - For simple classes or small projects, the overhead of encapsulation may outweigh the benefits.\n",
    "\n",
    "2. Boilerplate Code:\n",
    "\n",
    "    - The need to write getter and setter methods can lead to more boilerplate code.\n",
    "    - This can be perceived as redundant, especially for attributes that don't require additional logic during access or modification.\n",
    "\n",
    "3. Less Flexibility:\n",
    "\n",
    "    - Strict encapsulation can limit flexibility, making it harder to modify the internal structure of a class without affecting external code.\n",
    "    - Projects that prioritize flexibility and dynamic behavior might find strict encapsulation less suitable.\n",
    "\n",
    "4. Performance Overhead:\n",
    "\n",
    "    - Accessing attributes through methods (getters and setters) rather than directly can introduce a slight performance overhead.\n",
    "    - In performance-critical applications, this overhead may be a concern.\n",
    "\n",
    "5. Increased Verbosity:\n",
    "\n",
    "    - Encapsulation may lead to increased verbosity in the code, making it longer and potentially harder to read, especially if there are many attributes in a class.\n",
    "\n",
    "6. False Sense of Security:\n",
    "\n",
    "    - Python does not enforce strict access control, and private attributes can still be accessed with effort.\n",
    "    - Developers might get a false sense of security, thinking that encapsulation provides absolute protection against unauthorized access.\n",
    "\n",
    "7. Learning Curve:\n",
    "\n",
    "    - For beginners or those new to the codebase, the concept of encapsulation and the use of accessors and mutators may introduce a learning curve.\n",
    "    - Understanding the need for these methods and their role in encapsulation can take time.\n",
    "\n",
    "8. Maintenance Challenges:\n",
    "\n",
    "    - Overuse of encapsulation, especially with extensive validation or logic in getters and setters, may introduce challenges during maintenance.\n",
    "    - Changing the internal implementation might require updating multiple methods and their usages.\n",
    "\n",
    "9. Trade-offs in Readability:\n",
    "\n",
    "    - While encapsulation can enhance code readability by abstracting away implementation details, it may also introduce extra indirection.\n",
    "    - Finding a balance between abstraction and readability is crucial.\n",
    "\n",
    "\n",
    "It's important to note that the drawbacks mentioned are not inherent flaws in encapsulation itself but considerations that developers should weigh based on the specific requirements of the project. In many cases, the benefits of encapsulation, such as improved maintainability, security, and code organization, outweigh these potential drawbacks."
   ]
  },
  {
   "cell_type": "markdown",
   "id": "07147536",
   "metadata": {},
   "source": [
    "### 17. Create a Python class for a library system that encapsulates book information, including titles, authors, and availability status.\n"
   ]
  },
  {
   "cell_type": "code",
   "execution_count": 78,
   "id": "997cf809",
   "metadata": {},
   "outputs": [
    {
     "name": "stdout",
     "output_type": "stream",
     "text": [
      "Book 1: The Great Gatsby by F. Scott Fitzgerald, Available: True\n",
      "Book 2: To Kill a Mockingbird by Harper Lee, Available: False\n",
      "Book 'The Great Gatsby' by F. Scott Fitzgerald has been borrowed.\n",
      "Book 'To Kill a Mockingbird' by Harper Lee has been returned.\n",
      "Book 1: Available: False\n",
      "Book 2: Available: True\n"
     ]
    }
   ],
   "source": [
    "class Book:\n",
    "    def __init__(self, title, author, available=True):\n",
    "        self.__title = title  # Private attribute\n",
    "        self.__author = author  # Private attribute\n",
    "        self.__available = available  # Private attribute\n",
    "\n",
    "    def get_title(self):\n",
    "        return self.__title  # Accessor method\n",
    "\n",
    "    def get_author(self):\n",
    "        return self.__author  # Accessor method\n",
    "\n",
    "    def is_available(self):\n",
    "        return self.__available  # Accessor method\n",
    "\n",
    "    def borrow_book(self):\n",
    "        if self.__available:\n",
    "            print(f\"Book '{self.__title}' by {self.__author} has been borrowed.\")\n",
    "            self.__available = False  # Mutator method\n",
    "        else:\n",
    "            print(f\"Sorry, the book '{self.__title}' is currently not available.\")\n",
    "\n",
    "    def return_book(self):\n",
    "        print(f\"Book '{self.__title}' by {self.__author} has been returned.\")\n",
    "        self.__available = True  # Mutator method\n",
    "\n",
    "# Example usage:\n",
    "book1 = Book(title=\"The Great Gatsby\", author=\"F. Scott Fitzgerald\")\n",
    "book2 = Book(title=\"To Kill a Mockingbird\", author=\"Harper Lee\", available=False)\n",
    "\n",
    "# Accessing book information through accessor methods\n",
    "print(f\"Book 1: {book1.get_title()} by {book1.get_author()}, Available: {book1.is_available()}\")\n",
    "print(f\"Book 2: {book2.get_title()} by {book2.get_author()}, Available: {book2.is_available()}\")\n",
    "\n",
    "# Borrowing and returning books\n",
    "book1.borrow_book()\n",
    "book2.return_book()\n",
    "\n",
    "# Checking availability after operations\n",
    "print(f\"Book 1: Available: {book1.is_available()}\")\n",
    "print(f\"Book 2: Available: {book2.is_available()}\")\n"
   ]
  },
  {
   "cell_type": "markdown",
   "id": "83aa7e79",
   "metadata": {},
   "source": [
    "### 18. Explain how encapsulation enhances code reusability and modularity in Python programs.\n"
   ]
  },
  {
   "cell_type": "markdown",
   "id": "93088452-5f47-483d-bec0-6dac8500a055",
   "metadata": {},
   "source": [
    "Encapsulation enhances code reusability and modularity in Python programs by promoting a clear separation between the internal implementation details of a class and its public interface. This separation allows for more flexible and maintainable code, and it brings several benefits:\n",
    "\n",
    "1. Modularity:\n",
    "\n",
    "    - Encapsulation encourages the creation of modular code by bundling related data and behavior into self-contained units (classes).\n",
    "    - Each class becomes a module with a well-defined interface, making it easier to understand, use, and modify independently of other modules.\n",
    "\n",
    "2. Reduced Dependency:\n",
    "\n",
    "    - Encapsulation reduces the dependencies between different parts of the code by limiting access to the internal details of a class.\n",
    "    - External code interacts with the object through a well-defined set of methods, minimizing the impact of changes to the internal implementation.\n",
    "\n",
    "3. Code Isolation:\n",
    "\n",
    "    - Encapsulation isolates the internal state of an object, protecting it from direct manipulation by external code.\n",
    "    - Changes to the internal implementation of a class have minimal impact on external code, promoting code isolation.\n",
    "\n",
    "4. Reusability of Components:\n",
    "\n",
    "    - Encapsulation allows for the creation of reusable components (classes) that can be easily integrated into different parts of a program or across projects.\n",
    "    - The public interface of a class serves as a contract, defining how other components can interact with it.\n",
    "\n",
    "5. Ease of Maintenance:\n",
    "\n",
    "    - With encapsulation, modifications to the internal implementation of a class are less likely to introduce unintended side effects in other parts of the code.\n",
    "    - Maintenance becomes more straightforward as changes can be localized to the class in question without affecting the entire codebase.\n",
    "\n",
    "6. Flexibility in Implementation:\n",
    "\n",
    "    - Encapsulation provides the flexibility to change the internal implementation of a class without affecting external code.\n",
    "    - As long as the public interface remains consistent, developers can improve or optimize the class without breaking existing functionality.\n",
    "\n",
    "7. Encapsulation of Complexity:\n",
    "\n",
    "    - Complex logic or algorithms can be encapsulated within a class, exposing only the essential methods and properties needed for external code.\n",
    "    - This encapsulation helps manage complexity and provides a clear abstraction for users of the class.\n",
    "\n",
    "8. Enhanced Collaboration:\n",
    "\n",
    "    - Encapsulation fosters collaboration among developers by providing a well-defined contract for how classes should be used.\n",
    "    - Team members can work on different modules or classes independently, knowing that changes to one module are less likely to impact others.\n",
    "\n",
    "9. Enhanced Readability:\n",
    "\n",
    "    - A well-encapsulated class provides a clear and readable public interface, making it easier for other developers to understand how to use the class.\n",
    "    - Internal details are abstracted away, allowing developers to focus on high-level functionality.\n",
    "\n",
    "In summary, encapsulation promotes modular, reusable, and maintainable code by encapsulating the internal state of objects and exposing a well-defined public interface. This approach enhances code organization, readability, and flexibility, contributing to the overall quality and longevity of a Python program."
   ]
  },
  {
   "cell_type": "markdown",
   "id": "4a033ba3",
   "metadata": {},
   "source": [
    "### 19. Describe the concept of information hiding in encapsulation. Why is it essential in software development?\n"
   ]
  },
  {
   "cell_type": "markdown",
   "id": "53eed157-3d57-4c6d-aa53-57fb0c981d77",
   "metadata": {},
   "source": [
    "Information hiding is a concept in encapsulation that involves restricting access to certain details or implementation aspects of an object and exposing only what is necessary for the outside world to interact with the object. In other words, it is about hiding the internal workings and complexities of an object and exposing a well-defined interface.\n",
    "\n",
    "Key aspects of information hiding in encapsulation:\n",
    "\n",
    "1. Private Implementation:\n",
    "\n",
    "    - Encapsulation allows the definition of private attributes and methods within a class. These private elements are not directly accessible from outside the class.\n",
    "\n",
    "2. Access Control:\n",
    "\n",
    "    - Access modifiers, such as public, private, and protected, are used to control the visibility of attributes and methods.\n",
    "    - Public: Accessible from anywhere.\n",
    "    - Private: Accessible only within the class.\n",
    "    - Protected: Accessible within the class and its subclasses.\n",
    "\n",
    "3. Exposed Interface:\n",
    "\n",
    "    - Encapsulation encourages the definition of a well-defined and minimal interface that exposes only the essential functionalities to the outside world.\n",
    "    - The exposed interface is a contract that specifies how external code can interact with the object.\n",
    "\n",
    "4. Reduced Dependency:\n",
    "\n",
    "    - Information hiding reduces the dependency of external code on the internal implementation details of an object.\n",
    "    - External code can use the object based on its public interface without being affected by changes in the internal implementation.\n",
    "\n",
    "5. Encapsulation of State:\n",
    "\n",
    "    - The internal state of an object is encapsulated, meaning that the details of how the state is stored and manipulated are hidden from external code.\n",
    "    - Access to the state is controlled through methods, allowing for validation, consistency, and security.\n",
    "\n",
    "Why is information hiding essential in software development?\n",
    "\n",
    "1. Modularity:\n",
    "    \n",
    "    - Information hiding promotes modularity by breaking down a system into smaller, self-contained components (classes).\n",
    "    - Each class encapsulates its implementation details, making it a modular and independent unit.\n",
    "\n",
    "2. Ease of Maintenance:\n",
    "\n",
    "    - Hiding implementation details reduces the impact of changes within a class on the rest of the system.\n",
    "    - It makes the system more maintainable by localizing modifications to specific components.\n",
    "\n",
    "3. Security:\n",
    "\n",
    "    - Information hiding enhances security by controlling access to sensitive data and implementation details.\n",
    "    - Private attributes and methods are not directly accessible from outside the class, providing a level of security.\n",
    "\n",
    "4. Abstraction:\n",
    "\n",
    "    - Information hiding allows the creation of abstract data types where the internal details are abstracted away, and only the essential aspects are exposed.\n",
    "    - Users of the class interact based on a conceptual understanding rather than low-level implementation.\n",
    "\n",
    "5. Reduced Code Coupling:\n",
    "\n",
    "    - Information hiding reduces code coupling by limiting the dependencies between different parts of the code.\n",
    "    - External code interacts with a class based on its public interface, and changes to the internal implementation do not affect the calling code.\n",
    "\n",
    "6. Code Reusability:\n",
    "\n",
    "    - Encapsulation, with information hiding, promotes code reusability. Users of a class can reuse it without being concerned about the internal details.\n",
    "    - Components are more versatile and can be integrated into different contexts.\n",
    "\n",
    "7. Scalability:\n",
    "\n",
    "    - Information hiding supports scalability by allowing new features to be added or modifications to be made within a class without affecting other parts of the system.\n",
    "    - The system can grow in complexity without compromising its stability.\n",
    "\n",
    "In summary, information hiding in encapsulation is essential for creating maintainable, secure, and modular software. It enables the construction of robust systems by managing complexity, reducing dependencies, and providing a clear and controlled interface for external code."
   ]
  },
  {
   "cell_type": "markdown",
   "id": "d7a9fb45",
   "metadata": {},
   "source": [
    "### 20. Create a Python class called `Customer` with private attributes for customer details like name, address, and contact information. Implement encapsulation to ensure data integrity and security.\n",
    "\n"
   ]
  },
  {
   "cell_type": "code",
   "execution_count": 79,
   "id": "9741a2c7",
   "metadata": {},
   "outputs": [
    {
     "name": "stdout",
     "output_type": "stream",
     "text": [
      "Customer ID: C001\n",
      "Name: John Doe\n",
      "Address: 123 Main St\n",
      "Contact Number: 555-1234\n",
      "\n",
      "Updated Customer Details:\n",
      "Customer ID: C001\n",
      "Name: Jane Doe\n",
      "Address: 456 Oak St\n",
      "Contact Number: 555-5678\n"
     ]
    }
   ],
   "source": [
    "class Customer:\n",
    "    def __init__(self, customer_id, name, address, contact_number):\n",
    "        self._customer_id = customer_id  # protected attribute\n",
    "        self._name = name  # protected attribute\n",
    "        self._address = address  # protected attribute\n",
    "        self._contact_number = contact_number  # protected attribute\n",
    "\n",
    "    # Getter methods to access private attributes\n",
    "    def get_customer_id(self):\n",
    "        return self._customer_id\n",
    "\n",
    "    def get_name(self):\n",
    "        return self._name\n",
    "\n",
    "    def get_address(self):\n",
    "        return self._address\n",
    "\n",
    "    def get_contact_number(self):\n",
    "        return self._contact_number\n",
    "\n",
    "    # Setter methods to modify private attributes\n",
    "    def set_name(self, new_name):\n",
    "        self._name = new_name\n",
    "\n",
    "    def set_address(self, new_address):\n",
    "        self._address = new_address\n",
    "\n",
    "    def set_contact_number(self, new_contact_number):\n",
    "        self._contact_number = new_contact_number\n",
    "\n",
    "# Example usage:\n",
    "customer1 = Customer(customer_id=\"C001\", name=\"John Doe\", address=\"123 Main St\", contact_number=\"555-1234\")\n",
    "\n",
    "# Accessing customer details using getter methods\n",
    "print(\"Customer ID:\", customer1.get_customer_id())\n",
    "print(\"Name:\", customer1.get_name())\n",
    "print(\"Address:\", customer1.get_address())\n",
    "print(\"Contact Number:\", customer1.get_contact_number())\n",
    "\n",
    "# Modifying customer details using setter methods\n",
    "customer1.set_name(\"Jane Doe\")\n",
    "customer1.set_address(\"456 Oak St\")\n",
    "customer1.set_contact_number(\"555-5678\")\n",
    "\n",
    "# Displaying updated customer details\n",
    "print(\"\\nUpdated Customer Details:\")\n",
    "print(\"Customer ID:\", customer1.get_customer_id())\n",
    "print(\"Name:\", customer1.get_name())\n",
    "print(\"Address:\", customer1.get_address())\n",
    "print(\"Contact Number:\", customer1.get_contact_number())\n"
   ]
  },
  {
   "cell_type": "markdown",
   "id": "66766f53",
   "metadata": {},
   "source": [
    "## POLYMORPHISM"
   ]
  },
  {
   "cell_type": "markdown",
   "id": "bb3dc8ed",
   "metadata": {},
   "source": [
    "### 1. What is polymorphism in Python? Explain how it is related to object-oriented programming.\n",
    "\n"
   ]
  },
  {
   "cell_type": "markdown",
   "id": "21c69bf0-1a10-44e0-8d76-d672a0f744f8",
   "metadata": {},
   "source": [
    "Polymorphism is a fundamental concept in object-oriented programming (OOP) that allows objects of different types to be treated as objects of a common type. It enables a single interface to represent various types of objects and provides a mechanism to use them interchangeably.\n",
    "\n",
    "In Python, polymorphism is closely related to several OOP principles, including inheritance, method overriding, and interfaces. There are two main types of polymorphism: compile-time (or static) polymorphism and runtime (or dynamic) polymorphism.\n",
    "\n",
    "1. Compile-time Polymorphism:\n",
    "\n",
    "    - Also known as method overloading, this occurs when multiple methods in the same class have the same name but different parameter lists.\n",
    "    - Python, however, does not support true method overloading based on different parameter types. Instead, the last defined method with a given name in a class will override any previous methods with the same name.\n",
    "\n",
    "2. Runtime Polymorphism:\n",
    "\n",
    "    - Also known as method overriding and achieved through inheritance, this occurs when a method in a base class is overridden in its derived class.\n",
    "    - Python supports runtime polymorphism through the ability to override methods in subclasses.\n",
    "\n",
    "<b>Benefits of Polymorphism in Python</b>\n",
    "\n",
    "1. Flexibility and Extensibility:\n",
    "\n",
    "    - Polymorphism allows for more flexible and extensible code. New classes can be added without modifying existing code as long as they adhere to the common interface.\n",
    "\n",
    "2. Code Reusability:\n",
    "\n",
    "    - Polymorphism promotes code reusability by allowing a single interface to be used for various types of objects. This reduces redundancy and promotes modular design.\n",
    "\n",
    "3. Ease of Maintenance:\n",
    "\n",
    "    - When a change is needed, modifications can be localized to the specific classes without affecting the entire system, contributing to ease of maintenance.\n",
    "\n",
    "4. Improved Readability:\n",
    "\n",
    "    - Polymorphism enhances code readability by enabling a more natural and intuitive representation of real-world relationships between objects.\n",
    "\n",
    "Polymorphism, along with encapsulation, inheritance, and abstraction, is a key pillar of object-oriented programming, contributing to the creation of modular, maintainable, and scalable software systems."
   ]
  },
  {
   "cell_type": "code",
   "execution_count": 80,
   "id": "de41749a-dea7-4dd6-adbc-71f176514edf",
   "metadata": {},
   "outputs": [
    {
     "name": "stdout",
     "output_type": "stream",
     "text": [
      "5\n",
      "10\n"
     ]
    }
   ],
   "source": [
    "# Compile-time Polymorphism\n",
    "\n",
    "class MathOperations:\n",
    "    def add(self, *args):\n",
    "        return sum(args)\n",
    "\n",
    "# Example usage\n",
    "math_ops = MathOperations()\n",
    "result1 = math_ops.add(2, 3)       # Calls the add method with two arguments\n",
    "result2 = math_ops.add(2, 3, 5)    # Calls the add method with three arguments\n",
    "\n",
    "print(result1)  # Output: 5\n",
    "print(result2)  # Output: 10\n",
    "\n"
   ]
  },
  {
   "cell_type": "code",
   "execution_count": 81,
   "id": "6456ee30-7303-446c-9e35-684e42450aba",
   "metadata": {},
   "outputs": [
    {
     "name": "stdout",
     "output_type": "stream",
     "text": [
      "5\n",
      "10\n"
     ]
    }
   ],
   "source": [
    "class MathOperations:\n",
    "    def add(self, a, b, c=None):\n",
    "        if c is not None:\n",
    "            return a + b + c\n",
    "        else:\n",
    "            return a + b\n",
    "\n",
    "# Example usage\n",
    "math_ops = MathOperations()\n",
    "result1 = math_ops.add(2, 3)       # Calls the first add method\n",
    "result2 = math_ops.add(2, 3, 5)    # Calls the second add method\n",
    "\n",
    "print(result1)  # Output: 5\n",
    "print(result2)  # Output: 10\n"
   ]
  },
  {
   "cell_type": "code",
   "execution_count": 82,
   "id": "c9077bc1-025e-43bb-b702-2f72eee6ffc1",
   "metadata": {},
   "outputs": [
    {
     "name": "stdout",
     "output_type": "stream",
     "text": [
      "Woof!\n",
      "Meow!\n"
     ]
    }
   ],
   "source": [
    "# Runtime Polymorphism\n",
    "class Animal:\n",
    "    def make_sound(self):\n",
    "        return \"Generic animal sound\"\n",
    "\n",
    "class Dog(Animal):\n",
    "    def make_sound(self):\n",
    "        return \"Woof!\"\n",
    "\n",
    "class Cat(Animal):\n",
    "    def make_sound(self):\n",
    "        return \"Meow!\"\n",
    "\n",
    "# Example usage\n",
    "dog = Dog()\n",
    "cat = Cat()\n",
    "\n",
    "print(dog.make_sound())  # Calls Dog's make_sound method\n",
    "print(cat.make_sound())  # Calls Cat's make_sound method\n"
   ]
  },
  {
   "cell_type": "markdown",
   "id": "8a28a5ca",
   "metadata": {},
   "source": [
    "### 2. Describe the difference between compile-time polymorphism and runtime polymorphism in Python.\n"
   ]
  },
  {
   "cell_type": "markdown",
   "id": "9069ea44-b7f9-4a89-bc6c-7a723ed3ca3d",
   "metadata": {},
   "source": [
    "Compile-time polymorphism and runtime polymorphism are two types of polymorphism in Python, and they differ in when the binding of the method (or function) call is resolved.\n",
    "\n",
    "1. Compile-time Polymorphism (Method Overloading):\n",
    "\n",
    "    - Also known as method overloading, compile-time polymorphism occurs when multiple methods in the same class have the same name but different parameter lists.\n",
    "    - In Python, true compile-time polymorphism is not supported based on different parameter types (as in some statically-typed languages). Instead, the last defined method with a given name in a class will override any previous methods with the same name.\n",
    "\n",
    "2. Runtime Polymorphism (Method Overriding):\n",
    "\n",
    "    - Also known as method overriding, runtime polymorphism occurs when a method in a base class is overridden in its derived class. The method to be executed is determined at runtime based on the actual type of the object.\n",
    "    - In Python, runtime polymorphism is achieved through inheritance, where a subclass provides a specific implementation for a method defined in its superclass.\n",
    "\n",
    "<b>Key Differences</b>\n",
    "\n",
    "1. Timing of Resolution:\n",
    "\n",
    "    - Compile-time Polymorphism: Binding is resolved at compile-time based on the number and order of parameters in the method call.\n",
    "    - Runtime Polymorphism: Binding is resolved at runtime based on the actual type of the object.\n",
    "\n",
    "2. Mechanism:\n",
    "\n",
    "    - Compile-time Polymorphism: Achieved through method overloading, where methods with the same name have different parameter lists.\n",
    "    - Runtime Polymorphism: Achieved through method overriding, where a subclass provides a specific implementation for a method defined in its superclass.\n",
    "\n",
    "3. Flexibility:\n",
    "\n",
    "    - Compile-time Polymorphism: Less flexible as the method to be called is determined at compile-time.\n",
    "    - Runtime Polymorphism: More flexible as the method to be called is determined at runtime based on the actual type of the object.\n",
    "\n",
    "\n",
    "Both compile-time polymorphism and runtime polymorphism contribute to the flexibility and expressive power of object-oriented programming, allowing for more natural representation of real-world relationships between objects.\n"
   ]
  },
  {
   "cell_type": "code",
   "execution_count": 83,
   "id": "da272200-2a5b-4cf5-84bf-f9549014c6de",
   "metadata": {},
   "outputs": [
    {
     "name": "stdout",
     "output_type": "stream",
     "text": [
      "5\n",
      "10\n"
     ]
    }
   ],
   "source": [
    "# Compile-time Polymorphism (Method Overloading)\n",
    "class MathOperations:\n",
    "    def add(self, a, b, c=None):\n",
    "        if c is not None:\n",
    "            return a + b + c\n",
    "        else:\n",
    "            return a + b\n",
    "\n",
    "# Example usage\n",
    "math_ops = MathOperations()\n",
    "result1 = math_ops.add(2, 3)       # Calls the first add method\n",
    "result2 = math_ops.add(2, 3, 5)    # Calls the second add method\n",
    "\n",
    "print(result1)  # Output: 5\n",
    "print(result2)  # Output: 10\n",
    "\n"
   ]
  },
  {
   "cell_type": "code",
   "execution_count": 84,
   "id": "dc4ede09-1bcd-4004-bf84-42c48dfdf7eb",
   "metadata": {},
   "outputs": [
    {
     "name": "stdout",
     "output_type": "stream",
     "text": [
      "Woof!\n",
      "Meow!\n"
     ]
    }
   ],
   "source": [
    "# Runtime Polymorphism (Method Overriding)\n",
    "class Animal:\n",
    "    def make_sound(self):\n",
    "        return \"Generic animal sound\"\n",
    "\n",
    "class Dog(Animal):\n",
    "    def make_sound(self):\n",
    "        return \"Woof!\"\n",
    "\n",
    "class Cat(Animal):\n",
    "    def make_sound(self):\n",
    "        return \"Meow!\"\n",
    "\n",
    "# Example usage\n",
    "dog = Dog()\n",
    "cat = Cat()\n",
    "\n",
    "print(dog.make_sound())  # Calls Dog's make_sound method\n",
    "print(cat.make_sound())  # Calls Cat's make_sound method\n"
   ]
  },
  {
   "cell_type": "markdown",
   "id": "1849e6fc",
   "metadata": {},
   "source": [
    "### 3. Create a Python class hierarchy for shapes (e.g., circle, square, triangle) and demonstrate polymorphism through a common method, such as `calculate_area()`.\n"
   ]
  },
  {
   "cell_type": "code",
   "execution_count": 85,
   "id": "6bce4dd8",
   "metadata": {},
   "outputs": [
    {
     "name": "stdout",
     "output_type": "stream",
     "text": [
      "Area of Circle: 78.53981633974483\n",
      "Area of Square: 16\n",
      "Area of Triangle: 9.0\n"
     ]
    }
   ],
   "source": [
    "import math\n",
    "\n",
    "class Shape:\n",
    "    def calculate_area(self):\n",
    "        pass  # To be overridden by subclasses\n",
    "\n",
    "class Circle(Shape):\n",
    "    def __init__(self, radius):\n",
    "        self.radius = radius\n",
    "\n",
    "    def calculate_area(self):\n",
    "        return math.pi * self.radius ** 2\n",
    "\n",
    "class Square(Shape):\n",
    "    def __init__(self, side_length):\n",
    "        self.side_length = side_length\n",
    "\n",
    "    def calculate_area(self):\n",
    "        return self.side_length ** 2\n",
    "\n",
    "class Triangle(Shape):\n",
    "    def __init__(self, base, height):\n",
    "        self.base = base\n",
    "        self.height = height\n",
    "\n",
    "    def calculate_area(self):\n",
    "        return 0.5 * self.base * self.height\n",
    "\n",
    "# Example usage demonstrating polymorphism\n",
    "circle = Circle(radius=5)\n",
    "square = Square(side_length=4)\n",
    "triangle = Triangle(base=3, height=6)\n",
    "\n",
    "shapes = [circle, square, triangle]\n",
    "\n",
    "for shape in shapes:\n",
    "    print(f\"Area of {shape.__class__.__name__}: {shape.calculate_area()}\")\n"
   ]
  },
  {
   "cell_type": "markdown",
   "id": "52da2c2a",
   "metadata": {},
   "source": [
    "### 4. Explain the concept of method overriding in polymorphism. Provide an example.\n"
   ]
  },
  {
   "cell_type": "markdown",
   "id": "7a69358c-d1aa-4f42-826e-bef3f289db00",
   "metadata": {},
   "source": [
    "Method overriding is a concept in object-oriented programming where a subclass provides a specific implementation for a method that is already defined in its superclass. The overridden method in the subclass has the same signature (name and parameters) as the method in the superclass.\n",
    "\n",
    "When an object of the subclass is created and the overridden method is called, the specific implementation in the subclass is executed, overriding the implementation in the superclass. This allows for the customization of behavior in the subclass while still maintaining a common interface defined in the superclass."
   ]
  },
  {
   "cell_type": "code",
   "execution_count": 86,
   "id": "0e1e257f-1f35-4726-99ba-be09bf359c01",
   "metadata": {},
   "outputs": [
    {
     "name": "stdout",
     "output_type": "stream",
     "text": [
      "Woof!\n",
      "Meow!\n"
     ]
    }
   ],
   "source": [
    "class Animal:\n",
    "    def make_sound(self):\n",
    "        return \"Generic animal sound\"\n",
    "\n",
    "class Dog(Animal):\n",
    "    def make_sound(self):\n",
    "        return \"Woof!\"\n",
    "\n",
    "class Cat(Animal):\n",
    "    def make_sound(self):\n",
    "        return \"Meow!\"\n",
    "\n",
    "# Example usage\n",
    "dog = Dog()\n",
    "cat = Cat()\n",
    "\n",
    "print(dog.make_sound())  # Calls Dog's make_sound method\n",
    "print(cat.make_sound())  # Calls Cat's make_sound method\n"
   ]
  },
  {
   "cell_type": "markdown",
   "id": "e5f61bac",
   "metadata": {},
   "source": [
    "### 5. How is polymorphism different from method overloading in Python? Provide examples for both.\n"
   ]
  },
  {
   "cell_type": "markdown",
   "id": "e38c710b-4818-4460-8c43-2e351dcf11b3",
   "metadata": {},
   "source": [
    "Polymorphism and method overloading are related concepts in Python, but they serve different purposes. Let's discuss each and provide examples for both.\n",
    "\n",
    "## Polymorphism\n",
    "Polymorphism refers to the ability of objects of different types to be treated as objects of a common type. In Python, polymorphism is often achieved through method overriding in inheritance.\n",
    "\n",
    "## Method Overloading\n",
    "Method overloading involves defining multiple methods in the same class with the same name but different parameter lists. While method overloading is common in statically-typed languages, Python does not support true method overloading based on different parameter types. Instead, the last defined method with a given name in a class will override any previous methods with the same name.\n",
    "\n",
    "## Key Differences\n",
    "\n",
    "1. Purpose:\n",
    "\n",
    "    - Polymorphism: Enables objects of different types to be treated as objects of a common type.\n",
    "    - Method Overloading: Involves defining multiple methods with the same name but different parameter lists in the same class.\n",
    "\n",
    "2. Usage:\n",
    "\n",
    "    - Polymorphism: Achieved through method overriding in inheritance, allowing customization of behavior in subclasses.\n",
    "    - Method Overloading: Involves defining multiple methods with the same name but different parameter lists within the same class.\n",
    "\n",
    "3. Parameter Types:\n",
    "\n",
    "    - Polymorphism: Parameter types are not considered; the method to be called is determined at runtime based on the actual type of the object.\n",
    "    - Method Overloading: In traditional method overloading, the method to be called is determined at compile-time based on the parameter types.\n",
    "\n",
    "\n",
    "In Python, while method overloading is limited compared to some other languages, polymorphism is a more common and powerful concept, especially through method overriding in inheritance.\n"
   ]
  },
  {
   "cell_type": "code",
   "execution_count": 87,
   "id": "caa01ad1-582d-4ae5-8322-cc624979a399",
   "metadata": {},
   "outputs": [
    {
     "name": "stdout",
     "output_type": "stream",
     "text": [
      "Woof!\n",
      "Meow!\n"
     ]
    }
   ],
   "source": [
    "# Polymorphism\n",
    "\n",
    "class Animal:\n",
    "    def make_sound(self):\n",
    "        return \"Generic animal sound\"\n",
    "\n",
    "class Dog(Animal):\n",
    "    def make_sound(self):\n",
    "        return \"Woof!\"\n",
    "\n",
    "class Cat(Animal):\n",
    "    def make_sound(self):\n",
    "        return \"Meow!\"\n",
    "\n",
    "# Example usage\n",
    "dog = Dog()\n",
    "cat = Cat()\n",
    "\n",
    "# Polymorphic behavior\n",
    "animals = [dog, cat]\n",
    "\n",
    "for animal in animals:\n",
    "    print(animal.make_sound())\n"
   ]
  },
  {
   "cell_type": "code",
   "execution_count": 88,
   "id": "6db23ba4-5409-4b67-a1ed-1b64e84125a1",
   "metadata": {},
   "outputs": [
    {
     "name": "stdout",
     "output_type": "stream",
     "text": [
      "5\n",
      "10\n"
     ]
    }
   ],
   "source": [
    "# Method overloading\n",
    "\n",
    "class MathOperations:\n",
    "    def add(self, a, b, c=None):\n",
    "        if c is not None:\n",
    "            return a + b + c\n",
    "        else:\n",
    "            return a + b\n",
    "\n",
    "# Example usage\n",
    "math_ops = MathOperations()\n",
    "\n",
    "result1 = math_ops.add(2, 3)      # Calls the first add method\n",
    "result2 = math_ops.add(2, 3, 5)   # Calls the second add method\n",
    "\n",
    "print(result1)  # Output: 5\n",
    "print(result2)  # Output: 10\n",
    "\n"
   ]
  },
  {
   "cell_type": "markdown",
   "id": "a47c6f46",
   "metadata": {},
   "source": [
    "### 6. Create a Python class called `Animal` with a method `speak()`. Then, create child classes like `Dog`, `Cat`, and `Bird`, each with their own `speak()` method. Demonstrate polymorphism by calling the `speak()` method on objects of different subclasses.\n"
   ]
  },
  {
   "cell_type": "code",
   "execution_count": 89,
   "id": "80e302c6",
   "metadata": {},
   "outputs": [
    {
     "name": "stdout",
     "output_type": "stream",
     "text": [
      "Woof!\n",
      "Meow!\n",
      "Chirp!\n"
     ]
    }
   ],
   "source": [
    "class Animal:\n",
    "    def speak(self):\n",
    "        return \"Generic animal sound\"\n",
    "\n",
    "class Dog(Animal):\n",
    "    def speak(self):\n",
    "        return \"Woof!\"\n",
    "\n",
    "class Cat(Animal):\n",
    "    def speak(self):\n",
    "        return \"Meow!\"\n",
    "\n",
    "class Bird(Animal):\n",
    "    def speak(self):\n",
    "        return \"Chirp!\"\n",
    "\n",
    "# Example usage demonstrating polymorphism\n",
    "dog = Dog()\n",
    "cat = Cat()\n",
    "bird = Bird()\n",
    "\n",
    "# Polymorphic behavior\n",
    "animals = [dog, cat, bird]\n",
    "\n",
    "for animal in animals:\n",
    "    print(animal.speak())\n"
   ]
  },
  {
   "cell_type": "markdown",
   "id": "68e4b330",
   "metadata": {},
   "source": [
    "### 7. Discuss the use of abstract methods and classes in achieving polymorphism in Python. Provide an example using the `abc` module.\n"
   ]
  },
  {
   "cell_type": "markdown",
   "id": "255f1dcf-eda6-417b-8028-d5e4226d71b3",
   "metadata": {},
   "source": [
    "Abstract methods and classes in Python, particularly with the help of the abc (Abstract Base Classes) module, provide a way to enforce a common interface among subclasses. Abstract classes cannot be instantiated on their own and are meant to be subclassed, ensuring that certain methods are implemented in the derived classes. This concept is closely related to polymorphism as it allows different classes to share a common interface."
   ]
  },
  {
   "cell_type": "code",
   "execution_count": 90,
   "id": "607fb6c8-1307-4e25-a170-7590adc4d543",
   "metadata": {},
   "outputs": [
    {
     "name": "stdout",
     "output_type": "stream",
     "text": [
      "Woof!\n",
      "Meow!\n",
      "Chirp!\n"
     ]
    }
   ],
   "source": [
    "from abc import ABC, abstractmethod\n",
    "\n",
    "class Animal(ABC):\n",
    "    @abstractmethod\n",
    "    def speak(self):\n",
    "        pass\n",
    "\n",
    "class Dog(Animal):\n",
    "    def speak(self):\n",
    "        return \"Woof!\"\n",
    "\n",
    "class Cat(Animal):\n",
    "    def speak(self):\n",
    "        return \"Meow!\"\n",
    "\n",
    "class Bird(Animal):\n",
    "    def speak(self):\n",
    "        return \"Chirp!\"\n",
    "\n",
    "# Example usage demonstrating polymorphism\n",
    "dog = Dog()\n",
    "cat = Cat()\n",
    "bird = Bird()\n",
    "\n",
    "# Polymorphic behavior\n",
    "animals = [dog, cat, bird]\n",
    "\n",
    "for animal in animals:\n",
    "    print(animal.speak())\n"
   ]
  },
  {
   "cell_type": "markdown",
   "id": "921d9957",
   "metadata": {},
   "source": [
    "### 8. Create a Python class hierarchy for a vehicle system (e.g., car, bicycle, boat) and implement a polymorphic `start()` method that prints a message specific to each vehicle type.\n",
    "\n"
   ]
  },
  {
   "cell_type": "code",
   "execution_count": 91,
   "id": "f688eea7",
   "metadata": {},
   "outputs": [
    {
     "name": "stdout",
     "output_type": "stream",
     "text": [
      "Car engine started. Vroom Vroom!\n",
      "Bicycle pedaling started. Let's ride!\n",
      "Boat engine started. Ready to sail!\n"
     ]
    }
   ],
   "source": [
    "class Vehicle:\n",
    "    def start(self):\n",
    "        pass  # To be overridden by subclasses\n",
    "\n",
    "class Car(Vehicle):\n",
    "    def start(self):\n",
    "        return \"Car engine started. Vroom Vroom!\"\n",
    "\n",
    "class Bicycle(Vehicle):\n",
    "    def start(self):\n",
    "        return \"Bicycle pedaling started. Let's ride!\"\n",
    "\n",
    "class Boat(Vehicle):\n",
    "    def start(self):\n",
    "        return \"Boat engine started. Ready to sail!\"\n",
    "\n",
    "# Example usage demonstrating polymorphism\n",
    "car = Car()\n",
    "bicycle = Bicycle()\n",
    "boat = Boat()\n",
    "\n",
    "# Polymorphic behavior\n",
    "vehicles = [car, bicycle, boat]\n",
    "\n",
    "for vehicle in vehicles:\n",
    "    print(vehicle.start())\n"
   ]
  },
  {
   "cell_type": "markdown",
   "id": "70dd7b3c",
   "metadata": {},
   "source": [
    "### 9. Explain the significance of the `isinstance()` and `issubclass()` functions in Python polymorphism.\n"
   ]
  },
  {
   "cell_type": "markdown",
   "id": "0460817f-8005-4801-ad5e-2ec0ece05daf",
   "metadata": {},
   "source": [
    "The isinstance() and issubclass() functions in Python play a significant role in working with polymorphism by allowing you to check the type relationships between objects and classes. These functions contribute to the flexibility and dynamic nature of polymorphic code. Let's explore each function's significance:\n",
    "\n",
    "1. isinstance() Function:\n",
    "\n",
    "    - Purpose: Checks if an object is an instance of a particular class or a tuple of classes.\n",
    "    - Significance in Polymorphism:\n",
    "        - Enables you to determine the type of an object dynamically during runtime.\n",
    "        - Facilitates writing polymorphic code that can handle objects of different types in a uniform way.\n",
    "     \n",
    "2. issubclass() Function:\n",
    "\n",
    "    - Purpose: Checks if a class is a subclass of another class or a tuple of classes.\n",
    "    - Significance in Polymorphism:\n",
    "        - Allows you to determine the inheritance relationship between classes.\n",
    "        - Useful for designing code that can handle objects of multiple related classes in a polymorphic way.\n",
    "     \n",
    "- Combined Significance in Polymorphism:\n",
    "\n",
    "    - When used together, isinstance() and issubclass() empower you to write flexible and dynamic code that adapts to different types and class hierarchies.\n",
    "    - Polymorphic functions can use these checks to ensure that the provided objects or classes adhere to the expected types and relationships.\n",
    "    - Enables the creation of generic functions that can handle a variety of input types without explicitly specifying each type."
   ]
  },
  {
   "cell_type": "code",
   "execution_count": 92,
   "id": "ae2e4032-0e43-405d-8746-c6a850286b8c",
   "metadata": {},
   "outputs": [
    {
     "name": "stdout",
     "output_type": "stream",
     "text": [
      "True\n",
      "True\n"
     ]
    }
   ],
   "source": [
    "# isinstance()\n",
    "\n",
    "class Animal:\n",
    "    pass\n",
    "\n",
    "class Dog(Animal):\n",
    "    pass\n",
    "\n",
    "dog_instance = Dog()\n",
    "\n",
    "print(isinstance(dog_instance, Animal))  # True\n",
    "print(isinstance(dog_instance, Dog))     # True\n"
   ]
  },
  {
   "cell_type": "code",
   "execution_count": 93,
   "id": "a3b30a7f-2c60-411a-b9e6-698ea6f16b01",
   "metadata": {},
   "outputs": [
    {
     "name": "stdout",
     "output_type": "stream",
     "text": [
      "True\n"
     ]
    }
   ],
   "source": [
    "# issubclass()\n",
    "\n",
    "class Animal:\n",
    "    pass\n",
    "\n",
    "class Dog(Animal):\n",
    "    pass\n",
    "\n",
    "print(issubclass(Dog, Animal))  # True\n"
   ]
  },
  {
   "cell_type": "code",
   "execution_count": 94,
   "id": "65980ec5-3b42-459c-9ff0-2b61605c6fb4",
   "metadata": {},
   "outputs": [
    {
     "name": "stdout",
     "output_type": "stream",
     "text": [
      "Woof!\n",
      "Meow!\n"
     ]
    }
   ],
   "source": [
    "# Combined Significance in Polymorphism\n",
    "\n",
    "class Animal:\n",
    "    def speak(self):\n",
    "        return \"Generic animal sound\"\n",
    "\n",
    "class Dog(Animal):\n",
    "    def speak(self):\n",
    "        return \"Woof!\"\n",
    "\n",
    "class Cat(Animal):\n",
    "    def speak(self):\n",
    "        return \"Meow!\"\n",
    "\n",
    "def perform_speak(animal_instance):\n",
    "    if isinstance(animal_instance, Animal):\n",
    "        return animal_instance.speak()\n",
    "    else:\n",
    "        raise ValueError(\"Invalid argument. Must be an instance of Animal or its subclass.\")\n",
    "\n",
    "# Example usage\n",
    "dog = Dog()\n",
    "cat = Cat()\n",
    "\n",
    "print(perform_speak(dog))  # \"Woof!\"\n",
    "print(perform_speak(cat))  # \"Meow!\"\n"
   ]
  },
  {
   "cell_type": "markdown",
   "id": "ed439e5e",
   "metadata": {},
   "source": [
    "### 10. What is the role of the `@abstractmethod` decorator in achieving polymorphism in Python? Provide an example.\n"
   ]
  },
  {
   "cell_type": "markdown",
   "id": "b065dd1b-d6eb-4e35-a683-38f4c28d26b6",
   "metadata": {},
   "source": [
    "The @abstractmethod decorator in Python, part of the abc (Abstract Base Classes) module, plays a crucial role in achieving polymorphism by declaring abstract methods in abstract base classes. Abstract methods are methods that are meant to be overridden by concrete (derived) classes, ensuring a common interface across those subclasses.\n",
    "\n",
    "The @abstractmethod decorator, along with abstract classes, promotes a common interface for subclasses, ensuring that certain methods are implemented, and facilitating polymorphism by allowing objects of different types to be treated uniformly through shared method names."
   ]
  },
  {
   "cell_type": "code",
   "execution_count": 95,
   "id": "0c053ea2-7997-4469-b8d9-416b9c465a0f",
   "metadata": {},
   "outputs": [
    {
     "name": "stdout",
     "output_type": "stream",
     "text": [
      "Area of Circle: 78.5\n",
      "Area of Square: 16\n"
     ]
    }
   ],
   "source": [
    "from abc import ABC, abstractmethod\n",
    "\n",
    "class Shape(ABC):\n",
    "    @abstractmethod\n",
    "    def calculate_area(self):\n",
    "        pass\n",
    "\n",
    "class Circle(Shape):\n",
    "    def __init__(self, radius):\n",
    "        self.radius = radius\n",
    "\n",
    "    def calculate_area(self):\n",
    "        return 3.14 * self.radius ** 2\n",
    "\n",
    "class Square(Shape):\n",
    "    def __init__(self, side_length):\n",
    "        self.side_length = side_length\n",
    "\n",
    "    def calculate_area(self):\n",
    "        return self.side_length ** 2\n",
    "\n",
    "# Example usage demonstrating polymorphism\n",
    "circle = Circle(radius=5)\n",
    "square = Square(side_length=4)\n",
    "\n",
    "# Polymorphic behavior\n",
    "shapes = [circle, square]\n",
    "\n",
    "for shape in shapes:\n",
    "    print(f\"Area of {shape.__class__.__name__}: {shape.calculate_area()}\")\n"
   ]
  },
  {
   "cell_type": "markdown",
   "id": "e91512d1",
   "metadata": {},
   "source": [
    "### 11. Create a Python class called `Shape` with a polymorphic method `area()` that calculates the area of different shapes (e.g., circle, rectangle, triangle).\n"
   ]
  },
  {
   "cell_type": "code",
   "execution_count": 96,
   "id": "0d990a0c",
   "metadata": {},
   "outputs": [
    {
     "name": "stdout",
     "output_type": "stream",
     "text": [
      "Area of Circle: 78.53981633974483\n",
      "Area of Rectangle: 24\n",
      "Area of Triangle: 12.0\n"
     ]
    }
   ],
   "source": [
    "import math\n",
    "\n",
    "class Shape:\n",
    "    def area(self):\n",
    "        pass  # To be overridden by subclasses\n",
    "\n",
    "class Circle(Shape):\n",
    "    def __init__(self, radius):\n",
    "        self.radius = radius\n",
    "\n",
    "    def area(self):\n",
    "        return math.pi * self.radius ** 2\n",
    "\n",
    "class Rectangle(Shape):\n",
    "    def __init__(self, length, width):\n",
    "        self.length = length\n",
    "        self.width = width\n",
    "\n",
    "    def area(self):\n",
    "        return self.length * self.width\n",
    "\n",
    "class Triangle(Shape):\n",
    "    def __init__(self, base, height):\n",
    "        self.base = base\n",
    "        self.height = height\n",
    "\n",
    "    def area(self):\n",
    "        return 0.5 * self.base * self.height\n",
    "\n",
    "# Example usage demonstrating polymorphism\n",
    "circle = Circle(radius=5)\n",
    "rectangle = Rectangle(length=4, width=6)\n",
    "triangle = Triangle(base=3, height=8)\n",
    "\n",
    "# Polymorphic behavior\n",
    "shapes = [circle, rectangle, triangle]\n",
    "\n",
    "for shape in shapes:\n",
    "    print(f\"Area of {shape.__class__.__name__}: {shape.area()}\")\n"
   ]
  },
  {
   "cell_type": "markdown",
   "id": "069cdeac",
   "metadata": {},
   "source": [
    "### 12. Discuss the benefits of polymorphism in terms of code reusability and flexibility in Python programs.\n"
   ]
  },
  {
   "cell_type": "markdown",
   "id": "95fffcdc-4568-46d1-8f95-f0083e1fe5f6",
   "metadata": {},
   "source": [
    "Polymorphism in Python, as in many object-oriented programming languages, provides significant benefits in terms of code reusability and flexibility. Here's how:\n",
    "\n",
    "1. Code Reusability:\n",
    "\n",
    "    - Method Overloading: Polymorphism allows you to define multiple methods with the same name but with different parameters or implementations. This helps in creating more readable and maintainable code by reusing method names for similar operations.\n",
    "    - Method Overriding: Inheritance and polymorphism allow you to override methods in a derived class, which means you can reuse and customize behavior defined in a base class.\n",
    "\n",
    "2. Flexibility:\n",
    "\n",
    "    - Adaptability: Polymorphism allows you to design interfaces that can be implemented by multiple classes. This flexibility enables you to create systems where different objects can be used interchangeably based on a common interface, promoting adaptability and ease of extension.\n",
    "    - Dynamic Binding: Polymorphism enables dynamic binding, meaning the decision about which method to call is made at runtime. This allows for more flexible and dynamic behavior, as the appropriate method is determined based on the actual type of the object at runtime.\n",
    "\n",
    "3. Ease of Maintenance:\n",
    "\n",
    "    - Reduced Code Duplication: By using polymorphism, you can avoid duplicating code for similar operations. This leads to cleaner, more concise code that is easier to maintain and less prone to errors.\n",
    "    - Enhanced Readability: Polymorphic code tends to be more readable and understandable since common behaviors are expressed through a consistent interface, making it easier for developers to follow and maintain.\n",
    "\n",
    "4. Scalability:\n",
    "\n",
    "    - Extensibility: Polymorphism facilitates the addition of new classes or functionality without modifying existing code. This makes it easier to scale and extend your codebase as requirements evolve over time.\n",
    "    - Open/Closed Principle: Polymorphism supports the open/closed principle, allowing you to extend the behavior of a system without modifying its existing code. This is essential for building robust and scalable software.\n",
    "\n",
    "In summary, polymorphism in Python enhances code reusability, flexibility, and maintainability by providing a mechanism for using common interfaces, dynamic method binding, and the ability to extend functionality without modifying existing code. It contributes to building more modular, adaptable, and scalable software systems."
   ]
  },
  {
   "cell_type": "markdown",
   "id": "9d9e2873",
   "metadata": {},
   "source": [
    "### 13. Explain the use of the `super()` function in Python polymorphism. How does it help call methods of parent classes?\n"
   ]
  },
  {
   "cell_type": "markdown",
   "id": "f51a12da-7d3a-4912-b374-679d351eb497",
   "metadata": {},
   "source": [
    "The super() function in Python is used to call methods of a parent class in the context of inheritance. It is particularly useful in achieving polymorphism when dealing with class hierarchies. Here's how it works:\n",
    "\n",
    "1. Accessing Parent Class Methods:\n",
    "\n",
    "    - When a child class inherits from a parent class, it can use the super() function to access and call methods from the parent class.\n",
    "    - This allows the child class to extend or override the behavior of the parent class while still utilizing the functionality defined in the parent.\n",
    "\n",
    "2. Method Resolution Order (MRO):\n",
    "\n",
    "    - Python follows the C3 linearization algorithm to determine the order in which base classes are searched when looking for a method. This order is known as the Method Resolution Order (MRO).\n",
    "    - super() takes into account the MRO to find the next class in line, making it easier to navigate through the class hierarchy.\n",
    "\n",
    "3. Multiple Inheritance:\n",
    "\n",
    "    - super() becomes especially valuable in multiple inheritance scenarios where a class inherits from more than one parent class. It helps in maintaining a consistent and predictable order of method invocation.\n",
    "\n",
    "In summary, the super() function is a powerful tool for achieving polymorphism in Python, especially in the context of inheritance. It helps in maintaining a consistent method resolution order and allows child classes to seamlessly integrate and extend the behavior of their parent classes."
   ]
  },
  {
   "cell_type": "code",
   "execution_count": 97,
   "id": "e031efe0-0d2e-4626-a4c9-b121bdda086f",
   "metadata": {},
   "outputs": [
    {
     "name": "stdout",
     "output_type": "stream",
     "text": [
      "Parent class method\n",
      "Child class method\n"
     ]
    }
   ],
   "source": [
    "# Method Resolution Order (MRO)\n",
    "\n",
    "class Parent:\n",
    "    def show_info(self):\n",
    "        print(\"Parent class method\")\n",
    "\n",
    "class Child(Parent):\n",
    "    def show_info(self):\n",
    "        super().show_info()  # Calls the show_info method of the Parent class\n",
    "        print(\"Child class method\")\n",
    "\n",
    "# Example usage\n",
    "child_obj = Child()\n",
    "child_obj.show_info()\n"
   ]
  },
  {
   "cell_type": "code",
   "execution_count": 98,
   "id": "871280b7-be9b-4644-97c4-2b0e02e31f23",
   "metadata": {},
   "outputs": [
    {
     "name": "stdout",
     "output_type": "stream",
     "text": [
      "Class B method\n",
      "Class C method\n",
      "Class A method\n"
     ]
    }
   ],
   "source": [
    "# Multiple Inheritance\n",
    "\n",
    "class A:\n",
    "    def show_info(self):\n",
    "        print(\"Class A method\")\n",
    "\n",
    "class B(A):\n",
    "    def show_info(self):\n",
    "        print(\"Class B method\")\n",
    "        super().show_info()\n",
    "\n",
    "class C(A):\n",
    "    def show_info(self):\n",
    "        print(\"Class C method\")\n",
    "        super().show_info()\n",
    "\n",
    "class D(B, C):\n",
    "    pass\n",
    "\n",
    "# Example usage\n",
    "obj_d = D()\n",
    "obj_d.show_info()\n"
   ]
  },
  {
   "cell_type": "markdown",
   "id": "5e344d78",
   "metadata": {},
   "source": [
    "### 14. Create a Python class hierarchy for a banking system with various account types (e.g., savings, checking, credit card) and demonstrate polymorphism by implementing a common `withdraw()` method.\n"
   ]
  },
  {
   "cell_type": "code",
   "execution_count": 99,
   "id": "6ecfb2f6",
   "metadata": {},
   "outputs": [
    {
     "name": "stdout",
     "output_type": "stream",
     "text": [
      "Account SA123: Withdrawal of $200 successful. Remaining balance: $800\n",
      "Account CA456: Withdrawal of $200 successful. Remaining balance: $1300\n",
      "Account CC789: Withdrawal of $200 successful. Remaining balance: $-400\n"
     ]
    }
   ],
   "source": [
    "class BankAccount:\n",
    "    def __init__(self, account_number, balance):\n",
    "        self.account_number = account_number\n",
    "        self.balance = balance\n",
    "\n",
    "    def withdraw(self, amount):\n",
    "        pass  # To be overridden by subclasses\n",
    "\n",
    "class SavingsAccount(BankAccount):\n",
    "    def __init__(self, account_number, balance, interest_rate):\n",
    "        super().__init__(account_number, balance)\n",
    "        self.interest_rate = interest_rate\n",
    "\n",
    "    def withdraw(self, amount):\n",
    "        if amount <= self.balance:\n",
    "            self.balance -= amount\n",
    "            return f\"Withdrawal of ${amount} successful. Remaining balance: ${self.balance}\"\n",
    "        else:\n",
    "            return \"Insufficient funds. Withdrawal unsuccessful.\"\n",
    "\n",
    "class CheckingAccount(BankAccount):\n",
    "    def __init__(self, account_number, balance, overdraft_limit):\n",
    "        super().__init__(account_number, balance)\n",
    "        self.overdraft_limit = overdraft_limit\n",
    "\n",
    "    def withdraw(self, amount):\n",
    "        total_funds = self.balance + self.overdraft_limit\n",
    "        if amount <= total_funds:\n",
    "            self.balance -= amount\n",
    "            return f\"Withdrawal of ${amount} successful. Remaining balance: ${self.balance}\"\n",
    "        else:\n",
    "            return \"Insufficient funds. Withdrawal unsuccessful.\"\n",
    "\n",
    "class CreditCardAccount(BankAccount):\n",
    "    def __init__(self, account_number, balance, credit_limit):\n",
    "        super().__init__(account_number, balance)\n",
    "        self.credit_limit = credit_limit\n",
    "\n",
    "    def withdraw(self, amount):\n",
    "        total_credit = self.balance + self.credit_limit\n",
    "        if amount <= total_credit:\n",
    "            self.balance -= amount\n",
    "            return f\"Withdrawal of ${amount} successful. Remaining balance: ${self.balance}\"\n",
    "        else:\n",
    "            return \"Exceeded credit limit. Withdrawal unsuccessful.\"\n",
    "\n",
    "# Example usage demonstrating polymorphism\n",
    "savings_account = SavingsAccount(account_number=\"SA123\", balance=1000, interest_rate=0.02)\n",
    "checking_account = CheckingAccount(account_number=\"CA456\", balance=1500, overdraft_limit=500)\n",
    "credit_card_account = CreditCardAccount(account_number=\"CC789\", balance=-200, credit_limit=1000)\n",
    "\n",
    "# Polymorphic behavior\n",
    "accounts = [savings_account, checking_account, credit_card_account]\n",
    "\n",
    "for account in accounts:\n",
    "    print(f\"Account {account.account_number}: {account.withdraw(200)}\")\n"
   ]
  },
  {
   "cell_type": "markdown",
   "id": "683d4fef",
   "metadata": {},
   "source": [
    "### 15. Describe the concept of operator overloading in Python and how it relates to polymorphism. Provide examples using operators like `+` and `*`.\n"
   ]
  },
  {
   "cell_type": "markdown",
   "id": "b9643bfa-33c3-4ad6-a3af-ae8b7cf06dac",
   "metadata": {},
   "source": [
    "Operator overloading in Python refers to the ability to define and customize the behavior of operators for user-defined objects. This allows objects of a class to behave like built-in types with respect to operators. Operator overloading is closely related to polymorphism, as it enables the same operator to exhibit different behaviors depending on the types involved.\n",
    "\n",
    "Here's how operator overloading works in Python:\n",
    "\n",
    "1. Special Methods:\n",
    "\n",
    "    - To overload an operator, you define special methods in your class with double underscores (e.g., __add__ for the + operator).\n",
    "These special methods are automatically called when the corresponding operator is used on objects of the class."
   ]
  },
  {
   "cell_type": "code",
   "execution_count": 100,
   "id": "8307efb4-e1bf-486f-9688-60a082daa7d0",
   "metadata": {},
   "outputs": [
    {
     "name": "stdout",
     "output_type": "stream",
     "text": [
      "p3 coordinates: (4, 6)\n"
     ]
    }
   ],
   "source": [
    "# Overloading + Operator\n",
    "class Point:\n",
    "    def __init__(self, x, y):\n",
    "        self.x = x\n",
    "        self.y = y\n",
    "\n",
    "    def __add__(self, other):\n",
    "        if isinstance(other, Point):\n",
    "            return Point(self.x + other.x, self.y + other.y)\n",
    "        else:\n",
    "            raise TypeError(\"Unsupported operand type\")\n",
    "\n",
    "# Example usage\n",
    "p1 = Point(1, 2)\n",
    "p2 = Point(3, 4)\n",
    "p3 = p1 + p2  # Calls p1.__add__(p2)\n",
    "\n",
    "print(f\"p3 coordinates: ({p3.x}, {p3.y})\")\n"
   ]
  },
  {
   "cell_type": "code",
   "execution_count": 101,
   "id": "9f56461a-3844-4f92-83be-2cc43c6fd351",
   "metadata": {},
   "outputs": [
    {
     "name": "stdout",
     "output_type": "stream",
     "text": [
      "Resulting vector: (10, 15)\n"
     ]
    }
   ],
   "source": [
    "# Overloading * Operator\n",
    "class Vector:\n",
    "    def __init__(self, x, y):\n",
    "        self.x = x\n",
    "        self.y = y\n",
    "\n",
    "    def __mul__(self, scalar):\n",
    "        return Vector(self.x * scalar, self.y * scalar)\n",
    "\n",
    "# Example usage\n",
    "v = Vector(2, 3)\n",
    "result = v * 5  # Calls v.__mul__(5)\n",
    "\n",
    "print(f\"Resulting vector: ({result.x}, {result.y})\")\n"
   ]
  },
  {
   "cell_type": "markdown",
   "id": "7e4d3354-a7a6-4282-9c40-32108ac32f15",
   "metadata": {},
   "source": [
    "2. Polymorphic Behavior:\n",
    "\n",
    "    - Operator overloading allows objects of different classes to exhibit polymorphic behavior with respect to operators. As long as the classes define the appropriate special methods, you can use operators in a way that makes sense for the objects.s."
   ]
  },
  {
   "cell_type": "code",
   "execution_count": 102,
   "id": "35baf6e0-2cc9-4af0-ab48-0d6907d71d8c",
   "metadata": {},
   "outputs": [
    {
     "name": "stdout",
     "output_type": "stream",
     "text": [
      "Combined area: 26\n"
     ]
    }
   ],
   "source": [
    "class Shape:\n",
    "    def __init__(self, area):\n",
    "        self.area = area\n",
    "\n",
    "    def __add__(self, other):\n",
    "        if isinstance(other, Shape):\n",
    "            return Shape(self.area + other.area)\n",
    "        else:\n",
    "            raise TypeError(\"Unsupported operand type\")\n",
    "\n",
    "# Example usage\n",
    "circle = Shape(10)\n",
    "square = Shape(16)\n",
    "combined = circle + square  # Calls circle.__add__(square)\n",
    "\n",
    "print(f\"Combined area: {combined.area}\")\n"
   ]
  },
  {
   "cell_type": "markdown",
   "id": "2667b854",
   "metadata": {},
   "source": [
    "### 16. What is dynamic polymorphism, and how is it achieved in Python?\n"
   ]
  },
  {
   "cell_type": "markdown",
   "id": "6a5b8e45-c0ee-47aa-bc4e-4820d1e01892",
   "metadata": {},
   "source": [
    "Dynamic polymorphism, also known as runtime polymorphism, is a concept in object-oriented programming where the actual method or operation to be executed is determined at runtime. This allows different classes to be treated as instances of a common base class, and method calls are resolved based on the actual type of the object during runtime. In Python, dynamic polymorphism is achieved through method overriding and the use of inheritance.\n",
    "\n",
    "#### Here's how dynamic polymorphism is achieved in Python:\n",
    "\n",
    "1. Inheritance:\n",
    "\n",
    "- Dynamic polymorphism relies on the inheritance mechanism in Python. A subclass can inherit attributes and behaviors from a superclass.\n",
    "- The subclass can override methods of the superclass, providing its own implementation while maintaining a common interface.\n",
    "\n",
    "2. Method Overriding:\n",
    "\n",
    "    - Method overriding occurs when a subclass provides a specific implementation for a method that is already defined in its superclass.\n",
    "    - When an object of the subclass is created and a method is called on it, Python dynamically resolves the method to the most specific implementation available in the class hierarchy. hierarchy."
   ]
  },
  {
   "cell_type": "code",
   "execution_count": 103,
   "id": "70041d54-3f2e-49d7-8a88-e6e4eaca7f38",
   "metadata": {},
   "outputs": [
    {
     "name": "stdout",
     "output_type": "stream",
     "text": [
      "Bark\n",
      "Meow\n"
     ]
    }
   ],
   "source": [
    "class Animal:\n",
    "    def make_sound(self):\n",
    "        print(\"Generic animal sound\")\n",
    "\n",
    "class Dog(Animal):\n",
    "    def make_sound(self):\n",
    "        print(\"Bark\")\n",
    "\n",
    "class Cat(Animal):\n",
    "    def make_sound(self):\n",
    "        print(\"Meow\")\n",
    "\n",
    "# Example usage\n",
    "def animal_sound(animal):\n",
    "    animal.make_sound()\n",
    "\n",
    "dog = Dog()\n",
    "cat = Cat()\n",
    "\n",
    "animal_sound(dog)  # Calls Dog's make_sound method\n",
    "animal_sound(cat)  # Calls Cat's make_sound method\n"
   ]
  },
  {
   "cell_type": "markdown",
   "id": "c6feaa18-9659-4728-b9da-a42302129a57",
   "metadata": {},
   "source": [
    "3. Polymorphic Behavior:\n",
    "\n",
    "    - The animal_sound function can accept any object that is a subclass of Animal without knowing the specific type at compile time.\n",
    "    - This is an example of dynamic polymorphism, as the behavior of the method (make_sound) is determined at runtime based on the actual type of the object being passed.\n",
    "\n",
    "Dynamic polymorphism in Python allows for flexibility and adaptability in the code, enabling the use of objects of different classes in a uniform way. It contributes to a more modular and extensible design, as new classes can be added without modifying existing code that depends on the common interface provided by the base class.\n"
   ]
  },
  {
   "cell_type": "markdown",
   "id": "62efe170",
   "metadata": {},
   "source": [
    "### 17. Create a Python class hierarchy for employees in a company (e.g., manager, developer, designer) and implement polymorphism through a common `calculate_salary()` method.\n"
   ]
  },
  {
   "cell_type": "code",
   "execution_count": 104,
   "id": "afe62ee1",
   "metadata": {},
   "outputs": [
    {
     "name": "stdout",
     "output_type": "stream",
     "text": [
      "John Manager (Manager): Salary - $88000\n",
      "Alice Developer (Developer): Salary - $62000\n",
      "Bob Designer (Designer): Salary - $51000\n"
     ]
    }
   ],
   "source": [
    "class Employee:\n",
    "    def __init__(self, employee_id, name, role):\n",
    "        self.employee_id = employee_id\n",
    "        self.name = name\n",
    "        self.role = role\n",
    "\n",
    "    def calculate_salary(self):\n",
    "        pass  # To be overridden by subclasses\n",
    "\n",
    "class Manager(Employee):\n",
    "    def __init__(self, employee_id, name, team_size):\n",
    "        super().__init__(employee_id, name, role=\"Manager\")\n",
    "        self.team_size = team_size\n",
    "\n",
    "    def calculate_salary(self):\n",
    "        base_salary = 80000\n",
    "        team_bonus = self.team_size * 1000\n",
    "        return base_salary + team_bonus\n",
    "\n",
    "class Developer(Employee):\n",
    "    def __init__(self, employee_id, name, programming_language):\n",
    "        super().__init__(employee_id, name, role=\"Developer\")\n",
    "        self.programming_language = programming_language\n",
    "\n",
    "    def calculate_salary(self):\n",
    "        base_salary = 60000\n",
    "        language_bonus = 2000 if self.programming_language == \"Python\" else 0\n",
    "        return base_salary + language_bonus\n",
    "\n",
    "class Designer(Employee):\n",
    "    def __init__(self, employee_id, name, creative_skills):\n",
    "        super().__init__(employee_id, name, role=\"Designer\")\n",
    "        self.creative_skills = creative_skills\n",
    "\n",
    "    def calculate_salary(self):\n",
    "        base_salary = 50000\n",
    "        skills_bonus = len(self.creative_skills) * 500\n",
    "        return base_salary + skills_bonus\n",
    "\n",
    "# Example usage demonstrating polymorphism\n",
    "manager = Manager(employee_id=101, name=\"John Manager\", team_size=8)\n",
    "developer = Developer(employee_id=201, name=\"Alice Developer\", programming_language=\"Python\")\n",
    "designer = Designer(employee_id=301, name=\"Bob Designer\", creative_skills=[\"UI/UX\", \"Illustration\"])\n",
    "\n",
    "# Polymorphic behavior\n",
    "employees = [manager, developer, designer]\n",
    "\n",
    "for employee in employees:\n",
    "    print(f\"{employee.name} ({employee.role}): Salary - ${employee.calculate_salary()}\")\n"
   ]
  },
  {
   "cell_type": "markdown",
   "id": "aa30f101",
   "metadata": {},
   "source": [
    "### 18. Discuss the concept of function pointers and how they can be used to achieve polymorphism in Python.\n",
    "\n"
   ]
  },
  {
   "cell_type": "markdown",
   "id": "6a427850-1528-443c-9e39-b195f8002719",
   "metadata": {},
   "source": [
    "In Python, the concept of function pointers is not directly applicable in the same way it is in languages like C or C++. However, Python achieves a similar effect through first-class functions and polymorphism.\n",
    "\n",
    "1. First-Class Functions:\n",
    "\n",
    "    - In Python, functions are first-class citizens, meaning they can be treated like any other object, such as integers, strings, or classes.\n",
    "    - Functions can be assigned to variables, passed as arguments to other functions, and returned as values from other functions.\n",
    "\n",
    "2. Function References:\n",
    "\n",
    "    - In Python, you can refer to functions by their names, and these references can be passed around as arguments to achieve polymorphic behavior.ehavior."
   ]
  },
  {
   "cell_type": "code",
   "execution_count": 105,
   "id": "6697a4b7-02e7-4cca-995c-a29c4a69a022",
   "metadata": {},
   "outputs": [
    {
     "name": "stdout",
     "output_type": "stream",
     "text": [
      "Sum: 5\n",
      "Product: 6\n"
     ]
    }
   ],
   "source": [
    "# Function References\n",
    "\n",
    "def add(a, b):\n",
    "    return a + b\n",
    "\n",
    "def multiply(a, b):\n",
    "    return a * b\n",
    "\n",
    "def perform_operation(operation, x, y):\n",
    "    return operation(x, y)\n",
    "\n",
    "# Example usage\n",
    "result_sum = perform_operation(add, 2, 3)\n",
    "result_product = perform_operation(multiply, 2, 3)\n",
    "\n",
    "print(f\"Sum: {result_sum}\")\n",
    "print(f\"Product: {result_product}\")\n"
   ]
  },
  {
   "cell_type": "markdown",
   "id": "eb25f9e8-440d-4830-9956-db8e8c0ca8a4",
   "metadata": {},
   "source": [
    "3. Polymorphic Behavior:\n",
    "\n",
    "    - By passing different functions to the same higher-order function (perform_operation), you achieve polymorphic behavior. The behavior of perform_operation is determined by the specific function passed as an argument.\n",
    "\n",
    "4. Lambda Functions:\n",
    "\n",
    "    - You can also use lambda functions for concise function references, especially when the function is simple."
   ]
  },
  {
   "cell_type": "markdown",
   "id": "3855cedc",
   "metadata": {},
   "source": [
    "### 19. Explain the role of interfaces and abstract classes in polymorphism, drawing comparisons between them."
   ]
  },
  {
   "cell_type": "markdown",
   "id": "ce1a488f-c70e-4c6a-9ce6-c5f9ddaf34ef",
   "metadata": {},
   "source": [
    "Interfaces and abstract classes are both mechanisms in object-oriented programming that play a significant role in achieving polymorphism. While they serve similar purposes, they have key differences in terms of implementation and use. Let's explore the role of interfaces and abstract classes in polymorphism and compare them:\n",
    "\n",
    "1. Abstract Classes:\n",
    "\n",
    "    - Definition: An abstract class is a class that cannot be instantiated on its own and may contain abstract methods (methods without a concrete implementation).\n",
    "    - Role in Polymorphism:\n",
    "        - Abstract classes provide a common base for multiple derived classes. They define a common interface with a mix of abstract and concrete methods.\n",
    "        - Subclasses of an abstract class must provide concrete implementations for all the abstract methods, ensuring a consistent interface across different derived classes.\n",
    "        - Polymorphism is achieved when objects of different subclasses can be treated as objects of the abstract base class, allowing for a unified approach to interacting with related objects.objects."
   ]
  },
  {
   "cell_type": "code",
   "execution_count": 106,
   "id": "4eb12281-e889-4ec5-beee-312408aff033",
   "metadata": {},
   "outputs": [],
   "source": [
    "from abc import ABC, abstractmethod\n",
    "\n",
    "class Shape(ABC):\n",
    "    @abstractmethod\n",
    "    def area(self):\n",
    "        pass\n",
    "\n",
    "class Circle(Shape):\n",
    "    def __init__(self, radius):\n",
    "        self.radius = radius\n",
    "\n",
    "    def area(self):\n",
    "        return 3.14 * self.radius * self.radius\n",
    "\n",
    "class Square(Shape):\n",
    "    def __init__(self, side):\n",
    "        self.side = side\n",
    "\n",
    "    def area(self):\n",
    "        return self.side * self.side\n"
   ]
  },
  {
   "cell_type": "markdown",
   "id": "83a3768c-296f-4705-b2e6-00a44b655002",
   "metadata": {},
   "source": [
    "2. Interfaces:\n",
    "\n",
    "    - Definition: An interface defines a contract for classes, specifying a set of methods that must be implemented by any class that adheres to the interface. In Python, interfaces are not explicitly defined, but the concept is achieved through abstract classes or duck typing.\n",
    "    - Role in Polymorphism:\n",
    "        - Interfaces provide a way to ensure that different classes implement the same set of methods, enforcing a common behavior.\n",
    "        - Classes that implement an interface can be treated interchangeably based on the shared interface, promoting polymorphic behavior.\n",
    "        - Multiple interfaces can be implemented by a single class, allowing for flexibility in the types of behavior a class can exhibit."
   ]
  },
  {
   "cell_type": "code",
   "execution_count": 107,
   "id": "a6e48008-5a17-4764-9d99-51b84a0b6888",
   "metadata": {},
   "outputs": [],
   "source": [
    "class AreaCalculatable:\n",
    "    def area(self):\n",
    "        raise NotImplementedError(\"Subclasses must implement the area method\")\n",
    "\n",
    "class Circle(AreaCalculatable):\n",
    "    def __init__(self, radius):\n",
    "        self.radius = radius\n",
    "\n",
    "    def area(self):\n",
    "        return 3.14 * self.radius * self.radius\n",
    "\n",
    "class Square(AreaCalculatable):\n",
    "    def __init__(self, side):\n",
    "        self.side = side\n",
    "\n",
    "    def area(self):\n",
    "        return self.side * self.side\n"
   ]
  },
  {
   "cell_type": "markdown",
   "id": "3908a152-30fd-4dfb-8ec1-13d5882e165f",
   "metadata": {},
   "source": [
    "3. Comparisons:\n",
    "\n",
    "    - Multiple Inheritance:\n",
    "        - Abstract classes support multiple inheritance, allowing a subclass to inherit from both an abstract class and another concrete class.\n",
    "        - In Python, a class can inherit from multiple abstract classes and/or one concrete class.\n",
    "    - Implementation:\n",
    "        - Abstract classes can provide a mix of abstract and concrete methods, allowing for some shared implementation.\n",
    "        - Interfaces, in Python, typically focus on method signatures, leaving the implementation to the classes that implement the interface.\n",
    "\n",
    "    - Enforcement:\n",
    "        - Abstract classes enforce their contract through the requirement of concrete implementations in derived classes.\n",
    "        - Interfaces enforce their contract implicitly, relying on the adherence of classes to the specified methods.d methods."
   ]
  },
  {
   "cell_type": "markdown",
   "id": "d0cde659",
   "metadata": {},
   "source": [
    "### 20. Create a Python class for a zoo simulation, demonstrating polymorphism with different animal types (e.g., mammals, birds, reptiles) and their behavior (e.g., eating, sleeping, making sounds).\n",
    "\n"
   ]
  },
  {
   "cell_type": "code",
   "execution_count": 108,
   "id": "e2af04af",
   "metadata": {},
   "outputs": [
    {
     "name": "stdout",
     "output_type": "stream",
     "text": [
      "Leo (Lion): Leo the Lion is making mammal sounds.\n",
      "Leo is eating.\n",
      "Leo is sleeping.\n",
      "\n",
      "Polly (Parrot): Polly the Parrot is chirping.\n",
      "Polly is eating.\n",
      "Polly is sleeping.\n",
      "\n",
      "Sly (Snake): Sly the Snake is hissing.\n",
      "Sly is eating.\n",
      "Sly is sleeping.\n",
      "\n"
     ]
    }
   ],
   "source": [
    "class Animal:\n",
    "    def __init__(self, name, species):\n",
    "        self.name = name\n",
    "        self.species = species\n",
    "\n",
    "    def make_sound(self):\n",
    "        pass  # To be overridden by subclasses\n",
    "\n",
    "    def eat(self):\n",
    "        return f\"{self.name} is eating.\"\n",
    "\n",
    "    def sleep(self):\n",
    "        return f\"{self.name} is sleeping.\"\n",
    "\n",
    "class Mammal(Animal):\n",
    "    def __init__(self, name, species, fur_color):\n",
    "        super().__init__(name, species)\n",
    "        self.fur_color = fur_color\n",
    "\n",
    "    def make_sound(self):\n",
    "        return f\"{self.name} the {self.species} is making mammal sounds.\"\n",
    "\n",
    "class Bird(Animal):\n",
    "    def __init__(self, name, species, beak_color):\n",
    "        super().__init__(name, species)\n",
    "        self.beak_color = beak_color\n",
    "\n",
    "    def make_sound(self):\n",
    "        return f\"{self.name} the {self.species} is chirping.\"\n",
    "\n",
    "class Reptile(Animal):\n",
    "    def __init__(self, name, species, scale_type):\n",
    "        super().__init__(name, species)\n",
    "        self.scale_type = scale_type\n",
    "\n",
    "    def make_sound(self):\n",
    "        return f\"{self.name} the {self.species} is hissing.\"\n",
    "\n",
    "# Example usage demonstrating polymorphism\n",
    "lion = Mammal(name=\"Leo\", species=\"Lion\", fur_color=\"Golden\")\n",
    "parrot = Bird(name=\"Polly\", species=\"Parrot\", beak_color=\"Green\")\n",
    "snake = Reptile(name=\"Sly\", species=\"Snake\", scale_type=\"Smooth\")\n",
    "\n",
    "# Polymorphic behavior\n",
    "zoo_animals = [lion, parrot, snake]\n",
    "\n",
    "for animal in zoo_animals:\n",
    "    print(f\"{animal.name} ({animal.species}): {animal.make_sound()}\")\n",
    "    print(f\"{animal.eat()}\")\n",
    "    print(f\"{animal.sleep()}\")\n",
    "    print()\n"
   ]
  },
  {
   "cell_type": "markdown",
   "id": "377739fd",
   "metadata": {},
   "source": [
    "## ABSTRACTION"
   ]
  },
  {
   "cell_type": "markdown",
   "id": "fa77a457",
   "metadata": {},
   "source": [
    "### 1. What is abstraction in Python, and how does it relate to object-oriented programming?\n"
   ]
  },
  {
   "cell_type": "markdown",
   "id": "c761a90c-67cf-46da-bdd8-3c75aa50d35f",
   "metadata": {},
   "source": [
    "Abstraction in Python, particularly in the context of object-oriented programming (OOP), refers to the concept of simplifying complex systems by modeling classes based on the essential properties and behaviors relevant to the problem at hand, while hiding unnecessary details. Abstraction involves creating abstract representations of real-world entities as classes, focusing on what an object does rather than how it achieves its functionality.\n",
    "\n",
    "#### Key Aspects of Abstraction in Python:\n",
    "1. Modeling Real-World Entities:\n",
    "\n",
    "    - Abstraction involves representing real-world entities, concepts, or systems as classes in the programming domain.\n",
    "    - For example, a \"Car\" class might abstract the essential features of a car, such as its make, model, and methods like start and stop.\n",
    "\n",
    "2. Hiding Implementation Details:\n",
    "\n",
    "    - Abstraction involves hiding the internal details of an object's implementation from external code.\n",
    "    - The internal state and methods of an object are encapsulated within the class, exposing only what is necessary for external interaction.\n",
    "\n",
    "3. Defining Interfaces:\n",
    "\n",
    "    - Abstraction involves defining interfaces, which are sets of methods that describe the behavior of an object.\n",
    "    - Interfaces serve as a contract, specifying what methods an object should have without specifying how those methods are implemented.\n",
    "\n",
    "4. Polymorphism:\n",
    "\n",
    "    - Abstraction enables polymorphism, allowing objects of different classes to be treated uniformly based on their common interface.\n",
    "    - Polymorphism allows code to be written in a generic way that can work with objects of various types.\n",
    "\n",
    "5. Code Reusability and Maintainability:\n",
    "\n",
    "    - Abstraction promotes code reusability by encapsulating reusable components as classes with well-defined interfaces.\n",
    "    - Changes to the internal implementation of a class can be made without affecting external code that relies on the class, enhancing code maintainability.\n",
    "\n",
    "In summary, abstraction in Python, within the context of OOP, involves creating abstract representations of real-world entities as classes, hiding unnecessary details, defining interfaces, and enabling polymorphism. Abstraction enhances code readability, flexibility, and maintainability by focusing on essential aspects and providing a clean, well-defined structure for designing complex systems."
   ]
  },
  {
   "cell_type": "markdown",
   "id": "d03db938",
   "metadata": {},
   "source": [
    "### 2. Describe the benefits of abstraction in terms of code organization and complexity reduction.\n"
   ]
  },
  {
   "cell_type": "markdown",
   "id": "08f7a26d-4396-4314-9b30-3f27fb6fd218",
   "metadata": {},
   "source": [
    "Abstraction provides several benefits in terms of code organization and complexity reduction in software development. These benefits contribute to creating maintainable, modular, and readable code. Here are some key advantages of abstraction:\n",
    "\n",
    "1. Modular Design:\n",
    "\n",
    "    - Abstraction allows you to break down a complex system into smaller, modular components represented by classes.\n",
    "    - Each class encapsulates a specific functionality or concept, promoting a modular design that is easier to understand and manage.\n",
    "\n",
    "2. Code Reusability:\n",
    "\n",
    "    - Abstracting common functionalities into classes enables code reuse across different parts of an application or even in different projects.\n",
    "    - Reusing well-designed and abstracted classes reduces the need to duplicate code, leading to more efficient development and maintenance.\n",
    "\n",
    "3. Encapsulation:\n",
    "\n",
    "    - Abstraction supports encapsulation, which involves bundling data (attributes) and methods that operate on the data within a single unit (class).\n",
    "    - Encapsulation helps hide the internal implementation details, exposing only what is necessary for external interaction. This reduces the complexity of using the class.\n",
    "\n",
    "4. Consistent Interfaces:\n",
    "\n",
    "    - Abstraction allows you to define consistent interfaces through abstract classes or interfaces.\n",
    "    - Consistent interfaces provide a standard way of interacting with different classes, making it easier for developers to understand and use the functionalities offered by those classes.\n",
    "\n",
    "5. Polymorphism:\n",
    "\n",
    "    - Abstraction enables polymorphism, allowing objects of different classes to be treated uniformly based on their common interface.\n",
    "    - Polymorphism simplifies code by allowing generic algorithms to work with objects of various types, enhancing flexibility and reducing the need for complex conditional statements.\n",
    "\n",
    "6. Code Readability:\n",
    "\n",
    "    - Abstracted code tends to be more readable as it focuses on essential aspects and hides unnecessary details.\n",
    "    - Well-designed classes with clear interfaces make it easier for developers to understand the purpose and functionality of each component, improving overall code readability.\n",
    "\n",
    "7. Simplified Maintenance:\n",
    "\n",
    "    - Abstraction simplifies maintenance by isolating changes to specific components or classes.\n",
    "    - Modifications to the internal implementation of a class can be made without affecting external code that relies on the class, reducing the risk of introducing bugs and making maintenance tasks more manageable.\n",
    "\n",
    "8. Scalability:\n",
    "\n",
    "    - Abstraction supports scalability by providing a structured and organized codebase.\n",
    "    - As the size of a project grows, the modular design facilitated by abstraction allows developers to extend and add new features without significantly impacting existing code.\n",
    "\n",
    "9. Abstraction of Complexity:\n",
    "\n",
    "    - Abstraction helps abstract away unnecessary complexities, allowing developers to focus on high-level design and essential functionalities.\n",
    "    - By hiding implementation details, abstraction allows developers to work with simplified representations of complex systems.\n",
    "\n",
    "In summary, abstraction promotes a modular and organized codebase, facilitates code reuse, improves code readability, and simplifies maintenance. These benefits collectively contribute to reducing code complexity and enhancing the overall quality of software development projects."
   ]
  },
  {
   "cell_type": "markdown",
   "id": "5faeb2b7",
   "metadata": {},
   "source": [
    "### 3. Create a Python class called `Shape` with an abstract method `calculate_area()`. Then, create child classes (e.g., `Circle`, `Rectangle`) that implement the `calculate_area()` method. Provide an example of using these classes.\n"
   ]
  },
  {
   "cell_type": "code",
   "execution_count": 109,
   "id": "355a62a2",
   "metadata": {},
   "outputs": [
    {
     "name": "stdout",
     "output_type": "stream",
     "text": [
      "Area of Circle: 78.53981633974483\n",
      "Area of Rectangle: 24\n"
     ]
    }
   ],
   "source": [
    "from abc import ABC, abstractmethod\n",
    "import math\n",
    "\n",
    "class Shape(ABC):\n",
    "    @abstractmethod\n",
    "    def calculate_area(self):\n",
    "        pass  # To be implemented by subclasses\n",
    "\n",
    "class Circle(Shape):\n",
    "    def __init__(self, radius):\n",
    "        self.radius = radius\n",
    "\n",
    "    def calculate_area(self):\n",
    "        return math.pi * self.radius ** 2\n",
    "\n",
    "class Rectangle(Shape):\n",
    "    def __init__(self, length, width):\n",
    "        self.length = length\n",
    "        self.width = width\n",
    "\n",
    "    def calculate_area(self):\n",
    "        return self.length * self.width\n",
    "\n",
    "# Example usage\n",
    "circle = Circle(radius=5)\n",
    "rectangle = Rectangle(length=4, width=6)\n",
    "\n",
    "# Polymorphic behavior\n",
    "shapes = [circle, rectangle]\n",
    "\n",
    "for shape in shapes:\n",
    "    print(f\"Area of {shape.__class__.__name__}: {shape.calculate_area()}\")\n"
   ]
  },
  {
   "cell_type": "markdown",
   "id": "f58d8c1d",
   "metadata": {},
   "source": [
    "### 4. Explain the concept of abstract classes in Python and how they are defined using the `abc` module. Provide an example.\n"
   ]
  },
  {
   "cell_type": "markdown",
   "id": "ba23d2df-cd45-4a37-b31d-cc2733157667",
   "metadata": {},
   "source": [
    "In Python, abstract classes are classes that cannot be instantiated on their own and are meant to be subclassed by other classes. Abstract classes may contain abstract methods, which are methods without a specific implementation. Abstract classes and methods serve as a way to define a common interface that must be implemented by concrete subclasses. The abc module (Abstract Base Classes) provides a mechanism for creating abstract classes and abstract methods.\n",
    "\n",
    "#### Defining Abstract Classes with the abc Module:\n",
    "1. Import the ABC and abstractmethod from the abc module:\n",
    "\n",
    "    - The ABC class is used as a base class for creating abstract classes.\n",
    "    - The abstractmethod decorator is used to define abstract methods within abstract classes.\n",
    "\n",
    "2. Define an Abstract Class:\n",
    "\n",
    "    - Create a class that inherits from ABC to define an abstract class.\n",
    "    - Use the @abstractmethod decorator to declare abstract methods within the class.\n",
    "\n",
    "3. Subclassing the Abstract Class:\n",
    "\n",
    "    - Create concrete subclasses that inherit from the abstract class.\n",
    "    - Provide concrete implementations for all abstract methods declared in the abstract class.\n",
    "\n",
    "4. Instantiate Concrete Subclass:\n",
    "\n",
    "    - Instantiate an object of the concrete subclass and call its methods.\n"
   ]
  },
  {
   "cell_type": "code",
   "execution_count": 110,
   "id": "7c116c3b-cf10-4ba8-a41b-5c368c325319",
   "metadata": {},
   "outputs": [
    {
     "name": "stdout",
     "output_type": "stream",
     "text": [
      "Circle Area: 78.5\n",
      "Circle Perimeter: 31.400000000000002\n",
      "Square Area: 16\n",
      "Square Perimeter: 16\n"
     ]
    }
   ],
   "source": [
    "from abc import ABC, abstractmethod\n",
    "\n",
    "class Shape(ABC):\n",
    "    @abstractmethod\n",
    "    def area(self):\n",
    "        pass\n",
    "\n",
    "    @abstractmethod\n",
    "    def perimeter(self):\n",
    "        pass\n",
    "\n",
    "class Circle(Shape):\n",
    "    def __init__(self, radius):\n",
    "        self.radius = radius\n",
    "\n",
    "    def area(self):\n",
    "        return 3.14 * self.radius**2\n",
    "\n",
    "    def perimeter(self):\n",
    "        return 2 * 3.14 * self.radius\n",
    "\n",
    "class Square(Shape):\n",
    "    def __init__(self, side):\n",
    "        self.side = side\n",
    "\n",
    "    def area(self):\n",
    "        return self.side**2\n",
    "\n",
    "    def perimeter(self):\n",
    "        return 4 * self.side\n",
    "\n",
    "# Instantiate objects and call abstract methods\n",
    "circle = Circle(radius=5)\n",
    "square = Square(side=4)\n",
    "\n",
    "print(f\"Circle Area: {circle.area()}\")\n",
    "print(f\"Circle Perimeter: {circle.perimeter()}\")\n",
    "\n",
    "print(f\"Square Area: {square.area()}\")\n",
    "print(f\"Square Perimeter: {square.perimeter()}\")\n"
   ]
  },
  {
   "cell_type": "markdown",
   "id": "f8e3fd17",
   "metadata": {},
   "source": [
    "### 5. How do abstract classes differ from regular classes in Python? Discuss their use cases.\n"
   ]
  },
  {
   "cell_type": "markdown",
   "id": "402e8317-d8a7-4ffa-9d7e-81a1e8703a47",
   "metadata": {},
   "source": [
    "Abstract classes in Python differ from regular classes in that they cannot be instantiated on their own, and they may contain abstract methods—methods without a concrete implementation. Here are some key differences between abstract classes and regular classes in Python, along with their respective use cases:\n",
    "\n",
    "#### Abstract Classes:\n",
    "1. Cannot be Instantiated:\n",
    "\n",
    "    - Abstract classes cannot be instantiated directly. They are meant to be subclassed by other classes.\n",
    "    -  An attempt to create an instance of an abstract class will result in an error.error."
   ]
  },
  {
   "cell_type": "code",
   "execution_count": 111,
   "id": "b52b2dd3-26e8-4257-b14c-e120c3c122cb",
   "metadata": {},
   "outputs": [
    {
     "ename": "TypeError",
     "evalue": "Can't instantiate abstract class AbstractClass with abstract method abstract_method",
     "output_type": "error",
     "traceback": [
      "\u001b[1;31m---------------------------------------------------------------------------\u001b[0m",
      "\u001b[1;31mTypeError\u001b[0m                                 Traceback (most recent call last)",
      "Cell \u001b[1;32mIn [111], line 10\u001b[0m\n\u001b[0;32m      6\u001b[0m         \u001b[38;5;28;01mpass\u001b[39;00m\n\u001b[0;32m      8\u001b[0m \u001b[38;5;66;03m# Attempt to instantiate an abstract class\u001b[39;00m\n\u001b[0;32m      9\u001b[0m \u001b[38;5;66;03m# This will raise a TypeError\u001b[39;00m\n\u001b[1;32m---> 10\u001b[0m obj \u001b[38;5;241m=\u001b[39m \u001b[43mAbstractClass\u001b[49m\u001b[43m(\u001b[49m\u001b[43m)\u001b[49m\n",
      "\u001b[1;31mTypeError\u001b[0m: Can't instantiate abstract class AbstractClass with abstract method abstract_method"
     ]
    }
   ],
   "source": [
    "from abc import ABC, abstractmethod\n",
    "\n",
    "class AbstractClass(ABC):\n",
    "    @abstractmethod\n",
    "    def abstract_method(self):\n",
    "        pass\n",
    "\n",
    "# Attempt to instantiate an abstract class\n",
    "# This will raise a TypeError\n",
    "obj = AbstractClass()\n"
   ]
  },
  {
   "cell_type": "markdown",
   "id": "3c946d50-0c00-4aa9-b490-528aa288e8c1",
   "metadata": {},
   "source": [
    "2. May Contain Abstract Methods:\n",
    "    \n",
    "    - Abstract classes often contain one or more abstract methods, which are methods without an implementation in the abstract class itself.\n",
    "    - Subclasses of an abstract class must provide concrete implementations for all abstract methodthods."
   ]
  },
  {
   "cell_type": "code",
   "execution_count": 112,
   "id": "be8f9ef1-6de7-4429-b64d-f498ecd414ce",
   "metadata": {},
   "outputs": [],
   "source": [
    "class Shape(ABC):\n",
    "    @abstractmethod\n",
    "    def area(self):\n",
    "        pass\n",
    "\n",
    "class Circle(Shape):\n",
    "    def __init__(self, radius):\n",
    "        self.radius = radius\n",
    "\n",
    "    def area(self):\n",
    "        return 3.14 * self.radius * self.radius\n"
   ]
  },
  {
   "cell_type": "markdown",
   "id": "258ebaf9-1bb2-4a30-93cc-a3be2d07a368",
   "metadata": {},
   "source": [
    "3. Support for Multiple Inheritance:\n",
    "\n",
    "    - Abstract classes in Python support multiple inheritance. A class can inherit from multiple abstract classes.s."
   ]
  },
  {
   "cell_type": "code",
   "execution_count": 113,
   "id": "0668a1dc-583a-45af-8670-c190d97a82b7",
   "metadata": {},
   "outputs": [],
   "source": [
    "class A(ABC):\n",
    "    @abstractmethod\n",
    "    def method_a(self):\n",
    "        pass\n",
    "\n",
    "class B(ABC):\n",
    "    @abstractmethod\n",
    "    def method_b(self):\n",
    "        pass\n",
    "\n",
    "class C(A, B):\n",
    "    def method_a(self):\n",
    "        print(\"Concrete implementation of method_a\")\n",
    "\n",
    "    def method_b(self):\n",
    "        print(\"Concrete implementation of method_b\")\n"
   ]
  },
  {
   "cell_type": "markdown",
   "id": "4c88750a-ae3d-494b-af65-9c902e19b6f3",
   "metadata": {},
   "source": [
    "#### Regular Classes:\n",
    "1. Can be Instantiated:\n",
    "\n",
    "    - Regular classes can be instantiated directly without any restrictions.ns."
   ]
  },
  {
   "cell_type": "code",
   "execution_count": 114,
   "id": "c440fd06-2a8b-4592-a9b1-9feacb3970fa",
   "metadata": {},
   "outputs": [],
   "source": [
    "class RegularClass:\n",
    "    def __init__(self, value):\n",
    "        self.value = value\n",
    "\n",
    "obj = RegularClass(42)\n"
   ]
  },
  {
   "cell_type": "markdown",
   "id": "95798d53-16e5-4ea3-b064-c27951a32ea0",
   "metadata": {},
   "source": [
    "2. All Methods Have Implementations:\n",
    "\n",
    "    - In regular classes, all methods have concrete implementations. There are no abstract methods.s."
   ]
  },
  {
   "cell_type": "code",
   "execution_count": 115,
   "id": "2b58068f-9a79-41e4-ba82-6fc834e0020b",
   "metadata": {},
   "outputs": [],
   "source": [
    "class Calculator:\n",
    "    def add(self, a, b):\n",
    "        return a + b\n",
    "\n",
    "    def multiply(self, a, b):\n",
    "        return a * b\n"
   ]
  },
  {
   "cell_type": "markdown",
   "id": "c3631639-cf71-460b-852c-af5b07423d72",
   "metadata": {},
   "source": [
    "3. Support for Single Inheritance:\n",
    "\n",
    "    - Regular classes in Python support single inheritance. A class can inherit from only one other class.s."
   ]
  },
  {
   "cell_type": "code",
   "execution_count": 116,
   "id": "9fcf9c17-2ce7-42ed-b9af-73b4ae9ad6f3",
   "metadata": {},
   "outputs": [],
   "source": [
    "class ParentClass:\n",
    "    def parent_method(self):\n",
    "        print(\"Parent method implementation\")\n",
    "\n",
    "class ChildClass(ParentClass):\n",
    "    def child_method(self):\n",
    "        print(\"Child method implementation\")\n"
   ]
  },
  {
   "cell_type": "markdown",
   "id": "1eaadbdb-3365-4020-a3b2-c17462019840",
   "metadata": {},
   "source": [
    "#### Use Cases:\n",
    "1. Abstract Classes:\n",
    "\n",
    "    - Use abstract classes when you want to define a common interface for a group of related classes, and you want to ensure that certain methods are implemented by all subclasses.\n",
    "    - Abstract classes are beneficial when you want to provide a base class with some shared functionality but leave certain methods to be implemented by derived classes.\n",
    "\n",
    "2. Regular Classes:\n",
    "\n",
    "    - Use regular classes when you want to create instances of the class directly and when all methods of the class have concrete implementations.\n",
    "    - Regular classes are suitable for situations where there is no need for a common base class with abstract methods, and each class can stand on its own without relying on shared interfaces.erfaces."
   ]
  },
  {
   "cell_type": "markdown",
   "id": "7a8ca019",
   "metadata": {},
   "source": [
    "### 6. Create a Python class for a bank account and demonstrate abstraction by hiding the account balance and providing methods to deposit and withdraw funds.\n"
   ]
  },
  {
   "cell_type": "code",
   "execution_count": 117,
   "id": "e858f86f",
   "metadata": {},
   "outputs": [
    {
     "name": "stdout",
     "output_type": "stream",
     "text": [
      "Deposit of $1000 successful. New balance: $1000\n",
      "Withdrawal of $500 successful. New balance: $500\n",
      "Current balance: $500\n"
     ]
    }
   ],
   "source": [
    "class BankAccount:\n",
    "    def __init__(self, account_number, initial_balance=0):\n",
    "        self.account_number = account_number\n",
    "        self._balance = initial_balance  # Private attribute\n",
    "\n",
    "    def deposit(self, amount):\n",
    "        \"\"\"Deposit funds into the account.\"\"\"\n",
    "        if amount > 0:\n",
    "            self._balance += amount\n",
    "            print(f\"Deposit of ${amount} successful. New balance: ${self._balance}\")\n",
    "        else:\n",
    "            print(\"Invalid deposit amount. Please enter a positive value.\")\n",
    "\n",
    "    def withdraw(self, amount):\n",
    "        \"\"\"Withdraw funds from the account.\"\"\"\n",
    "        if 0 < amount <= self._balance:\n",
    "            self._balance -= amount\n",
    "            print(f\"Withdrawal of ${amount} successful. New balance: ${self._balance}\")\n",
    "        else:\n",
    "            print(\"Invalid withdrawal amount or insufficient funds.\")\n",
    "\n",
    "    # Getter method to retrieve the balance (read-only)\n",
    "    def get_balance(self):\n",
    "        \"\"\"Get the current balance.\"\"\"\n",
    "        return self._balance\n",
    "\n",
    "# Example usage demonstrating abstraction\n",
    "account = BankAccount(account_number=\"123456789\")\n",
    "\n",
    "# Accessing balance directly (not recommended due to abstraction)\n",
    "# print(account._balance)  # Uncommenting this line would violate abstraction\n",
    "\n",
    "# Deposit and withdraw using public methods\n",
    "account.deposit(1000)\n",
    "account.withdraw(500)\n",
    "\n",
    "# Accessing balance through the getter method (recommended for abstraction)\n",
    "current_balance = account.get_balance()\n",
    "print(f\"Current balance: ${current_balance}\")\n"
   ]
  },
  {
   "cell_type": "markdown",
   "id": "ff31f99a",
   "metadata": {},
   "source": [
    "### 7. Discuss the concept of interface classes in Python and their role in achieving abstraction.\n"
   ]
  },
  {
   "cell_type": "markdown",
   "id": "f2a8089c-f4e4-4f90-8c38-bb1d2c6eaaa9",
   "metadata": {},
   "source": [
    "In Python, interface classes are not explicitly defined like in some other programming languages such as Java or C#. However, the concept of interfaces can be achieved through abstract base classes (ABCs) using the ABC module and the @abstractmethod decorator. Interface classes, in the context of Python, serve as a way to define a common set of methods that multiple classes are expected to implement, ensuring a consistent interface across different implementations.\n",
    "\n",
    "## Role of Interface Classes in Achieving Abstraction:\n",
    "1. Abstract Base Classes (ABCs):\n",
    "\n",
    "    - Python provides the ABC module to create abstract base classes. Abstract base classes can contain abstract methods using the @abstractmethod decorator.\n",
    "    - Abstract methods defined in an ABC serve as a form of interface, declaring the methods that concrete subclasses must implement.\n",
    "\n",
    "2. Consistent Interface:\n",
    "\n",
    "    - Interface classes define a consistent set of methods that subclasses are expected to provide.\n",
    "    - This ensures that different implementations of a concept adhere to the same interface, promoting a standard way of interacting with objects.\n",
    "\n",
    "3. Polymorphism and Duck Typing:\n",
    "\n",
    "    - Interface classes facilitate polymorphism by allowing objects of different classes to be treated uniformly based on a common interface.\n",
    "    - Python's dynamic typing and duck typing enable objects to be used based on their behavior (methods they implement) rather than their explicit type.\n",
    "\n",
    "4. Enforcement of Methods:\n",
    "\n",
    "    - Interface classes help enforce that certain methods must be implemented in concrete subclasses.\n",
    "    - Attempting to create an instance of a concrete subclass that doesn't provide implementations for all abstract methods will result in a TypeError.\n",
    "\n",
    "5. Code Documentation:\n",
    "\n",
    "    - Interface classes serve as a form of documentation, indicating the expected methods that subclasses should implement.\n",
    "    - This makes code more self-explanatory and helps developers understand the required interface when creating new classes.\n",
    "\n",
    "\n",
    "In summary, while Python does not have a distinct concept of interface classes, the use of abstract base classes and abstract methods allows for the definition of interfaces. Interface classes play a crucial role in achieving abstraction by defining a common set of methods that ensure a consistent interface across related classes, promoting code reuse, polymorphism, and a clean design.\n"
   ]
  },
  {
   "cell_type": "code",
   "execution_count": 118,
   "id": "23bbdf3e-00de-4014-90a3-8cbb1d132967",
   "metadata": {},
   "outputs": [],
   "source": [
    "from abc import ABC, abstractmethod\n",
    "\n",
    "class Shape(ABC):\n",
    "    @abstractmethod\n",
    "    def area(self):\n",
    "        pass\n",
    "\n",
    "    @abstractmethod\n",
    "    def perimeter(self):\n",
    "        pass\n"
   ]
  },
  {
   "cell_type": "code",
   "execution_count": 119,
   "id": "88ecd7a1-d2c2-48ed-91dc-176e9f76ec05",
   "metadata": {},
   "outputs": [],
   "source": [
    "class Circle(Shape):\n",
    "    def __init__(self, radius):\n",
    "        self.radius = radius\n",
    "\n",
    "    def area(self):\n",
    "        return 3.14 * self.radius**2\n",
    "\n",
    "    def perimeter(self):\n",
    "        return 2 * 3.14 * self.radius\n",
    "\n",
    "class Square(Shape):\n",
    "    def __init__(self, side):\n",
    "        self.side = side\n",
    "\n",
    "    def area(self):\n",
    "        return self.side**2\n",
    "\n",
    "    def perimeter(self):\n",
    "        return 4 * self.side\n"
   ]
  },
  {
   "cell_type": "code",
   "execution_count": 120,
   "id": "9632e00d-2442-40c9-9697-b2d8fffba610",
   "metadata": {},
   "outputs": [
    {
     "name": "stdout",
     "output_type": "stream",
     "text": [
      "Area: 78.5, Perimeter: 31.400000000000002\n",
      "Area: 16, Perimeter: 16\n"
     ]
    }
   ],
   "source": [
    "def print_shape_info(shape):\n",
    "    print(f\"Area: {shape.area()}, Perimeter: {shape.perimeter()}\")\n",
    "\n",
    "circle = Circle(radius=5)\n",
    "square = Square(side=4)\n",
    "\n",
    "print_shape_info(circle)  # Polymorphic behavior\n",
    "print_shape_info(square)  # Polymorphic behavior\n"
   ]
  },
  {
   "cell_type": "code",
   "execution_count": 121,
   "id": "f2a344ec-7c86-418a-8ae7-93e395f0a596",
   "metadata": {},
   "outputs": [],
   "source": [
    "class Triangle(Shape):  # Error: Can't instantiate abstract class Triangle with abstract methods area\n",
    "    pass\n"
   ]
  },
  {
   "cell_type": "markdown",
   "id": "2d441521",
   "metadata": {},
   "source": [
    "### 8. Create a Python class hierarchy for animals and implement abstraction by defining common methods (e.g., `eat()`, `sleep()`) in an abstract base class.\n"
   ]
  },
  {
   "cell_type": "code",
   "execution_count": 122,
   "id": "22da3df8",
   "metadata": {},
   "outputs": [
    {
     "name": "stdout",
     "output_type": "stream",
     "text": [
      "Leo the Lion is making mammal sounds.\n",
      "Leo the Lion is eating.\n",
      "Leo the Lion is sleeping.\n",
      "\n",
      "Polly the Parrot is chirping.\n",
      "Polly the Parrot is eating.\n",
      "Polly the Parrot is sleeping.\n",
      "\n",
      "Sly the Snake is hissing.\n",
      "Sly the Snake is eating.\n",
      "Sly the Snake is sleeping.\n",
      "\n"
     ]
    }
   ],
   "source": [
    "from abc import ABC, abstractmethod\n",
    "\n",
    "class Animal(ABC):\n",
    "    def __init__(self, name, species):\n",
    "        self.name = name\n",
    "        self.species = species\n",
    "\n",
    "    @abstractmethod\n",
    "    def make_sound(self):\n",
    "        \"\"\"Abstract method to be implemented by subclasses.\"\"\"\n",
    "        pass\n",
    "\n",
    "    def eat(self):\n",
    "        return f\"{self.name} the {self.species} is eating.\"\n",
    "\n",
    "    def sleep(self):\n",
    "        return f\"{self.name} the {self.species} is sleeping.\"\n",
    "\n",
    "class Mammal(Animal):\n",
    "    def make_sound(self):\n",
    "        return f\"{self.name} the {self.species} is making mammal sounds.\"\n",
    "\n",
    "class Bird(Animal):\n",
    "    def make_sound(self):\n",
    "        return f\"{self.name} the {self.species} is chirping.\"\n",
    "\n",
    "class Reptile(Animal):\n",
    "    def make_sound(self):\n",
    "        return f\"{self.name} the {self.species} is hissing.\"\n",
    "\n",
    "# Example usage demonstrating abstraction\n",
    "lion = Mammal(name=\"Leo\", species=\"Lion\")\n",
    "parrot = Bird(name=\"Polly\", species=\"Parrot\")\n",
    "snake = Reptile(name=\"Sly\", species=\"Snake\")\n",
    "\n",
    "# Polymorphic behavior with common methods\n",
    "animals = [lion, parrot, snake]\n",
    "\n",
    "for animal in animals:\n",
    "    print(animal.make_sound())\n",
    "    print(animal.eat())\n",
    "    print(animal.sleep())\n",
    "    print()\n"
   ]
  },
  {
   "cell_type": "markdown",
   "id": "094bcb36",
   "metadata": {},
   "source": [
    "### 9. Explain the significance of encapsulation in achieving abstraction. Provide examples.\n"
   ]
  },
  {
   "cell_type": "markdown",
   "id": "43d6ee97-1ceb-41b5-86ba-4ff2d6e94ce5",
   "metadata": {},
   "source": [
    "Encapsulation and abstraction are closely related concepts in object-oriented programming, and encapsulation plays a significant role in achieving abstraction. Encapsulation involves bundling the data (attributes) and the methods (functions) that operate on the data into a single unit known as a class. It allows for the hiding of the internal implementation details from the external world, providing a well-defined interface for interacting with the object.\n",
    "\n",
    "Significance of Encapsulation in Achieving Abstraction:\n",
    "\n",
    "1. Information Hiding:\n",
    "\n",
    "    - Encapsulation hides the internal details of an object's implementation, exposing only what is necessary for external interaction.\n",
    "    - This information hiding reduces complexity, prevents unauthorized access, and promotes a clean separation between an object's internal state and its external behavior.\n",
    "\n",
    "2. Consistent Interface:\n",
    "\n",
    "    - Encapsulation ensures a consistent interface for interacting with objects. External code interacts with objects through methods, abstracting away the complexities of the internal implementation.\n",
    "    - Users of the class don't need to know how a method achieves its functionality; they only need to understand what the method does.\n",
    "\n",
    "3. Abstraction of Complexity:\n",
    "\n",
    "    - Encapsulation abstracts away the complexity of the internal implementation, allowing users to focus on the essential aspects of the object.\n",
    "    - Users can use objects without needing to understand the intricate details of how the object maintains its state or achieves its functionality.\n",
    "\n",
    "4. Prevention of Unauthorized Access:\n",
    "\n",
    "    - Encapsulation provides control over access to the internal attributes of an object by using access modifiers such as private, protected, and public.\n",
    "    - This prevents unauthorized modifications to the object's state and ensures that access is restricted to well-defined methods.\n",
    "\n",
    "5. Code Maintenance and Evolution:\n",
    "\n",
    "    - Encapsulation facilitates code maintenance and evolution. Internal changes to the implementation can be made without affecting the external code that relies on the class.\n",
    "    - This decoupling allows for updates and improvements to be made to the internal implementation without breaking existing code.\n",
    "\n",
    "In summary, encapsulation is crucial in achieving abstraction by hiding the internal implementation details of an object and providing a well-defined interface for external interaction. This separation of concerns promotes code maintainability, security, and a clean design that facilitates abstraction in object-oriented programming."
   ]
  },
  {
   "cell_type": "code",
   "execution_count": 123,
   "id": "3282aa76-db4c-4e4d-8179-77442ad1f301",
   "metadata": {},
   "outputs": [],
   "source": [
    "# Consistent Interface\n",
    "\n",
    "class BankAccount:\n",
    "    def __init__(self, balance):\n",
    "        self.balance = balance\n",
    "\n",
    "    def deposit(self, amount):\n",
    "        self.balance += amount\n",
    "\n",
    "    def withdraw(self, amount):\n",
    "        if amount <= self.balance:\n",
    "            self.balance -= amount\n",
    "        else:\n",
    "            print(\"Insufficient funds.\")\n",
    "\n",
    "# External code interacts with BankAccount through a consistent interface\n",
    "account = BankAccount(balance=1000)\n",
    "account.deposit(500)\n",
    "account.withdraw(200)\n"
   ]
  },
  {
   "cell_type": "code",
   "execution_count": 124,
   "id": "8eab5d01-24f0-4b89-a585-2fb5ff52de83",
   "metadata": {},
   "outputs": [
    {
     "name": "stdout",
     "output_type": "stream",
     "text": [
      "John\n",
      "John\n"
     ]
    },
    {
     "ename": "AttributeError",
     "evalue": "'Student' object has no attribute '__age'",
     "output_type": "error",
     "traceback": [
      "\u001b[1;31m---------------------------------------------------------------------------\u001b[0m",
      "\u001b[1;31mAttributeError\u001b[0m                            Traceback (most recent call last)",
      "Cell \u001b[1;32mIn [124], line 18\u001b[0m\n\u001b[0;32m     16\u001b[0m \u001b[38;5;28mprint\u001b[39m(student\u001b[38;5;241m.\u001b[39mget_name())  \u001b[38;5;66;03m# Access through method\u001b[39;00m\n\u001b[0;32m     17\u001b[0m \u001b[38;5;28mprint\u001b[39m(student\u001b[38;5;241m.\u001b[39m_name)       \u001b[38;5;66;03m# Access through protected attribute (_name)\u001b[39;00m\n\u001b[1;32m---> 18\u001b[0m \u001b[38;5;28mprint\u001b[39m(\u001b[43mstudent\u001b[49m\u001b[38;5;241;43m.\u001b[39;49m\u001b[43m__age\u001b[49m)        \u001b[38;5;66;03m# Error: 'Student' object has no attribute '__age'\u001b[39;00m\n",
      "\u001b[1;31mAttributeError\u001b[0m: 'Student' object has no attribute '__age'"
     ]
    }
   ],
   "source": [
    "# Prevention of Unauthorized Access\n",
    "\n",
    "class Student:\n",
    "    def __init__(self, name, age):\n",
    "        self._name = name  # Protected attribute\n",
    "        self.__age = age   # Private attribute\n",
    "\n",
    "    def get_name(self):\n",
    "        return self._name\n",
    "\n",
    "    def get_age(self):\n",
    "        return self.__age\n",
    "\n",
    "# External code can access data through well-defined methods, but direct access is restricted\n",
    "student = Student(name=\"John\", age=20)\n",
    "print(student.get_name())  # Access through method\n",
    "print(student._name)       # Access through protected attribute (_name)\n",
    "print(student.__age)        # Error: 'Student' object has no attribute '__age'\n"
   ]
  },
  {
   "cell_type": "code",
   "execution_count": 125,
   "id": "1fa09484-bc74-40df-b5c7-5d4dc3d52a3a",
   "metadata": {},
   "outputs": [
    {
     "name": "stdout",
     "output_type": "stream",
     "text": [
      "Car: Toyota Camry\n"
     ]
    }
   ],
   "source": [
    "# Code Maintenance and Evolution\n",
    "\n",
    "class Car:\n",
    "    def __init__(self, brand, model):\n",
    "        self.brand = brand\n",
    "        self.model = model\n",
    "\n",
    "    def display_info(self):\n",
    "        print(f\"Car: {self.brand} {self.model}\")\n",
    "\n",
    "# External code relies on the display_info method, not the internal attributes\n",
    "car = Car(brand=\"Toyota\", model=\"Camry\")\n",
    "car.display_info()\n",
    "\n",
    "# Internal change to attribute names doesn't affect external code\n",
    "class Car:\n",
    "    def __init__(self, make, model):\n",
    "        self.make = make\n",
    "        self.model = model\n",
    "\n",
    "    def display_info(self):\n",
    "        print(f\"Car: {self.make} {self.model}\")\n"
   ]
  },
  {
   "cell_type": "code",
   "execution_count": null,
   "id": "5b655544-ba9e-4ffb-adfe-b41e83966019",
   "metadata": {},
   "outputs": [],
   "source": []
  },
  {
   "cell_type": "markdown",
   "id": "22db55f5",
   "metadata": {},
   "source": [
    "### 10. What is the purpose of abstract methods, and how do they enforce abstraction in Python classes?\n"
   ]
  },
  {
   "cell_type": "markdown",
   "id": "4e54eb8a-ec42-4452-869e-719f4d567a79",
   "metadata": {},
   "source": [
    "Abstract methods in Python serve the purpose of defining a method signature in an abstract base class (ABC) without providing a concrete implementation. They enforce abstraction by requiring that concrete subclasses provide their own implementations for these abstract methods. Abstract methods establish a contract that subclasses must adhere to, ensuring a consistent interface across related classes.\n",
    "\n",
    "Here's how abstract methods work and enforce abstraction in Python classes:\n",
    "\n",
    "1. Definition of Abstract Methods:\n",
    "\n",
    "    - Abstract methods are declared using the @abstractmethod decorator in an abstract base class.\n",
    "    - These methods have no implementation in the abstract base class itself, only the method signature.\n",
    "\n",
    "2. Cannot Be Instantiated:\n",
    "\n",
    "    - An abstract class containing one or more abstract methods cannot be instantiated directly.\n",
    "    - Attempting to create an instance of an abstract class with abstract methods will result in a TypeError.\n",
    "\n",
    "3. Enforced Implementation in Subclasses:\n",
    "\n",
    "    - Concrete subclasses of an abstract class must provide concrete implementations for all abstract methods declared in the abstract class.\n",
    "    - The absence of an implementation for an abstract method in a subclass will result in a TypeError when attempting to instantiate the subclass.\n",
    "\n",
    "4. Consistent Interface:\n",
    "\n",
    "    - Abstract methods ensure a consistent interface across related classes.\n",
    "    - All subclasses are forced to implement the same set of methods, promoting a standard and predictable interface.\n",
    "\n",
    "5. Use in Inheritance and Polymorphism:\n",
    "\n",
    "    - Abstract methods play a crucial role in inheritance and polymorphism.\n",
    "    - They allow different subclasses to be treated uniformly based on the common interface defined by the abstract methods.\n",
    "\n",
    "In summary, abstract methods in Python enforce abstraction by requiring concrete subclasses to provide their own implementations. They establish a contract, ensuring that related classes adhere to a consistent interface. Abstract methods are a key feature in achieving polymorphism and facilitating a clean and predictable design in object-oriented programming."
   ]
  },
  {
   "cell_type": "code",
   "execution_count": 126,
   "id": "d8603151-5e00-4ab6-87ce-b1707e0e6e08",
   "metadata": {},
   "outputs": [
    {
     "ename": "TypeError",
     "evalue": "Can't instantiate abstract class MyAbstractClass with abstract method my_abstract_method",
     "output_type": "error",
     "traceback": [
      "\u001b[1;31m---------------------------------------------------------------------------\u001b[0m",
      "\u001b[1;31mTypeError\u001b[0m                                 Traceback (most recent call last)",
      "Cell \u001b[1;32mIn [126], line 8\u001b[0m\n\u001b[0;32m      6\u001b[0m         \u001b[38;5;28;01mpass\u001b[39;00m\n\u001b[0;32m      7\u001b[0m \u001b[38;5;66;03m# 2\u001b[39;00m\n\u001b[1;32m----> 8\u001b[0m obj \u001b[38;5;241m=\u001b[39m \u001b[43mMyAbstractClass\u001b[49m\u001b[43m(\u001b[49m\u001b[43m)\u001b[49m  \u001b[38;5;66;03m# Error: Can't instantiate abstract class MyAbstractClass with abstract methods my_abstract_method\u001b[39;00m\n",
      "\u001b[1;31mTypeError\u001b[0m: Can't instantiate abstract class MyAbstractClass with abstract method my_abstract_method"
     ]
    }
   ],
   "source": [
    "from abc import ABC, abstractmethod\n",
    "\n",
    "class MyAbstractClass(ABC):\n",
    "    @abstractmethod\n",
    "    def my_abstract_method(self):\n",
    "        pass\n",
    "# 2\n",
    "obj = MyAbstractClass()  # Error: Can't instantiate abstract class MyAbstractClass with abstract methods my_abstract_method\n"
   ]
  },
  {
   "cell_type": "code",
   "execution_count": 127,
   "id": "43cd92e3-17b1-41ba-9d88-c5684d574bb2",
   "metadata": {},
   "outputs": [],
   "source": [
    "# 3 \n",
    "class MyConcreteClass(MyAbstractClass):\n",
    "    def my_abstract_method(self):\n",
    "        print(\"Concrete implementation of my_abstract_method\")\n",
    "\n",
    "obj = MyConcreteClass()  # No error, as MyConcreteClass provides an implementation for my_abstract_method\n"
   ]
  },
  {
   "cell_type": "code",
   "execution_count": 128,
   "id": "c948ba57-cae9-4448-beae-ff7907bfec08",
   "metadata": {},
   "outputs": [],
   "source": [
    "# 4\n",
    "class AnotherConcreteClass(MyAbstractClass):\n",
    "    # Error: Can't instantiate abstract class AnotherConcreteClass with abstract methods my_abstract_method\n",
    "    pass\n"
   ]
  },
  {
   "cell_type": "code",
   "execution_count": 129,
   "id": "cb2baac2-435c-4ef5-9ade-1dc26f53b4bd",
   "metadata": {},
   "outputs": [
    {
     "name": "stdout",
     "output_type": "stream",
     "text": [
      "Concrete implementation of my_abstract_method\n"
     ]
    }
   ],
   "source": [
    "# 5\n",
    "def process_object(obj):\n",
    "    obj.my_abstract_method()\n",
    "\n",
    "concrete_obj = MyConcreteClass()\n",
    "process_object(concrete_obj)  # Polymorphic behavior, as process_object can accept any object with my_abstract_method\n"
   ]
  },
  {
   "cell_type": "markdown",
   "id": "069ba341",
   "metadata": {},
   "source": [
    "### 11. Create a Python class for a vehicle system and demonstrate abstraction by defining common methods (e.g., `start()`, `stop()`) in an abstract base class.\n",
    "\n"
   ]
  },
  {
   "cell_type": "code",
   "execution_count": 130,
   "id": "2d228ad3",
   "metadata": {},
   "outputs": [
    {
     "name": "stdout",
     "output_type": "stream",
     "text": [
      "Toyota Camry engine started. Ready to drive.\n",
      "Toyota Camry is honking.\n",
      "Toyota Camry engine stopped. Parked safely.\n",
      "\n",
      "Honda CBR500R engine started. Ready to ride.\n",
      "Honda CBR500R is honking.\n",
      "Honda CBR500R engine stopped. Parked safely.\n",
      "\n"
     ]
    }
   ],
   "source": [
    "from abc import ABC, abstractmethod\n",
    "\n",
    "class Vehicle(ABC):\n",
    "    def __init__(self, brand, model):\n",
    "        self.brand = brand\n",
    "        self.model = model\n",
    "        self.engine_started = False\n",
    "\n",
    "    @abstractmethod\n",
    "    def start(self):\n",
    "        \"\"\"Abstract method to start the vehicle.\"\"\"\n",
    "        pass\n",
    "\n",
    "    @abstractmethod\n",
    "    def stop(self):\n",
    "        \"\"\"Abstract method to stop the vehicle.\"\"\"\n",
    "        pass\n",
    "\n",
    "    def honk(self):\n",
    "        return f\"{self.brand} {self.model} is honking.\"\n",
    "\n",
    "class Car(Vehicle):\n",
    "    def start(self):\n",
    "        self.engine_started = True\n",
    "        return f\"{self.brand} {self.model} engine started. Ready to drive.\"\n",
    "\n",
    "    def stop(self):\n",
    "        self.engine_started = False\n",
    "        return f\"{self.brand} {self.model} engine stopped. Parked safely.\"\n",
    "\n",
    "class Motorcycle(Vehicle):\n",
    "    def start(self):\n",
    "        self.engine_started = True\n",
    "        return f\"{self.brand} {self.model} engine started. Ready to ride.\"\n",
    "\n",
    "    def stop(self):\n",
    "        self.engine_started = False\n",
    "        return f\"{self.brand} {self.model} engine stopped. Parked safely.\"\n",
    "\n",
    "# Example usage demonstrating abstraction\n",
    "car = Car(brand=\"Toyota\", model=\"Camry\")\n",
    "motorcycle = Motorcycle(brand=\"Honda\", model=\"CBR500R\")\n",
    "\n",
    "# Polymorphic behavior with common methods\n",
    "vehicles = [car, motorcycle]\n",
    "\n",
    "for vehicle in vehicles:\n",
    "    print(vehicle.start())\n",
    "    print(vehicle.honk())\n",
    "    print(vehicle.stop())\n",
    "    print()\n"
   ]
  },
  {
   "cell_type": "markdown",
   "id": "ea810f0e",
   "metadata": {},
   "source": [
    "### 12. Describe the use of abstract properties in Python and how they can be employed in abstract classes.\n"
   ]
  },
  {
   "cell_type": "markdown",
   "id": "a8b0ebba-045c-4f05-9cb0-38fec622de6f",
   "metadata": {},
   "source": [
    "Abstract properties in Python are used in abstract classes to define properties (attributes) that must be implemented by the subclasses. Similar to abstract methods, abstract properties ensure that certain attributes are present in all subclasses, but they don't provide a specific implementation. Abstract properties are declared using the @property decorator along with the @abstractmethod decorator."
   ]
  },
  {
   "cell_type": "code",
   "execution_count": 131,
   "id": "dc9f22ad-a1ee-4022-9329-d6bc3b87f336",
   "metadata": {},
   "outputs": [
    {
     "name": "stdout",
     "output_type": "stream",
     "text": [
      "Circle Area: 78.5\n",
      "Circle Perimeter: 31.400000000000002\n",
      "Rectangle Area: 24\n",
      "Rectangle Perimeter: 20\n"
     ]
    }
   ],
   "source": [
    "from abc import ABC, abstractmethod, abstractproperty\n",
    "\n",
    "class Shape(ABC):\n",
    "    @property\n",
    "    @abstractmethod\n",
    "    def area(self):\n",
    "        \"\"\"Abstract property representing the area of the shape.\"\"\"\n",
    "        pass\n",
    "\n",
    "    @property\n",
    "    @abstractmethod\n",
    "    def perimeter(self):\n",
    "        \"\"\"Abstract property representing the perimeter of the shape.\"\"\"\n",
    "        pass\n",
    "\n",
    "class Circle(Shape):\n",
    "    def __init__(self, radius):\n",
    "        self.radius = radius\n",
    "\n",
    "    @property\n",
    "    def area(self):\n",
    "        return 3.14 * self.radius**2\n",
    "\n",
    "    @property\n",
    "    def perimeter(self):\n",
    "        return 2 * 3.14 * self.radius\n",
    "\n",
    "class Rectangle(Shape):\n",
    "    def __init__(self, length, width):\n",
    "        self.length = length\n",
    "        self.width = width\n",
    "\n",
    "    @property\n",
    "    def area(self):\n",
    "        return self.length * self.width\n",
    "\n",
    "    @property\n",
    "    def perimeter(self):\n",
    "        return 2 * (self.length + self.width)\n",
    "\n",
    "# Instantiate objects and use the abstract properties\n",
    "circle = Circle(radius=5)\n",
    "rectangle = Rectangle(length=4, width=6)\n",
    "\n",
    "print(f\"Circle Area: {circle.area}\")\n",
    "print(f\"Circle Perimeter: {circle.perimeter}\")\n",
    "\n",
    "print(f\"Rectangle Area: {rectangle.area}\")\n",
    "print(f\"Rectangle Perimeter: {rectangle.perimeter}\")\n"
   ]
  },
  {
   "cell_type": "markdown",
   "id": "55049713-dba3-4bf6-8962-c83e95f13710",
   "metadata": {},
   "source": [
    "Attempting to instantiate a class that doesn't provide concrete implementations for the abstract properties will result in a TypeError. For example, if you try to create a subclass of Shape without providing implementations for area and perimeter, we'll get an error"
   ]
  },
  {
   "cell_type": "code",
   "execution_count": 132,
   "id": "9b28d34d-72ae-4ea9-85d1-612e40420224",
   "metadata": {},
   "outputs": [],
   "source": [
    "class Triangle(Shape):  # Error: Can't instantiate abstract class Triangle with abstract methods area, perimeter\n",
    "    pass\n"
   ]
  },
  {
   "cell_type": "markdown",
   "id": "a1bd35c3",
   "metadata": {},
   "source": [
    "### 13. Create a Python class hierarchy for employees in a company (e.g., manager, developer, designer) and implement abstraction by defining a common `get_salary()` method.\n"
   ]
  },
  {
   "cell_type": "code",
   "execution_count": 133,
   "id": "121f76ef",
   "metadata": {},
   "outputs": [
    {
     "name": "stdout",
     "output_type": "stream",
     "text": [
      "John Manager (Manager): Salary - $88000\n",
      "Alice Developer (Developer): Salary - $62000\n",
      "Bob Designer (Designer): Salary - $51000\n"
     ]
    }
   ],
   "source": [
    "from abc import ABC, abstractmethod\n",
    "\n",
    "class Employee(ABC):\n",
    "    def __init__(self, employee_id, name, role):\n",
    "        self.employee_id = employee_id\n",
    "        self.name = name\n",
    "        self.role = role\n",
    "\n",
    "    @abstractmethod\n",
    "    def get_salary(self):\n",
    "        \"\"\"Abstract method to calculate and return the salary.\"\"\"\n",
    "        pass\n",
    "\n",
    "class Manager(Employee):\n",
    "    def __init__(self, employee_id, name, team_size):\n",
    "        super().__init__(employee_id, name, role=\"Manager\")\n",
    "        self.team_size = team_size\n",
    "\n",
    "    def get_salary(self):\n",
    "        base_salary = 80000\n",
    "        team_bonus = self.team_size * 1000\n",
    "        return base_salary + team_bonus\n",
    "\n",
    "class Developer(Employee):\n",
    "    def __init__(self, employee_id, name, programming_language):\n",
    "        super().__init__(employee_id, name, role=\"Developer\")\n",
    "        self.programming_language = programming_language\n",
    "\n",
    "    def get_salary(self):\n",
    "        base_salary = 60000\n",
    "        language_bonus = 2000 if self.programming_language == \"Python\" else 0\n",
    "        return base_salary + language_bonus\n",
    "\n",
    "class Designer(Employee):\n",
    "    def __init__(self, employee_id, name, creative_skills):\n",
    "        super().__init__(employee_id, name, role=\"Designer\")\n",
    "        self.creative_skills = creative_skills\n",
    "\n",
    "    def get_salary(self):\n",
    "        base_salary = 50000\n",
    "        skills_bonus = len(self.creative_skills) * 500\n",
    "        return base_salary + skills_bonus\n",
    "\n",
    "# Example usage demonstrating abstraction\n",
    "manager = Manager(employee_id=101, name=\"John Manager\", team_size=8)\n",
    "developer = Developer(employee_id=201, name=\"Alice Developer\", programming_language=\"Python\")\n",
    "designer = Designer(employee_id=301, name=\"Bob Designer\", creative_skills=[\"UI/UX\", \"Illustration\"])\n",
    "\n",
    "# Polymorphic behavior with common method\n",
    "employees = [manager, developer, designer]\n",
    "\n",
    "for employee in employees:\n",
    "    print(f\"{employee.name} ({employee.role}): Salary - ${employee.get_salary()}\")\n"
   ]
  },
  {
   "cell_type": "markdown",
   "id": "506e4593",
   "metadata": {},
   "source": [
    "### 14. Discuss the differences between abstract classes and concrete classes in Python, including their instantiation.\n"
   ]
  },
  {
   "cell_type": "markdown",
   "id": "3024c372-70c0-4c5d-ae20-52a52ae486f7",
   "metadata": {},
   "source": [
    "In Python, abstract classes and concrete classes serve different purposes, especially in the context of object-oriented programming. Let's discuss the differences between abstract and concrete classes, including their instantiation.\n",
    "\n",
    "## Abstract Classes\n",
    "1. Definition:\n",
    "\n",
    "    - An abstract class in Python is a class that cannot be instantiated on its own.\n",
    "    - It typically serves as a blueprint for other classes, providing a common interface through abstract methods.\n",
    "    - Abstract classes are defined using the ABC (Abstract Base Class) module, and abstract methods are marked with the @abstractmethod decorator.\n",
    "\n",
    "2. Abstract Methods:\n",
    "\n",
    "    - Abstract classes may contain abstract methods, which are methods without a specific implementation.\n",
    "    - Subclasses of an abstract class must provide concrete implementations for all abstract methods defined in the abstract class.\n",
    "\n",
    "3. Cannot Be Instantiated:\n",
    "\n",
    "    - An abstract class cannot be instantiated directly. Attempting to create an instance of an abstract class will result in a TypeError.\n",
    "\n",
    "## Concrete Classes\n",
    "1. Definition:\n",
    "\n",
    "    - A concrete class in Python is a class that can be instantiated directly.\n",
    "    - It may or may not inherit from an abstract class, and it provides concrete implementations for all its methods.\n",
    "\n",
    "2. Instantiation:\n",
    "\n",
    "    - Concrete classes can be instantiated directly using the class constructor.\n",
    "    - They may inherit from abstract classes and provide concrete implementations for any abstract methods inherited from those abstract classes.\n",
    "\n",
    "- May Have Abstract and Concrete Methods:\n",
    "    - Concrete classes may have both abstract and concrete methods.\n",
    "    - Abstract methods, if present, must be implemented in the concrete class.\n",
    "\n",
    "## Instantiation Differences\n",
    "1. Abstract Classes\n",
    "\n",
    "    - Cannot be instantiated directly.\n",
    "    - Subclasses must provide concrete implementations for abstract methods.\n",
    "    - Used as a blueprint for creating related classes.\n",
    "\n",
    "2. Concrete Classes:\n",
    "\n",
    "    - Can be instantiated directly.\n",
    "    - May inherit from abstract classes and provide concrete implementations for abstract methods.\n",
    "    - Represents concrete objects with specific behavior.\n",
    "\n",
    "In summary, abstract classes provide a blueprint with abstract methods that must be implemented by subclasses, while concrete classes can be instantiated directly and may provide concrete implementations for both abstract and concrete methods. Abstract classes are often used to define a common interface, ensuring that specific methods are implemented in derived classes."
   ]
  },
  {
   "cell_type": "code",
   "execution_count": 134,
   "id": "d06cdb10-02a5-4f19-96f3-40405cd92542",
   "metadata": {},
   "outputs": [],
   "source": [
    "from abc import ABC, abstractmethod\n",
    "\n",
    "class AbstractClass(ABC):\n",
    "    @abstractmethod\n",
    "    def abstract_method(self):\n",
    "        pass\n",
    "\n",
    "# Attempting to instantiate an abstract class will result in an error\n",
    "# obj = AbstractClass()  # TypeError: Can't instantiate abstract class AbstractClass with abstract methods abstract_method\n"
   ]
  },
  {
   "cell_type": "code",
   "execution_count": 135,
   "id": "888f12c8-70e8-4fb1-98aa-9443f366e4ed",
   "metadata": {},
   "outputs": [
    {
     "name": "stdout",
     "output_type": "stream",
     "text": [
      "Concrete implementation of abstract_method\n"
     ]
    }
   ],
   "source": [
    "class ConcreteClass(AbstractClass):\n",
    "    def abstract_method(self):\n",
    "        print(\"Concrete implementation of abstract_method\")\n",
    "\n",
    "# Instantiating a concrete class\n",
    "obj = ConcreteClass()\n",
    "obj.abstract_method()  # Outputs: Concrete implementation of abstract_method\n"
   ]
  },
  {
   "cell_type": "markdown",
   "id": "c8e17f2f",
   "metadata": {},
   "source": [
    "### 15. Explain the concept of abstract data types (ADTs) and their role in achieving abstraction in Python.\n"
   ]
  },
  {
   "cell_type": "markdown",
   "id": "a518c923-799d-4fdd-8713-a249c1d06607",
   "metadata": {},
   "source": [
    "Abstract Data Types (ADTs) are a concept in computer science that represents a high-level description of a set of operations on data without specifying the underlying implementation details. ADTs define the behavior of data structures in terms of operations that can be performed on them, without specifying how these operations are implemented.\n",
    "\n",
    "The key components of an ADT include:\n",
    "\n",
    "1. Data:\n",
    "\n",
    "    - The data part of an ADT represents the values that the ADT can hold. These values could be of any data type, and the ADT abstracts the details of how these values are stored and manipulated.\n",
    "\n",
    "2. Operations:\n",
    "\n",
    "    - Operations define the set of actions that can be performed on the data of the ADT. These operations provide a high-level interface for interacting with the data without revealing the internal implementation details.\n",
    "\n",
    "3. Encapsulation:\n",
    "\n",
    "    - Encapsulation is a fundamental principle of ADTs. It involves bundling the data and operations together into a single unit, where the internal representation is hidden from the outside world. This encapsulation allows for the separation of concerns and promotes information hiding.\n",
    "\n",
    "5. Abstraction:\n",
    "\n",
    "    - Abstraction is achieved by focusing on what an ADT does rather than how it does it. Users of an ADT are only concerned with the provided operations and their expected behavior, not with the internal workings of the data structure.\n"
   ]
  },
  {
   "cell_type": "code",
   "execution_count": 136,
   "id": "ab0aaf05-ddac-46bd-95fd-22265e3ee7fd",
   "metadata": {},
   "outputs": [
    {
     "name": "stdout",
     "output_type": "stream",
     "text": [
      "Stack: [1, 2, 3]\n",
      "Size: 3\n",
      "Peek: 3\n",
      "Popped item: 3\n",
      "Stack after pop: [1, 2]\n"
     ]
    }
   ],
   "source": [
    "# example of ADT in Python\n",
    "class Stack:\n",
    "    def __init__(self):\n",
    "        self.items = []\n",
    "\n",
    "    def is_empty(self):\n",
    "        return len(self.items) == 0\n",
    "\n",
    "    def push(self, item):\n",
    "        self.items.append(item)\n",
    "\n",
    "    def pop(self):\n",
    "        if not self.is_empty():\n",
    "            return self.items.pop()\n",
    "        else:\n",
    "            raise IndexError(\"pop from an empty stack\")\n",
    "\n",
    "    def peek(self):\n",
    "        if not self.is_empty():\n",
    "            return self.items[-1]\n",
    "        else:\n",
    "            raise IndexError(\"peek from an empty stack\")\n",
    "\n",
    "    def size(self):\n",
    "        return len(self.items)\n",
    "\n",
    "stack = Stack()\n",
    "\n",
    "stack.push(1)\n",
    "stack.push(2)\n",
    "stack.push(3)\n",
    "\n",
    "print(\"Stack:\", stack.items)\n",
    "print(\"Size:\", stack.size())\n",
    "print(\"Peek:\", stack.peek())\n",
    "\n",
    "popped_item = stack.pop()\n",
    "print(\"Popped item:\", popped_item)\n",
    "print(\"Stack after pop:\", stack.items)"
   ]
  },
  {
   "cell_type": "markdown",
   "id": "8fadc796",
   "metadata": {},
   "source": [
    "### 16. Create a Python class for a computer system, demonstrating abstraction by defining common methods (e.g., `power_on()`, `shutdown()`) in an abstract base class.\n"
   ]
  },
  {
   "cell_type": "code",
   "execution_count": 137,
   "id": "e1063229",
   "metadata": {},
   "outputs": [
    {
     "name": "stdout",
     "output_type": "stream",
     "text": [
      "Dell Inspiron desktop computer is powered on.\n",
      "Dell Inspiron is rebooting.\n",
      "Dell Inspiron desktop computer is shutting down.\n",
      "\n",
      "HP Pavilion laptop computer is powered on.\n",
      "HP Pavilion is rebooting.\n",
      "HP Pavilion laptop computer is shutting down.\n",
      "\n"
     ]
    }
   ],
   "source": [
    "from abc import ABC, abstractmethod\n",
    "\n",
    "class ComputerSystem(ABC):\n",
    "    def __init__(self, brand, model):\n",
    "        self.brand = brand\n",
    "        self.model = model\n",
    "        self.powered_on = False\n",
    "\n",
    "    @abstractmethod\n",
    "    def power_on(self):\n",
    "        \"\"\"Abstract method to power on the computer system.\"\"\"\n",
    "        pass\n",
    "\n",
    "    @abstractmethod\n",
    "    def shutdown(self):\n",
    "        \"\"\"Abstract method to shut down the computer system.\"\"\"\n",
    "        pass\n",
    "\n",
    "    def reboot(self):\n",
    "        \"\"\"Common method to reboot the computer system.\"\"\"\n",
    "        if self.powered_on:\n",
    "            return f\"{self.brand} {self.model} is rebooting.\"\n",
    "        else:\n",
    "            return f\"{self.brand} {self.model} cannot reboot. It's currently powered off.\"\n",
    "\n",
    "class DesktopComputer(ComputerSystem):\n",
    "    def power_on(self):\n",
    "        self.powered_on = True\n",
    "        return f\"{self.brand} {self.model} desktop computer is powered on.\"\n",
    "\n",
    "    def shutdown(self):\n",
    "        self.powered_on = False\n",
    "        return f\"{self.brand} {self.model} desktop computer is shutting down.\"\n",
    "\n",
    "class LaptopComputer(ComputerSystem):\n",
    "    def power_on(self):\n",
    "        self.powered_on = True\n",
    "        return f\"{self.brand} {self.model} laptop computer is powered on.\"\n",
    "\n",
    "    def shutdown(self):\n",
    "        self.powered_on = False\n",
    "        return f\"{self.brand} {self.model} laptop computer is shutting down.\"\n",
    "\n",
    "# Example usage demonstrating abstraction\n",
    "desktop = DesktopComputer(brand=\"Dell\", model=\"Inspiron\")\n",
    "laptop = LaptopComputer(brand=\"HP\", model=\"Pavilion\")\n",
    "\n",
    "# Polymorphic behavior with common methods\n",
    "computers = [desktop, laptop]\n",
    "\n",
    "for computer in computers:\n",
    "    print(computer.power_on())\n",
    "    print(computer.reboot())\n",
    "    print(computer.shutdown())\n",
    "    print()\n"
   ]
  },
  {
   "cell_type": "markdown",
   "id": "87be043d",
   "metadata": {},
   "source": [
    "### 17. Discuss the benefits of using abstraction in large-scale software development projects.\n"
   ]
  },
  {
   "cell_type": "markdown",
   "id": "4bf71d62-f874-4ed2-aa1f-42c63b802a71",
   "metadata": {},
   "source": [
    "Abstraction plays a crucial role in large-scale software development projects, offering a range of benefits that contribute to the success, maintainability, and scalability of such projects. Here are some key benefits of using abstraction in large-scale software development:\n",
    "\n",
    "1. Modularity:\n",
    "\n",
    "    - Abstraction enables the creation of modular code by breaking down complex systems into smaller, independent modules.\n",
    "    - Each module can encapsulate specific functionality and interact with other modules through well-defined interfaces, promoting a modular design that is easier to understand, maintain, and extend.\n",
    "\n",
    "2. Code Reusability:\n",
    "\n",
    "    - Abstraction facilitates the creation of abstract base classes and interfaces, defining common functionality that can be reused across different modules or components.\n",
    "    - Reusable code reduces redundancy, promotes consistency, and accelerates development by leveraging existing, well-tested components.\n",
    "\n",
    "3. Ease of Maintenance:\n",
    "\n",
    "    - Abstracting away implementation details from the external interfaces simplifies maintenance activities.\n",
    "    - Developers can update or replace internal implementations without affecting external code that relies on the abstract interfaces. This separation of concerns makes it easier to identify and fix issues, reducing the risk of introducing unintended side effects during maintenance.\n",
    "\n",
    "4. Scalability:\n",
    "\n",
    "    - Abstraction supports scalability by providing a foundation for adding new features, modules, or components without disrupting the existing codebase.\n",
    "    - New implementations can be introduced without requiring modifications to the code that relies on the abstract interfaces, allowing the system to grow in a more modular and scalable manner.\n",
    "    \n",
    "5. Flexibility and Adaptability:\n",
    "\n",
    "    - Abstract interfaces and polymorphism enhance flexibility and adaptability in large-scale projects.\n",
    "    - Code that interacts with abstract interfaces can accommodate new implementations seamlessly, allowing developers to extend or modify functionality without breaking existing code.\n",
    "\n",
    "6. Collaboration and Parallel Development:\n",
    "\n",
    "    - Abstraction facilitates collaboration among development teams by defining clear interfaces and contracts.\n",
    "    - Teams can work on different modules independently as long as they adhere to the agreed-upon abstract interfaces. This supports parallel development efforts, speeding up the overall project timeline.\n",
    "\n",
    "7. Reduced Cognitive Load:\n",
    "\n",
    "    - Abstracting away low-level implementation details reduces the cognitive load on developers.\n",
    "    - Developers can focus on high-level concepts and design patterns, leading to more maintainable and readable code. This is especially important in large-scale projects where complexity can quickly become overwhelming.\n",
    "\n",
    "8. Enforced Design Patterns:\n",
    "\n",
    "    - Abstraction encourages the use of design patterns and best practices.\n",
    "    - Abstract base classes and interfaces define a contract that encourages developers to follow consistent patterns, promoting a standardized and cohesive architecture throughout the project.\n",
    "\n",
    "9. Improved Testing and Quality Assurance:\n",
    "\n",
    "    - Abstract interfaces make it easier to write unit tests and conduct quality assurance.\n",
    "    - Testing can focus on the expected behavior defined by the abstract interfaces, allowing for comprehensive test coverage and more robust software.\n",
    "10. Adherence to Industry Standards:\n",
    "\n",
    "    - Abstraction enables adherence to industry standards and best practices.\n",
    "    - By defining clear interfaces, large-scale projects can align with established standards, making it easier to integrate with third-party libraries, frameworks, and services.\n",
    "\n",
    "In summary, abstraction is a fundamental principle in large-scale software development, providing benefits such as modularity, code reusability, ease of maintenance, scalability, flexibility, and improved collaboration. These advantages contribute to the overall success of complex projects by promoting a structured and maintainable codebase."
   ]
  },
  {
   "cell_type": "markdown",
   "id": "b9fdeafe",
   "metadata": {},
   "source": [
    "### 18. Explain how abstraction enhances code reusability and modularity in Python programs.\n"
   ]
  },
  {
   "cell_type": "markdown",
   "id": "f7188898-44b5-4885-aef1-0ceef56a5c77",
   "metadata": {},
   "source": [
    "Abstraction enhances code reusability and modularity in Python programs by providing a way to hide complex implementation details and exposing only essential features through well-defined interfaces. This concept facilitates the development of modular and reusable code. Here are some ways in which abstraction contributes to code reusability and modularity:\n",
    "\n",
    "1. Encapsulation of Implementation:\n",
    "\n",
    "    - Abstraction allows you to encapsulate the implementation details of a class or module, exposing only the essential functionality through well-defined interfaces.\n",
    "    - Users of the code interact with the high-level interface without needing to understand or be concerned about the internal workings, promoting simplicity and ease of use.\n",
    "\n",
    "2. Creation of Abstract Base Classes (ABCs):\n",
    "\n",
    "    - Abstract base classes define abstract methods and provide a common interface that subclasses must implement.\n",
    "    - By creating ABCs, you establish a contract that defines what methods should be implemented in concrete subclasses. This contract promotes consistency and helps avoid common mistakes.\n",
    "\n",
    "3. Polymorphism and Code Flexibility:\n",
    "\n",
    "    - Abstraction enables polymorphism, where objects of different classes can be treated uniformly based on a common interface.\n",
    "    - Code that relies on abstract interfaces can be more flexible and adaptable to changes. New implementations can be introduced without affecting existing code that depends on the abstract interface.\n",
    "\n",
    "4. Code Reuse:\n",
    "\n",
    "    - Abstraction promotes code reuse by allowing the same high-level interface to be used across different implementations.\n",
    "    - When a well-defined abstract interface is reused in multiple classes or modules, it reduces the need to rewrite code for similar functionality, leading to more efficient and maintainable code.\n",
    "\n",
    "5. Modular Design:\n",
    "\n",
    "    - Abstraction encourages a modular design approach, where complex systems are broken down into smaller, independent modules.\n",
    "    - Each module can encapsulate its functionality and expose a clean, abstract interface. This makes it easier to understand, maintain, and update individual components without affecting the entire system.\n",
    "\n",
    "6. Separation of Concerns:\n",
    "\n",
    "    - Abstraction supports the separation of concerns by allowing developers to focus on specific aspects of the code without being overwhelmed by unnecessary details.\n",
    "    - Developers can work on different modules independently, as long as they adhere to the agreed-upon abstract interfaces, fostering parallel development and collaboration.\n",
    "\n",
    "7. Easy Maintenance and Updates:\n",
    "\n",
    "    - Abstracting away implementation details allows for easier maintenance and updates. Changes to the internal implementation can be made without affecting the external code that relies on the abstract interfaces.\n",
    "    - This decoupling of components reduces the likelihood of introducing bugs or unintended side effects when modifying the codebase.\n",
    "      \n",
    "In summary, abstraction in Python enhances code reusability and modularity by providing a clean separation between interfaces and implementations. This separation allows for the creation of abstract base classes, supports polymorphism, encourages modular design, and simplifies code maintenance and updates. The result is more scalable, adaptable, and maintainable software."
   ]
  },
  {
   "cell_type": "markdown",
   "id": "d3dd624b",
   "metadata": {},
   "source": [
    "### 19. Create a Python class for a library system, implementing abstraction by defining common methods (e.g., `add_book()`, `borrow_book()`) in an abstract base class.\n"
   ]
  },
  {
   "cell_type": "code",
   "execution_count": 138,
   "id": "c0d6d8ab",
   "metadata": {},
   "outputs": [
    {
     "name": "stdout",
     "output_type": "stream",
     "text": [
      "Books available in City Public Library library:\n",
      "The Great Gatsby by F. Scott Fitzgerald (1 available)\n",
      "To Kill a Mockingbird by Harper Lee (1 available)\n",
      "Book 'The Great Gatsby' borrowed successfully from City Public Library library.\n",
      "Book 'The Catcher in the Rye' is not available for borrowing.\n",
      "Book 'The Great Gatsby' returned successfully to City Public Library library.\n",
      "Book 'The Catcher in the Rye' cannot be returned. It's not currently borrowed.\n",
      "Books available in City Public Library library:\n",
      "The Great Gatsby by F. Scott Fitzgerald (1 available)\n",
      "To Kill a Mockingbird by Harper Lee (1 available)\n"
     ]
    }
   ],
   "source": [
    "from abc import ABC, abstractmethod\n",
    "\n",
    "class LibrarySystem(ABC):\n",
    "    def __init__(self, name):\n",
    "        self.name = name\n",
    "        self.books = {}\n",
    "\n",
    "    @abstractmethod\n",
    "    def add_book(self, book_title, author):\n",
    "        \"\"\"Abstract method to add a book to the library.\"\"\"\n",
    "        pass\n",
    "\n",
    "    @abstractmethod\n",
    "    def borrow_book(self, book_title):\n",
    "        \"\"\"Abstract method to borrow a book from the library.\"\"\"\n",
    "        pass\n",
    "\n",
    "    def return_book(self, book_title):\n",
    "        \"\"\"Common method to return a borrowed book to the library.\"\"\"\n",
    "        if book_title in self.books:\n",
    "            self.books[book_title][1] += 1\n",
    "            return f\"Book '{book_title}' returned successfully to {self.name} library.\"\n",
    "        else:\n",
    "            return f\"Book '{book_title}' cannot be returned. It's not currently borrowed.\"\n",
    "\n",
    "    def list_books(self):\n",
    "        \"\"\"Common method to list available books in the library.\"\"\"\n",
    "        if not self.books:\n",
    "            return f\"No books available in {self.name} library.\"\n",
    "        else:\n",
    "            book_list = \"\\n\".join([f\"{title} by {author} ({quantity} available)\" for title, (author, quantity) in self.books.items()])\n",
    "            return f\"Books available in {self.name} library:\\n{book_list}\"\n",
    "\n",
    "class PublicLibrary(LibrarySystem):\n",
    "    def add_book(self, book_title, author):\n",
    "        if book_title in self.books:\n",
    "            self.books[book_title][1] += 1  # Increment quantity if book already exists\n",
    "        else:\n",
    "            self.books[book_title] = [author, 1]  # Use a list to store book information\n",
    "\n",
    "    def borrow_book(self, book_title):\n",
    "        if book_title in self.books and self.books[book_title][1] > 0:\n",
    "            self.books[book_title][1] -= 1\n",
    "            return f\"Book '{book_title}' borrowed successfully from {self.name} library.\"\n",
    "        else:\n",
    "            return f\"Book '{book_title}' is not available for borrowing.\"\n",
    "\n",
    "# Example usage demonstrating abstraction\n",
    "public_library = PublicLibrary(name=\"City Public Library\")\n",
    "\n",
    "# Common method for adding books\n",
    "public_library.add_book(book_title=\"The Great Gatsby\", author=\"F. Scott Fitzgerald\")\n",
    "public_library.add_book(book_title=\"To Kill a Mockingbird\", author=\"Harper Lee\")\n",
    "\n",
    "# Common method for listing books\n",
    "print(public_library.list_books())\n",
    "\n",
    "# Common and abstract methods for borrowing and returning books\n",
    "print(public_library.borrow_book(book_title=\"The Great Gatsby\"))\n",
    "print(public_library.borrow_book(book_title=\"The Catcher in the Rye\"))\n",
    "\n",
    "print(public_library.return_book(book_title=\"The Great Gatsby\"))\n",
    "print(public_library.return_book(book_title=\"The Catcher in the Rye\"))\n",
    "\n",
    "print(public_library.list_books())\n"
   ]
  },
  {
   "cell_type": "markdown",
   "id": "e2290893",
   "metadata": {},
   "source": [
    "### 20. Describe the concept of method abstraction in Python and how it relates to polymorphism.\n"
   ]
  },
  {
   "cell_type": "markdown",
   "id": "9eadc363-4dcb-4825-80d0-7426874ef513",
   "metadata": {},
   "source": [
    "Method abstraction in Python refers to the process of hiding the implementation details of a method and providing a high-level interface that allows the user to interact with the object without knowing the internal workings. This concept is closely related to polymorphism, one of the key principles of object-oriented programming.\n",
    "\n",
    "In the context of method abstraction:\n",
    "\n",
    "1. Abstraction through Abstract Methods:\n",
    "\n",
    "    - Abstract methods are declared in an abstract base class (ABC) using the @abstractmethod decorator. These methods have no implementation in the abstract base class itself.\n",
    "    - Subclasses of the abstract base class must provide concrete implementations for these abstract methods.\n",
    "    - Abstract methods define a common interface that all subclasses must adhere to.\n",
    "\n",
    "2. Polymorphic Behavior:\n",
    "\n",
    "    - Subclasses provide their specific implementations for abstract methods, allowing different types of objects to respond to the same method call in a polymorphic manner.\n",
    "    - Polymorphism allows objects of different classes to be treated as instances of a common base class, and their methods can be invoked without knowledge of the specific subclass.\n",
    "    - The same method name (calculate_area() in this example) is used across different subclasses, promoting code reuse and flexibility.\n",
    "\n",
    "\n",
    "3. Common Interface:\n",
    "\n",
    "    - Despite the different implementations in each subclass, the common interface (e.g., calculate_area()) allows clients to interact with objects uniformly.\n",
    "    - Clients can call the method without being concerned about the specific type of the object, promoting code readability and maintainability.\n",
    "\n",
    "\n",
    "4. Encapsulation of Details:\n",
    "\n",
    "    - Abstraction encapsulates the details of how a method achieves its functionality. Clients only need to know what the method does, not how it does it.\n",
    "    - This encapsulation allows for changes in the implementation of a method in a subclass without affecting the external code that uses the method.\n",
    "\n",
    "\n",
    "In summary, method abstraction in Python involves declaring abstract methods in an abstract base class, providing a common interface for subclasses. This concept is closely related to polymorphism, allowing different objects to respond to the same method call in a unified manner. Abstraction promotes code reuse, flexibility, and encapsulation of implementation details.\n"
   ]
  },
  {
   "cell_type": "markdown",
   "id": "b66031db",
   "metadata": {},
   "source": [
    "## COMPOSITION"
   ]
  },
  {
   "cell_type": "markdown",
   "id": "2c55cf0c",
   "metadata": {},
   "source": [
    "### 1. Explain the concept of composition in Python and how it is used to build complex objects from simpler ones.\n"
   ]
  },
  {
   "cell_type": "markdown",
   "id": "61474753-3b40-4742-8b03-6ee73228ef9a",
   "metadata": {},
   "source": [
    "In Python, composition is a design principle that involves creating complex objects by combining simpler ones. It is a way of building relationships between classes where one class contains an instance of another class. This is achieved by defining one class as an attribute within another class, forming a \"has-a\" relationship.\n",
    "\n",
    "Key points about composition in Python:\n",
    "\n",
    "1. Class Composition:\n",
    "\n",
    "    - Composition allows you to create more complex objects by composing instances of simpler classes. Each class represents a distinct component or module of functionality.\n",
    "\n",
    "2. \"Has-a\" Relationship:\n",
    "\n",
    "    - Composition represents a \"has-a\" relationship, indicating that a class has components or parts but is not necessarily a subtype of those components.\n",
    "    - For example, a car has an engine, but a car is not a type of engine.\n",
    "\n",
    "3. Creating Instances:\n",
    "\n",
    "    - In a composition relationship, instances of one class are created as attributes within another class.\n",
    "    - These instances can be initialized and used just like any other attribute within the containing class.\n",
    "\n",
    "4. Modular Design:\n",
    "\n",
    "    - Composition promotes modular design by breaking down a complex system into smaller, more manageable components.\n",
    "    - Each class is responsible for a specific aspect of functionality, making the overall system easier to understand and maintain.\n",
    "\n",
    "5. Code Reusability:\n",
    "\n",
    "    - Composition supports code reusability by allowing you to reuse existing classes as components in the design of new classes.\n",
    "    - Components with well-defined functionalities can be composed to create more complex objects without duplicating code.\n",
    "\n",
    "6. Dynamic Composition:\n",
    "\n",
    "    - Composition allows for dynamic composition of objects at runtime. Components can be combined or replaced dynamically, providing flexibility in creating different configurations."
   ]
  },
  {
   "cell_type": "code",
   "execution_count": 139,
   "id": "80468e76-42e4-41f7-bb72-61dd0c0868e8",
   "metadata": {},
   "outputs": [
    {
     "name": "stdout",
     "output_type": "stream",
     "text": [
      "Engine started - Toyota Camry is ready to go.\n",
      "Engine stopped - Toyota Camry has stopped.\n"
     ]
    }
   ],
   "source": [
    "# Example\n",
    "class Engine:\n",
    "    def start(self):\n",
    "        return \"Engine started\"\n",
    "\n",
    "    def stop(self):\n",
    "        return \"Engine stopped\"\n",
    "\n",
    "class Car:\n",
    "    def __init__(self, make, model):\n",
    "        self.make = make\n",
    "        self.model = model\n",
    "        self.engine = Engine()  # Composition\n",
    "\n",
    "    def start(self):\n",
    "        engine_status = self.engine.start()\n",
    "        return f\"{engine_status} - {self.make} {self.model} is ready to go.\"\n",
    "\n",
    "    def stop(self):\n",
    "        engine_status = self.engine.stop()\n",
    "        return f\"{engine_status} - {self.make} {self.model} has stopped.\"\n",
    "\n",
    "# Example usage:\n",
    "my_car = Car(make=\"Toyota\", model=\"Camry\")\n",
    "print(my_car.start())\n",
    "print(my_car.stop())\n"
   ]
  },
  {
   "cell_type": "markdown",
   "id": "581b2b29",
   "metadata": {},
   "source": [
    "### 2. Describe the difference between composition and inheritance in object-oriented programming.\n"
   ]
  },
  {
   "cell_type": "markdown",
   "id": "7dbf5b62-5442-47ec-b5e2-e1727135efa9",
   "metadata": {},
   "source": [
    "In object-oriented programming (OOP), composition and inheritance are two different approaches for structuring and organizing code. Here are the key differences between composition and inheritance:\n",
    "\n",
    "1. Definition:\n",
    "\n",
    "    - Composition: Composition is a design principle where a class contains objects of other classes, forming a more complex structure. It is based on the concept of \"has-a\" relationships.\n",
    "    - Inheritance: Inheritance is a mechanism where a class inherits properties and behaviors from another class. It is based on the concept of \"is-a\" relationships.\n",
    "\n",
    "2. Relationships:\n",
    "\n",
    "    - Composition: Composition represents a \"has-a\" relationship. It indicates that a class has components or parts, but it is not necessarily a subtype of those components.\n",
    "    - Inheritance: Inheritance represents an \"is-a\" relationship. It indicates that a subclass is a specialized version of its superclass, inheriting its attributes and behaviors.\n",
    "\n",
    "3. Flexibility:\n",
    "\n",
    "    - Composition: Composition offers greater flexibility by allowing objects to be combined in various ways, creating more dynamic and adaptable designs.\n",
    "    - Inheritance: Inheritance provides a more rigid structure, as subclasses are tied to their superclasses, and changes to the superclass can affect all its subclasses.\n",
    "\n",
    "4. Code Reusability:\n",
    "\n",
    "    - Composition: Composition promotes code reusability by allowing objects to be reused in different contexts. It encourages building classes with specific functionalities and then composing them to create more complex objects.\n",
    "    - Inheritance: Inheritance supports code reuse by allowing a subclass to inherit properties and behaviors from a superclass. However, it can lead to issues like the fragile base class problem and might not be as flexible as composition.\n",
    "\n",
    "5. Encapsulation:\n",
    "\n",
    "    - Composition: Composition enhances encapsulation by encapsulating the implementation details of one class within another. Objects expose a clean and abstract interface to the outside world.\n",
    "    - Inheritance: Inheritance exposes the implementation details of the superclass to its subclasses. Changes in the superclass can impact the behavior of its subclasses.\n",
    "\n",
    "6. Dynamic vs. Static:\n",
    "\n",
    "    - Composition: Composition allows for dynamic composition of objects at runtime. Objects can be combined or replaced dynamically.\n",
    "    - Inheritance: Inheritance is typically more static, as the relationships between classes are defined at compile-time. The hierarchy is fixed during the design phase.\n",
    "\n",
    "7. Diamond Problem:\n",
    "\n",
    "    - Composition: Composition avoids the diamond problem, a challenge in multiple inheritance where conflicts arise when a class inherits from two classes that have a common ancestor.\n",
    "    - Inheritance: Inheritance can lead to the diamond problem, and languages like Python address it using various mechanisms such as method resolution order (MRO).\n",
    "\n",
    "8. Usage:\n",
    "\n",
    "    - Composition: Composition is often preferred when creating complex, modular systems, where objects can be combined in different ways to achieve specific functionalities.\n",
    "    - Inheritance: Inheritance is suitable when there is a clear \"is-a\" relationship between classes, and the goal is to model a hierarchy where subclasses are specialized versions of their superclasses.\n",
    "\n",
    "In practice, a combination of composition and inheritance is often used to achieve a balance between flexibility, code reusability, and design clarity. The choice between composition and inheritance depends on the specific requirements and design goals of a given application."
   ]
  },
  {
   "cell_type": "markdown",
   "id": "4db9a2b3",
   "metadata": {},
   "source": [
    "### 3. Create a Python class called `Author` with attributes for name and birthdate. Then, create a `Book` class that contains an instance of `Author` as a composition. Provide an example of creating a `Book` object.\n"
   ]
  },
  {
   "cell_type": "code",
   "execution_count": 140,
   "id": "0a6e7427",
   "metadata": {},
   "outputs": [
    {
     "name": "stdout",
     "output_type": "stream",
     "text": [
      "Book: The Enigma, Genre: Mystery\n",
      "Author: Jane Doe, Birthdate: January 1, 1980\n"
     ]
    }
   ],
   "source": [
    "class Author:\n",
    "    def __init__(self, name, birthdate):\n",
    "        self.name = name\n",
    "        self.birthdate = birthdate\n",
    "\n",
    "    def get_author_info(self):\n",
    "        return f\"Author: {self.name}, Birthdate: {self.birthdate}\"\n",
    "\n",
    "class Book:\n",
    "    def __init__(self, title, genre, author):\n",
    "        self.title = title\n",
    "        self.genre = genre\n",
    "        self.author = author  # Composition\n",
    "\n",
    "    def get_book_info(self):\n",
    "        author_info = self.author.get_author_info()\n",
    "        return f\"Book: {self.title}, Genre: {self.genre}\\n{author_info}\"\n",
    "\n",
    "# Example usage:\n",
    "author_jane_doe = Author(name=\"Jane Doe\", birthdate=\"January 1, 1980\")\n",
    "book_mystery_novel = Book(title=\"The Enigma\", genre=\"Mystery\", author=author_jane_doe)\n",
    "\n",
    "# Displaying book information\n",
    "print(book_mystery_novel.get_book_info())\n"
   ]
  },
  {
   "cell_type": "markdown",
   "id": "f5abb9eb",
   "metadata": {},
   "source": [
    "### 4. Discuss the benefits of using composition over inheritance in Python, especially in terms of code flexibility and reusability.\n"
   ]
  },
  {
   "cell_type": "markdown",
   "id": "125f2bfd-f9ba-4b15-ac59-36e795ea5089",
   "metadata": {},
   "source": [
    "Using composition over inheritance in Python offers several benefits, particularly in terms of code flexibility and reusability. Here are some key advantages:\n",
    "\n",
    "1. Flexibility:\n",
    "\n",
    "    - Composition provides greater flexibility in combining and reusing components to create new classes.\n",
    "    - You can mix and match different components, allowing for a more dynamic and adaptable design.\n",
    "    - Changes in behavior can be achieved by modifying the composition of objects, providing more flexibility than rigid class hierarchies.\n",
    "\n",
    "2. Avoiding the Diamond Problem:\n",
    "\n",
    "    - The \"Diamond Problem\" is a challenge in multiple inheritance where conflicts arise when a class inherits from two classes that have a common ancestor. Composition avoids this problem by focusing on building relationships through object composition rather than inheritance.\n",
    "\n",
    "3. Modular Design:\n",
    "\n",
    "    - Composition promotes modular design, allowing each class to represent a distinct module with a specific responsibility.\n",
    "    - Modules can be developed, tested, and maintained independently, leading to a more organized and modular codebase.\n",
    "\n",
    "4. Code Reusability:\n",
    "\n",
    "    - Composition supports code reusability by allowing objects to be reused in different contexts.\n",
    "    - Components (classes) can be developed with specific functionalities and then combined to create new classes, reducing redundancy and promoting modular design.\n",
    "\n",
    "5. Encapsulation:\n",
    "\n",
    "    - Composition enhances encapsulation by encapsulating the implementation details of one class within another.\n",
    "    - Objects expose a clean and abstract interface to the outside world, hiding the internal complexities of their components.\n",
    "\n",
    "6. Reduced Coupling:\n",
    "\n",
    "    - Composition reduces the coupling between classes compared to traditional inheritance.\n",
    "    - Components are loosely coupled, and changes to one class don't necessarily affect others as long as the interfaces remain consistent.\n",
    "\n",
    "7. Dynamic Composition:\n",
    "\n",
    "    - Composition allows for dynamic composition of objects at runtime, enabling the creation of complex objects based on changing requirements.\n",
    "    - New functionality can be added or modified without altering the existing codebase.\n",
    "\n",
    "8. Easier Maintenance:\n",
    "\n",
    "    - With composition, each class has a specific responsibility, making it easier to locate, modify, or extend specific functionalities without affecting the entire system.\n",
    "    - Maintenance becomes more manageable as the system is structured in a modular and compartmentalized manner.\n",
    "\n",
    "9. Clearer Intent and Design:\n",
    "\n",
    "    - Composition often leads to a clearer design and intent. Each class represents a standalone component, and the relationships between them are explicitly defined.\n",
    "    - The code becomes more readable and easier to understand, facilitating collaboration among developers.\n",
    "\n",
    "10. Avoiding Fragile Base Class Problem:\n",
    "\n",
    "    - Inheritance can lead to the \"fragile base class\" problem, where changes to a base class can unintentionally affect derived classes. Composition avoids this issue, as changes to one class don't impact other classes unless the interfaces change.\n",
    "\n",
    "In summary, composition in Python provides a more flexible and reusable approach to building software systems. It encourages modular design, reduces coupling, enhances encapsulation, and facilitates easier maintenance, making it a powerful paradigm for creating scalable and adaptable codebases."
   ]
  },
  {
   "cell_type": "markdown",
   "id": "d3eabe4c",
   "metadata": {},
   "source": [
    "### 5. How can you implement composition in Python classes? Provide examples of using composition to create complex objects.\n"
   ]
  },
  {
   "cell_type": "code",
   "execution_count": 141,
   "id": "542a9132",
   "metadata": {},
   "outputs": [
    {
     "name": "stdout",
     "output_type": "stream",
     "text": [
      "Zoo Sounds:\n",
      "Lion says Roar\n",
      "Parrot says Squawk\n",
      "Elephant says Trumpet\n",
      "\n",
      "Engine started - Toyota Camry is ready to go.\n"
     ]
    }
   ],
   "source": [
    "# Example 1: Composition in a Zoo System\n",
    "\n",
    "class Animal:\n",
    "    def __init__(self, species, sound):\n",
    "        self.species = species\n",
    "        self.sound = sound\n",
    "\n",
    "    def make_sound(self):\n",
    "        return f\"{self.species} says {self.sound}\"\n",
    "\n",
    "class Zoo:\n",
    "    def __init__(self):\n",
    "        self.animals = []  # Composition\n",
    "\n",
    "    def add_animal(self, animal):\n",
    "        self.animals.append(animal)\n",
    "\n",
    "    def make_all_sounds(self):\n",
    "        zoo_sounds = \"Zoo Sounds:\\n\"\n",
    "        for animal in self.animals:\n",
    "            zoo_sounds += f\"{animal.make_sound()}\\n\"\n",
    "        return zoo_sounds\n",
    "\n",
    "# Example usage:\n",
    "lion = Animal(species=\"Lion\", sound=\"Roar\")\n",
    "parrot = Animal(species=\"Parrot\", sound=\"Squawk\")\n",
    "elephant = Animal(species=\"Elephant\", sound=\"Trumpet\")\n",
    "\n",
    "zoo = Zoo()\n",
    "zoo.add_animal(lion)\n",
    "zoo.add_animal(parrot)\n",
    "zoo.add_animal(elephant)\n",
    "\n",
    "print(zoo.make_all_sounds())\n",
    "\n",
    "# Example 2: Composition in a Car System\n",
    "\n",
    "class Engine:\n",
    "    def __init__(self, fuel_type):\n",
    "        self.fuel_type = fuel_type\n",
    "\n",
    "    def start(self):\n",
    "        return \"Engine started\"\n",
    "\n",
    "class Car:\n",
    "    def __init__(self, make, model, engine):\n",
    "        self.make = make\n",
    "        self.model = model\n",
    "        self.engine = engine  # Composition\n",
    "\n",
    "    def start(self):\n",
    "        engine_status = self.engine.start()\n",
    "        return f\"{engine_status} - {self.make} {self.model} is ready to go.\"\n",
    "\n",
    "# Example usage:\n",
    "car_engine = Engine(fuel_type=\"Gasoline\")\n",
    "my_car = Car(make=\"Toyota\", model=\"Camry\", engine=car_engine)\n",
    "\n",
    "print(my_car.start())\n"
   ]
  },
  {
   "cell_type": "markdown",
   "id": "da37df0a",
   "metadata": {},
   "source": [
    "### 6. Create a Python class hierarchy for a music player system, using composition to represent playlists and songs.\n"
   ]
  },
  {
   "cell_type": "code",
   "execution_count": 142,
   "id": "903b2769",
   "metadata": {},
   "outputs": [
    {
     "name": "stdout",
     "output_type": "stream",
     "text": [
      "Music Player - Playing all playlists:\n",
      "Playlist: My Favorites\n",
      "Playing: Song1 - Artist1\n",
      "Playing: Song2 - Artist2\n",
      "\n",
      "Playlist: Rock Classics\n",
      "Playing: Song2 - Artist2\n",
      "Playing: Song3 - Artist3\n",
      "\n",
      "\n"
     ]
    }
   ],
   "source": [
    "class Song:\n",
    "    def __init__(self, title, artist, duration):\n",
    "        self.title = title\n",
    "        self.artist = artist\n",
    "        self.duration = duration\n",
    "\n",
    "    def play(self):\n",
    "        return f\"Playing: {self.title} - {self.artist}\"\n",
    "\n",
    "class Playlist:\n",
    "    def __init__(self, name):\n",
    "        self.name = name\n",
    "        self.songs = []  # Composition\n",
    "\n",
    "    def add_song(self, song):\n",
    "        self.songs.append(song)\n",
    "\n",
    "    def play(self):\n",
    "        playlist_info = f\"Playlist: {self.name}\\n\"\n",
    "        for song in self.songs:\n",
    "            playlist_info += f\"{song.play()}\\n\"\n",
    "        return playlist_info\n",
    "\n",
    "class MusicPlayer:\n",
    "    def __init__(self):\n",
    "        self.playlists = []  # Composition\n",
    "\n",
    "    def add_playlist(self, playlist):\n",
    "        self.playlists.append(playlist)\n",
    "\n",
    "    def play_all(self):\n",
    "        player_info = \"Music Player - Playing all playlists:\\n\"\n",
    "        for playlist in self.playlists:\n",
    "            player_info += f\"{playlist.play()}\\n\"\n",
    "        return player_info\n",
    "\n",
    "# Example usage:\n",
    "song1 = Song(title=\"Song1\", artist=\"Artist1\", duration=\"3:30\")\n",
    "song2 = Song(title=\"Song2\", artist=\"Artist2\", duration=\"4:15\")\n",
    "song3 = Song(title=\"Song3\", artist=\"Artist3\", duration=\"2:50\")\n",
    "\n",
    "playlist1 = Playlist(name=\"My Favorites\")\n",
    "playlist1.add_song(song1)\n",
    "playlist1.add_song(song2)\n",
    "\n",
    "playlist2 = Playlist(name=\"Rock Classics\")\n",
    "playlist2.add_song(song2)\n",
    "playlist2.add_song(song3)\n",
    "\n",
    "music_player = MusicPlayer()\n",
    "music_player.add_playlist(playlist1)\n",
    "music_player.add_playlist(playlist2)\n",
    "\n",
    "# Play all playlists\n",
    "print(music_player.play_all())\n"
   ]
  },
  {
   "cell_type": "markdown",
   "id": "b580d93a",
   "metadata": {},
   "source": [
    "### 7. Explain the concept of \"has-a\" relationships in composition and how it helps design software systems.\n"
   ]
  },
  {
   "cell_type": "markdown",
   "id": "289e2276-6a04-4732-9699-0560cb1aba01",
   "metadata": {},
   "source": [
    "The concept of \"has-a\" relationships in composition refers to the idea that a class can have an instance of another class as one of its attributes. This type of relationship is often used to model the association between different components or objects within a system. In a \"has-a\" relationship, one class contains an object of another class, representing that it \"has\" or \"contains\" that object.\n",
    "\n",
    "<b>Key Points</b>\n",
    "\n",
    "1. Composition:\n",
    "\n",
    "    - \"Has-a\" relationships are a fundamental aspect of composition in object-oriented programming. Composition involves creating complex objects by combining simpler ones.\n",
    "    - In a \"has-a\" relationship, the containing class is composed of instances of other classes, forming a more complex structure.\n",
    "\n",
    "2. Code Reusability:\n",
    "\n",
    "    - \"Has-a\" relationships promote code reusability by allowing the reuse of existing classes as components in the design of new classes.\n",
    "    - Objects with well-defined functionalities can be composed to create more complex objects, reducing redundancy and promoting modular design.\n",
    "\n",
    "3. Modularity:\n",
    "\n",
    "    - The use of \"has-a\" relationships contributes to modularity by breaking down a system into smaller, self-contained components.\n",
    "    - Each class represents a modular component with a specific responsibility, making the system easier to understand, maintain, and extend.\n",
    "\n",
    "4. Encapsulation:\n",
    "\n",
    "    - \"Has-a\" relationships support encapsulation by encapsulating the implementation details of one class within another. The containing class exposes a clean and abstract interface, hiding the internal complexities of its components.\n",
    "    - Changes to the internal implementation of a class do not necessarily affect the external code as long as the interface remains consistent.\n",
    "\n",
    "5. Flexibility and Extensibility:\n",
    "\n",
    "    - \"Has-a\" relationships provide flexibility and extensibility, allowing the composition of objects to be modified or extended without altering the existing code.\n",
    "    - New functionality can be added by introducing new classes or modifying existing ones without affecting the entire system.\n",
    "\n",
    "6. Clearer Design Intent:\n",
    "\n",
    "    - When classes have a \"has-a\" relationship, the design intent becomes clearer. For example, if a Car class has a \"has-a\" relationship with a Engine class, it is evident that a car contains an engine.\n",
    "    - This clarity enhances the readability of the code and makes it more intuitive for developers.\n",
    "\n",
    "7. Improved Maintainability:\n",
    "\n",
    "    - \"Has-a\" relationships contribute to improved maintainability by isolating changes to specific components. Modifications or updates to one class do not necessarily impact other classes as long as the interfaces remain consistent.\n",
    "    - Maintenance becomes more manageable as the system is structured in a modular and compartmentalized manner.\n",
    "\n",
    "In summary, the concept of \"has-a\" relationships in composition helps design software systems by promoting code reusability, modularity, encapsulation, flexibility, and clearer design intent. It is a powerful tool in building complex and maintainable object-oriented systems."
   ]
  },
  {
   "cell_type": "markdown",
   "id": "4aadbe93",
   "metadata": {},
   "source": [
    "### 8. Create a Python class for a computer system, using composition to represent components like CPU, RAM, and storage devices.\n"
   ]
  },
  {
   "cell_type": "code",
   "execution_count": 143,
   "id": "22fb527f",
   "metadata": {},
   "outputs": [
    {
     "name": "stdout",
     "output_type": "stream",
     "text": [
      "Executing program:\n",
      "CPU processing data\n",
      "RAM reading data\n",
      "HDD reading data\n",
      "\n",
      "Storing data:\n",
      "RAM writing data\n",
      "HDD writing data\n"
     ]
    }
   ],
   "source": [
    "class CPU:\n",
    "    def __init__(self, brand, speed):\n",
    "        self.brand = brand\n",
    "        self.speed = speed\n",
    "\n",
    "    def process_data(self):\n",
    "        return \"CPU processing data\"\n",
    "\n",
    "class RAM:\n",
    "    def __init__(self, capacity):\n",
    "        self.capacity = capacity\n",
    "\n",
    "    def read_data(self):\n",
    "        return \"RAM reading data\"\n",
    "\n",
    "    def write_data(self):\n",
    "        return \"RAM writing data\"\n",
    "\n",
    "class StorageDevice:\n",
    "    def __init__(self, type, capacity):\n",
    "        self.type = type\n",
    "        self.capacity = capacity\n",
    "\n",
    "    def read_data(self):\n",
    "        return f\"{self.type} reading data\"\n",
    "\n",
    "    def write_data(self):\n",
    "        return f\"{self.type} writing data\"\n",
    "\n",
    "class ComputerSystem:\n",
    "    def __init__(self, cpu, ram, storage):\n",
    "        self.cpu = cpu  # Composition\n",
    "        self.ram = ram  # Composition\n",
    "        self.storage = storage  # Composition\n",
    "\n",
    "    def execute_program(self):\n",
    "        cpu_result = self.cpu.process_data()\n",
    "        ram_result = self.ram.read_data()\n",
    "        storage_result = self.storage.read_data()\n",
    "        return f\"{cpu_result}\\n{ram_result}\\n{storage_result}\"\n",
    "\n",
    "    def store_data(self):\n",
    "        ram_result = self.ram.write_data()\n",
    "        storage_result = self.storage.write_data()\n",
    "        return f\"{ram_result}\\n{storage_result}\"\n",
    "\n",
    "# Example usage:\n",
    "cpu = CPU(brand=\"Intel\", speed=\"2.5 GHz\")\n",
    "ram = RAM(capacity=\"8 GB\")\n",
    "hdd_storage = StorageDevice(type=\"HDD\", capacity=\"1 TB\")\n",
    "\n",
    "computer = ComputerSystem(cpu=cpu, ram=ram, storage=hdd_storage)\n",
    "\n",
    "# Performing operations\n",
    "print(\"Executing program:\")\n",
    "print(computer.execute_program())\n",
    "\n",
    "print(\"\\nStoring data:\")\n",
    "print(computer.store_data())\n"
   ]
  },
  {
   "cell_type": "markdown",
   "id": "5180c128",
   "metadata": {},
   "source": [
    "### 9. Describe the concept of \"delegation\" in composition and how it simplifies the design of complex systems.\n"
   ]
  },
  {
   "cell_type": "markdown",
   "id": "f51e93a8-01c6-4d61-924c-3a9f99511f30",
   "metadata": {},
   "source": [
    "Delegation in Composition\n",
    "\n",
    "Delegation in composition is a design pattern where an object passes the responsibility for a particular task or functionality to another object. Instead of implementing the functionality itself, the object delegates the task to another object that is better suited to handle it. This is achieved by composing objects and allowing one object to use the methods or properties of another.\n",
    "\n",
    "In the context of composition, delegation is often used to achieve code reuse, modularity, and a clear separation of concerns. It promotes the idea that each object should have a specific responsibility, and complex behaviors are achieved by composing multiple objects that work together.\n",
    "\n",
    "<b>How Delegation Simplifies the Design of Complex Systems:</b>\n",
    "\n",
    "1. Modularity and Reusability:\n",
    "\n",
    "    - Delegation allows breaking down complex functionalities into smaller, modular components. Each component is responsible for a specific task, promoting code reusability.\n",
    "    - Objects can be reused in different contexts or combined to create new behaviors without duplicating code.\n",
    "\n",
    "2. Separation of Concerns:\n",
    "\n",
    "    - Delegation encourages a clear separation of concerns by assigning specific responsibilities to different objects. Each object focuses on a specific aspect of the overall functionality.\n",
    "    - Objects become more maintainable, and changes to one part of the system are less likely to affect other parts.\n",
    "\n",
    "3. Flexibility and Extensibility:\n",
    "\n",
    "    - Delegation provides flexibility in changing or extending the behavior of a system. By replacing or adding delegated objects, you can modify the overall behavior without modifying the core logic.\n",
    "    - New functionalities can be added by introducing new objects without affecting existing code.\n",
    "\n",
    "4. Readability and Understandability:\n",
    "\n",
    "    - Delegation improves code readability and understandability. When an object delegates a task, the code that follows is often more concise and focused, making it easier to follow.\n",
    "    - Understanding the system becomes simpler as each object is responsible for a well-defined set of tasks.\n",
    "\n",
    "5. Encapsulation:\n",
    "\n",
    "    - Delegation allows encapsulating the details of complex functionalities within separate objects. This encapsulation protects the internal implementation of each object, providing a clean and abstract interface to the outside world.\n",
    "    - Objects can expose only the essential methods or properties needed for interaction.\n",
    "\n",
    "6. Dynamic Composition:\n",
    "\n",
    "    - Delegation enables dynamic composition, where objects can be combined or replaced at runtime. This dynamic nature allows for easy customization and adaptation to changing requirements.\n",
    "    - Complex systems can be assembled from smaller, interchangeable components.\n",
    "\n",
    "7. Testability:\n",
    "\n",
    "    - Delegated objects can be tested independently, facilitating unit testing. Testing smaller, focused components is generally easier than testing a monolithic system.\n",
    "    - Each object can have its own set of tests to ensure that it performs its delegated tasks correctly.\n",
    "\n",
    "In summary, delegation in composition simplifies the design of complex systems by promoting modularity, reusability, and a clear separation of concerns. It enhances flexibility, extensibility, and maintainability, making it easier to understand, modify, and extend code as the system evolves."
   ]
  },
  {
   "cell_type": "markdown",
   "id": "abf88881",
   "metadata": {},
   "source": [
    "### 10. Create a Python class for a car, using composition to represent components like the engine, wheels, and transmission.\n"
   ]
  },
  {
   "cell_type": "code",
   "execution_count": 144,
   "id": "f252d4f4",
   "metadata": {},
   "outputs": [
    {
     "name": "stdout",
     "output_type": "stream",
     "text": [
      "Engine started - Toyota Camry is ready to go.\n",
      "Wheel rotating, Wheel rotating, Wheel rotating, Wheel rotating - Gear shifted - Driving the Toyota Camry.\n",
      "Engine stopped - Toyota Camry has stopped.\n"
     ]
    }
   ],
   "source": [
    "class Engine:\n",
    "    def __init__(self, fuel_type):\n",
    "        self.fuel_type = fuel_type\n",
    "\n",
    "    def start(self):\n",
    "        return \"Engine started\"\n",
    "\n",
    "    def stop(self):\n",
    "        return \"Engine stopped\"\n",
    "\n",
    "class Wheel:\n",
    "    def __init__(self, position):\n",
    "        self.position = position\n",
    "\n",
    "    def rotate(self):\n",
    "        return \"Wheel rotating\"\n",
    "\n",
    "class Transmission:\n",
    "    def __init__(self, transmission_type):\n",
    "        self.transmission_type = transmission_type\n",
    "\n",
    "    def shift_gear(self):\n",
    "        return \"Gear shifted\"\n",
    "\n",
    "class Car:\n",
    "    def __init__(self, make, model, engine, wheels, transmission):\n",
    "        self.make = make\n",
    "        self.model = model\n",
    "        self.engine = engine  # Composition\n",
    "        self.wheels = wheels  # Composition\n",
    "        self.transmission = transmission  # Composition\n",
    "\n",
    "    def start(self):\n",
    "        engine_status = self.engine.start()\n",
    "        return f\"{engine_status} - {self.make} {self.model} is ready to go.\"\n",
    "\n",
    "    def drive(self):\n",
    "        wheel_status = [wheel.rotate() for wheel in self.wheels]\n",
    "        gear_status = self.transmission.shift_gear()\n",
    "        return f\"{', '.join(wheel_status)} - {gear_status} - Driving the {self.make} {self.model}.\"\n",
    "\n",
    "    def stop(self):\n",
    "        engine_status = self.engine.stop()\n",
    "        return f\"{engine_status} - {self.make} {self.model} has stopped.\"\n",
    "\n",
    "# Example usage:\n",
    "engine = Engine(fuel_type=\"Gasoline\")\n",
    "wheels = [Wheel(position=\"Front Left\"), Wheel(position=\"Front Right\"), Wheel(position=\"Rear Left\"), Wheel(position=\"Rear Right\")]\n",
    "transmission = Transmission(transmission_type=\"Automatic\")\n",
    "\n",
    "my_car = Car(make=\"Toyota\", model=\"Camry\", engine=engine, wheels=wheels, transmission=transmission)\n",
    "\n",
    "# Driving the car\n",
    "print(my_car.start())\n",
    "print(my_car.drive())\n",
    "print(my_car.stop())\n"
   ]
  },
  {
   "cell_type": "markdown",
   "id": "78f9ce7c",
   "metadata": {},
   "source": [
    "### 11. How can you encapsulate and hide the details of composed objects in Python classes to maintain abstraction?\n"
   ]
  },
  {
   "cell_type": "markdown",
   "id": "258bc133-d8c8-4c23-886d-e0ccda01f634",
   "metadata": {},
   "source": [
    "Encapsulation in Python involves bundling the data (attributes) and the methods that operate on the data into a single unit known as a class. When dealing with composed objects, such as in a composition-based design, encapsulation ensures that the internal details of the composed objects are hidden from the outside world, maintaining abstraction.\n",
    "\n",
    "Here are some techniques to encapsulate and hide the details of composed objects in Python classes:\n",
    "\n",
    "1. Private Attributes:\n",
    "\n",
    "    - Use private attributes (prefixed with double underscores) to make them not directly accessible from outside the class. This ensures that the internal details of the composed objects are hidden.\n",
    "\n",
    "2. Property Decorators:\n",
    "\n",
    "    - Use property decorators to define getter and setter methods for attributes. This allows you to control access to the attributes and perform actions when getting or setting values.\n",
    "\n",
    "3. Access Control in Composition:\n",
    "\n",
    "    - When composing objects within a class, use private attributes for the composed objects and provide public methods to interact with them.\n",
    "\n",
    "4. Limiting Public Interface:\n",
    "\n",
    "    - Only expose the methods that are essential for external interaction. Limit the public interface to maintain a clear and concise abstraction.\n",
    "\n",
    "5. Implementing Abstraction Layers:\n",
    "\n",
    "    - Create abstraction layers by providing high-level methods that encapsulate the details of composed objects. This allows for a cleaner and more abstract external interface.\n"
   ]
  },
  {
   "cell_type": "code",
   "execution_count": 145,
   "id": "10acbab4-467f-49bf-a8de-169efcb382b9",
   "metadata": {},
   "outputs": [],
   "source": [
    "# Private Attributes\n",
    "class MyClass:\n",
    "    def __init__(self):\n",
    "        self.__private_attribute = 42\n",
    "\n",
    "    def get_private_attribute(self):\n",
    "        return self.__private_attribute\n"
   ]
  },
  {
   "cell_type": "code",
   "execution_count": 146,
   "id": "2861968a-0ada-4195-ae2d-95bdfdeb68fe",
   "metadata": {},
   "outputs": [],
   "source": [
    "# Property Decorators\n",
    "class MyClass:\n",
    "    def __init__(self):\n",
    "        self._private_attribute = 42\n",
    "\n",
    "    @property\n",
    "    def private_attribute(self):\n",
    "        return self._private_attribute\n",
    "\n",
    "    @private_attribute.setter\n",
    "    def private_attribute(self, value):\n",
    "        # Additional logic if needed\n",
    "        self._private_attribute = value\n"
   ]
  },
  {
   "cell_type": "code",
   "execution_count": 147,
   "id": "8aed81b9-fdf8-4e50-ae21-f51d75ba5f79",
   "metadata": {},
   "outputs": [],
   "source": [
    "# Access Control in Composition\n",
    "class UniversityCourse:\n",
    "    def __init__(self, instructor):\n",
    "        self.__instructor = instructor  # Private attribute\n",
    "\n",
    "    def get_instructor_name(self):\n",
    "        return self.__instructor.get_name()\n"
   ]
  },
  {
   "cell_type": "code",
   "execution_count": 148,
   "id": "8aaa2a1c-5e41-46eb-8ae6-68d582a12045",
   "metadata": {},
   "outputs": [],
   "source": [
    "# Limiting Public Interface\n",
    "class BankAccount:\n",
    "    def __init__(self, balance):\n",
    "        self.__balance = balance\n",
    "\n",
    "    def deposit(self, amount):\n",
    "        self.__balance += amount\n",
    "\n",
    "    def withdraw(self, amount):\n",
    "        if amount <= self.__balance:\n",
    "            self.__balance -= amount\n",
    "        else:\n",
    "            print(\"Insufficient funds.\")\n"
   ]
  },
  {
   "cell_type": "code",
   "execution_count": 149,
   "id": "5edc8581-44f9-4884-9d6b-5ebafbf51cb4",
   "metadata": {},
   "outputs": [],
   "source": [
    "# Implementing Abstraction Layers\n",
    "class FileManager:\n",
    "    def __init__(self):\n",
    "        self.__file_system = FileSystem()\n",
    "\n",
    "    def read_file(self, filename):\n",
    "        return self.__file_system.read(filename)\n",
    "\n",
    "    def write_file(self, filename, content):\n",
    "        self.__file_system.write(filename, content)\n"
   ]
  },
  {
   "cell_type": "markdown",
   "id": "da8ab1db",
   "metadata": {},
   "source": [
    "### 12. Create a Python class for a university course, using composition to represent students, instructors, and course materials.\n"
   ]
  },
  {
   "cell_type": "code",
   "execution_count": 150,
   "id": "fc01c547",
   "metadata": {},
   "outputs": [
    {
     "name": "stdout",
     "output_type": "stream",
     "text": [
      "Course CS101: Computer Science 101\n",
      "Instructor: Instructor 1: Dr. Smith\n",
      "Students:\n",
      "  - Student 101: Alice\n",
      "  - Student 102: Bob\n",
      "Materials:\n",
      "  - Course Material - Introduction to Python\n",
      "  - Course Material - Advanced Data Structures\n",
      "\n"
     ]
    }
   ],
   "source": [
    "class Student:\n",
    "    def __init__(self, student_id, name):\n",
    "        self.student_id = student_id\n",
    "        self.name = name\n",
    "\n",
    "    def __str__(self):\n",
    "        return f\"Student {self.student_id}: {self.name}\"\n",
    "\n",
    "class Instructor:\n",
    "    def __init__(self, instructor_id, name):\n",
    "        self.instructor_id = instructor_id\n",
    "        self.name = name\n",
    "\n",
    "    def __str__(self):\n",
    "        return f\"Instructor {self.instructor_id}: {self.name}\"\n",
    "\n",
    "class CourseMaterial:\n",
    "    def __init__(self, title, content):\n",
    "        self.title = title\n",
    "        self.content = content\n",
    "\n",
    "    def __str__(self):\n",
    "        return f\"Course Material - {self.title}\"\n",
    "\n",
    "class UniversityCourse:\n",
    "    def __init__(self, course_code, course_name, instructor, students=None, materials=None):\n",
    "        self.course_code = course_code\n",
    "        self.course_name = course_name\n",
    "        self.instructor = instructor  # Composition\n",
    "        self.students = students or []  # Composition\n",
    "        self.materials = materials or []  # Composition\n",
    "\n",
    "    def add_student(self, student):\n",
    "        self.students.append(student)\n",
    "\n",
    "    def add_material(self, material):\n",
    "        self.materials.append(material)\n",
    "\n",
    "    def __str__(self):\n",
    "        course_info = f\"Course {self.course_code}: {self.course_name}\\n\"\n",
    "        course_info += f\"Instructor: {self.instructor}\\n\"\n",
    "        course_info += \"Students:\\n\"\n",
    "        for student in self.students:\n",
    "            course_info += f\"  - {student}\\n\"\n",
    "        course_info += \"Materials:\\n\"\n",
    "        for material in self.materials:\n",
    "            course_info += f\"  - {material}\\n\"\n",
    "        return course_info\n",
    "\n",
    "# Example usage:\n",
    "instructor = Instructor(instructor_id=1, name=\"Dr. Smith\")\n",
    "\n",
    "student1 = Student(student_id=101, name=\"Alice\")\n",
    "student2 = Student(student_id=102, name=\"Bob\")\n",
    "\n",
    "material1 = CourseMaterial(title=\"Introduction to Python\", content=\"...\")\n",
    "material2 = CourseMaterial(title=\"Advanced Data Structures\", content=\"...\")\n",
    "\n",
    "course = UniversityCourse(course_code=\"CS101\", course_name=\"Computer Science 101\", instructor=instructor)\n",
    "course.add_student(student1)\n",
    "course.add_student(student2)\n",
    "course.add_material(material1)\n",
    "course.add_material(material2)\n",
    "\n",
    "# Displaying information\n",
    "print(course)\n"
   ]
  },
  {
   "cell_type": "markdown",
   "id": "391ecd5f",
   "metadata": {},
   "source": [
    "### 13. Discuss the challenges and drawbacks of composition, such as increased complexity and potential for tight coupling between objects.\n"
   ]
  },
  {
   "cell_type": "markdown",
   "id": "1498cac2-871b-4510-bb89-b6bcac775308",
   "metadata": {},
   "source": [
    "While composition offers numerous benefits, it also comes with its own set of challenges and potential drawbacks. Here are some of the challenges associated with composition:\n",
    "\n",
    "1. Increased Complexity:\n",
    "\n",
    "    - As the number of composed objects increases, the overall complexity of the system may grow. Managing relationships between multiple components can become intricate, especially in large-scale applications.\n",
    "\n",
    "2. Potential for Tight Coupling:\n",
    "\n",
    "    - If not carefully designed, composition can lead to tight coupling between objects, where changes in one component may have unintended consequences on other components.\n",
    "    - Changes to the interface or behavior of one component may require modifications in multiple places, increasing the risk of introducing errors.\n",
    "\n",
    "3. Difficulty in Understanding Relationships:\n",
    "\n",
    "    - Understanding the relationships between composed objects can be challenging, especially for developers who are not familiar with the entire codebase.\n",
    "    - A complex composition hierarchy may require additional documentation and comments to help developers understand how the components interact.\n",
    "\n",
    "4. Maintenance Challenges:\n",
    "\n",
    "    - Maintenance can become challenging when there is a need to modify or add new components. A change in one component may necessitate modifications in multiple places, potentially leading to maintenance difficulties.\n",
    "\n",
    "5. Inversion of Control (IoC) Complexity:\n",
    "\n",
    "    - Inversion of Control (IoC) frameworks, which rely heavily on composition, can introduce additional complexity. Managing the lifecycle and dependencies of components in IoC containers may require a steep learning curve.\n",
    "\n",
    "6. Initialization Order Dependencies:\n",
    "\n",
    "    - Initialization order dependencies can arise when one component depends on another during instantiation. Careful consideration is required to avoid circular dependencies or situations where components are not properly initialized.\n",
    "\n",
    "7. Potential Performance Overhead:\n",
    "\n",
    "    - Composition can introduce a slight performance overhead, especially in cases where there are many levels of nesting. Accessing components through multiple layers of composition may result in slower performance compared to direct access.\n",
    "\n",
    "8. Design Overhead:\n",
    "\n",
    "    - Designing a well-structured composition hierarchy requires careful planning. Deciding how components should interact, managing dependencies, and avoiding tight coupling can add design overhead.\n",
    "\n",
    "9. Testing Challenges:\n",
    "\n",
    "    - Testing can become challenging, particularly when testing individual components in isolation. Mocking or simulating dependencies may be necessary to isolate the component under test.\n",
    "\n",
    "10. Decision Overhead:\n",
    "\n",
    "    - Deciding on the appropriate level of composition and when to use composition over inheritance can be a non-trivial decision. Overusing composition or applying it inappropriately can lead to unnecessary complexity.\n",
    "\n",
    "Despite these challenges, it's important to note that careful design, adherence to best practices, and use of design patterns can mitigate many of the potential drawbacks associated with composition. Properly implemented composition remains a powerful tool for creating modular, maintainable, and flexible code."
   ]
  },
  {
   "cell_type": "markdown",
   "id": "74779f06",
   "metadata": {},
   "source": [
    "### 14. Create a Python class hierarchy for a restaurant system, using composition to represent menus, dishes, and ingredients.\n"
   ]
  },
  {
   "cell_type": "code",
   "execution_count": 151,
   "id": "016880a4",
   "metadata": {},
   "outputs": [
    {
     "name": "stdout",
     "output_type": "stream",
     "text": [
      "Restaurant: Gourmet Delight - City Center\n",
      "Menus:\n",
      "Menu: Lunch Menu - Delicious lunch options\n",
      "Dishes:\n",
      "Grilled Chicken - Juicy grilled chicken\n",
      "Ingredients:\n",
      "  - 200 g of Chicken\n",
      "\n",
      "Chicken Curry - Spicy chicken curry with rice\n",
      "Ingredients:\n",
      "  - 200 g of Chicken\n",
      "  - 150 g of Rice\n",
      "  - 2 pieces of Tomatoes\n",
      "\n",
      "\n",
      "Menu: Dinner Menu - Satisfying dinner options\n",
      "Dishes:\n",
      "Chicken Curry - Spicy chicken curry with rice\n",
      "Ingredients:\n",
      "  - 200 g of Chicken\n",
      "  - 150 g of Rice\n",
      "  - 2 pieces of Tomatoes\n",
      "\n",
      "Salmon Quinoa Bowl - Healthy salmon quinoa bowl\n",
      "Ingredients:\n",
      "  - 180 g of Salmon\n",
      "  - 120 g of Quinoa\n",
      "  - 1 cup of Spinach\n",
      "\n",
      "\n",
      "\n"
     ]
    }
   ],
   "source": [
    "class Ingredient:\n",
    "    def __init__(self, name, quantity, unit):\n",
    "        self.name = name\n",
    "        self.quantity = quantity\n",
    "        self.unit = unit\n",
    "\n",
    "    def __str__(self):\n",
    "        return f\"{self.quantity} {self.unit} of {self.name}\"\n",
    "\n",
    "class Dish:\n",
    "    def __init__(self, name, description, ingredients):\n",
    "        self.name = name\n",
    "        self.description = description\n",
    "        self.ingredients = ingredients  # Composition\n",
    "\n",
    "    def __str__(self):\n",
    "        dish_info = f\"{self.name} - {self.description}\\n\"\n",
    "        dish_info += \"Ingredients:\\n\"\n",
    "        for ingredient in self.ingredients:\n",
    "            dish_info += f\"  - {ingredient}\\n\"\n",
    "        return dish_info\n",
    "\n",
    "class Menu:\n",
    "    def __init__(self, name, description, dishes):\n",
    "        self.name = name\n",
    "        self.description = description\n",
    "        self.dishes = dishes  # Composition\n",
    "\n",
    "    def __str__(self):\n",
    "        menu_info = f\"Menu: {self.name} - {self.description}\\n\"\n",
    "        menu_info += \"Dishes:\\n\"\n",
    "        for dish in self.dishes:\n",
    "            menu_info += f\"{dish}\\n\"\n",
    "        return menu_info\n",
    "\n",
    "class Restaurant:\n",
    "    def __init__(self, name, location, menus):\n",
    "        self.name = name\n",
    "        self.location = location\n",
    "        self.menus = menus  # Composition\n",
    "\n",
    "    def __str__(self):\n",
    "        restaurant_info = f\"Restaurant: {self.name} - {self.location}\\n\"\n",
    "        restaurant_info += \"Menus:\\n\"\n",
    "        for menu in self.menus:\n",
    "            restaurant_info += f\"{menu}\\n\"\n",
    "        return restaurant_info\n",
    "\n",
    "# Example usage:\n",
    "ingredient1 = Ingredient(name=\"Chicken\", quantity=200, unit=\"g\")\n",
    "ingredient2 = Ingredient(name=\"Rice\", quantity=150, unit=\"g\")\n",
    "ingredient3 = Ingredient(name=\"Tomatoes\", quantity=2, unit=\"pieces\")\n",
    "\n",
    "dish1 = Dish(name=\"Grilled Chicken\", description=\"Juicy grilled chicken\", ingredients=[ingredient1])\n",
    "dish2 = Dish(name=\"Chicken Curry\", description=\"Spicy chicken curry with rice\", ingredients=[ingredient1, ingredient2, ingredient3])\n",
    "\n",
    "menu1 = Menu(name=\"Lunch Menu\", description=\"Delicious lunch options\", dishes=[dish1, dish2])\n",
    "\n",
    "ingredient4 = Ingredient(name=\"Salmon\", quantity=180, unit=\"g\")\n",
    "ingredient5 = Ingredient(name=\"Quinoa\", quantity=120, unit=\"g\")\n",
    "ingredient6 = Ingredient(name=\"Spinach\", quantity=1, unit=\"cup\")\n",
    "\n",
    "dish3 = Dish(name=\"Salmon Quinoa Bowl\", description=\"Healthy salmon quinoa bowl\", ingredients=[ingredient4, ingredient5, ingredient6])\n",
    "\n",
    "menu2 = Menu(name=\"Dinner Menu\", description=\"Satisfying dinner options\", dishes=[dish2, dish3])\n",
    "\n",
    "restaurant = Restaurant(name=\"Gourmet Delight\", location=\"City Center\", menus=[menu1, menu2])\n",
    "\n",
    "# Displaying information\n",
    "print(restaurant)\n"
   ]
  },
  {
   "cell_type": "markdown",
   "id": "0b12619f",
   "metadata": {},
   "source": [
    "### 15. Explain how composition enhances code maintainability and modularity in Python programs.\n"
   ]
  },
  {
   "cell_type": "markdown",
   "id": "c4d0c7b3-15bc-405f-b306-90b887a8a6e6",
   "metadata": {},
   "source": [
    "Composition enhances code maintainability and modularity in Python programs by promoting a modular design approach where complex systems are built by combining smaller, independent, and reusable components. Here are several ways in which composition contributes to code maintainability and modularity:\n",
    "\n",
    "1. Separation of Concerns:\n",
    "\n",
    "    - Composition allows breaking down a system into smaller, more manageable components. Each component is responsible for a specific aspect or functionality, promoting the separation of concerns.\n",
    "    - Independent components can be developed, tested, and maintained separately, making it easier to understand, modify, and extend the codebase.\n",
    "\n",
    "2. Code Reusability:\n",
    "\n",
    "    - Components created through composition can be reused in different parts of the code or in different projects.\n",
    "    - Reusable components reduce redundancy, as the same functionality can be applied in various contexts without duplicating the code.\n",
    "\n",
    "3. Flexibility and Adaptability:\n",
    "\n",
    "    - Components can be easily replaced or modified without affecting the entire system. This flexibility is crucial for adapting to changing requirements or integrating new features.\n",
    "    - Changes to one component do not necessarily impact other components, minimizing the risk of unintended consequences.\n",
    "\n",
    "4. Encapsulation:\n",
    "\n",
    "    - Composition allows encapsulating the internal details of a component within its own class, exposing only a well-defined interface to the outside world.\n",
    "    - Encapsulation protects the internal implementation, allowing modifications without affecting external code as long as the interface remains consistent.\n",
    "\n",
    "5. Testability:\n",
    "\n",
    "    - Components created through composition are often more modular and isolated, making it easier to write unit tests for individual components.\n",
    "    - Unit testing becomes more straightforward, as the behavior of each component can be tested independently of other components.\n",
    "\n",
    "6. Scalability:\n",
    "\n",
    "    - A composition-based design facilitates scalability by allowing the addition of new components or the modification of existing ones without requiring extensive changes to the entire system.\n",
    "    - New features or modules can be seamlessly integrated into the existing structure.\n",
    "\n",
    "7. Maintainability Across Teams:\n",
    "\n",
    "    - Modular code created through composition is often more maintainable across teams. Different teams can work on different components independently as long as they adhere to the defined interfaces.\n",
    "    - Teams can focus on specific areas of expertise, fostering collaboration and reducing the risk of conflicts.\n",
    "\n",
    "8. Enhanced Readability:\n",
    "\n",
    "    - Composition improves code readability by organizing the code into smaller, well-defined components with clear responsibilities.\n",
    "    - Code becomes more readable and easier to understand, especially for developers who are not familiar with the entire codebase.\n",
    "\n",
    "9. Reduced Code Complexity:\n",
    "\n",
    "    - Breaking down a complex system into smaller components reduces the overall complexity of the code. Developers can focus on understanding and working with smaller, more manageable pieces of functionality.\n",
    "\n",
    "In summary, composition promotes a modular and flexible design that enhances code maintainability and modularity in Python programs. It allows developers to build systems using independent components, making the codebase more scalable, adaptable, and easier to maintain over time."
   ]
  },
  {
   "cell_type": "markdown",
   "id": "87c131f3",
   "metadata": {},
   "source": [
    "### 16. Create a Python class for a computer game character, using composition to represent attributes like weapons, armor, and inventory.\n"
   ]
  },
  {
   "cell_type": "code",
   "execution_count": 152,
   "id": "0c25aca9",
   "metadata": {},
   "outputs": [
    {
     "name": "stdout",
     "output_type": "stream",
     "text": [
      "Hero (Health: 100)\n",
      "  - Equipped: Weapon: Sword (Damage: 10)\n",
      "  - Equipped: Armor: Shield (Defense: 5)\n",
      "  - Inventory:\n",
      "    - Health Potion x3\n",
      "\n",
      "Enemy (Health: 50)\n",
      "\n",
      "Hero attacks Enemy with Sword for 10 damage.\n",
      "Enemy attacks Hero for 1 damage.\n",
      "Hero (Health: 100)\n",
      "  - Equipped: Weapon: Sword (Damage: 10)\n",
      "  - Equipped: Armor: Shield (Defense: 5)\n",
      "  - Inventory:\n",
      "    - Health Potion x3\n",
      "\n",
      "Enemy (Health: 40)\n",
      "\n"
     ]
    }
   ],
   "source": [
    "class Weapon:\n",
    "    def __init__(self, name, damage):\n",
    "        self.name = name\n",
    "        self.damage = damage\n",
    "\n",
    "    def __str__(self):\n",
    "        return f\"Weapon: {self.name} (Damage: {self.damage})\"\n",
    "\n",
    "class Armor:\n",
    "    def __init__(self, name, defense):\n",
    "        self.name = name\n",
    "        self.defense = defense\n",
    "\n",
    "    def __str__(self):\n",
    "        return f\"Armor: {self.name} (Defense: {self.defense})\"\n",
    "\n",
    "class InventoryItem:\n",
    "    def __init__(self, name, quantity):\n",
    "        self.name = name\n",
    "        self.quantity = quantity\n",
    "\n",
    "    def __str__(self):\n",
    "        return f\"{self.name} x{self.quantity}\"\n",
    "\n",
    "class GameCharacter:\n",
    "    def __init__(self, name, health):\n",
    "        self.name = name\n",
    "        self.health = health\n",
    "        self.weapon = None  # Composition\n",
    "        self.armor = None  # Composition\n",
    "        self.inventory = []  # Composition\n",
    "\n",
    "    def equip_weapon(self, weapon):\n",
    "        self.weapon = weapon\n",
    "\n",
    "    def equip_armor(self, armor):\n",
    "        self.armor = armor\n",
    "\n",
    "    def add_to_inventory(self, item):\n",
    "        self.inventory.append(item)\n",
    "\n",
    "    def attack(self, target):\n",
    "        if self.weapon:\n",
    "            damage_dealt = self.weapon.damage\n",
    "            print(f\"{self.name} attacks {target.name} with {self.weapon.name} for {damage_dealt} damage.\")\n",
    "            target.health -= damage_dealt\n",
    "        else:\n",
    "            print(f\"{self.name} attacks {target.name} for 1 damage.\")\n",
    "\n",
    "    def __str__(self):\n",
    "        character_info = f\"{self.name} (Health: {self.health})\\n\"\n",
    "        if self.weapon:\n",
    "            character_info += f\"  - Equipped: {self.weapon}\\n\"\n",
    "        if self.armor:\n",
    "            character_info += f\"  - Equipped: {self.armor}\\n\"\n",
    "        if self.inventory:\n",
    "            character_info += \"  - Inventory:\\n\"\n",
    "            for item in self.inventory:\n",
    "                character_info += f\"    - {item}\\n\"\n",
    "        return character_info\n",
    "\n",
    "# Example usage:\n",
    "sword = Weapon(name=\"Sword\", damage=10)\n",
    "shield = Armor(name=\"Shield\", defense=5)\n",
    "health_potion = InventoryItem(name=\"Health Potion\", quantity=3)\n",
    "\n",
    "hero = GameCharacter(name=\"Hero\", health=100)\n",
    "hero.equip_weapon(sword)\n",
    "hero.equip_armor(shield)\n",
    "hero.add_to_inventory(health_potion)\n",
    "\n",
    "enemy = GameCharacter(name=\"Enemy\", health=50)\n",
    "\n",
    "# Displaying information\n",
    "print(hero)\n",
    "print(enemy)\n",
    "\n",
    "hero.attack(enemy)\n",
    "enemy.attack(hero)\n",
    "\n",
    "print(hero)\n",
    "print(enemy)\n"
   ]
  },
  {
   "cell_type": "markdown",
   "id": "5e8743d8",
   "metadata": {},
   "source": [
    "### 17. Describe the concept of \"aggregation\" in composition and how it differs from simple composition.\n"
   ]
  },
  {
   "cell_type": "markdown",
   "id": "9d9f39a1-4850-4611-a95e-c8db46bd2338",
   "metadata": {},
   "source": [
    "<b>Aggregation in Composition:</b>\n",
    "\n",
    "Aggregation is a form of composition where one class represents a part of or is contained within another class, but the part (the \"child\" class) can exist independently of the whole (the \"parent\" class). In other words, aggregation implies a relationship where one class is composed of other classes, but the child class instances can exist on their own.\n",
    "\n",
    "In aggregation, the lifetime of the aggregated objects is not tied to the lifetime of the containing object. This means that even if the containing object is destroyed, the aggregated objects can still exist. Aggregation is often represented by a \"has-a\" relationship.\n",
    "\n",
    "<b>Differences from Simple Composition:</b>\n",
    "\n",
    "1. Independence of Lifetime:\n",
    "\n",
    "    - In simple composition, the lifetime of the composed objects is tightly bound to the lifetime of the containing object. If the containing object is destroyed, the composed objects are also destroyed.\n",
    "    - In aggregation, the composed objects can exist independently of the containing object. Destroying the containing object does not necessarily lead to the destruction of the aggregated objects.\n",
    "\n",
    "2. Flexibility and Reusability:\n",
    "\n",
    "    - Aggregation provides more flexibility and reusability because the aggregated objects can be reused in different contexts, not just within the context of a particular containing object.\n",
    "    - Simple composition might be more restrictive as the composed objects are specifically tailored for use within the containing object.\n",
    "\n",
    "3. Multiplicity:\n",
    "\n",
    "    - Aggregation allows for the concept of \"multiplicity,\" meaning that a containing object can be associated with multiple instances of the aggregated object.\n",
    "    - Simple composition typically involves a one-to-one relationship between the containing object and the composed object."
   ]
  },
  {
   "cell_type": "code",
   "execution_count": 153,
   "id": "e8cd1e3a-3e85-4806-bb78-4f8fab5abefa",
   "metadata": {},
   "outputs": [
    {
     "name": "stdout",
     "output_type": "stream",
     "text": [
      "Engine started\n"
     ]
    }
   ],
   "source": [
    "class Engine:\n",
    "    def start(self):\n",
    "        return \"Engine started\"\n",
    "\n",
    "class Car:\n",
    "    def __init__(self):\n",
    "        self.engine = Engine()  # Simple composition\n",
    "\n",
    "class Garage:\n",
    "    def __init__(self):\n",
    "        self.cars = []  # Aggregation\n",
    "\n",
    "    def add_car(self, car):\n",
    "        self.cars.append(car)\n",
    "\n",
    "# Example usage:\n",
    "car1 = Car()\n",
    "car2 = Car()\n",
    "\n",
    "garage = Garage()\n",
    "garage.add_car(car1)\n",
    "garage.add_car(car2)\n",
    "\n",
    "print(garage.cars[0].engine.start())  # Output: \"Engine started\"\n"
   ]
  },
  {
   "cell_type": "markdown",
   "id": "dc3b6f23",
   "metadata": {},
   "source": [
    "### 18. Create a Python class for a house, using composition to represent rooms, furniture, and appliances.\n"
   ]
  },
  {
   "cell_type": "code",
   "execution_count": 154,
   "id": "6367849d",
   "metadata": {},
   "outputs": [
    {
     "name": "stdout",
     "output_type": "stream",
     "text": [
      "House:\n",
      "  - Living Room (Area: 200 sq. ft)\n",
      "    - Furniture: Sofa\n",
      "    - Furniture: Dining Table\n",
      "  - Kitchen (Area: 150 sq. ft)\n",
      "    - Appliance: Oven\n",
      "    - Appliance: Fridge\n",
      "\n"
     ]
    }
   ],
   "source": [
    "class Room:\n",
    "    def __init__(self, name, area):\n",
    "        self.name = name\n",
    "        self.area = area\n",
    "        self.furniture = []\n",
    "        self.appliances = []\n",
    "\n",
    "    def add_furniture(self, furniture):\n",
    "        self.furniture.append(furniture)\n",
    "\n",
    "    def add_appliance(self, appliance):\n",
    "        self.appliances.append(appliance)\n",
    "\n",
    "    def __str__(self):\n",
    "        return f\"{self.name} (Area: {self.area} sq. ft)\"\n",
    "\n",
    "class Furniture:\n",
    "    def __init__(self, name):\n",
    "        self.name = name\n",
    "\n",
    "    def __str__(self):\n",
    "        return f\"Furniture: {self.name}\"\n",
    "\n",
    "class Appliance:\n",
    "    def __init__(self, name):\n",
    "        self.name = name\n",
    "\n",
    "    def __str__(self):\n",
    "        return f\"Appliance: {self.name}\"\n",
    "\n",
    "class House:\n",
    "    def __init__(self):\n",
    "        self.rooms = []\n",
    "\n",
    "    def add_room(self, room):\n",
    "        self.rooms.append(room)\n",
    "\n",
    "    def __str__(self):\n",
    "        house_info = \"House:\\n\"\n",
    "        for room in self.rooms:\n",
    "            house_info += f\"  - {room}\\n\"\n",
    "            for furniture in room.furniture:\n",
    "                house_info += f\"    - {furniture}\\n\"\n",
    "            for appliance in room.appliances:\n",
    "                house_info += f\"    - {appliance}\\n\"\n",
    "        return house_info\n",
    "\n",
    "# Example usage:\n",
    "living_room = Room(name=\"Living Room\", area=200)\n",
    "kitchen = Room(name=\"Kitchen\", area=150)\n",
    "\n",
    "sofa = Furniture(name=\"Sofa\")\n",
    "dining_table = Furniture(name=\"Dining Table\")\n",
    "\n",
    "oven = Appliance(name=\"Oven\")\n",
    "fridge = Appliance(name=\"Fridge\")\n",
    "\n",
    "living_room.add_furniture(sofa)\n",
    "living_room.add_furniture(dining_table)\n",
    "kitchen.add_appliance(oven)\n",
    "kitchen.add_appliance(fridge)\n",
    "\n",
    "my_house = House()\n",
    "my_house.add_room(living_room)\n",
    "my_house.add_room(kitchen)\n",
    "\n",
    "# Displaying information\n",
    "print(my_house)\n"
   ]
  },
  {
   "cell_type": "markdown",
   "id": "70c027eb",
   "metadata": {},
   "source": [
    "### 19. How can you achieve flexibility in composed objects by allowing them to be replaced or modified dynamically at runtime?\n"
   ]
  },
  {
   "cell_type": "markdown",
   "id": "320d922c-76cf-4c3b-8de0-9619099c5550",
   "metadata": {},
   "source": [
    "Achieving flexibility in composed objects by allowing them to be replaced or modified dynamically at runtime involves leveraging concepts such as interfaces, polymorphism, and dependency injection. Here are some strategies to achieve this flexibility:\n",
    "\n",
    "1. Use Interfaces or Abstract Base Classes (ABCs):\n",
    "    - Define interfaces or abstract base classes that represent the common behavior expected from the composed objects.\n",
    "    - Classes that implement these interfaces can be dynamically replaced without affecting the overall functionality.\n",
    "2. Polymorphism:\n",
    "    - Utilize polymorphism to allow objects of different types to be treated interchangeably if they implement the same interface or inherit from the same base class.\n",
    "    - This allows dynamic substitution of objects at runtime without changing the client code.\n",
    "3. Dependency Injection:\n",
    "    - Inject dependencies into the composed objects rather than hardcoding them internally.\n",
    "    - This allows for the dynamic replacement of dependencies at runtime, providing flexibility in choosing different implementations.\n",
    "4. Dynamic Composition:\n",
    "    - Implement dynamic composition patterns, such as the Strategy Pattern or the Decorator Pattern.\n",
    "    - These patterns enable the dynamic addition or replacement of behaviors in composed objects.\n",
    "5. Factory Methods or Dependency Injection Containers:\n",
    "    - Use factory methods or dependency injection containers to create and inject objects dynamically.\n",
    "    - This allows for easy replacement of objects during the application's lifecycle.\n"
   ]
  },
  {
   "cell_type": "code",
   "execution_count": 155,
   "id": "11d6dcd8-cc4a-4518-8dc2-9a8024fa2e0d",
   "metadata": {},
   "outputs": [
    {
     "name": "stdout",
     "output_type": "stream",
     "text": [
      "Component A operation\n",
      "Component B operation\n"
     ]
    }
   ],
   "source": [
    "from abc import ABC, abstractmethod\n",
    "\n",
    "# Interface or Abstract Base Class (ABC)\n",
    "class Composable(ABC):\n",
    "    @abstractmethod\n",
    "    def operation(self):\n",
    "        pass\n",
    "\n",
    "# Concrete implementations of the interface\n",
    "class ComponentA(Composable):\n",
    "    def operation(self):\n",
    "        return \"Component A operation\"\n",
    "\n",
    "class ComponentB(Composable):\n",
    "    def operation(self):\n",
    "        return \"Component B operation\"\n",
    "\n",
    "# Composed object that can be dynamically replaced\n",
    "class ComposedObject:\n",
    "    def __init__(self, composable: Composable):\n",
    "        self.composable = composable\n",
    "\n",
    "    def perform_operation(self):\n",
    "        return self.composable.operation()\n",
    "\n",
    "# Example usage:\n",
    "component_a = ComponentA()\n",
    "composed_object = ComposedObject(composable=component_a)\n",
    "print(composed_object.perform_operation())  # Output: Component A operation\n",
    "\n",
    "component_b = ComponentB()\n",
    "composed_object.composable = component_b\n",
    "print(composed_object.perform_operation())  # Output: Component B operation\n"
   ]
  },
  {
   "cell_type": "markdown",
   "id": "98ed0ceb",
   "metadata": {},
   "source": [
    "### 20. Create a Python class for a social media application, using composition to represent users, posts, and comments.\n"
   ]
  },
  {
   "cell_type": "code",
   "execution_count": 156,
   "id": "eac430da",
   "metadata": {},
   "outputs": [
    {
     "name": "stdout",
     "output_type": "stream",
     "text": [
      "User: Alice\n",
      "User: Bob\n",
      "Post by Alice: Hello, this is my first post!\n",
      "Post by Bob: Excited to join this social media app!\n",
      "Comment by Bob: Welcome, Alice!\n",
      "Comment by Alice: Thanks, Bob!\n"
     ]
    }
   ],
   "source": [
    "class User:\n",
    "    def __init__(self, username, email):\n",
    "        self.username = username\n",
    "        self.email = email\n",
    "        self.posts = []\n",
    "\n",
    "    def create_post(self, content):\n",
    "        post = Post(content, author=self)\n",
    "        self.posts.append(post)\n",
    "        return post\n",
    "\n",
    "    def __str__(self):\n",
    "        return f\"User: {self.username}\"\n",
    "\n",
    "class Post:\n",
    "    def __init__(self, content, author):\n",
    "        self.content = content\n",
    "        self.author = author\n",
    "        self.comments = []\n",
    "\n",
    "    def add_comment(self, commenter, text):\n",
    "        comment = Comment(commenter, text)\n",
    "        self.comments.append(comment)\n",
    "        return comment\n",
    "\n",
    "    def __str__(self):\n",
    "        return f\"Post by {self.author.username}: {self.content}\"\n",
    "\n",
    "class Comment:\n",
    "    def __init__(self, commenter, text):\n",
    "        self.commenter = commenter\n",
    "        self.text = text\n",
    "\n",
    "    def __str__(self):\n",
    "        return f\"Comment by {self.commenter.username}: {self.text}\"\n",
    "\n",
    "# Example usage:\n",
    "user1 = User(username=\"Alice\", email=\"alice@example.com\")\n",
    "user2 = User(username=\"Bob\", email=\"bob@example.com\")\n",
    "\n",
    "post1 = user1.create_post(\"Hello, this is my first post!\")\n",
    "post2 = user2.create_post(\"Excited to join this social media app!\")\n",
    "\n",
    "comment1 = post1.add_comment(commenter=user2, text=\"Welcome, Alice!\")\n",
    "comment2 = post1.add_comment(commenter=user1, text=\"Thanks, Bob!\")\n",
    "\n",
    "# Displaying information\n",
    "print(user1)\n",
    "print(user2)\n",
    "print(post1)\n",
    "print(post2)\n",
    "print(comment1)\n",
    "print(comment2)\n"
   ]
  },
  {
   "cell_type": "code",
   "execution_count": null,
   "id": "cae846a3",
   "metadata": {},
   "outputs": [],
   "source": []
  }
 ],
 "metadata": {
  "kernelspec": {
   "display_name": "Python 3 (ipykernel)",
   "language": "python",
   "name": "python3"
  },
  "language_info": {
   "codemirror_mode": {
    "name": "ipython",
    "version": 3
   },
   "file_extension": ".py",
   "mimetype": "text/x-python",
   "name": "python",
   "nbconvert_exporter": "python",
   "pygments_lexer": "ipython3",
   "version": "3.11.9"
  }
 },
 "nbformat": 4,
 "nbformat_minor": 5
}
